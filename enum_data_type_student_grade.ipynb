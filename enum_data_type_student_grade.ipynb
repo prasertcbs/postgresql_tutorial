{
    "metadata": {
        "kernelspec": {
            "name": "SQL",
            "display_name": "SQL",
            "language": "sql"
        },
        "language_info": {
            "name": "sql",
            "version": ""
        }
    },
    "nbformat_minor": 2,
    "nbformat": 4,
    "cells": [
        {
            "cell_type": "markdown",
            "source": [
                "# ประยุกต์ใช้ enum (Enumerated type) เพื่อเก็บ letter grade ('A', 'B+', 'B', 'C+', 'C', 'D+', 'D', 'F') เพื่อให้เรียงลำดับอย่างถูกต้อง\n",
                "## Server: PostgreSQL\n",
                "## Author: Prasert Kanawattanachai\n",
                "## YouTube: https://youtu.be/AOLyq4LErXQ\n",
                "doc: https://www.postgresql.org/docs/11/datatype-enum.html"
            ],
            "metadata": {
                "azdata_cell_guid": "39078f71-ae8a-45a4-aae3-7a9a5d1dc080"
            }
        },
        {
            "cell_type": "code",
            "source": [
                "drop table if exists student_grade;\n",
                "\n",
                "create table student_grade (\n",
                "    student_id int,\n",
                "    score numeric(5, 2),\n",
                "    grade varchar(2)\n",
                ");"
            ],
            "metadata": {
                "azdata_cell_guid": "2a599f75-6cf2-40b4-9ba8-e77e0a3bcb66"
            },
            "outputs": [
                {
                    "output_type": "display_data",
                    "data": {
                        "text/html": "Commands completed successfully"
                    },
                    "metadata": {}
                },
                {
                    "output_type": "display_data",
                    "data": {
                        "text/html": "Commands completed successfully"
                    },
                    "metadata": {}
                },
                {
                    "output_type": "display_data",
                    "data": {
                        "text/html": "Total execution time: 00:00:00.008"
                    },
                    "metadata": {}
                }
            ],
            "execution_count": 1
        },
        {
            "cell_type": "code",
            "source": [
                "select student_id,\n",
                "    (random() * 60 + 40)::numeric(5, 2) score\n",
                "    from generate_series(1, 50) student_id"
            ],
            "metadata": {
                "azdata_cell_guid": "10fb79d5-0aee-4880-87d1-39e3aa6c7ded"
            },
            "outputs": [
                {
                    "output_type": "display_data",
                    "data": {
                        "text/html": "(50 row(s) affected)"
                    },
                    "metadata": {}
                },
                {
                    "output_type": "display_data",
                    "data": {
                        "text/html": "Total execution time: 00:00:00.018"
                    },
                    "metadata": {}
                },
                {
                    "output_type": "execute_result",
                    "execution_count": 2,
                    "data": {
                        "application/vnd.dataresource+json": {
                            "schema": {
                                "fields": [
                                    {
                                        "name": "student_id"
                                    },
                                    {
                                        "name": "score"
                                    }
                                ]
                            },
                            "data": [
                                {
                                    "0": "1",
                                    "1": "74.09"
                                },
                                {
                                    "0": "2",
                                    "1": "52.89"
                                },
                                {
                                    "0": "3",
                                    "1": "47.32"
                                },
                                {
                                    "0": "4",
                                    "1": "77.06"
                                },
                                {
                                    "0": "5",
                                    "1": "63.40"
                                },
                                {
                                    "0": "6",
                                    "1": "58.80"
                                },
                                {
                                    "0": "7",
                                    "1": "51.93"
                                },
                                {
                                    "0": "8",
                                    "1": "57.35"
                                },
                                {
                                    "0": "9",
                                    "1": "57.29"
                                },
                                {
                                    "0": "10",
                                    "1": "97.88"
                                },
                                {
                                    "0": "11",
                                    "1": "55.19"
                                },
                                {
                                    "0": "12",
                                    "1": "98.98"
                                },
                                {
                                    "0": "13",
                                    "1": "70.10"
                                },
                                {
                                    "0": "14",
                                    "1": "84.56"
                                },
                                {
                                    "0": "15",
                                    "1": "64.49"
                                },
                                {
                                    "0": "16",
                                    "1": "61.76"
                                },
                                {
                                    "0": "17",
                                    "1": "97.38"
                                },
                                {
                                    "0": "18",
                                    "1": "58.82"
                                },
                                {
                                    "0": "19",
                                    "1": "70.53"
                                },
                                {
                                    "0": "20",
                                    "1": "61.48"
                                },
                                {
                                    "0": "21",
                                    "1": "77.47"
                                },
                                {
                                    "0": "22",
                                    "1": "81.22"
                                },
                                {
                                    "0": "23",
                                    "1": "74.79"
                                },
                                {
                                    "0": "24",
                                    "1": "59.40"
                                },
                                {
                                    "0": "25",
                                    "1": "67.95"
                                },
                                {
                                    "0": "26",
                                    "1": "63.94"
                                },
                                {
                                    "0": "27",
                                    "1": "76.36"
                                },
                                {
                                    "0": "28",
                                    "1": "69.04"
                                },
                                {
                                    "0": "29",
                                    "1": "75.18"
                                },
                                {
                                    "0": "30",
                                    "1": "61.63"
                                },
                                {
                                    "0": "31",
                                    "1": "78.06"
                                },
                                {
                                    "0": "32",
                                    "1": "49.27"
                                },
                                {
                                    "0": "33",
                                    "1": "74.53"
                                },
                                {
                                    "0": "34",
                                    "1": "85.37"
                                },
                                {
                                    "0": "35",
                                    "1": "86.33"
                                },
                                {
                                    "0": "36",
                                    "1": "97.92"
                                },
                                {
                                    "0": "37",
                                    "1": "44.18"
                                },
                                {
                                    "0": "38",
                                    "1": "98.26"
                                },
                                {
                                    "0": "39",
                                    "1": "55.27"
                                },
                                {
                                    "0": "40",
                                    "1": "61.47"
                                },
                                {
                                    "0": "41",
                                    "1": "96.14"
                                },
                                {
                                    "0": "42",
                                    "1": "70.46"
                                },
                                {
                                    "0": "43",
                                    "1": "60.44"
                                },
                                {
                                    "0": "44",
                                    "1": "66.24"
                                },
                                {
                                    "0": "45",
                                    "1": "55.01"
                                },
                                {
                                    "0": "46",
                                    "1": "84.94"
                                },
                                {
                                    "0": "47",
                                    "1": "88.00"
                                },
                                {
                                    "0": "48",
                                    "1": "52.39"
                                },
                                {
                                    "0": "49",
                                    "1": "43.76"
                                },
                                {
                                    "0": "50",
                                    "1": "58.53"
                                }
                            ]
                        },
                        "text/html": "<table><tr><th>student_id</th><th>score</th></tr><tr><td>1</td><td>74.09</td></tr><tr><td>2</td><td>52.89</td></tr><tr><td>3</td><td>47.32</td></tr><tr><td>4</td><td>77.06</td></tr><tr><td>5</td><td>63.40</td></tr><tr><td>6</td><td>58.80</td></tr><tr><td>7</td><td>51.93</td></tr><tr><td>8</td><td>57.35</td></tr><tr><td>9</td><td>57.29</td></tr><tr><td>10</td><td>97.88</td></tr><tr><td>11</td><td>55.19</td></tr><tr><td>12</td><td>98.98</td></tr><tr><td>13</td><td>70.10</td></tr><tr><td>14</td><td>84.56</td></tr><tr><td>15</td><td>64.49</td></tr><tr><td>16</td><td>61.76</td></tr><tr><td>17</td><td>97.38</td></tr><tr><td>18</td><td>58.82</td></tr><tr><td>19</td><td>70.53</td></tr><tr><td>20</td><td>61.48</td></tr><tr><td>21</td><td>77.47</td></tr><tr><td>22</td><td>81.22</td></tr><tr><td>23</td><td>74.79</td></tr><tr><td>24</td><td>59.40</td></tr><tr><td>25</td><td>67.95</td></tr><tr><td>26</td><td>63.94</td></tr><tr><td>27</td><td>76.36</td></tr><tr><td>28</td><td>69.04</td></tr><tr><td>29</td><td>75.18</td></tr><tr><td>30</td><td>61.63</td></tr><tr><td>31</td><td>78.06</td></tr><tr><td>32</td><td>49.27</td></tr><tr><td>33</td><td>74.53</td></tr><tr><td>34</td><td>85.37</td></tr><tr><td>35</td><td>86.33</td></tr><tr><td>36</td><td>97.92</td></tr><tr><td>37</td><td>44.18</td></tr><tr><td>38</td><td>98.26</td></tr><tr><td>39</td><td>55.27</td></tr><tr><td>40</td><td>61.47</td></tr><tr><td>41</td><td>96.14</td></tr><tr><td>42</td><td>70.46</td></tr><tr><td>43</td><td>60.44</td></tr><tr><td>44</td><td>66.24</td></tr><tr><td>45</td><td>55.01</td></tr><tr><td>46</td><td>84.94</td></tr><tr><td>47</td><td>88.00</td></tr><tr><td>48</td><td>52.39</td></tr><tr><td>49</td><td>43.76</td></tr><tr><td>50</td><td>58.53</td></tr></table>"
                    },
                    "metadata": {}
                }
            ],
            "execution_count": 2
        },
        {
            "cell_type": "code",
            "source": [
                "insert into student_grade(student_id, score)\n",
                "    select student_id,\n",
                "        (random() * 60 + 40)::numeric(5, 2) score\n",
                "        from generate_series(1, 50) student_id"
            ],
            "metadata": {
                "azdata_cell_guid": "ffb634b3-6414-4268-84cd-553ae5c3bd3a"
            },
            "outputs": [
                {
                    "output_type": "display_data",
                    "data": {
                        "text/html": "Commands completed successfully"
                    },
                    "metadata": {}
                },
                {
                    "output_type": "display_data",
                    "data": {
                        "text/html": "Total execution time: 00:00:00.002"
                    },
                    "metadata": {}
                }
            ],
            "execution_count": 3
        },
        {
            "cell_type": "code",
            "source": [
                "select * from student_grade;"
            ],
            "metadata": {
                "azdata_cell_guid": "9f8e4827-10eb-4ba9-920c-481bf4b8b417"
            },
            "outputs": [
                {
                    "output_type": "display_data",
                    "data": {
                        "text/html": "(50 row(s) affected)"
                    },
                    "metadata": {}
                },
                {
                    "output_type": "display_data",
                    "data": {
                        "text/html": "Total execution time: 00:00:00.005"
                    },
                    "metadata": {}
                },
                {
                    "output_type": "execute_result",
                    "execution_count": 4,
                    "data": {
                        "application/vnd.dataresource+json": {
                            "schema": {
                                "fields": [
                                    {
                                        "name": "student_id"
                                    },
                                    {
                                        "name": "score"
                                    },
                                    {
                                        "name": "grade"
                                    }
                                ]
                            },
                            "data": [
                                {
                                    "0": "1",
                                    "1": "73.87",
                                    "2": "NULL"
                                },
                                {
                                    "0": "2",
                                    "1": "81.23",
                                    "2": "NULL"
                                },
                                {
                                    "0": "3",
                                    "1": "99.76",
                                    "2": "NULL"
                                },
                                {
                                    "0": "4",
                                    "1": "48.66",
                                    "2": "NULL"
                                },
                                {
                                    "0": "5",
                                    "1": "40.63",
                                    "2": "NULL"
                                },
                                {
                                    "0": "6",
                                    "1": "67.71",
                                    "2": "NULL"
                                },
                                {
                                    "0": "7",
                                    "1": "72.60",
                                    "2": "NULL"
                                },
                                {
                                    "0": "8",
                                    "1": "76.99",
                                    "2": "NULL"
                                },
                                {
                                    "0": "9",
                                    "1": "96.74",
                                    "2": "NULL"
                                },
                                {
                                    "0": "10",
                                    "1": "47.78",
                                    "2": "NULL"
                                },
                                {
                                    "0": "11",
                                    "1": "98.62",
                                    "2": "NULL"
                                },
                                {
                                    "0": "12",
                                    "1": "74.80",
                                    "2": "NULL"
                                },
                                {
                                    "0": "13",
                                    "1": "57.05",
                                    "2": "NULL"
                                },
                                {
                                    "0": "14",
                                    "1": "73.15",
                                    "2": "NULL"
                                },
                                {
                                    "0": "15",
                                    "1": "60.17",
                                    "2": "NULL"
                                },
                                {
                                    "0": "16",
                                    "1": "43.39",
                                    "2": "NULL"
                                },
                                {
                                    "0": "17",
                                    "1": "71.08",
                                    "2": "NULL"
                                },
                                {
                                    "0": "18",
                                    "1": "64.35",
                                    "2": "NULL"
                                },
                                {
                                    "0": "19",
                                    "1": "41.65",
                                    "2": "NULL"
                                },
                                {
                                    "0": "20",
                                    "1": "86.35",
                                    "2": "NULL"
                                },
                                {
                                    "0": "21",
                                    "1": "85.82",
                                    "2": "NULL"
                                },
                                {
                                    "0": "22",
                                    "1": "97.79",
                                    "2": "NULL"
                                },
                                {
                                    "0": "23",
                                    "1": "56.81",
                                    "2": "NULL"
                                },
                                {
                                    "0": "24",
                                    "1": "46.26",
                                    "2": "NULL"
                                },
                                {
                                    "0": "25",
                                    "1": "64.03",
                                    "2": "NULL"
                                },
                                {
                                    "0": "26",
                                    "1": "71.82",
                                    "2": "NULL"
                                },
                                {
                                    "0": "27",
                                    "1": "91.20",
                                    "2": "NULL"
                                },
                                {
                                    "0": "28",
                                    "1": "52.03",
                                    "2": "NULL"
                                },
                                {
                                    "0": "29",
                                    "1": "84.21",
                                    "2": "NULL"
                                },
                                {
                                    "0": "30",
                                    "1": "94.95",
                                    "2": "NULL"
                                },
                                {
                                    "0": "31",
                                    "1": "70.56",
                                    "2": "NULL"
                                },
                                {
                                    "0": "32",
                                    "1": "58.07",
                                    "2": "NULL"
                                },
                                {
                                    "0": "33",
                                    "1": "76.18",
                                    "2": "NULL"
                                },
                                {
                                    "0": "34",
                                    "1": "70.31",
                                    "2": "NULL"
                                },
                                {
                                    "0": "35",
                                    "1": "66.73",
                                    "2": "NULL"
                                },
                                {
                                    "0": "36",
                                    "1": "76.81",
                                    "2": "NULL"
                                },
                                {
                                    "0": "37",
                                    "1": "98.02",
                                    "2": "NULL"
                                },
                                {
                                    "0": "38",
                                    "1": "99.32",
                                    "2": "NULL"
                                },
                                {
                                    "0": "39",
                                    "1": "53.80",
                                    "2": "NULL"
                                },
                                {
                                    "0": "40",
                                    "1": "94.76",
                                    "2": "NULL"
                                },
                                {
                                    "0": "41",
                                    "1": "47.10",
                                    "2": "NULL"
                                },
                                {
                                    "0": "42",
                                    "1": "52.42",
                                    "2": "NULL"
                                },
                                {
                                    "0": "43",
                                    "1": "69.56",
                                    "2": "NULL"
                                },
                                {
                                    "0": "44",
                                    "1": "64.16",
                                    "2": "NULL"
                                },
                                {
                                    "0": "45",
                                    "1": "85.58",
                                    "2": "NULL"
                                },
                                {
                                    "0": "46",
                                    "1": "89.73",
                                    "2": "NULL"
                                },
                                {
                                    "0": "47",
                                    "1": "67.54",
                                    "2": "NULL"
                                },
                                {
                                    "0": "48",
                                    "1": "56.65",
                                    "2": "NULL"
                                },
                                {
                                    "0": "49",
                                    "1": "54.08",
                                    "2": "NULL"
                                },
                                {
                                    "0": "50",
                                    "1": "69.19",
                                    "2": "NULL"
                                }
                            ]
                        },
                        "text/html": "<table><tr><th>student_id</th><th>score</th><th>grade</th></tr><tr><td>1</td><td>73.87</td><td>NULL</td></tr><tr><td>2</td><td>81.23</td><td>NULL</td></tr><tr><td>3</td><td>99.76</td><td>NULL</td></tr><tr><td>4</td><td>48.66</td><td>NULL</td></tr><tr><td>5</td><td>40.63</td><td>NULL</td></tr><tr><td>6</td><td>67.71</td><td>NULL</td></tr><tr><td>7</td><td>72.60</td><td>NULL</td></tr><tr><td>8</td><td>76.99</td><td>NULL</td></tr><tr><td>9</td><td>96.74</td><td>NULL</td></tr><tr><td>10</td><td>47.78</td><td>NULL</td></tr><tr><td>11</td><td>98.62</td><td>NULL</td></tr><tr><td>12</td><td>74.80</td><td>NULL</td></tr><tr><td>13</td><td>57.05</td><td>NULL</td></tr><tr><td>14</td><td>73.15</td><td>NULL</td></tr><tr><td>15</td><td>60.17</td><td>NULL</td></tr><tr><td>16</td><td>43.39</td><td>NULL</td></tr><tr><td>17</td><td>71.08</td><td>NULL</td></tr><tr><td>18</td><td>64.35</td><td>NULL</td></tr><tr><td>19</td><td>41.65</td><td>NULL</td></tr><tr><td>20</td><td>86.35</td><td>NULL</td></tr><tr><td>21</td><td>85.82</td><td>NULL</td></tr><tr><td>22</td><td>97.79</td><td>NULL</td></tr><tr><td>23</td><td>56.81</td><td>NULL</td></tr><tr><td>24</td><td>46.26</td><td>NULL</td></tr><tr><td>25</td><td>64.03</td><td>NULL</td></tr><tr><td>26</td><td>71.82</td><td>NULL</td></tr><tr><td>27</td><td>91.20</td><td>NULL</td></tr><tr><td>28</td><td>52.03</td><td>NULL</td></tr><tr><td>29</td><td>84.21</td><td>NULL</td></tr><tr><td>30</td><td>94.95</td><td>NULL</td></tr><tr><td>31</td><td>70.56</td><td>NULL</td></tr><tr><td>32</td><td>58.07</td><td>NULL</td></tr><tr><td>33</td><td>76.18</td><td>NULL</td></tr><tr><td>34</td><td>70.31</td><td>NULL</td></tr><tr><td>35</td><td>66.73</td><td>NULL</td></tr><tr><td>36</td><td>76.81</td><td>NULL</td></tr><tr><td>37</td><td>98.02</td><td>NULL</td></tr><tr><td>38</td><td>99.32</td><td>NULL</td></tr><tr><td>39</td><td>53.80</td><td>NULL</td></tr><tr><td>40</td><td>94.76</td><td>NULL</td></tr><tr><td>41</td><td>47.10</td><td>NULL</td></tr><tr><td>42</td><td>52.42</td><td>NULL</td></tr><tr><td>43</td><td>69.56</td><td>NULL</td></tr><tr><td>44</td><td>64.16</td><td>NULL</td></tr><tr><td>45</td><td>85.58</td><td>NULL</td></tr><tr><td>46</td><td>89.73</td><td>NULL</td></tr><tr><td>47</td><td>67.54</td><td>NULL</td></tr><tr><td>48</td><td>56.65</td><td>NULL</td></tr><tr><td>49</td><td>54.08</td><td>NULL</td></tr><tr><td>50</td><td>69.19</td><td>NULL</td></tr></table>"
                    },
                    "metadata": {}
                }
            ],
            "execution_count": 4
        },
        {
            "cell_type": "code",
            "source": [
                "select student_id, score,\n",
                "    case\n",
                "        when '[85, 100]'::numrange @> score then 'A' \n",
                "        when '[80,  85)'::numrange @> score then 'B+' \n",
                "        when '[75,  80)'::numrange @> score then 'B' \n",
                "        when '[70,  75)'::numrange @> score then 'C+' \n",
                "        when '[60,  70)'::numrange @> score then 'C' \n",
                "        when '[55,  60)'::numrange @> score then 'D+' \n",
                "        when '[50,  55)'::numrange @> score then 'D' \n",
                "        else 'F'\n",
                "    end grade\n",
                "    from student_grade"
            ],
            "metadata": {
                "azdata_cell_guid": "3a51e404-7076-4367-992e-578a1077f029"
            },
            "outputs": [
                {
                    "output_type": "display_data",
                    "data": {
                        "text/html": "(50 row(s) affected)"
                    },
                    "metadata": {}
                },
                {
                    "output_type": "display_data",
                    "data": {
                        "text/html": "Total execution time: 00:00:00.016"
                    },
                    "metadata": {}
                },
                {
                    "output_type": "execute_result",
                    "execution_count": 5,
                    "data": {
                        "application/vnd.dataresource+json": {
                            "schema": {
                                "fields": [
                                    {
                                        "name": "student_id"
                                    },
                                    {
                                        "name": "score"
                                    },
                                    {
                                        "name": "grade"
                                    }
                                ]
                            },
                            "data": [
                                {
                                    "0": "1",
                                    "1": "73.87",
                                    "2": "C+"
                                },
                                {
                                    "0": "2",
                                    "1": "81.23",
                                    "2": "B+"
                                },
                                {
                                    "0": "3",
                                    "1": "99.76",
                                    "2": "A"
                                },
                                {
                                    "0": "4",
                                    "1": "48.66",
                                    "2": "F"
                                },
                                {
                                    "0": "5",
                                    "1": "40.63",
                                    "2": "F"
                                },
                                {
                                    "0": "6",
                                    "1": "67.71",
                                    "2": "C"
                                },
                                {
                                    "0": "7",
                                    "1": "72.60",
                                    "2": "C+"
                                },
                                {
                                    "0": "8",
                                    "1": "76.99",
                                    "2": "B"
                                },
                                {
                                    "0": "9",
                                    "1": "96.74",
                                    "2": "A"
                                },
                                {
                                    "0": "10",
                                    "1": "47.78",
                                    "2": "F"
                                },
                                {
                                    "0": "11",
                                    "1": "98.62",
                                    "2": "A"
                                },
                                {
                                    "0": "12",
                                    "1": "74.80",
                                    "2": "C+"
                                },
                                {
                                    "0": "13",
                                    "1": "57.05",
                                    "2": "D+"
                                },
                                {
                                    "0": "14",
                                    "1": "73.15",
                                    "2": "C+"
                                },
                                {
                                    "0": "15",
                                    "1": "60.17",
                                    "2": "C"
                                },
                                {
                                    "0": "16",
                                    "1": "43.39",
                                    "2": "F"
                                },
                                {
                                    "0": "17",
                                    "1": "71.08",
                                    "2": "C+"
                                },
                                {
                                    "0": "18",
                                    "1": "64.35",
                                    "2": "C"
                                },
                                {
                                    "0": "19",
                                    "1": "41.65",
                                    "2": "F"
                                },
                                {
                                    "0": "20",
                                    "1": "86.35",
                                    "2": "A"
                                },
                                {
                                    "0": "21",
                                    "1": "85.82",
                                    "2": "A"
                                },
                                {
                                    "0": "22",
                                    "1": "97.79",
                                    "2": "A"
                                },
                                {
                                    "0": "23",
                                    "1": "56.81",
                                    "2": "D+"
                                },
                                {
                                    "0": "24",
                                    "1": "46.26",
                                    "2": "F"
                                },
                                {
                                    "0": "25",
                                    "1": "64.03",
                                    "2": "C"
                                },
                                {
                                    "0": "26",
                                    "1": "71.82",
                                    "2": "C+"
                                },
                                {
                                    "0": "27",
                                    "1": "91.20",
                                    "2": "A"
                                },
                                {
                                    "0": "28",
                                    "1": "52.03",
                                    "2": "D"
                                },
                                {
                                    "0": "29",
                                    "1": "84.21",
                                    "2": "B+"
                                },
                                {
                                    "0": "30",
                                    "1": "94.95",
                                    "2": "A"
                                },
                                {
                                    "0": "31",
                                    "1": "70.56",
                                    "2": "C+"
                                },
                                {
                                    "0": "32",
                                    "1": "58.07",
                                    "2": "D+"
                                },
                                {
                                    "0": "33",
                                    "1": "76.18",
                                    "2": "B"
                                },
                                {
                                    "0": "34",
                                    "1": "70.31",
                                    "2": "C+"
                                },
                                {
                                    "0": "35",
                                    "1": "66.73",
                                    "2": "C"
                                },
                                {
                                    "0": "36",
                                    "1": "76.81",
                                    "2": "B"
                                },
                                {
                                    "0": "37",
                                    "1": "98.02",
                                    "2": "A"
                                },
                                {
                                    "0": "38",
                                    "1": "99.32",
                                    "2": "A"
                                },
                                {
                                    "0": "39",
                                    "1": "53.80",
                                    "2": "D"
                                },
                                {
                                    "0": "40",
                                    "1": "94.76",
                                    "2": "A"
                                },
                                {
                                    "0": "41",
                                    "1": "47.10",
                                    "2": "F"
                                },
                                {
                                    "0": "42",
                                    "1": "52.42",
                                    "2": "D"
                                },
                                {
                                    "0": "43",
                                    "1": "69.56",
                                    "2": "C"
                                },
                                {
                                    "0": "44",
                                    "1": "64.16",
                                    "2": "C"
                                },
                                {
                                    "0": "45",
                                    "1": "85.58",
                                    "2": "A"
                                },
                                {
                                    "0": "46",
                                    "1": "89.73",
                                    "2": "A"
                                },
                                {
                                    "0": "47",
                                    "1": "67.54",
                                    "2": "C"
                                },
                                {
                                    "0": "48",
                                    "1": "56.65",
                                    "2": "D+"
                                },
                                {
                                    "0": "49",
                                    "1": "54.08",
                                    "2": "D"
                                },
                                {
                                    "0": "50",
                                    "1": "69.19",
                                    "2": "C"
                                }
                            ]
                        },
                        "text/html": "<table><tr><th>student_id</th><th>score</th><th>grade</th></tr><tr><td>1</td><td>73.87</td><td>C+</td></tr><tr><td>2</td><td>81.23</td><td>B+</td></tr><tr><td>3</td><td>99.76</td><td>A</td></tr><tr><td>4</td><td>48.66</td><td>F</td></tr><tr><td>5</td><td>40.63</td><td>F</td></tr><tr><td>6</td><td>67.71</td><td>C</td></tr><tr><td>7</td><td>72.60</td><td>C+</td></tr><tr><td>8</td><td>76.99</td><td>B</td></tr><tr><td>9</td><td>96.74</td><td>A</td></tr><tr><td>10</td><td>47.78</td><td>F</td></tr><tr><td>11</td><td>98.62</td><td>A</td></tr><tr><td>12</td><td>74.80</td><td>C+</td></tr><tr><td>13</td><td>57.05</td><td>D+</td></tr><tr><td>14</td><td>73.15</td><td>C+</td></tr><tr><td>15</td><td>60.17</td><td>C</td></tr><tr><td>16</td><td>43.39</td><td>F</td></tr><tr><td>17</td><td>71.08</td><td>C+</td></tr><tr><td>18</td><td>64.35</td><td>C</td></tr><tr><td>19</td><td>41.65</td><td>F</td></tr><tr><td>20</td><td>86.35</td><td>A</td></tr><tr><td>21</td><td>85.82</td><td>A</td></tr><tr><td>22</td><td>97.79</td><td>A</td></tr><tr><td>23</td><td>56.81</td><td>D+</td></tr><tr><td>24</td><td>46.26</td><td>F</td></tr><tr><td>25</td><td>64.03</td><td>C</td></tr><tr><td>26</td><td>71.82</td><td>C+</td></tr><tr><td>27</td><td>91.20</td><td>A</td></tr><tr><td>28</td><td>52.03</td><td>D</td></tr><tr><td>29</td><td>84.21</td><td>B+</td></tr><tr><td>30</td><td>94.95</td><td>A</td></tr><tr><td>31</td><td>70.56</td><td>C+</td></tr><tr><td>32</td><td>58.07</td><td>D+</td></tr><tr><td>33</td><td>76.18</td><td>B</td></tr><tr><td>34</td><td>70.31</td><td>C+</td></tr><tr><td>35</td><td>66.73</td><td>C</td></tr><tr><td>36</td><td>76.81</td><td>B</td></tr><tr><td>37</td><td>98.02</td><td>A</td></tr><tr><td>38</td><td>99.32</td><td>A</td></tr><tr><td>39</td><td>53.80</td><td>D</td></tr><tr><td>40</td><td>94.76</td><td>A</td></tr><tr><td>41</td><td>47.10</td><td>F</td></tr><tr><td>42</td><td>52.42</td><td>D</td></tr><tr><td>43</td><td>69.56</td><td>C</td></tr><tr><td>44</td><td>64.16</td><td>C</td></tr><tr><td>45</td><td>85.58</td><td>A</td></tr><tr><td>46</td><td>89.73</td><td>A</td></tr><tr><td>47</td><td>67.54</td><td>C</td></tr><tr><td>48</td><td>56.65</td><td>D+</td></tr><tr><td>49</td><td>54.08</td><td>D</td></tr><tr><td>50</td><td>69.19</td><td>C</td></tr></table>"
                    },
                    "metadata": {}
                }
            ],
            "execution_count": 5
        },
        {
            "cell_type": "code",
            "source": [
                "update student_grade\n",
                "    set grade =\n",
                "        case\n",
                "            when '[85, 100]'::numrange @> score then 'A' \n",
                "            when '[80,  85)'::numrange @> score then 'B+' \n",
                "            when '[75,  80)'::numrange @> score then 'B' \n",
                "            when '[70,  75)'::numrange @> score then 'C+' \n",
                "            when '[60,  70)'::numrange @> score then 'C' \n",
                "            when '[55,  60)'::numrange @> score then 'D+' \n",
                "            when '[50,  55)'::numrange @> score then 'D' \n",
                "            else 'F'\n",
                "        end"
            ],
            "metadata": {
                "azdata_cell_guid": "afe346a5-a76a-4bce-b9c6-d51a638258b3"
            },
            "outputs": [
                {
                    "output_type": "display_data",
                    "data": {
                        "text/html": "Commands completed successfully"
                    },
                    "metadata": {}
                },
                {
                    "output_type": "display_data",
                    "data": {
                        "text/html": "Total execution time: 00:00:00.011"
                    },
                    "metadata": {}
                }
            ],
            "execution_count": 6
        },
        {
            "cell_type": "code",
            "source": [
                "select * from student_grade"
            ],
            "metadata": {
                "azdata_cell_guid": "1d3f74c4-2d3f-4541-bb38-c0492aa0b7e2"
            },
            "outputs": [
                {
                    "output_type": "display_data",
                    "data": {
                        "text/html": "(50 row(s) affected)"
                    },
                    "metadata": {}
                },
                {
                    "output_type": "display_data",
                    "data": {
                        "text/html": "Total execution time: 00:00:00.008"
                    },
                    "metadata": {}
                },
                {
                    "output_type": "execute_result",
                    "execution_count": 7,
                    "data": {
                        "application/vnd.dataresource+json": {
                            "schema": {
                                "fields": [
                                    {
                                        "name": "student_id"
                                    },
                                    {
                                        "name": "score"
                                    },
                                    {
                                        "name": "grade"
                                    }
                                ]
                            },
                            "data": [
                                {
                                    "0": "1",
                                    "1": "73.87",
                                    "2": "C+"
                                },
                                {
                                    "0": "2",
                                    "1": "81.23",
                                    "2": "B+"
                                },
                                {
                                    "0": "3",
                                    "1": "99.76",
                                    "2": "A"
                                },
                                {
                                    "0": "4",
                                    "1": "48.66",
                                    "2": "F"
                                },
                                {
                                    "0": "5",
                                    "1": "40.63",
                                    "2": "F"
                                },
                                {
                                    "0": "6",
                                    "1": "67.71",
                                    "2": "C"
                                },
                                {
                                    "0": "7",
                                    "1": "72.60",
                                    "2": "C+"
                                },
                                {
                                    "0": "8",
                                    "1": "76.99",
                                    "2": "B"
                                },
                                {
                                    "0": "9",
                                    "1": "96.74",
                                    "2": "A"
                                },
                                {
                                    "0": "10",
                                    "1": "47.78",
                                    "2": "F"
                                },
                                {
                                    "0": "11",
                                    "1": "98.62",
                                    "2": "A"
                                },
                                {
                                    "0": "12",
                                    "1": "74.80",
                                    "2": "C+"
                                },
                                {
                                    "0": "13",
                                    "1": "57.05",
                                    "2": "D+"
                                },
                                {
                                    "0": "14",
                                    "1": "73.15",
                                    "2": "C+"
                                },
                                {
                                    "0": "15",
                                    "1": "60.17",
                                    "2": "C"
                                },
                                {
                                    "0": "16",
                                    "1": "43.39",
                                    "2": "F"
                                },
                                {
                                    "0": "17",
                                    "1": "71.08",
                                    "2": "C+"
                                },
                                {
                                    "0": "18",
                                    "1": "64.35",
                                    "2": "C"
                                },
                                {
                                    "0": "19",
                                    "1": "41.65",
                                    "2": "F"
                                },
                                {
                                    "0": "20",
                                    "1": "86.35",
                                    "2": "A"
                                },
                                {
                                    "0": "21",
                                    "1": "85.82",
                                    "2": "A"
                                },
                                {
                                    "0": "22",
                                    "1": "97.79",
                                    "2": "A"
                                },
                                {
                                    "0": "23",
                                    "1": "56.81",
                                    "2": "D+"
                                },
                                {
                                    "0": "24",
                                    "1": "46.26",
                                    "2": "F"
                                },
                                {
                                    "0": "25",
                                    "1": "64.03",
                                    "2": "C"
                                },
                                {
                                    "0": "26",
                                    "1": "71.82",
                                    "2": "C+"
                                },
                                {
                                    "0": "27",
                                    "1": "91.20",
                                    "2": "A"
                                },
                                {
                                    "0": "28",
                                    "1": "52.03",
                                    "2": "D"
                                },
                                {
                                    "0": "29",
                                    "1": "84.21",
                                    "2": "B+"
                                },
                                {
                                    "0": "30",
                                    "1": "94.95",
                                    "2": "A"
                                },
                                {
                                    "0": "31",
                                    "1": "70.56",
                                    "2": "C+"
                                },
                                {
                                    "0": "32",
                                    "1": "58.07",
                                    "2": "D+"
                                },
                                {
                                    "0": "33",
                                    "1": "76.18",
                                    "2": "B"
                                },
                                {
                                    "0": "34",
                                    "1": "70.31",
                                    "2": "C+"
                                },
                                {
                                    "0": "35",
                                    "1": "66.73",
                                    "2": "C"
                                },
                                {
                                    "0": "36",
                                    "1": "76.81",
                                    "2": "B"
                                },
                                {
                                    "0": "37",
                                    "1": "98.02",
                                    "2": "A"
                                },
                                {
                                    "0": "38",
                                    "1": "99.32",
                                    "2": "A"
                                },
                                {
                                    "0": "39",
                                    "1": "53.80",
                                    "2": "D"
                                },
                                {
                                    "0": "40",
                                    "1": "94.76",
                                    "2": "A"
                                },
                                {
                                    "0": "41",
                                    "1": "47.10",
                                    "2": "F"
                                },
                                {
                                    "0": "42",
                                    "1": "52.42",
                                    "2": "D"
                                },
                                {
                                    "0": "43",
                                    "1": "69.56",
                                    "2": "C"
                                },
                                {
                                    "0": "44",
                                    "1": "64.16",
                                    "2": "C"
                                },
                                {
                                    "0": "45",
                                    "1": "85.58",
                                    "2": "A"
                                },
                                {
                                    "0": "46",
                                    "1": "89.73",
                                    "2": "A"
                                },
                                {
                                    "0": "47",
                                    "1": "67.54",
                                    "2": "C"
                                },
                                {
                                    "0": "48",
                                    "1": "56.65",
                                    "2": "D+"
                                },
                                {
                                    "0": "49",
                                    "1": "54.08",
                                    "2": "D"
                                },
                                {
                                    "0": "50",
                                    "1": "69.19",
                                    "2": "C"
                                }
                            ]
                        },
                        "text/html": "<table><tr><th>student_id</th><th>score</th><th>grade</th></tr><tr><td>1</td><td>73.87</td><td>C+</td></tr><tr><td>2</td><td>81.23</td><td>B+</td></tr><tr><td>3</td><td>99.76</td><td>A</td></tr><tr><td>4</td><td>48.66</td><td>F</td></tr><tr><td>5</td><td>40.63</td><td>F</td></tr><tr><td>6</td><td>67.71</td><td>C</td></tr><tr><td>7</td><td>72.60</td><td>C+</td></tr><tr><td>8</td><td>76.99</td><td>B</td></tr><tr><td>9</td><td>96.74</td><td>A</td></tr><tr><td>10</td><td>47.78</td><td>F</td></tr><tr><td>11</td><td>98.62</td><td>A</td></tr><tr><td>12</td><td>74.80</td><td>C+</td></tr><tr><td>13</td><td>57.05</td><td>D+</td></tr><tr><td>14</td><td>73.15</td><td>C+</td></tr><tr><td>15</td><td>60.17</td><td>C</td></tr><tr><td>16</td><td>43.39</td><td>F</td></tr><tr><td>17</td><td>71.08</td><td>C+</td></tr><tr><td>18</td><td>64.35</td><td>C</td></tr><tr><td>19</td><td>41.65</td><td>F</td></tr><tr><td>20</td><td>86.35</td><td>A</td></tr><tr><td>21</td><td>85.82</td><td>A</td></tr><tr><td>22</td><td>97.79</td><td>A</td></tr><tr><td>23</td><td>56.81</td><td>D+</td></tr><tr><td>24</td><td>46.26</td><td>F</td></tr><tr><td>25</td><td>64.03</td><td>C</td></tr><tr><td>26</td><td>71.82</td><td>C+</td></tr><tr><td>27</td><td>91.20</td><td>A</td></tr><tr><td>28</td><td>52.03</td><td>D</td></tr><tr><td>29</td><td>84.21</td><td>B+</td></tr><tr><td>30</td><td>94.95</td><td>A</td></tr><tr><td>31</td><td>70.56</td><td>C+</td></tr><tr><td>32</td><td>58.07</td><td>D+</td></tr><tr><td>33</td><td>76.18</td><td>B</td></tr><tr><td>34</td><td>70.31</td><td>C+</td></tr><tr><td>35</td><td>66.73</td><td>C</td></tr><tr><td>36</td><td>76.81</td><td>B</td></tr><tr><td>37</td><td>98.02</td><td>A</td></tr><tr><td>38</td><td>99.32</td><td>A</td></tr><tr><td>39</td><td>53.80</td><td>D</td></tr><tr><td>40</td><td>94.76</td><td>A</td></tr><tr><td>41</td><td>47.10</td><td>F</td></tr><tr><td>42</td><td>52.42</td><td>D</td></tr><tr><td>43</td><td>69.56</td><td>C</td></tr><tr><td>44</td><td>64.16</td><td>C</td></tr><tr><td>45</td><td>85.58</td><td>A</td></tr><tr><td>46</td><td>89.73</td><td>A</td></tr><tr><td>47</td><td>67.54</td><td>C</td></tr><tr><td>48</td><td>56.65</td><td>D+</td></tr><tr><td>49</td><td>54.08</td><td>D</td></tr><tr><td>50</td><td>69.19</td><td>C</td></tr></table>"
                    },
                    "metadata": {}
                }
            ],
            "execution_count": 7
        },
        {
            "cell_type": "code",
            "source": [
                "select * from student_grade order by grade"
            ],
            "metadata": {
                "azdata_cell_guid": "ec76dc49-77c4-41dc-b869-c694f2f63978"
            },
            "outputs": [
                {
                    "output_type": "display_data",
                    "data": {
                        "text/html": "(50 row(s) affected)"
                    },
                    "metadata": {}
                },
                {
                    "output_type": "display_data",
                    "data": {
                        "text/html": "Total execution time: 00:00:00.012"
                    },
                    "metadata": {}
                },
                {
                    "output_type": "execute_result",
                    "execution_count": 8,
                    "data": {
                        "application/vnd.dataresource+json": {
                            "schema": {
                                "fields": [
                                    {
                                        "name": "student_id"
                                    },
                                    {
                                        "name": "score"
                                    },
                                    {
                                        "name": "grade"
                                    }
                                ]
                            },
                            "data": [
                                {
                                    "0": "37",
                                    "1": "98.02",
                                    "2": "A"
                                },
                                {
                                    "0": "30",
                                    "1": "94.95",
                                    "2": "A"
                                },
                                {
                                    "0": "9",
                                    "1": "96.74",
                                    "2": "A"
                                },
                                {
                                    "0": "46",
                                    "1": "89.73",
                                    "2": "A"
                                },
                                {
                                    "0": "11",
                                    "1": "98.62",
                                    "2": "A"
                                },
                                {
                                    "0": "3",
                                    "1": "99.76",
                                    "2": "A"
                                },
                                {
                                    "0": "45",
                                    "1": "85.58",
                                    "2": "A"
                                },
                                {
                                    "0": "20",
                                    "1": "86.35",
                                    "2": "A"
                                },
                                {
                                    "0": "21",
                                    "1": "85.82",
                                    "2": "A"
                                },
                                {
                                    "0": "22",
                                    "1": "97.79",
                                    "2": "A"
                                },
                                {
                                    "0": "40",
                                    "1": "94.76",
                                    "2": "A"
                                },
                                {
                                    "0": "38",
                                    "1": "99.32",
                                    "2": "A"
                                },
                                {
                                    "0": "27",
                                    "1": "91.20",
                                    "2": "A"
                                },
                                {
                                    "0": "36",
                                    "1": "76.81",
                                    "2": "B"
                                },
                                {
                                    "0": "33",
                                    "1": "76.18",
                                    "2": "B"
                                },
                                {
                                    "0": "8",
                                    "1": "76.99",
                                    "2": "B"
                                },
                                {
                                    "0": "2",
                                    "1": "81.23",
                                    "2": "B+"
                                },
                                {
                                    "0": "29",
                                    "1": "84.21",
                                    "2": "B+"
                                },
                                {
                                    "0": "18",
                                    "1": "64.35",
                                    "2": "C"
                                },
                                {
                                    "0": "43",
                                    "1": "69.56",
                                    "2": "C"
                                },
                                {
                                    "0": "6",
                                    "1": "67.71",
                                    "2": "C"
                                },
                                {
                                    "0": "50",
                                    "1": "69.19",
                                    "2": "C"
                                },
                                {
                                    "0": "25",
                                    "1": "64.03",
                                    "2": "C"
                                },
                                {
                                    "0": "15",
                                    "1": "60.17",
                                    "2": "C"
                                },
                                {
                                    "0": "44",
                                    "1": "64.16",
                                    "2": "C"
                                },
                                {
                                    "0": "35",
                                    "1": "66.73",
                                    "2": "C"
                                },
                                {
                                    "0": "47",
                                    "1": "67.54",
                                    "2": "C"
                                },
                                {
                                    "0": "26",
                                    "1": "71.82",
                                    "2": "C+"
                                },
                                {
                                    "0": "7",
                                    "1": "72.60",
                                    "2": "C+"
                                },
                                {
                                    "0": "12",
                                    "1": "74.80",
                                    "2": "C+"
                                },
                                {
                                    "0": "14",
                                    "1": "73.15",
                                    "2": "C+"
                                },
                                {
                                    "0": "17",
                                    "1": "71.08",
                                    "2": "C+"
                                },
                                {
                                    "0": "1",
                                    "1": "73.87",
                                    "2": "C+"
                                },
                                {
                                    "0": "31",
                                    "1": "70.56",
                                    "2": "C+"
                                },
                                {
                                    "0": "34",
                                    "1": "70.31",
                                    "2": "C+"
                                },
                                {
                                    "0": "28",
                                    "1": "52.03",
                                    "2": "D"
                                },
                                {
                                    "0": "49",
                                    "1": "54.08",
                                    "2": "D"
                                },
                                {
                                    "0": "42",
                                    "1": "52.42",
                                    "2": "D"
                                },
                                {
                                    "0": "39",
                                    "1": "53.80",
                                    "2": "D"
                                },
                                {
                                    "0": "48",
                                    "1": "56.65",
                                    "2": "D+"
                                },
                                {
                                    "0": "13",
                                    "1": "57.05",
                                    "2": "D+"
                                },
                                {
                                    "0": "23",
                                    "1": "56.81",
                                    "2": "D+"
                                },
                                {
                                    "0": "32",
                                    "1": "58.07",
                                    "2": "D+"
                                },
                                {
                                    "0": "4",
                                    "1": "48.66",
                                    "2": "F"
                                },
                                {
                                    "0": "24",
                                    "1": "46.26",
                                    "2": "F"
                                },
                                {
                                    "0": "41",
                                    "1": "47.10",
                                    "2": "F"
                                },
                                {
                                    "0": "19",
                                    "1": "41.65",
                                    "2": "F"
                                },
                                {
                                    "0": "16",
                                    "1": "43.39",
                                    "2": "F"
                                },
                                {
                                    "0": "10",
                                    "1": "47.78",
                                    "2": "F"
                                },
                                {
                                    "0": "5",
                                    "1": "40.63",
                                    "2": "F"
                                }
                            ]
                        },
                        "text/html": "<table><tr><th>student_id</th><th>score</th><th>grade</th></tr><tr><td>37</td><td>98.02</td><td>A</td></tr><tr><td>30</td><td>94.95</td><td>A</td></tr><tr><td>9</td><td>96.74</td><td>A</td></tr><tr><td>46</td><td>89.73</td><td>A</td></tr><tr><td>11</td><td>98.62</td><td>A</td></tr><tr><td>3</td><td>99.76</td><td>A</td></tr><tr><td>45</td><td>85.58</td><td>A</td></tr><tr><td>20</td><td>86.35</td><td>A</td></tr><tr><td>21</td><td>85.82</td><td>A</td></tr><tr><td>22</td><td>97.79</td><td>A</td></tr><tr><td>40</td><td>94.76</td><td>A</td></tr><tr><td>38</td><td>99.32</td><td>A</td></tr><tr><td>27</td><td>91.20</td><td>A</td></tr><tr><td>36</td><td>76.81</td><td>B</td></tr><tr><td>33</td><td>76.18</td><td>B</td></tr><tr><td>8</td><td>76.99</td><td>B</td></tr><tr><td>2</td><td>81.23</td><td>B+</td></tr><tr><td>29</td><td>84.21</td><td>B+</td></tr><tr><td>18</td><td>64.35</td><td>C</td></tr><tr><td>43</td><td>69.56</td><td>C</td></tr><tr><td>6</td><td>67.71</td><td>C</td></tr><tr><td>50</td><td>69.19</td><td>C</td></tr><tr><td>25</td><td>64.03</td><td>C</td></tr><tr><td>15</td><td>60.17</td><td>C</td></tr><tr><td>44</td><td>64.16</td><td>C</td></tr><tr><td>35</td><td>66.73</td><td>C</td></tr><tr><td>47</td><td>67.54</td><td>C</td></tr><tr><td>26</td><td>71.82</td><td>C+</td></tr><tr><td>7</td><td>72.60</td><td>C+</td></tr><tr><td>12</td><td>74.80</td><td>C+</td></tr><tr><td>14</td><td>73.15</td><td>C+</td></tr><tr><td>17</td><td>71.08</td><td>C+</td></tr><tr><td>1</td><td>73.87</td><td>C+</td></tr><tr><td>31</td><td>70.56</td><td>C+</td></tr><tr><td>34</td><td>70.31</td><td>C+</td></tr><tr><td>28</td><td>52.03</td><td>D</td></tr><tr><td>49</td><td>54.08</td><td>D</td></tr><tr><td>42</td><td>52.42</td><td>D</td></tr><tr><td>39</td><td>53.80</td><td>D</td></tr><tr><td>48</td><td>56.65</td><td>D+</td></tr><tr><td>13</td><td>57.05</td><td>D+</td></tr><tr><td>23</td><td>56.81</td><td>D+</td></tr><tr><td>32</td><td>58.07</td><td>D+</td></tr><tr><td>4</td><td>48.66</td><td>F</td></tr><tr><td>24</td><td>46.26</td><td>F</td></tr><tr><td>41</td><td>47.10</td><td>F</td></tr><tr><td>19</td><td>41.65</td><td>F</td></tr><tr><td>16</td><td>43.39</td><td>F</td></tr><tr><td>10</td><td>47.78</td><td>F</td></tr><tr><td>5</td><td>40.63</td><td>F</td></tr></table>"
                    },
                    "metadata": {}
                }
            ],
            "execution_count": 8
        },
        {
            "cell_type": "code",
            "source": [
                "drop type if exists letter_grade;\n",
                "\n",
                "create type letter_grade as enum ('A', 'B+', 'B', 'C+', 'C', 'D+', 'D', 'F');"
            ],
            "metadata": {
                "azdata_cell_guid": "02655a88-d686-41c2-bbf7-1d3aa006bd02"
            },
            "outputs": [
                {
                    "output_type": "display_data",
                    "data": {
                        "text/html": "Commands completed successfully"
                    },
                    "metadata": {}
                },
                {
                    "output_type": "display_data",
                    "data": {
                        "text/html": "Commands completed successfully"
                    },
                    "metadata": {}
                },
                {
                    "output_type": "display_data",
                    "data": {
                        "text/html": "Total execution time: 00:00:00.015"
                    },
                    "metadata": {}
                }
            ],
            "execution_count": 9
        },
        {
            "cell_type": "code",
            "source": [
                "alter table student_grade add column grade2 letter_grade;"
            ],
            "metadata": {
                "azdata_cell_guid": "bf0532ac-5bab-403e-81cc-10bf32761dbb"
            },
            "outputs": [
                {
                    "output_type": "display_data",
                    "data": {
                        "text/html": "Commands completed successfully"
                    },
                    "metadata": {}
                },
                {
                    "output_type": "display_data",
                    "data": {
                        "text/html": "Total execution time: 00:00:00.008"
                    },
                    "metadata": {}
                }
            ],
            "execution_count": 10
        },
        {
            "cell_type": "code",
            "source": [
                "select * from student_grade;"
            ],
            "metadata": {
                "azdata_cell_guid": "0e633c7c-5204-4f20-8789-6d27b455c127"
            },
            "outputs": [
                {
                    "output_type": "display_data",
                    "data": {
                        "text/html": "(50 row(s) affected)"
                    },
                    "metadata": {}
                },
                {
                    "output_type": "display_data",
                    "data": {
                        "text/html": "Total execution time: 00:00:00.006"
                    },
                    "metadata": {}
                },
                {
                    "output_type": "execute_result",
                    "execution_count": 12,
                    "data": {
                        "application/vnd.dataresource+json": {
                            "schema": {
                                "fields": [
                                    {
                                        "name": "student_id"
                                    },
                                    {
                                        "name": "score"
                                    },
                                    {
                                        "name": "grade"
                                    },
                                    {
                                        "name": "grade2"
                                    }
                                ]
                            },
                            "data": [
                                {
                                    "0": "1",
                                    "1": "73.87",
                                    "2": "C+",
                                    "3": "NULL"
                                },
                                {
                                    "0": "2",
                                    "1": "81.23",
                                    "2": "B+",
                                    "3": "NULL"
                                },
                                {
                                    "0": "3",
                                    "1": "99.76",
                                    "2": "A",
                                    "3": "NULL"
                                },
                                {
                                    "0": "4",
                                    "1": "48.66",
                                    "2": "F",
                                    "3": "NULL"
                                },
                                {
                                    "0": "5",
                                    "1": "40.63",
                                    "2": "F",
                                    "3": "NULL"
                                },
                                {
                                    "0": "6",
                                    "1": "67.71",
                                    "2": "C",
                                    "3": "NULL"
                                },
                                {
                                    "0": "7",
                                    "1": "72.60",
                                    "2": "C+",
                                    "3": "NULL"
                                },
                                {
                                    "0": "8",
                                    "1": "76.99",
                                    "2": "B",
                                    "3": "NULL"
                                },
                                {
                                    "0": "9",
                                    "1": "96.74",
                                    "2": "A",
                                    "3": "NULL"
                                },
                                {
                                    "0": "10",
                                    "1": "47.78",
                                    "2": "F",
                                    "3": "NULL"
                                },
                                {
                                    "0": "11",
                                    "1": "98.62",
                                    "2": "A",
                                    "3": "NULL"
                                },
                                {
                                    "0": "12",
                                    "1": "74.80",
                                    "2": "C+",
                                    "3": "NULL"
                                },
                                {
                                    "0": "13",
                                    "1": "57.05",
                                    "2": "D+",
                                    "3": "NULL"
                                },
                                {
                                    "0": "14",
                                    "1": "73.15",
                                    "2": "C+",
                                    "3": "NULL"
                                },
                                {
                                    "0": "15",
                                    "1": "60.17",
                                    "2": "C",
                                    "3": "NULL"
                                },
                                {
                                    "0": "16",
                                    "1": "43.39",
                                    "2": "F",
                                    "3": "NULL"
                                },
                                {
                                    "0": "17",
                                    "1": "71.08",
                                    "2": "C+",
                                    "3": "NULL"
                                },
                                {
                                    "0": "18",
                                    "1": "64.35",
                                    "2": "C",
                                    "3": "NULL"
                                },
                                {
                                    "0": "19",
                                    "1": "41.65",
                                    "2": "F",
                                    "3": "NULL"
                                },
                                {
                                    "0": "20",
                                    "1": "86.35",
                                    "2": "A",
                                    "3": "NULL"
                                },
                                {
                                    "0": "21",
                                    "1": "85.82",
                                    "2": "A",
                                    "3": "NULL"
                                },
                                {
                                    "0": "22",
                                    "1": "97.79",
                                    "2": "A",
                                    "3": "NULL"
                                },
                                {
                                    "0": "23",
                                    "1": "56.81",
                                    "2": "D+",
                                    "3": "NULL"
                                },
                                {
                                    "0": "24",
                                    "1": "46.26",
                                    "2": "F",
                                    "3": "NULL"
                                },
                                {
                                    "0": "25",
                                    "1": "64.03",
                                    "2": "C",
                                    "3": "NULL"
                                },
                                {
                                    "0": "26",
                                    "1": "71.82",
                                    "2": "C+",
                                    "3": "NULL"
                                },
                                {
                                    "0": "27",
                                    "1": "91.20",
                                    "2": "A",
                                    "3": "NULL"
                                },
                                {
                                    "0": "28",
                                    "1": "52.03",
                                    "2": "D",
                                    "3": "NULL"
                                },
                                {
                                    "0": "29",
                                    "1": "84.21",
                                    "2": "B+",
                                    "3": "NULL"
                                },
                                {
                                    "0": "30",
                                    "1": "94.95",
                                    "2": "A",
                                    "3": "NULL"
                                },
                                {
                                    "0": "31",
                                    "1": "70.56",
                                    "2": "C+",
                                    "3": "NULL"
                                },
                                {
                                    "0": "32",
                                    "1": "58.07",
                                    "2": "D+",
                                    "3": "NULL"
                                },
                                {
                                    "0": "33",
                                    "1": "76.18",
                                    "2": "B",
                                    "3": "NULL"
                                },
                                {
                                    "0": "34",
                                    "1": "70.31",
                                    "2": "C+",
                                    "3": "NULL"
                                },
                                {
                                    "0": "35",
                                    "1": "66.73",
                                    "2": "C",
                                    "3": "NULL"
                                },
                                {
                                    "0": "36",
                                    "1": "76.81",
                                    "2": "B",
                                    "3": "NULL"
                                },
                                {
                                    "0": "37",
                                    "1": "98.02",
                                    "2": "A",
                                    "3": "NULL"
                                },
                                {
                                    "0": "38",
                                    "1": "99.32",
                                    "2": "A",
                                    "3": "NULL"
                                },
                                {
                                    "0": "39",
                                    "1": "53.80",
                                    "2": "D",
                                    "3": "NULL"
                                },
                                {
                                    "0": "40",
                                    "1": "94.76",
                                    "2": "A",
                                    "3": "NULL"
                                },
                                {
                                    "0": "41",
                                    "1": "47.10",
                                    "2": "F",
                                    "3": "NULL"
                                },
                                {
                                    "0": "42",
                                    "1": "52.42",
                                    "2": "D",
                                    "3": "NULL"
                                },
                                {
                                    "0": "43",
                                    "1": "69.56",
                                    "2": "C",
                                    "3": "NULL"
                                },
                                {
                                    "0": "44",
                                    "1": "64.16",
                                    "2": "C",
                                    "3": "NULL"
                                },
                                {
                                    "0": "45",
                                    "1": "85.58",
                                    "2": "A",
                                    "3": "NULL"
                                },
                                {
                                    "0": "46",
                                    "1": "89.73",
                                    "2": "A",
                                    "3": "NULL"
                                },
                                {
                                    "0": "47",
                                    "1": "67.54",
                                    "2": "C",
                                    "3": "NULL"
                                },
                                {
                                    "0": "48",
                                    "1": "56.65",
                                    "2": "D+",
                                    "3": "NULL"
                                },
                                {
                                    "0": "49",
                                    "1": "54.08",
                                    "2": "D",
                                    "3": "NULL"
                                },
                                {
                                    "0": "50",
                                    "1": "69.19",
                                    "2": "C",
                                    "3": "NULL"
                                }
                            ]
                        },
                        "text/html": "<table><tr><th>student_id</th><th>score</th><th>grade</th><th>grade2</th></tr><tr><td>1</td><td>73.87</td><td>C+</td><td>NULL</td></tr><tr><td>2</td><td>81.23</td><td>B+</td><td>NULL</td></tr><tr><td>3</td><td>99.76</td><td>A</td><td>NULL</td></tr><tr><td>4</td><td>48.66</td><td>F</td><td>NULL</td></tr><tr><td>5</td><td>40.63</td><td>F</td><td>NULL</td></tr><tr><td>6</td><td>67.71</td><td>C</td><td>NULL</td></tr><tr><td>7</td><td>72.60</td><td>C+</td><td>NULL</td></tr><tr><td>8</td><td>76.99</td><td>B</td><td>NULL</td></tr><tr><td>9</td><td>96.74</td><td>A</td><td>NULL</td></tr><tr><td>10</td><td>47.78</td><td>F</td><td>NULL</td></tr><tr><td>11</td><td>98.62</td><td>A</td><td>NULL</td></tr><tr><td>12</td><td>74.80</td><td>C+</td><td>NULL</td></tr><tr><td>13</td><td>57.05</td><td>D+</td><td>NULL</td></tr><tr><td>14</td><td>73.15</td><td>C+</td><td>NULL</td></tr><tr><td>15</td><td>60.17</td><td>C</td><td>NULL</td></tr><tr><td>16</td><td>43.39</td><td>F</td><td>NULL</td></tr><tr><td>17</td><td>71.08</td><td>C+</td><td>NULL</td></tr><tr><td>18</td><td>64.35</td><td>C</td><td>NULL</td></tr><tr><td>19</td><td>41.65</td><td>F</td><td>NULL</td></tr><tr><td>20</td><td>86.35</td><td>A</td><td>NULL</td></tr><tr><td>21</td><td>85.82</td><td>A</td><td>NULL</td></tr><tr><td>22</td><td>97.79</td><td>A</td><td>NULL</td></tr><tr><td>23</td><td>56.81</td><td>D+</td><td>NULL</td></tr><tr><td>24</td><td>46.26</td><td>F</td><td>NULL</td></tr><tr><td>25</td><td>64.03</td><td>C</td><td>NULL</td></tr><tr><td>26</td><td>71.82</td><td>C+</td><td>NULL</td></tr><tr><td>27</td><td>91.20</td><td>A</td><td>NULL</td></tr><tr><td>28</td><td>52.03</td><td>D</td><td>NULL</td></tr><tr><td>29</td><td>84.21</td><td>B+</td><td>NULL</td></tr><tr><td>30</td><td>94.95</td><td>A</td><td>NULL</td></tr><tr><td>31</td><td>70.56</td><td>C+</td><td>NULL</td></tr><tr><td>32</td><td>58.07</td><td>D+</td><td>NULL</td></tr><tr><td>33</td><td>76.18</td><td>B</td><td>NULL</td></tr><tr><td>34</td><td>70.31</td><td>C+</td><td>NULL</td></tr><tr><td>35</td><td>66.73</td><td>C</td><td>NULL</td></tr><tr><td>36</td><td>76.81</td><td>B</td><td>NULL</td></tr><tr><td>37</td><td>98.02</td><td>A</td><td>NULL</td></tr><tr><td>38</td><td>99.32</td><td>A</td><td>NULL</td></tr><tr><td>39</td><td>53.80</td><td>D</td><td>NULL</td></tr><tr><td>40</td><td>94.76</td><td>A</td><td>NULL</td></tr><tr><td>41</td><td>47.10</td><td>F</td><td>NULL</td></tr><tr><td>42</td><td>52.42</td><td>D</td><td>NULL</td></tr><tr><td>43</td><td>69.56</td><td>C</td><td>NULL</td></tr><tr><td>44</td><td>64.16</td><td>C</td><td>NULL</td></tr><tr><td>45</td><td>85.58</td><td>A</td><td>NULL</td></tr><tr><td>46</td><td>89.73</td><td>A</td><td>NULL</td></tr><tr><td>47</td><td>67.54</td><td>C</td><td>NULL</td></tr><tr><td>48</td><td>56.65</td><td>D+</td><td>NULL</td></tr><tr><td>49</td><td>54.08</td><td>D</td><td>NULL</td></tr><tr><td>50</td><td>69.19</td><td>C</td><td>NULL</td></tr></table>"
                    },
                    "metadata": {}
                }
            ],
            "execution_count": 12
        },
        {
            "cell_type": "code",
            "source": [
                "update student_grade\n",
                "    set grade2 = grade::letter_grade"
            ],
            "metadata": {
                "azdata_cell_guid": "38167d7d-90ac-4182-8c17-0b95c3ae5c2b"
            },
            "outputs": [
                {
                    "output_type": "display_data",
                    "data": {
                        "text/html": "Commands completed successfully"
                    },
                    "metadata": {}
                },
                {
                    "output_type": "display_data",
                    "data": {
                        "text/html": "Total execution time: 00:00:00.007"
                    },
                    "metadata": {}
                }
            ],
            "execution_count": 14
        },
        {
            "cell_type": "code",
            "source": [
                "select * from student_grade"
            ],
            "metadata": {
                "azdata_cell_guid": "9c55e18b-d868-46cc-8af4-ef883ac1270d"
            },
            "outputs": [
                {
                    "output_type": "display_data",
                    "data": {
                        "text/html": "(50 row(s) affected)"
                    },
                    "metadata": {}
                },
                {
                    "output_type": "display_data",
                    "data": {
                        "text/html": "Total execution time: 00:00:00.004"
                    },
                    "metadata": {}
                },
                {
                    "output_type": "execute_result",
                    "execution_count": 15,
                    "data": {
                        "application/vnd.dataresource+json": {
                            "schema": {
                                "fields": [
                                    {
                                        "name": "student_id"
                                    },
                                    {
                                        "name": "score"
                                    },
                                    {
                                        "name": "grade"
                                    },
                                    {
                                        "name": "grade2"
                                    }
                                ]
                            },
                            "data": [
                                {
                                    "0": "1",
                                    "1": "73.87",
                                    "2": "C+",
                                    "3": "C+"
                                },
                                {
                                    "0": "2",
                                    "1": "81.23",
                                    "2": "B+",
                                    "3": "B+"
                                },
                                {
                                    "0": "3",
                                    "1": "99.76",
                                    "2": "A",
                                    "3": "A"
                                },
                                {
                                    "0": "4",
                                    "1": "48.66",
                                    "2": "F",
                                    "3": "F"
                                },
                                {
                                    "0": "5",
                                    "1": "40.63",
                                    "2": "F",
                                    "3": "F"
                                },
                                {
                                    "0": "6",
                                    "1": "67.71",
                                    "2": "C",
                                    "3": "C"
                                },
                                {
                                    "0": "7",
                                    "1": "72.60",
                                    "2": "C+",
                                    "3": "C+"
                                },
                                {
                                    "0": "8",
                                    "1": "76.99",
                                    "2": "B",
                                    "3": "B"
                                },
                                {
                                    "0": "9",
                                    "1": "96.74",
                                    "2": "A",
                                    "3": "A"
                                },
                                {
                                    "0": "10",
                                    "1": "47.78",
                                    "2": "F",
                                    "3": "F"
                                },
                                {
                                    "0": "11",
                                    "1": "98.62",
                                    "2": "A",
                                    "3": "A"
                                },
                                {
                                    "0": "12",
                                    "1": "74.80",
                                    "2": "C+",
                                    "3": "C+"
                                },
                                {
                                    "0": "13",
                                    "1": "57.05",
                                    "2": "D+",
                                    "3": "D+"
                                },
                                {
                                    "0": "14",
                                    "1": "73.15",
                                    "2": "C+",
                                    "3": "C+"
                                },
                                {
                                    "0": "15",
                                    "1": "60.17",
                                    "2": "C",
                                    "3": "C"
                                },
                                {
                                    "0": "16",
                                    "1": "43.39",
                                    "2": "F",
                                    "3": "F"
                                },
                                {
                                    "0": "17",
                                    "1": "71.08",
                                    "2": "C+",
                                    "3": "C+"
                                },
                                {
                                    "0": "18",
                                    "1": "64.35",
                                    "2": "C",
                                    "3": "C"
                                },
                                {
                                    "0": "19",
                                    "1": "41.65",
                                    "2": "F",
                                    "3": "F"
                                },
                                {
                                    "0": "20",
                                    "1": "86.35",
                                    "2": "A",
                                    "3": "A"
                                },
                                {
                                    "0": "21",
                                    "1": "85.82",
                                    "2": "A",
                                    "3": "A"
                                },
                                {
                                    "0": "22",
                                    "1": "97.79",
                                    "2": "A",
                                    "3": "A"
                                },
                                {
                                    "0": "23",
                                    "1": "56.81",
                                    "2": "D+",
                                    "3": "D+"
                                },
                                {
                                    "0": "24",
                                    "1": "46.26",
                                    "2": "F",
                                    "3": "F"
                                },
                                {
                                    "0": "25",
                                    "1": "64.03",
                                    "2": "C",
                                    "3": "C"
                                },
                                {
                                    "0": "26",
                                    "1": "71.82",
                                    "2": "C+",
                                    "3": "C+"
                                },
                                {
                                    "0": "27",
                                    "1": "91.20",
                                    "2": "A",
                                    "3": "A"
                                },
                                {
                                    "0": "28",
                                    "1": "52.03",
                                    "2": "D",
                                    "3": "D"
                                },
                                {
                                    "0": "29",
                                    "1": "84.21",
                                    "2": "B+",
                                    "3": "B+"
                                },
                                {
                                    "0": "30",
                                    "1": "94.95",
                                    "2": "A",
                                    "3": "A"
                                },
                                {
                                    "0": "31",
                                    "1": "70.56",
                                    "2": "C+",
                                    "3": "C+"
                                },
                                {
                                    "0": "32",
                                    "1": "58.07",
                                    "2": "D+",
                                    "3": "D+"
                                },
                                {
                                    "0": "33",
                                    "1": "76.18",
                                    "2": "B",
                                    "3": "B"
                                },
                                {
                                    "0": "34",
                                    "1": "70.31",
                                    "2": "C+",
                                    "3": "C+"
                                },
                                {
                                    "0": "35",
                                    "1": "66.73",
                                    "2": "C",
                                    "3": "C"
                                },
                                {
                                    "0": "36",
                                    "1": "76.81",
                                    "2": "B",
                                    "3": "B"
                                },
                                {
                                    "0": "37",
                                    "1": "98.02",
                                    "2": "A",
                                    "3": "A"
                                },
                                {
                                    "0": "38",
                                    "1": "99.32",
                                    "2": "A",
                                    "3": "A"
                                },
                                {
                                    "0": "39",
                                    "1": "53.80",
                                    "2": "D",
                                    "3": "D"
                                },
                                {
                                    "0": "40",
                                    "1": "94.76",
                                    "2": "A",
                                    "3": "A"
                                },
                                {
                                    "0": "41",
                                    "1": "47.10",
                                    "2": "F",
                                    "3": "F"
                                },
                                {
                                    "0": "42",
                                    "1": "52.42",
                                    "2": "D",
                                    "3": "D"
                                },
                                {
                                    "0": "43",
                                    "1": "69.56",
                                    "2": "C",
                                    "3": "C"
                                },
                                {
                                    "0": "44",
                                    "1": "64.16",
                                    "2": "C",
                                    "3": "C"
                                },
                                {
                                    "0": "45",
                                    "1": "85.58",
                                    "2": "A",
                                    "3": "A"
                                },
                                {
                                    "0": "46",
                                    "1": "89.73",
                                    "2": "A",
                                    "3": "A"
                                },
                                {
                                    "0": "47",
                                    "1": "67.54",
                                    "2": "C",
                                    "3": "C"
                                },
                                {
                                    "0": "48",
                                    "1": "56.65",
                                    "2": "D+",
                                    "3": "D+"
                                },
                                {
                                    "0": "49",
                                    "1": "54.08",
                                    "2": "D",
                                    "3": "D"
                                },
                                {
                                    "0": "50",
                                    "1": "69.19",
                                    "2": "C",
                                    "3": "C"
                                }
                            ]
                        },
                        "text/html": "<table><tr><th>student_id</th><th>score</th><th>grade</th><th>grade2</th></tr><tr><td>1</td><td>73.87</td><td>C+</td><td>C+</td></tr><tr><td>2</td><td>81.23</td><td>B+</td><td>B+</td></tr><tr><td>3</td><td>99.76</td><td>A</td><td>A</td></tr><tr><td>4</td><td>48.66</td><td>F</td><td>F</td></tr><tr><td>5</td><td>40.63</td><td>F</td><td>F</td></tr><tr><td>6</td><td>67.71</td><td>C</td><td>C</td></tr><tr><td>7</td><td>72.60</td><td>C+</td><td>C+</td></tr><tr><td>8</td><td>76.99</td><td>B</td><td>B</td></tr><tr><td>9</td><td>96.74</td><td>A</td><td>A</td></tr><tr><td>10</td><td>47.78</td><td>F</td><td>F</td></tr><tr><td>11</td><td>98.62</td><td>A</td><td>A</td></tr><tr><td>12</td><td>74.80</td><td>C+</td><td>C+</td></tr><tr><td>13</td><td>57.05</td><td>D+</td><td>D+</td></tr><tr><td>14</td><td>73.15</td><td>C+</td><td>C+</td></tr><tr><td>15</td><td>60.17</td><td>C</td><td>C</td></tr><tr><td>16</td><td>43.39</td><td>F</td><td>F</td></tr><tr><td>17</td><td>71.08</td><td>C+</td><td>C+</td></tr><tr><td>18</td><td>64.35</td><td>C</td><td>C</td></tr><tr><td>19</td><td>41.65</td><td>F</td><td>F</td></tr><tr><td>20</td><td>86.35</td><td>A</td><td>A</td></tr><tr><td>21</td><td>85.82</td><td>A</td><td>A</td></tr><tr><td>22</td><td>97.79</td><td>A</td><td>A</td></tr><tr><td>23</td><td>56.81</td><td>D+</td><td>D+</td></tr><tr><td>24</td><td>46.26</td><td>F</td><td>F</td></tr><tr><td>25</td><td>64.03</td><td>C</td><td>C</td></tr><tr><td>26</td><td>71.82</td><td>C+</td><td>C+</td></tr><tr><td>27</td><td>91.20</td><td>A</td><td>A</td></tr><tr><td>28</td><td>52.03</td><td>D</td><td>D</td></tr><tr><td>29</td><td>84.21</td><td>B+</td><td>B+</td></tr><tr><td>30</td><td>94.95</td><td>A</td><td>A</td></tr><tr><td>31</td><td>70.56</td><td>C+</td><td>C+</td></tr><tr><td>32</td><td>58.07</td><td>D+</td><td>D+</td></tr><tr><td>33</td><td>76.18</td><td>B</td><td>B</td></tr><tr><td>34</td><td>70.31</td><td>C+</td><td>C+</td></tr><tr><td>35</td><td>66.73</td><td>C</td><td>C</td></tr><tr><td>36</td><td>76.81</td><td>B</td><td>B</td></tr><tr><td>37</td><td>98.02</td><td>A</td><td>A</td></tr><tr><td>38</td><td>99.32</td><td>A</td><td>A</td></tr><tr><td>39</td><td>53.80</td><td>D</td><td>D</td></tr><tr><td>40</td><td>94.76</td><td>A</td><td>A</td></tr><tr><td>41</td><td>47.10</td><td>F</td><td>F</td></tr><tr><td>42</td><td>52.42</td><td>D</td><td>D</td></tr><tr><td>43</td><td>69.56</td><td>C</td><td>C</td></tr><tr><td>44</td><td>64.16</td><td>C</td><td>C</td></tr><tr><td>45</td><td>85.58</td><td>A</td><td>A</td></tr><tr><td>46</td><td>89.73</td><td>A</td><td>A</td></tr><tr><td>47</td><td>67.54</td><td>C</td><td>C</td></tr><tr><td>48</td><td>56.65</td><td>D+</td><td>D+</td></tr><tr><td>49</td><td>54.08</td><td>D</td><td>D</td></tr><tr><td>50</td><td>69.19</td><td>C</td><td>C</td></tr></table>"
                    },
                    "metadata": {}
                }
            ],
            "execution_count": 15
        },
        {
            "cell_type": "code",
            "source": [
                "select * from student_grade order by grade2"
            ],
            "metadata": {
                "azdata_cell_guid": "7618ade1-8c13-4004-9d07-d05897a2bfa6"
            },
            "outputs": [
                {
                    "output_type": "display_data",
                    "data": {
                        "text/html": "(50 row(s) affected)"
                    },
                    "metadata": {}
                },
                {
                    "output_type": "display_data",
                    "data": {
                        "text/html": "Total execution time: 00:00:00.006"
                    },
                    "metadata": {}
                },
                {
                    "output_type": "execute_result",
                    "execution_count": 18,
                    "data": {
                        "application/vnd.dataresource+json": {
                            "schema": {
                                "fields": [
                                    {
                                        "name": "student_id"
                                    },
                                    {
                                        "name": "score"
                                    },
                                    {
                                        "name": "grade"
                                    },
                                    {
                                        "name": "grade2"
                                    }
                                ]
                            },
                            "data": [
                                {
                                    "0": "30",
                                    "1": "94.95",
                                    "2": "A",
                                    "3": "A"
                                },
                                {
                                    "0": "20",
                                    "1": "86.35",
                                    "2": "A",
                                    "3": "A"
                                },
                                {
                                    "0": "21",
                                    "1": "85.82",
                                    "2": "A",
                                    "3": "A"
                                },
                                {
                                    "0": "22",
                                    "1": "97.79",
                                    "2": "A",
                                    "3": "A"
                                },
                                {
                                    "0": "27",
                                    "1": "91.20",
                                    "2": "A",
                                    "3": "A"
                                },
                                {
                                    "0": "40",
                                    "1": "94.76",
                                    "2": "A",
                                    "3": "A"
                                },
                                {
                                    "0": "11",
                                    "1": "98.62",
                                    "2": "A",
                                    "3": "A"
                                },
                                {
                                    "0": "3",
                                    "1": "99.76",
                                    "2": "A",
                                    "3": "A"
                                },
                                {
                                    "0": "37",
                                    "1": "98.02",
                                    "2": "A",
                                    "3": "A"
                                },
                                {
                                    "0": "46",
                                    "1": "89.73",
                                    "2": "A",
                                    "3": "A"
                                },
                                {
                                    "0": "45",
                                    "1": "85.58",
                                    "2": "A",
                                    "3": "A"
                                },
                                {
                                    "0": "9",
                                    "1": "96.74",
                                    "2": "A",
                                    "3": "A"
                                },
                                {
                                    "0": "38",
                                    "1": "99.32",
                                    "2": "A",
                                    "3": "A"
                                },
                                {
                                    "0": "2",
                                    "1": "81.23",
                                    "2": "B+",
                                    "3": "B+"
                                },
                                {
                                    "0": "29",
                                    "1": "84.21",
                                    "2": "B+",
                                    "3": "B+"
                                },
                                {
                                    "0": "8",
                                    "1": "76.99",
                                    "2": "B",
                                    "3": "B"
                                },
                                {
                                    "0": "36",
                                    "1": "76.81",
                                    "2": "B",
                                    "3": "B"
                                },
                                {
                                    "0": "33",
                                    "1": "76.18",
                                    "2": "B",
                                    "3": "B"
                                },
                                {
                                    "0": "1",
                                    "1": "73.87",
                                    "2": "C+",
                                    "3": "C+"
                                },
                                {
                                    "0": "7",
                                    "1": "72.60",
                                    "2": "C+",
                                    "3": "C+"
                                },
                                {
                                    "0": "12",
                                    "1": "74.80",
                                    "2": "C+",
                                    "3": "C+"
                                },
                                {
                                    "0": "14",
                                    "1": "73.15",
                                    "2": "C+",
                                    "3": "C+"
                                },
                                {
                                    "0": "17",
                                    "1": "71.08",
                                    "2": "C+",
                                    "3": "C+"
                                },
                                {
                                    "0": "26",
                                    "1": "71.82",
                                    "2": "C+",
                                    "3": "C+"
                                },
                                {
                                    "0": "31",
                                    "1": "70.56",
                                    "2": "C+",
                                    "3": "C+"
                                },
                                {
                                    "0": "34",
                                    "1": "70.31",
                                    "2": "C+",
                                    "3": "C+"
                                },
                                {
                                    "0": "15",
                                    "1": "60.17",
                                    "2": "C",
                                    "3": "C"
                                },
                                {
                                    "0": "47",
                                    "1": "67.54",
                                    "2": "C",
                                    "3": "C"
                                },
                                {
                                    "0": "6",
                                    "1": "67.71",
                                    "2": "C",
                                    "3": "C"
                                },
                                {
                                    "0": "18",
                                    "1": "64.35",
                                    "2": "C",
                                    "3": "C"
                                },
                                {
                                    "0": "44",
                                    "1": "64.16",
                                    "2": "C",
                                    "3": "C"
                                },
                                {
                                    "0": "25",
                                    "1": "64.03",
                                    "2": "C",
                                    "3": "C"
                                },
                                {
                                    "0": "43",
                                    "1": "69.56",
                                    "2": "C",
                                    "3": "C"
                                },
                                {
                                    "0": "50",
                                    "1": "69.19",
                                    "2": "C",
                                    "3": "C"
                                },
                                {
                                    "0": "35",
                                    "1": "66.73",
                                    "2": "C",
                                    "3": "C"
                                },
                                {
                                    "0": "23",
                                    "1": "56.81",
                                    "2": "D+",
                                    "3": "D+"
                                },
                                {
                                    "0": "32",
                                    "1": "58.07",
                                    "2": "D+",
                                    "3": "D+"
                                },
                                {
                                    "0": "13",
                                    "1": "57.05",
                                    "2": "D+",
                                    "3": "D+"
                                },
                                {
                                    "0": "48",
                                    "1": "56.65",
                                    "2": "D+",
                                    "3": "D+"
                                },
                                {
                                    "0": "42",
                                    "1": "52.42",
                                    "2": "D",
                                    "3": "D"
                                },
                                {
                                    "0": "49",
                                    "1": "54.08",
                                    "2": "D",
                                    "3": "D"
                                },
                                {
                                    "0": "28",
                                    "1": "52.03",
                                    "2": "D",
                                    "3": "D"
                                },
                                {
                                    "0": "39",
                                    "1": "53.80",
                                    "2": "D",
                                    "3": "D"
                                },
                                {
                                    "0": "4",
                                    "1": "48.66",
                                    "2": "F",
                                    "3": "F"
                                },
                                {
                                    "0": "19",
                                    "1": "41.65",
                                    "2": "F",
                                    "3": "F"
                                },
                                {
                                    "0": "24",
                                    "1": "46.26",
                                    "2": "F",
                                    "3": "F"
                                },
                                {
                                    "0": "5",
                                    "1": "40.63",
                                    "2": "F",
                                    "3": "F"
                                },
                                {
                                    "0": "41",
                                    "1": "47.10",
                                    "2": "F",
                                    "3": "F"
                                },
                                {
                                    "0": "16",
                                    "1": "43.39",
                                    "2": "F",
                                    "3": "F"
                                },
                                {
                                    "0": "10",
                                    "1": "47.78",
                                    "2": "F",
                                    "3": "F"
                                }
                            ]
                        },
                        "text/html": "<table><tr><th>student_id</th><th>score</th><th>grade</th><th>grade2</th></tr><tr><td>30</td><td>94.95</td><td>A</td><td>A</td></tr><tr><td>20</td><td>86.35</td><td>A</td><td>A</td></tr><tr><td>21</td><td>85.82</td><td>A</td><td>A</td></tr><tr><td>22</td><td>97.79</td><td>A</td><td>A</td></tr><tr><td>27</td><td>91.20</td><td>A</td><td>A</td></tr><tr><td>40</td><td>94.76</td><td>A</td><td>A</td></tr><tr><td>11</td><td>98.62</td><td>A</td><td>A</td></tr><tr><td>3</td><td>99.76</td><td>A</td><td>A</td></tr><tr><td>37</td><td>98.02</td><td>A</td><td>A</td></tr><tr><td>46</td><td>89.73</td><td>A</td><td>A</td></tr><tr><td>45</td><td>85.58</td><td>A</td><td>A</td></tr><tr><td>9</td><td>96.74</td><td>A</td><td>A</td></tr><tr><td>38</td><td>99.32</td><td>A</td><td>A</td></tr><tr><td>2</td><td>81.23</td><td>B+</td><td>B+</td></tr><tr><td>29</td><td>84.21</td><td>B+</td><td>B+</td></tr><tr><td>8</td><td>76.99</td><td>B</td><td>B</td></tr><tr><td>36</td><td>76.81</td><td>B</td><td>B</td></tr><tr><td>33</td><td>76.18</td><td>B</td><td>B</td></tr><tr><td>1</td><td>73.87</td><td>C+</td><td>C+</td></tr><tr><td>7</td><td>72.60</td><td>C+</td><td>C+</td></tr><tr><td>12</td><td>74.80</td><td>C+</td><td>C+</td></tr><tr><td>14</td><td>73.15</td><td>C+</td><td>C+</td></tr><tr><td>17</td><td>71.08</td><td>C+</td><td>C+</td></tr><tr><td>26</td><td>71.82</td><td>C+</td><td>C+</td></tr><tr><td>31</td><td>70.56</td><td>C+</td><td>C+</td></tr><tr><td>34</td><td>70.31</td><td>C+</td><td>C+</td></tr><tr><td>15</td><td>60.17</td><td>C</td><td>C</td></tr><tr><td>47</td><td>67.54</td><td>C</td><td>C</td></tr><tr><td>6</td><td>67.71</td><td>C</td><td>C</td></tr><tr><td>18</td><td>64.35</td><td>C</td><td>C</td></tr><tr><td>44</td><td>64.16</td><td>C</td><td>C</td></tr><tr><td>25</td><td>64.03</td><td>C</td><td>C</td></tr><tr><td>43</td><td>69.56</td><td>C</td><td>C</td></tr><tr><td>50</td><td>69.19</td><td>C</td><td>C</td></tr><tr><td>35</td><td>66.73</td><td>C</td><td>C</td></tr><tr><td>23</td><td>56.81</td><td>D+</td><td>D+</td></tr><tr><td>32</td><td>58.07</td><td>D+</td><td>D+</td></tr><tr><td>13</td><td>57.05</td><td>D+</td><td>D+</td></tr><tr><td>48</td><td>56.65</td><td>D+</td><td>D+</td></tr><tr><td>42</td><td>52.42</td><td>D</td><td>D</td></tr><tr><td>49</td><td>54.08</td><td>D</td><td>D</td></tr><tr><td>28</td><td>52.03</td><td>D</td><td>D</td></tr><tr><td>39</td><td>53.80</td><td>D</td><td>D</td></tr><tr><td>4</td><td>48.66</td><td>F</td><td>F</td></tr><tr><td>19</td><td>41.65</td><td>F</td><td>F</td></tr><tr><td>24</td><td>46.26</td><td>F</td><td>F</td></tr><tr><td>5</td><td>40.63</td><td>F</td><td>F</td></tr><tr><td>41</td><td>47.10</td><td>F</td><td>F</td></tr><tr><td>16</td><td>43.39</td><td>F</td><td>F</td></tr><tr><td>10</td><td>47.78</td><td>F</td><td>F</td></tr></table>"
                    },
                    "metadata": {}
                }
            ],
            "execution_count": 18
        },
        {
            "cell_type": "code",
            "source": [
                "select * from student_grade where grade2 > 'B'"
            ],
            "metadata": {
                "azdata_cell_guid": "89ac200c-7eab-46e9-94b7-1d9a92854e77"
            },
            "outputs": [
                {
                    "output_type": "display_data",
                    "data": {
                        "text/html": "(32 row(s) affected)"
                    },
                    "metadata": {}
                },
                {
                    "output_type": "display_data",
                    "data": {
                        "text/html": "Total execution time: 00:00:00.007"
                    },
                    "metadata": {}
                },
                {
                    "output_type": "execute_result",
                    "execution_count": 20,
                    "data": {
                        "application/vnd.dataresource+json": {
                            "schema": {
                                "fields": [
                                    {
                                        "name": "student_id"
                                    },
                                    {
                                        "name": "score"
                                    },
                                    {
                                        "name": "grade"
                                    },
                                    {
                                        "name": "grade2"
                                    }
                                ]
                            },
                            "data": [
                                {
                                    "0": "1",
                                    "1": "73.87",
                                    "2": "C+",
                                    "3": "C+"
                                },
                                {
                                    "0": "4",
                                    "1": "48.66",
                                    "2": "F",
                                    "3": "F"
                                },
                                {
                                    "0": "5",
                                    "1": "40.63",
                                    "2": "F",
                                    "3": "F"
                                },
                                {
                                    "0": "6",
                                    "1": "67.71",
                                    "2": "C",
                                    "3": "C"
                                },
                                {
                                    "0": "7",
                                    "1": "72.60",
                                    "2": "C+",
                                    "3": "C+"
                                },
                                {
                                    "0": "10",
                                    "1": "47.78",
                                    "2": "F",
                                    "3": "F"
                                },
                                {
                                    "0": "12",
                                    "1": "74.80",
                                    "2": "C+",
                                    "3": "C+"
                                },
                                {
                                    "0": "13",
                                    "1": "57.05",
                                    "2": "D+",
                                    "3": "D+"
                                },
                                {
                                    "0": "14",
                                    "1": "73.15",
                                    "2": "C+",
                                    "3": "C+"
                                },
                                {
                                    "0": "15",
                                    "1": "60.17",
                                    "2": "C",
                                    "3": "C"
                                },
                                {
                                    "0": "16",
                                    "1": "43.39",
                                    "2": "F",
                                    "3": "F"
                                },
                                {
                                    "0": "17",
                                    "1": "71.08",
                                    "2": "C+",
                                    "3": "C+"
                                },
                                {
                                    "0": "18",
                                    "1": "64.35",
                                    "2": "C",
                                    "3": "C"
                                },
                                {
                                    "0": "19",
                                    "1": "41.65",
                                    "2": "F",
                                    "3": "F"
                                },
                                {
                                    "0": "23",
                                    "1": "56.81",
                                    "2": "D+",
                                    "3": "D+"
                                },
                                {
                                    "0": "24",
                                    "1": "46.26",
                                    "2": "F",
                                    "3": "F"
                                },
                                {
                                    "0": "25",
                                    "1": "64.03",
                                    "2": "C",
                                    "3": "C"
                                },
                                {
                                    "0": "26",
                                    "1": "71.82",
                                    "2": "C+",
                                    "3": "C+"
                                },
                                {
                                    "0": "28",
                                    "1": "52.03",
                                    "2": "D",
                                    "3": "D"
                                },
                                {
                                    "0": "31",
                                    "1": "70.56",
                                    "2": "C+",
                                    "3": "C+"
                                },
                                {
                                    "0": "32",
                                    "1": "58.07",
                                    "2": "D+",
                                    "3": "D+"
                                },
                                {
                                    "0": "34",
                                    "1": "70.31",
                                    "2": "C+",
                                    "3": "C+"
                                },
                                {
                                    "0": "35",
                                    "1": "66.73",
                                    "2": "C",
                                    "3": "C"
                                },
                                {
                                    "0": "39",
                                    "1": "53.80",
                                    "2": "D",
                                    "3": "D"
                                },
                                {
                                    "0": "41",
                                    "1": "47.10",
                                    "2": "F",
                                    "3": "F"
                                },
                                {
                                    "0": "42",
                                    "1": "52.42",
                                    "2": "D",
                                    "3": "D"
                                },
                                {
                                    "0": "43",
                                    "1": "69.56",
                                    "2": "C",
                                    "3": "C"
                                },
                                {
                                    "0": "44",
                                    "1": "64.16",
                                    "2": "C",
                                    "3": "C"
                                },
                                {
                                    "0": "47",
                                    "1": "67.54",
                                    "2": "C",
                                    "3": "C"
                                },
                                {
                                    "0": "48",
                                    "1": "56.65",
                                    "2": "D+",
                                    "3": "D+"
                                },
                                {
                                    "0": "49",
                                    "1": "54.08",
                                    "2": "D",
                                    "3": "D"
                                },
                                {
                                    "0": "50",
                                    "1": "69.19",
                                    "2": "C",
                                    "3": "C"
                                }
                            ]
                        },
                        "text/html": "<table><tr><th>student_id</th><th>score</th><th>grade</th><th>grade2</th></tr><tr><td>1</td><td>73.87</td><td>C+</td><td>C+</td></tr><tr><td>4</td><td>48.66</td><td>F</td><td>F</td></tr><tr><td>5</td><td>40.63</td><td>F</td><td>F</td></tr><tr><td>6</td><td>67.71</td><td>C</td><td>C</td></tr><tr><td>7</td><td>72.60</td><td>C+</td><td>C+</td></tr><tr><td>10</td><td>47.78</td><td>F</td><td>F</td></tr><tr><td>12</td><td>74.80</td><td>C+</td><td>C+</td></tr><tr><td>13</td><td>57.05</td><td>D+</td><td>D+</td></tr><tr><td>14</td><td>73.15</td><td>C+</td><td>C+</td></tr><tr><td>15</td><td>60.17</td><td>C</td><td>C</td></tr><tr><td>16</td><td>43.39</td><td>F</td><td>F</td></tr><tr><td>17</td><td>71.08</td><td>C+</td><td>C+</td></tr><tr><td>18</td><td>64.35</td><td>C</td><td>C</td></tr><tr><td>19</td><td>41.65</td><td>F</td><td>F</td></tr><tr><td>23</td><td>56.81</td><td>D+</td><td>D+</td></tr><tr><td>24</td><td>46.26</td><td>F</td><td>F</td></tr><tr><td>25</td><td>64.03</td><td>C</td><td>C</td></tr><tr><td>26</td><td>71.82</td><td>C+</td><td>C+</td></tr><tr><td>28</td><td>52.03</td><td>D</td><td>D</td></tr><tr><td>31</td><td>70.56</td><td>C+</td><td>C+</td></tr><tr><td>32</td><td>58.07</td><td>D+</td><td>D+</td></tr><tr><td>34</td><td>70.31</td><td>C+</td><td>C+</td></tr><tr><td>35</td><td>66.73</td><td>C</td><td>C</td></tr><tr><td>39</td><td>53.80</td><td>D</td><td>D</td></tr><tr><td>41</td><td>47.10</td><td>F</td><td>F</td></tr><tr><td>42</td><td>52.42</td><td>D</td><td>D</td></tr><tr><td>43</td><td>69.56</td><td>C</td><td>C</td></tr><tr><td>44</td><td>64.16</td><td>C</td><td>C</td></tr><tr><td>47</td><td>67.54</td><td>C</td><td>C</td></tr><tr><td>48</td><td>56.65</td><td>D+</td><td>D+</td></tr><tr><td>49</td><td>54.08</td><td>D</td><td>D</td></tr><tr><td>50</td><td>69.19</td><td>C</td><td>C</td></tr></table>"
                    },
                    "metadata": {}
                }
            ],
            "execution_count": 20
        },
        {
            "cell_type": "code",
            "source": [
                "select * from student_grade where grade2 between 'C+' and 'D'"
            ],
            "metadata": {
                "azdata_cell_guid": "747de306-47bc-4573-a561-a8130a7fcc26"
            },
            "outputs": [
                {
                    "output_type": "display_data",
                    "data": {
                        "text/html": "(25 row(s) affected)"
                    },
                    "metadata": {}
                },
                {
                    "output_type": "display_data",
                    "data": {
                        "text/html": "Total execution time: 00:00:00.005"
                    },
                    "metadata": {}
                },
                {
                    "output_type": "execute_result",
                    "execution_count": 22,
                    "data": {
                        "application/vnd.dataresource+json": {
                            "schema": {
                                "fields": [
                                    {
                                        "name": "student_id"
                                    },
                                    {
                                        "name": "score"
                                    },
                                    {
                                        "name": "grade"
                                    },
                                    {
                                        "name": "grade2"
                                    }
                                ]
                            },
                            "data": [
                                {
                                    "0": "1",
                                    "1": "73.87",
                                    "2": "C+",
                                    "3": "C+"
                                },
                                {
                                    "0": "6",
                                    "1": "67.71",
                                    "2": "C",
                                    "3": "C"
                                },
                                {
                                    "0": "7",
                                    "1": "72.60",
                                    "2": "C+",
                                    "3": "C+"
                                },
                                {
                                    "0": "12",
                                    "1": "74.80",
                                    "2": "C+",
                                    "3": "C+"
                                },
                                {
                                    "0": "13",
                                    "1": "57.05",
                                    "2": "D+",
                                    "3": "D+"
                                },
                                {
                                    "0": "14",
                                    "1": "73.15",
                                    "2": "C+",
                                    "3": "C+"
                                },
                                {
                                    "0": "15",
                                    "1": "60.17",
                                    "2": "C",
                                    "3": "C"
                                },
                                {
                                    "0": "17",
                                    "1": "71.08",
                                    "2": "C+",
                                    "3": "C+"
                                },
                                {
                                    "0": "18",
                                    "1": "64.35",
                                    "2": "C",
                                    "3": "C"
                                },
                                {
                                    "0": "23",
                                    "1": "56.81",
                                    "2": "D+",
                                    "3": "D+"
                                },
                                {
                                    "0": "25",
                                    "1": "64.03",
                                    "2": "C",
                                    "3": "C"
                                },
                                {
                                    "0": "26",
                                    "1": "71.82",
                                    "2": "C+",
                                    "3": "C+"
                                },
                                {
                                    "0": "28",
                                    "1": "52.03",
                                    "2": "D",
                                    "3": "D"
                                },
                                {
                                    "0": "31",
                                    "1": "70.56",
                                    "2": "C+",
                                    "3": "C+"
                                },
                                {
                                    "0": "32",
                                    "1": "58.07",
                                    "2": "D+",
                                    "3": "D+"
                                },
                                {
                                    "0": "34",
                                    "1": "70.31",
                                    "2": "C+",
                                    "3": "C+"
                                },
                                {
                                    "0": "35",
                                    "1": "66.73",
                                    "2": "C",
                                    "3": "C"
                                },
                                {
                                    "0": "39",
                                    "1": "53.80",
                                    "2": "D",
                                    "3": "D"
                                },
                                {
                                    "0": "42",
                                    "1": "52.42",
                                    "2": "D",
                                    "3": "D"
                                },
                                {
                                    "0": "43",
                                    "1": "69.56",
                                    "2": "C",
                                    "3": "C"
                                },
                                {
                                    "0": "44",
                                    "1": "64.16",
                                    "2": "C",
                                    "3": "C"
                                },
                                {
                                    "0": "47",
                                    "1": "67.54",
                                    "2": "C",
                                    "3": "C"
                                },
                                {
                                    "0": "48",
                                    "1": "56.65",
                                    "2": "D+",
                                    "3": "D+"
                                },
                                {
                                    "0": "49",
                                    "1": "54.08",
                                    "2": "D",
                                    "3": "D"
                                },
                                {
                                    "0": "50",
                                    "1": "69.19",
                                    "2": "C",
                                    "3": "C"
                                }
                            ]
                        },
                        "text/html": "<table><tr><th>student_id</th><th>score</th><th>grade</th><th>grade2</th></tr><tr><td>1</td><td>73.87</td><td>C+</td><td>C+</td></tr><tr><td>6</td><td>67.71</td><td>C</td><td>C</td></tr><tr><td>7</td><td>72.60</td><td>C+</td><td>C+</td></tr><tr><td>12</td><td>74.80</td><td>C+</td><td>C+</td></tr><tr><td>13</td><td>57.05</td><td>D+</td><td>D+</td></tr><tr><td>14</td><td>73.15</td><td>C+</td><td>C+</td></tr><tr><td>15</td><td>60.17</td><td>C</td><td>C</td></tr><tr><td>17</td><td>71.08</td><td>C+</td><td>C+</td></tr><tr><td>18</td><td>64.35</td><td>C</td><td>C</td></tr><tr><td>23</td><td>56.81</td><td>D+</td><td>D+</td></tr><tr><td>25</td><td>64.03</td><td>C</td><td>C</td></tr><tr><td>26</td><td>71.82</td><td>C+</td><td>C+</td></tr><tr><td>28</td><td>52.03</td><td>D</td><td>D</td></tr><tr><td>31</td><td>70.56</td><td>C+</td><td>C+</td></tr><tr><td>32</td><td>58.07</td><td>D+</td><td>D+</td></tr><tr><td>34</td><td>70.31</td><td>C+</td><td>C+</td></tr><tr><td>35</td><td>66.73</td><td>C</td><td>C</td></tr><tr><td>39</td><td>53.80</td><td>D</td><td>D</td></tr><tr><td>42</td><td>52.42</td><td>D</td><td>D</td></tr><tr><td>43</td><td>69.56</td><td>C</td><td>C</td></tr><tr><td>44</td><td>64.16</td><td>C</td><td>C</td></tr><tr><td>47</td><td>67.54</td><td>C</td><td>C</td></tr><tr><td>48</td><td>56.65</td><td>D+</td><td>D+</td></tr><tr><td>49</td><td>54.08</td><td>D</td><td>D</td></tr><tr><td>50</td><td>69.19</td><td>C</td><td>C</td></tr></table>"
                    },
                    "metadata": {}
                }
            ],
            "execution_count": 22
        },
        {
            "cell_type": "code",
            "source": [
                "insert into student_grade values (101, 97, 'A', 'A')"
            ],
            "metadata": {
                "azdata_cell_guid": "a65f4e58-5e99-4cc3-8273-f04af31dd62b"
            },
            "outputs": [
                {
                    "output_type": "display_data",
                    "data": {
                        "text/html": "Commands completed successfully"
                    },
                    "metadata": {}
                },
                {
                    "output_type": "display_data",
                    "data": {
                        "text/html": "Total execution time: 00:00:00.001"
                    },
                    "metadata": {}
                }
            ],
            "execution_count": 23
        },
        {
            "cell_type": "code",
            "source": [
                "select * from student_grade"
            ],
            "metadata": {
                "azdata_cell_guid": "41e4e014-b7a9-4870-9db0-76233d44e7d3"
            },
            "outputs": [
                {
                    "output_type": "display_data",
                    "data": {
                        "text/html": "(51 row(s) affected)"
                    },
                    "metadata": {}
                },
                {
                    "output_type": "display_data",
                    "data": {
                        "text/html": "Total execution time: 00:00:00.005"
                    },
                    "metadata": {}
                },
                {
                    "output_type": "execute_result",
                    "execution_count": 24,
                    "data": {
                        "application/vnd.dataresource+json": {
                            "schema": {
                                "fields": [
                                    {
                                        "name": "student_id"
                                    },
                                    {
                                        "name": "score"
                                    },
                                    {
                                        "name": "grade"
                                    },
                                    {
                                        "name": "grade2"
                                    }
                                ]
                            },
                            "data": [
                                {
                                    "0": "101",
                                    "1": "97.00",
                                    "2": "A",
                                    "3": "A"
                                },
                                {
                                    "0": "1",
                                    "1": "73.87",
                                    "2": "C+",
                                    "3": "C+"
                                },
                                {
                                    "0": "2",
                                    "1": "81.23",
                                    "2": "B+",
                                    "3": "B+"
                                },
                                {
                                    "0": "3",
                                    "1": "99.76",
                                    "2": "A",
                                    "3": "A"
                                },
                                {
                                    "0": "4",
                                    "1": "48.66",
                                    "2": "F",
                                    "3": "F"
                                },
                                {
                                    "0": "5",
                                    "1": "40.63",
                                    "2": "F",
                                    "3": "F"
                                },
                                {
                                    "0": "6",
                                    "1": "67.71",
                                    "2": "C",
                                    "3": "C"
                                },
                                {
                                    "0": "7",
                                    "1": "72.60",
                                    "2": "C+",
                                    "3": "C+"
                                },
                                {
                                    "0": "8",
                                    "1": "76.99",
                                    "2": "B",
                                    "3": "B"
                                },
                                {
                                    "0": "9",
                                    "1": "96.74",
                                    "2": "A",
                                    "3": "A"
                                },
                                {
                                    "0": "10",
                                    "1": "47.78",
                                    "2": "F",
                                    "3": "F"
                                },
                                {
                                    "0": "11",
                                    "1": "98.62",
                                    "2": "A",
                                    "3": "A"
                                },
                                {
                                    "0": "12",
                                    "1": "74.80",
                                    "2": "C+",
                                    "3": "C+"
                                },
                                {
                                    "0": "13",
                                    "1": "57.05",
                                    "2": "D+",
                                    "3": "D+"
                                },
                                {
                                    "0": "14",
                                    "1": "73.15",
                                    "2": "C+",
                                    "3": "C+"
                                },
                                {
                                    "0": "15",
                                    "1": "60.17",
                                    "2": "C",
                                    "3": "C"
                                },
                                {
                                    "0": "16",
                                    "1": "43.39",
                                    "2": "F",
                                    "3": "F"
                                },
                                {
                                    "0": "17",
                                    "1": "71.08",
                                    "2": "C+",
                                    "3": "C+"
                                },
                                {
                                    "0": "18",
                                    "1": "64.35",
                                    "2": "C",
                                    "3": "C"
                                },
                                {
                                    "0": "19",
                                    "1": "41.65",
                                    "2": "F",
                                    "3": "F"
                                },
                                {
                                    "0": "20",
                                    "1": "86.35",
                                    "2": "A",
                                    "3": "A"
                                },
                                {
                                    "0": "21",
                                    "1": "85.82",
                                    "2": "A",
                                    "3": "A"
                                },
                                {
                                    "0": "22",
                                    "1": "97.79",
                                    "2": "A",
                                    "3": "A"
                                },
                                {
                                    "0": "23",
                                    "1": "56.81",
                                    "2": "D+",
                                    "3": "D+"
                                },
                                {
                                    "0": "24",
                                    "1": "46.26",
                                    "2": "F",
                                    "3": "F"
                                },
                                {
                                    "0": "25",
                                    "1": "64.03",
                                    "2": "C",
                                    "3": "C"
                                },
                                {
                                    "0": "26",
                                    "1": "71.82",
                                    "2": "C+",
                                    "3": "C+"
                                },
                                {
                                    "0": "27",
                                    "1": "91.20",
                                    "2": "A",
                                    "3": "A"
                                },
                                {
                                    "0": "28",
                                    "1": "52.03",
                                    "2": "D",
                                    "3": "D"
                                },
                                {
                                    "0": "29",
                                    "1": "84.21",
                                    "2": "B+",
                                    "3": "B+"
                                },
                                {
                                    "0": "30",
                                    "1": "94.95",
                                    "2": "A",
                                    "3": "A"
                                },
                                {
                                    "0": "31",
                                    "1": "70.56",
                                    "2": "C+",
                                    "3": "C+"
                                },
                                {
                                    "0": "32",
                                    "1": "58.07",
                                    "2": "D+",
                                    "3": "D+"
                                },
                                {
                                    "0": "33",
                                    "1": "76.18",
                                    "2": "B",
                                    "3": "B"
                                },
                                {
                                    "0": "34",
                                    "1": "70.31",
                                    "2": "C+",
                                    "3": "C+"
                                },
                                {
                                    "0": "35",
                                    "1": "66.73",
                                    "2": "C",
                                    "3": "C"
                                },
                                {
                                    "0": "36",
                                    "1": "76.81",
                                    "2": "B",
                                    "3": "B"
                                },
                                {
                                    "0": "37",
                                    "1": "98.02",
                                    "2": "A",
                                    "3": "A"
                                },
                                {
                                    "0": "38",
                                    "1": "99.32",
                                    "2": "A",
                                    "3": "A"
                                },
                                {
                                    "0": "39",
                                    "1": "53.80",
                                    "2": "D",
                                    "3": "D"
                                },
                                {
                                    "0": "40",
                                    "1": "94.76",
                                    "2": "A",
                                    "3": "A"
                                },
                                {
                                    "0": "41",
                                    "1": "47.10",
                                    "2": "F",
                                    "3": "F"
                                },
                                {
                                    "0": "42",
                                    "1": "52.42",
                                    "2": "D",
                                    "3": "D"
                                },
                                {
                                    "0": "43",
                                    "1": "69.56",
                                    "2": "C",
                                    "3": "C"
                                },
                                {
                                    "0": "44",
                                    "1": "64.16",
                                    "2": "C",
                                    "3": "C"
                                },
                                {
                                    "0": "45",
                                    "1": "85.58",
                                    "2": "A",
                                    "3": "A"
                                },
                                {
                                    "0": "46",
                                    "1": "89.73",
                                    "2": "A",
                                    "3": "A"
                                },
                                {
                                    "0": "47",
                                    "1": "67.54",
                                    "2": "C",
                                    "3": "C"
                                },
                                {
                                    "0": "48",
                                    "1": "56.65",
                                    "2": "D+",
                                    "3": "D+"
                                },
                                {
                                    "0": "49",
                                    "1": "54.08",
                                    "2": "D",
                                    "3": "D"
                                },
                                {
                                    "0": "50",
                                    "1": "69.19",
                                    "2": "C",
                                    "3": "C"
                                }
                            ]
                        },
                        "text/html": "<table><tr><th>student_id</th><th>score</th><th>grade</th><th>grade2</th></tr><tr><td>101</td><td>97.00</td><td>A</td><td>A</td></tr><tr><td>1</td><td>73.87</td><td>C+</td><td>C+</td></tr><tr><td>2</td><td>81.23</td><td>B+</td><td>B+</td></tr><tr><td>3</td><td>99.76</td><td>A</td><td>A</td></tr><tr><td>4</td><td>48.66</td><td>F</td><td>F</td></tr><tr><td>5</td><td>40.63</td><td>F</td><td>F</td></tr><tr><td>6</td><td>67.71</td><td>C</td><td>C</td></tr><tr><td>7</td><td>72.60</td><td>C+</td><td>C+</td></tr><tr><td>8</td><td>76.99</td><td>B</td><td>B</td></tr><tr><td>9</td><td>96.74</td><td>A</td><td>A</td></tr><tr><td>10</td><td>47.78</td><td>F</td><td>F</td></tr><tr><td>11</td><td>98.62</td><td>A</td><td>A</td></tr><tr><td>12</td><td>74.80</td><td>C+</td><td>C+</td></tr><tr><td>13</td><td>57.05</td><td>D+</td><td>D+</td></tr><tr><td>14</td><td>73.15</td><td>C+</td><td>C+</td></tr><tr><td>15</td><td>60.17</td><td>C</td><td>C</td></tr><tr><td>16</td><td>43.39</td><td>F</td><td>F</td></tr><tr><td>17</td><td>71.08</td><td>C+</td><td>C+</td></tr><tr><td>18</td><td>64.35</td><td>C</td><td>C</td></tr><tr><td>19</td><td>41.65</td><td>F</td><td>F</td></tr><tr><td>20</td><td>86.35</td><td>A</td><td>A</td></tr><tr><td>21</td><td>85.82</td><td>A</td><td>A</td></tr><tr><td>22</td><td>97.79</td><td>A</td><td>A</td></tr><tr><td>23</td><td>56.81</td><td>D+</td><td>D+</td></tr><tr><td>24</td><td>46.26</td><td>F</td><td>F</td></tr><tr><td>25</td><td>64.03</td><td>C</td><td>C</td></tr><tr><td>26</td><td>71.82</td><td>C+</td><td>C+</td></tr><tr><td>27</td><td>91.20</td><td>A</td><td>A</td></tr><tr><td>28</td><td>52.03</td><td>D</td><td>D</td></tr><tr><td>29</td><td>84.21</td><td>B+</td><td>B+</td></tr><tr><td>30</td><td>94.95</td><td>A</td><td>A</td></tr><tr><td>31</td><td>70.56</td><td>C+</td><td>C+</td></tr><tr><td>32</td><td>58.07</td><td>D+</td><td>D+</td></tr><tr><td>33</td><td>76.18</td><td>B</td><td>B</td></tr><tr><td>34</td><td>70.31</td><td>C+</td><td>C+</td></tr><tr><td>35</td><td>66.73</td><td>C</td><td>C</td></tr><tr><td>36</td><td>76.81</td><td>B</td><td>B</td></tr><tr><td>37</td><td>98.02</td><td>A</td><td>A</td></tr><tr><td>38</td><td>99.32</td><td>A</td><td>A</td></tr><tr><td>39</td><td>53.80</td><td>D</td><td>D</td></tr><tr><td>40</td><td>94.76</td><td>A</td><td>A</td></tr><tr><td>41</td><td>47.10</td><td>F</td><td>F</td></tr><tr><td>42</td><td>52.42</td><td>D</td><td>D</td></tr><tr><td>43</td><td>69.56</td><td>C</td><td>C</td></tr><tr><td>44</td><td>64.16</td><td>C</td><td>C</td></tr><tr><td>45</td><td>85.58</td><td>A</td><td>A</td></tr><tr><td>46</td><td>89.73</td><td>A</td><td>A</td></tr><tr><td>47</td><td>67.54</td><td>C</td><td>C</td></tr><tr><td>48</td><td>56.65</td><td>D+</td><td>D+</td></tr><tr><td>49</td><td>54.08</td><td>D</td><td>D</td></tr><tr><td>50</td><td>69.19</td><td>C</td><td>C</td></tr></table>"
                    },
                    "metadata": {}
                }
            ],
            "execution_count": 24
        },
        {
            "cell_type": "code",
            "source": [
                "insert into student_grade values (102, 97, 'B+', 'B+')"
            ],
            "metadata": {
                "azdata_cell_guid": "16a95a26-6bf3-4a26-a08b-0518cbdfa7ce"
            },
            "outputs": [
                {
                    "output_type": "display_data",
                    "data": {
                        "text/html": "Commands completed successfully"
                    },
                    "metadata": {}
                },
                {
                    "output_type": "display_data",
                    "data": {
                        "text/html": "Total execution time: 00:00:00.001"
                    },
                    "metadata": {}
                }
            ],
            "execution_count": 26
        },
        {
            "cell_type": "code",
            "source": [
                "insert into student_grade values (103, null, null, null)"
            ],
            "metadata": {
                "azdata_cell_guid": "251c7873-660d-4699-9244-2809ec2da245"
            },
            "outputs": [
                {
                    "output_type": "display_data",
                    "data": {
                        "text/html": "Commands completed successfully"
                    },
                    "metadata": {}
                },
                {
                    "output_type": "display_data",
                    "data": {
                        "text/html": "Total execution time: 00:00:00.001"
                    },
                    "metadata": {}
                }
            ],
            "execution_count": 28
        },
        {
            "cell_type": "code",
            "source": [
                "select * from student_grade"
            ],
            "metadata": {
                "azdata_cell_guid": "f0366f75-bf1f-42e0-acb5-cde8db8a1a2e"
            },
            "outputs": [
                {
                    "output_type": "display_data",
                    "data": {
                        "text/html": "(53 row(s) affected)"
                    },
                    "metadata": {}
                },
                {
                    "output_type": "display_data",
                    "data": {
                        "text/html": "Total execution time: 00:00:00.007"
                    },
                    "metadata": {}
                },
                {
                    "output_type": "execute_result",
                    "execution_count": 29,
                    "data": {
                        "application/vnd.dataresource+json": {
                            "schema": {
                                "fields": [
                                    {
                                        "name": "student_id"
                                    },
                                    {
                                        "name": "score"
                                    },
                                    {
                                        "name": "grade"
                                    },
                                    {
                                        "name": "grade2"
                                    }
                                ]
                            },
                            "data": [
                                {
                                    "0": "101",
                                    "1": "97.00",
                                    "2": "A",
                                    "3": "A"
                                },
                                {
                                    "0": "102",
                                    "1": "97.00",
                                    "2": "B",
                                    "3": "B+"
                                },
                                {
                                    "0": "103",
                                    "1": "NULL",
                                    "2": "NULL",
                                    "3": "NULL"
                                },
                                {
                                    "0": "1",
                                    "1": "73.87",
                                    "2": "C+",
                                    "3": "C+"
                                },
                                {
                                    "0": "2",
                                    "1": "81.23",
                                    "2": "B+",
                                    "3": "B+"
                                },
                                {
                                    "0": "3",
                                    "1": "99.76",
                                    "2": "A",
                                    "3": "A"
                                },
                                {
                                    "0": "4",
                                    "1": "48.66",
                                    "2": "F",
                                    "3": "F"
                                },
                                {
                                    "0": "5",
                                    "1": "40.63",
                                    "2": "F",
                                    "3": "F"
                                },
                                {
                                    "0": "6",
                                    "1": "67.71",
                                    "2": "C",
                                    "3": "C"
                                },
                                {
                                    "0": "7",
                                    "1": "72.60",
                                    "2": "C+",
                                    "3": "C+"
                                },
                                {
                                    "0": "8",
                                    "1": "76.99",
                                    "2": "B",
                                    "3": "B"
                                },
                                {
                                    "0": "9",
                                    "1": "96.74",
                                    "2": "A",
                                    "3": "A"
                                },
                                {
                                    "0": "10",
                                    "1": "47.78",
                                    "2": "F",
                                    "3": "F"
                                },
                                {
                                    "0": "11",
                                    "1": "98.62",
                                    "2": "A",
                                    "3": "A"
                                },
                                {
                                    "0": "12",
                                    "1": "74.80",
                                    "2": "C+",
                                    "3": "C+"
                                },
                                {
                                    "0": "13",
                                    "1": "57.05",
                                    "2": "D+",
                                    "3": "D+"
                                },
                                {
                                    "0": "14",
                                    "1": "73.15",
                                    "2": "C+",
                                    "3": "C+"
                                },
                                {
                                    "0": "15",
                                    "1": "60.17",
                                    "2": "C",
                                    "3": "C"
                                },
                                {
                                    "0": "16",
                                    "1": "43.39",
                                    "2": "F",
                                    "3": "F"
                                },
                                {
                                    "0": "17",
                                    "1": "71.08",
                                    "2": "C+",
                                    "3": "C+"
                                },
                                {
                                    "0": "18",
                                    "1": "64.35",
                                    "2": "C",
                                    "3": "C"
                                },
                                {
                                    "0": "19",
                                    "1": "41.65",
                                    "2": "F",
                                    "3": "F"
                                },
                                {
                                    "0": "20",
                                    "1": "86.35",
                                    "2": "A",
                                    "3": "A"
                                },
                                {
                                    "0": "21",
                                    "1": "85.82",
                                    "2": "A",
                                    "3": "A"
                                },
                                {
                                    "0": "22",
                                    "1": "97.79",
                                    "2": "A",
                                    "3": "A"
                                },
                                {
                                    "0": "23",
                                    "1": "56.81",
                                    "2": "D+",
                                    "3": "D+"
                                },
                                {
                                    "0": "24",
                                    "1": "46.26",
                                    "2": "F",
                                    "3": "F"
                                },
                                {
                                    "0": "25",
                                    "1": "64.03",
                                    "2": "C",
                                    "3": "C"
                                },
                                {
                                    "0": "26",
                                    "1": "71.82",
                                    "2": "C+",
                                    "3": "C+"
                                },
                                {
                                    "0": "27",
                                    "1": "91.20",
                                    "2": "A",
                                    "3": "A"
                                },
                                {
                                    "0": "28",
                                    "1": "52.03",
                                    "2": "D",
                                    "3": "D"
                                },
                                {
                                    "0": "29",
                                    "1": "84.21",
                                    "2": "B+",
                                    "3": "B+"
                                },
                                {
                                    "0": "30",
                                    "1": "94.95",
                                    "2": "A",
                                    "3": "A"
                                },
                                {
                                    "0": "31",
                                    "1": "70.56",
                                    "2": "C+",
                                    "3": "C+"
                                },
                                {
                                    "0": "32",
                                    "1": "58.07",
                                    "2": "D+",
                                    "3": "D+"
                                },
                                {
                                    "0": "33",
                                    "1": "76.18",
                                    "2": "B",
                                    "3": "B"
                                },
                                {
                                    "0": "34",
                                    "1": "70.31",
                                    "2": "C+",
                                    "3": "C+"
                                },
                                {
                                    "0": "35",
                                    "1": "66.73",
                                    "2": "C",
                                    "3": "C"
                                },
                                {
                                    "0": "36",
                                    "1": "76.81",
                                    "2": "B",
                                    "3": "B"
                                },
                                {
                                    "0": "37",
                                    "1": "98.02",
                                    "2": "A",
                                    "3": "A"
                                },
                                {
                                    "0": "38",
                                    "1": "99.32",
                                    "2": "A",
                                    "3": "A"
                                },
                                {
                                    "0": "39",
                                    "1": "53.80",
                                    "2": "D",
                                    "3": "D"
                                },
                                {
                                    "0": "40",
                                    "1": "94.76",
                                    "2": "A",
                                    "3": "A"
                                },
                                {
                                    "0": "41",
                                    "1": "47.10",
                                    "2": "F",
                                    "3": "F"
                                },
                                {
                                    "0": "42",
                                    "1": "52.42",
                                    "2": "D",
                                    "3": "D"
                                },
                                {
                                    "0": "43",
                                    "1": "69.56",
                                    "2": "C",
                                    "3": "C"
                                },
                                {
                                    "0": "44",
                                    "1": "64.16",
                                    "2": "C",
                                    "3": "C"
                                },
                                {
                                    "0": "45",
                                    "1": "85.58",
                                    "2": "A",
                                    "3": "A"
                                },
                                {
                                    "0": "46",
                                    "1": "89.73",
                                    "2": "A",
                                    "3": "A"
                                },
                                {
                                    "0": "47",
                                    "1": "67.54",
                                    "2": "C",
                                    "3": "C"
                                },
                                {
                                    "0": "48",
                                    "1": "56.65",
                                    "2": "D+",
                                    "3": "D+"
                                },
                                {
                                    "0": "49",
                                    "1": "54.08",
                                    "2": "D",
                                    "3": "D"
                                },
                                {
                                    "0": "50",
                                    "1": "69.19",
                                    "2": "C",
                                    "3": "C"
                                }
                            ]
                        },
                        "text/html": "<table><tr><th>student_id</th><th>score</th><th>grade</th><th>grade2</th></tr><tr><td>101</td><td>97.00</td><td>A</td><td>A</td></tr><tr><td>102</td><td>97.00</td><td>B</td><td>B+</td></tr><tr><td>103</td><td>NULL</td><td>NULL</td><td>NULL</td></tr><tr><td>1</td><td>73.87</td><td>C+</td><td>C+</td></tr><tr><td>2</td><td>81.23</td><td>B+</td><td>B+</td></tr><tr><td>3</td><td>99.76</td><td>A</td><td>A</td></tr><tr><td>4</td><td>48.66</td><td>F</td><td>F</td></tr><tr><td>5</td><td>40.63</td><td>F</td><td>F</td></tr><tr><td>6</td><td>67.71</td><td>C</td><td>C</td></tr><tr><td>7</td><td>72.60</td><td>C+</td><td>C+</td></tr><tr><td>8</td><td>76.99</td><td>B</td><td>B</td></tr><tr><td>9</td><td>96.74</td><td>A</td><td>A</td></tr><tr><td>10</td><td>47.78</td><td>F</td><td>F</td></tr><tr><td>11</td><td>98.62</td><td>A</td><td>A</td></tr><tr><td>12</td><td>74.80</td><td>C+</td><td>C+</td></tr><tr><td>13</td><td>57.05</td><td>D+</td><td>D+</td></tr><tr><td>14</td><td>73.15</td><td>C+</td><td>C+</td></tr><tr><td>15</td><td>60.17</td><td>C</td><td>C</td></tr><tr><td>16</td><td>43.39</td><td>F</td><td>F</td></tr><tr><td>17</td><td>71.08</td><td>C+</td><td>C+</td></tr><tr><td>18</td><td>64.35</td><td>C</td><td>C</td></tr><tr><td>19</td><td>41.65</td><td>F</td><td>F</td></tr><tr><td>20</td><td>86.35</td><td>A</td><td>A</td></tr><tr><td>21</td><td>85.82</td><td>A</td><td>A</td></tr><tr><td>22</td><td>97.79</td><td>A</td><td>A</td></tr><tr><td>23</td><td>56.81</td><td>D+</td><td>D+</td></tr><tr><td>24</td><td>46.26</td><td>F</td><td>F</td></tr><tr><td>25</td><td>64.03</td><td>C</td><td>C</td></tr><tr><td>26</td><td>71.82</td><td>C+</td><td>C+</td></tr><tr><td>27</td><td>91.20</td><td>A</td><td>A</td></tr><tr><td>28</td><td>52.03</td><td>D</td><td>D</td></tr><tr><td>29</td><td>84.21</td><td>B+</td><td>B+</td></tr><tr><td>30</td><td>94.95</td><td>A</td><td>A</td></tr><tr><td>31</td><td>70.56</td><td>C+</td><td>C+</td></tr><tr><td>32</td><td>58.07</td><td>D+</td><td>D+</td></tr><tr><td>33</td><td>76.18</td><td>B</td><td>B</td></tr><tr><td>34</td><td>70.31</td><td>C+</td><td>C+</td></tr><tr><td>35</td><td>66.73</td><td>C</td><td>C</td></tr><tr><td>36</td><td>76.81</td><td>B</td><td>B</td></tr><tr><td>37</td><td>98.02</td><td>A</td><td>A</td></tr><tr><td>38</td><td>99.32</td><td>A</td><td>A</td></tr><tr><td>39</td><td>53.80</td><td>D</td><td>D</td></tr><tr><td>40</td><td>94.76</td><td>A</td><td>A</td></tr><tr><td>41</td><td>47.10</td><td>F</td><td>F</td></tr><tr><td>42</td><td>52.42</td><td>D</td><td>D</td></tr><tr><td>43</td><td>69.56</td><td>C</td><td>C</td></tr><tr><td>44</td><td>64.16</td><td>C</td><td>C</td></tr><tr><td>45</td><td>85.58</td><td>A</td><td>A</td></tr><tr><td>46</td><td>89.73</td><td>A</td><td>A</td></tr><tr><td>47</td><td>67.54</td><td>C</td><td>C</td></tr><tr><td>48</td><td>56.65</td><td>D+</td><td>D+</td></tr><tr><td>49</td><td>54.08</td><td>D</td><td>D</td></tr><tr><td>50</td><td>69.19</td><td>C</td><td>C</td></tr></table>"
                    },
                    "metadata": {}
                }
            ],
            "execution_count": 29
        },
        {
            "cell_type": "code",
            "source": [
                "-- drop type if exists size_type;\n",
                "\n",
                "-- create type size_type as enum ('S', 'M', 'L', 'XL');"
            ],
            "metadata": {
                "azdata_cell_guid": "4f8f1986-1f33-4566-aad7-00a966070571"
            },
            "outputs": [],
            "execution_count": 0
        }
    ]
}