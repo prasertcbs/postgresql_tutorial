{
    "metadata": {
        "kernelspec": {
            "name": "SQL",
            "display_name": "SQL",
            "language": "sql"
        },
        "language_info": {
            "name": "sql",
            "version": ""
        }
    },
    "nbformat_minor": 2,
    "nbformat": 4,
    "cells": [
        {
            "cell_type": "markdown",
            "source": [
                "# Common Table Expression (CTE)\n",
                "## Server: PostgreSQL\n",
                "## Database: Saturn\n",
                "## Table: sales\n",
                "## Author: Prasert Kanawattanachai\n",
                "## YouTube: https://youtu.be/Jtx3On2Cr0c"
            ],
            "metadata": {
                "azdata_cell_guid": "64b3bc1d-3145-41cd-85b1-c67af249f9a8"
            }
        },
        {
            "cell_type": "code",
            "source": [
                "select * from sales order by random() limit 20;"
            ],
            "metadata": {
                "azdata_cell_guid": "490456e3-31bb-4fe3-bc33-e296fa6924c0"
            },
            "outputs": [
                {
                    "output_type": "display_data",
                    "data": {
                        "text/html": "(20 row(s) affected)"
                    },
                    "metadata": {}
                },
                {
                    "output_type": "display_data",
                    "data": {
                        "text/html": "Total execution time: 00:00:00.006"
                    },
                    "metadata": {}
                },
                {
                    "output_type": "execute_result",
                    "execution_count": 2,
                    "data": {
                        "application/vnd.dataresource+json": {
                            "schema": {
                                "fields": [
                                    {
                                        "name": "branch"
                                    },
                                    {
                                        "name": "dt"
                                    },
                                    {
                                        "name": "revenue"
                                    }
                                ]
                            },
                            "data": [
                                {
                                    "0": "bangkok",
                                    "1": "2019-09-22",
                                    "2": "29773"
                                },
                                {
                                    "0": "bangkok",
                                    "1": "2019-08-06",
                                    "2": "16980"
                                },
                                {
                                    "0": "bangkok",
                                    "1": "2018-05-01",
                                    "2": "19009"
                                },
                                {
                                    "0": "bangkok",
                                    "1": "2019-09-21",
                                    "2": "20548"
                                },
                                {
                                    "0": "phuket",
                                    "1": "2018-02-17",
                                    "2": "13622"
                                },
                                {
                                    "0": "phuket",
                                    "1": "2019-10-03",
                                    "2": "12737"
                                },
                                {
                                    "0": "phuket",
                                    "1": "2019-12-12",
                                    "2": "16103"
                                },
                                {
                                    "0": "phuket",
                                    "1": "2019-07-21",
                                    "2": "18444"
                                },
                                {
                                    "0": "phuket",
                                    "1": "2019-10-09",
                                    "2": "13006"
                                },
                                {
                                    "0": "phuket",
                                    "1": "2019-07-23",
                                    "2": "14020"
                                },
                                {
                                    "0": "bangkok",
                                    "1": "2019-02-17",
                                    "2": "23188"
                                },
                                {
                                    "0": "phuket",
                                    "1": "2018-11-20",
                                    "2": "13284"
                                },
                                {
                                    "0": "phuket",
                                    "1": "2018-06-04",
                                    "2": "14681"
                                },
                                {
                                    "0": "phuket",
                                    "1": "2018-03-21",
                                    "2": "18102"
                                },
                                {
                                    "0": "bangkok",
                                    "1": "2018-11-02",
                                    "2": "18117"
                                },
                                {
                                    "0": "phuket",
                                    "1": "2018-07-31",
                                    "2": "17253"
                                },
                                {
                                    "0": "bangkok",
                                    "1": "2018-12-20",
                                    "2": "15812"
                                },
                                {
                                    "0": "phuket",
                                    "1": "2019-07-30",
                                    "2": "16432"
                                },
                                {
                                    "0": "bangkok",
                                    "1": "2019-07-23",
                                    "2": "20638"
                                },
                                {
                                    "0": "bangkok",
                                    "1": "2018-04-22",
                                    "2": "11322"
                                }
                            ]
                        },
                        "text/html": "<table><tr><th>branch</th><th>dt</th><th>revenue</th></tr><tr><td>bangkok</td><td>2019-09-22</td><td>29773</td></tr><tr><td>bangkok</td><td>2019-08-06</td><td>16980</td></tr><tr><td>bangkok</td><td>2018-05-01</td><td>19009</td></tr><tr><td>bangkok</td><td>2019-09-21</td><td>20548</td></tr><tr><td>phuket</td><td>2018-02-17</td><td>13622</td></tr><tr><td>phuket</td><td>2019-10-03</td><td>12737</td></tr><tr><td>phuket</td><td>2019-12-12</td><td>16103</td></tr><tr><td>phuket</td><td>2019-07-21</td><td>18444</td></tr><tr><td>phuket</td><td>2019-10-09</td><td>13006</td></tr><tr><td>phuket</td><td>2019-07-23</td><td>14020</td></tr><tr><td>bangkok</td><td>2019-02-17</td><td>23188</td></tr><tr><td>phuket</td><td>2018-11-20</td><td>13284</td></tr><tr><td>phuket</td><td>2018-06-04</td><td>14681</td></tr><tr><td>phuket</td><td>2018-03-21</td><td>18102</td></tr><tr><td>bangkok</td><td>2018-11-02</td><td>18117</td></tr><tr><td>phuket</td><td>2018-07-31</td><td>17253</td></tr><tr><td>bangkok</td><td>2018-12-20</td><td>15812</td></tr><tr><td>phuket</td><td>2019-07-30</td><td>16432</td></tr><tr><td>bangkok</td><td>2019-07-23</td><td>20638</td></tr><tr><td>bangkok</td><td>2018-04-22</td><td>11322</td></tr></table>"
                    },
                    "metadata": {}
                }
            ],
            "execution_count": 2
        },
        {
            "cell_type": "code",
            "source": [
                "select branch, date_part('month', dt)::int \"month\", sum(revenue) total\n",
                "    from sales\n",
                "    where date_part('year', dt) = 2018\n",
                "    group by branch, date_part('month', dt)\n",
                "    order by branch, \"month\""
            ],
            "metadata": {
                "azdata_cell_guid": "4efa990a-a1d4-43e3-a810-bb1b03ef9155"
            },
            "outputs": [
                {
                    "output_type": "display_data",
                    "data": {
                        "text/html": "(24 row(s) affected)"
                    },
                    "metadata": {}
                },
                {
                    "output_type": "display_data",
                    "data": {
                        "text/html": "Total execution time: 00:00:00.008"
                    },
                    "metadata": {}
                },
                {
                    "output_type": "execute_result",
                    "execution_count": 3,
                    "data": {
                        "application/vnd.dataresource+json": {
                            "schema": {
                                "fields": [
                                    {
                                        "name": "branch"
                                    },
                                    {
                                        "name": "month"
                                    },
                                    {
                                        "name": "total"
                                    }
                                ]
                            },
                            "data": [
                                {
                                    "0": "bangkok",
                                    "1": "1",
                                    "2": "651358"
                                },
                                {
                                    "0": "bangkok",
                                    "1": "2",
                                    "2": "560901"
                                },
                                {
                                    "0": "bangkok",
                                    "1": "3",
                                    "2": "613155"
                                },
                                {
                                    "0": "bangkok",
                                    "1": "4",
                                    "2": "645128"
                                },
                                {
                                    "0": "bangkok",
                                    "1": "5",
                                    "2": "576109"
                                },
                                {
                                    "0": "bangkok",
                                    "1": "6",
                                    "2": "604661"
                                },
                                {
                                    "0": "bangkok",
                                    "1": "7",
                                    "2": "578793"
                                },
                                {
                                    "0": "bangkok",
                                    "1": "8",
                                    "2": "637582"
                                },
                                {
                                    "0": "bangkok",
                                    "1": "9",
                                    "2": "566532"
                                },
                                {
                                    "0": "bangkok",
                                    "1": "10",
                                    "2": "658339"
                                },
                                {
                                    "0": "bangkok",
                                    "1": "11",
                                    "2": "631292"
                                },
                                {
                                    "0": "bangkok",
                                    "1": "12",
                                    "2": "555450"
                                },
                                {
                                    "0": "phuket",
                                    "1": "1",
                                    "2": "491590"
                                },
                                {
                                    "0": "phuket",
                                    "1": "2",
                                    "2": "446446"
                                },
                                {
                                    "0": "phuket",
                                    "1": "3",
                                    "2": "463012"
                                },
                                {
                                    "0": "phuket",
                                    "1": "4",
                                    "2": "447123"
                                },
                                {
                                    "0": "phuket",
                                    "1": "5",
                                    "2": "454681"
                                },
                                {
                                    "0": "phuket",
                                    "1": "6",
                                    "2": "422990"
                                },
                                {
                                    "0": "phuket",
                                    "1": "7",
                                    "2": "474021"
                                },
                                {
                                    "0": "phuket",
                                    "1": "8",
                                    "2": "414673"
                                },
                                {
                                    "0": "phuket",
                                    "1": "9",
                                    "2": "454458"
                                },
                                {
                                    "0": "phuket",
                                    "1": "10",
                                    "2": "458650"
                                },
                                {
                                    "0": "phuket",
                                    "1": "11",
                                    "2": "451150"
                                },
                                {
                                    "0": "phuket",
                                    "1": "12",
                                    "2": "466365"
                                }
                            ]
                        },
                        "text/html": "<table><tr><th>branch</th><th>month</th><th>total</th></tr><tr><td>bangkok</td><td>1</td><td>651358</td></tr><tr><td>bangkok</td><td>2</td><td>560901</td></tr><tr><td>bangkok</td><td>3</td><td>613155</td></tr><tr><td>bangkok</td><td>4</td><td>645128</td></tr><tr><td>bangkok</td><td>5</td><td>576109</td></tr><tr><td>bangkok</td><td>6</td><td>604661</td></tr><tr><td>bangkok</td><td>7</td><td>578793</td></tr><tr><td>bangkok</td><td>8</td><td>637582</td></tr><tr><td>bangkok</td><td>9</td><td>566532</td></tr><tr><td>bangkok</td><td>10</td><td>658339</td></tr><tr><td>bangkok</td><td>11</td><td>631292</td></tr><tr><td>bangkok</td><td>12</td><td>555450</td></tr><tr><td>phuket</td><td>1</td><td>491590</td></tr><tr><td>phuket</td><td>2</td><td>446446</td></tr><tr><td>phuket</td><td>3</td><td>463012</td></tr><tr><td>phuket</td><td>4</td><td>447123</td></tr><tr><td>phuket</td><td>5</td><td>454681</td></tr><tr><td>phuket</td><td>6</td><td>422990</td></tr><tr><td>phuket</td><td>7</td><td>474021</td></tr><tr><td>phuket</td><td>8</td><td>414673</td></tr><tr><td>phuket</td><td>9</td><td>454458</td></tr><tr><td>phuket</td><td>10</td><td>458650</td></tr><tr><td>phuket</td><td>11</td><td>451150</td></tr><tr><td>phuket</td><td>12</td><td>466365</td></tr></table>"
                    },
                    "metadata": {}
                }
            ],
            "execution_count": 3
        },
        {
            "cell_type": "code",
            "source": [
                "with cte as (\n",
                "    select branch, date_part('month', dt)::int \"month\", sum(revenue) total\n",
                "        from sales\n",
                "        where date_part('year', dt) = 2018\n",
                "        group by branch, date_part('month', dt)\n",
                "        order by branch, \"month\"\n",
                ")\n",
                "select * from cte"
            ],
            "metadata": {
                "azdata_cell_guid": "bfee306f-25aa-4621-9cc9-4792f929dfd8"
            },
            "outputs": [
                {
                    "output_type": "display_data",
                    "data": {
                        "text/html": "(24 row(s) affected)"
                    },
                    "metadata": {}
                },
                {
                    "output_type": "display_data",
                    "data": {
                        "text/html": "Total execution time: 00:00:00.007"
                    },
                    "metadata": {}
                },
                {
                    "output_type": "execute_result",
                    "execution_count": 4,
                    "data": {
                        "application/vnd.dataresource+json": {
                            "schema": {
                                "fields": [
                                    {
                                        "name": "branch"
                                    },
                                    {
                                        "name": "month"
                                    },
                                    {
                                        "name": "total"
                                    }
                                ]
                            },
                            "data": [
                                {
                                    "0": "bangkok",
                                    "1": "1",
                                    "2": "651358"
                                },
                                {
                                    "0": "bangkok",
                                    "1": "2",
                                    "2": "560901"
                                },
                                {
                                    "0": "bangkok",
                                    "1": "3",
                                    "2": "613155"
                                },
                                {
                                    "0": "bangkok",
                                    "1": "4",
                                    "2": "645128"
                                },
                                {
                                    "0": "bangkok",
                                    "1": "5",
                                    "2": "576109"
                                },
                                {
                                    "0": "bangkok",
                                    "1": "6",
                                    "2": "604661"
                                },
                                {
                                    "0": "bangkok",
                                    "1": "7",
                                    "2": "578793"
                                },
                                {
                                    "0": "bangkok",
                                    "1": "8",
                                    "2": "637582"
                                },
                                {
                                    "0": "bangkok",
                                    "1": "9",
                                    "2": "566532"
                                },
                                {
                                    "0": "bangkok",
                                    "1": "10",
                                    "2": "658339"
                                },
                                {
                                    "0": "bangkok",
                                    "1": "11",
                                    "2": "631292"
                                },
                                {
                                    "0": "bangkok",
                                    "1": "12",
                                    "2": "555450"
                                },
                                {
                                    "0": "phuket",
                                    "1": "1",
                                    "2": "491590"
                                },
                                {
                                    "0": "phuket",
                                    "1": "2",
                                    "2": "446446"
                                },
                                {
                                    "0": "phuket",
                                    "1": "3",
                                    "2": "463012"
                                },
                                {
                                    "0": "phuket",
                                    "1": "4",
                                    "2": "447123"
                                },
                                {
                                    "0": "phuket",
                                    "1": "5",
                                    "2": "454681"
                                },
                                {
                                    "0": "phuket",
                                    "1": "6",
                                    "2": "422990"
                                },
                                {
                                    "0": "phuket",
                                    "1": "7",
                                    "2": "474021"
                                },
                                {
                                    "0": "phuket",
                                    "1": "8",
                                    "2": "414673"
                                },
                                {
                                    "0": "phuket",
                                    "1": "9",
                                    "2": "454458"
                                },
                                {
                                    "0": "phuket",
                                    "1": "10",
                                    "2": "458650"
                                },
                                {
                                    "0": "phuket",
                                    "1": "11",
                                    "2": "451150"
                                },
                                {
                                    "0": "phuket",
                                    "1": "12",
                                    "2": "466365"
                                }
                            ]
                        },
                        "text/html": "<table><tr><th>branch</th><th>month</th><th>total</th></tr><tr><td>bangkok</td><td>1</td><td>651358</td></tr><tr><td>bangkok</td><td>2</td><td>560901</td></tr><tr><td>bangkok</td><td>3</td><td>613155</td></tr><tr><td>bangkok</td><td>4</td><td>645128</td></tr><tr><td>bangkok</td><td>5</td><td>576109</td></tr><tr><td>bangkok</td><td>6</td><td>604661</td></tr><tr><td>bangkok</td><td>7</td><td>578793</td></tr><tr><td>bangkok</td><td>8</td><td>637582</td></tr><tr><td>bangkok</td><td>9</td><td>566532</td></tr><tr><td>bangkok</td><td>10</td><td>658339</td></tr><tr><td>bangkok</td><td>11</td><td>631292</td></tr><tr><td>bangkok</td><td>12</td><td>555450</td></tr><tr><td>phuket</td><td>1</td><td>491590</td></tr><tr><td>phuket</td><td>2</td><td>446446</td></tr><tr><td>phuket</td><td>3</td><td>463012</td></tr><tr><td>phuket</td><td>4</td><td>447123</td></tr><tr><td>phuket</td><td>5</td><td>454681</td></tr><tr><td>phuket</td><td>6</td><td>422990</td></tr><tr><td>phuket</td><td>7</td><td>474021</td></tr><tr><td>phuket</td><td>8</td><td>414673</td></tr><tr><td>phuket</td><td>9</td><td>454458</td></tr><tr><td>phuket</td><td>10</td><td>458650</td></tr><tr><td>phuket</td><td>11</td><td>451150</td></tr><tr><td>phuket</td><td>12</td><td>466365</td></tr></table>"
                    },
                    "metadata": {}
                }
            ],
            "execution_count": 4
        },
        {
            "cell_type": "code",
            "source": [
                "with cte as (\n",
                "    select branch, date_part('month', dt)::int \"month\", sum(revenue) total\n",
                "        from sales\n",
                "        where date_part('year', dt) = 2018\n",
                "        group by branch, date_part('month', dt)\n",
                "        order by branch, \"month\"\n",
                ")\n",
                "select b.month, b.total \"Bangkok\", p.total \"Phuket\", b.total - p.total \"Bkk-Phuket\"\n",
                "    from cte b inner join cte p on b.month = p.month\n",
                "    where b.branch = 'bangkok' and p.branch = 'phuket'"
            ],
            "metadata": {
                "azdata_cell_guid": "654e896a-3184-4a66-8418-e40dbd7656e4"
            },
            "outputs": [
                {
                    "output_type": "display_data",
                    "data": {
                        "text/html": "(12 row(s) affected)"
                    },
                    "metadata": {}
                },
                {
                    "output_type": "display_data",
                    "data": {
                        "text/html": "Total execution time: 00:00:00.005"
                    },
                    "metadata": {}
                },
                {
                    "output_type": "execute_result",
                    "execution_count": 5,
                    "data": {
                        "application/vnd.dataresource+json": {
                            "schema": {
                                "fields": [
                                    {
                                        "name": "month"
                                    },
                                    {
                                        "name": "Bangkok"
                                    },
                                    {
                                        "name": "Phuket"
                                    },
                                    {
                                        "name": "Bkk-Phuket"
                                    }
                                ]
                            },
                            "data": [
                                {
                                    "0": "1",
                                    "1": "651358",
                                    "2": "491590",
                                    "3": "159768"
                                },
                                {
                                    "0": "2",
                                    "1": "560901",
                                    "2": "446446",
                                    "3": "114455"
                                },
                                {
                                    "0": "3",
                                    "1": "613155",
                                    "2": "463012",
                                    "3": "150143"
                                },
                                {
                                    "0": "4",
                                    "1": "645128",
                                    "2": "447123",
                                    "3": "198005"
                                },
                                {
                                    "0": "5",
                                    "1": "576109",
                                    "2": "454681",
                                    "3": "121428"
                                },
                                {
                                    "0": "6",
                                    "1": "604661",
                                    "2": "422990",
                                    "3": "181671"
                                },
                                {
                                    "0": "7",
                                    "1": "578793",
                                    "2": "474021",
                                    "3": "104772"
                                },
                                {
                                    "0": "8",
                                    "1": "637582",
                                    "2": "414673",
                                    "3": "222909"
                                },
                                {
                                    "0": "9",
                                    "1": "566532",
                                    "2": "454458",
                                    "3": "112074"
                                },
                                {
                                    "0": "10",
                                    "1": "658339",
                                    "2": "458650",
                                    "3": "199689"
                                },
                                {
                                    "0": "11",
                                    "1": "631292",
                                    "2": "451150",
                                    "3": "180142"
                                },
                                {
                                    "0": "12",
                                    "1": "555450",
                                    "2": "466365",
                                    "3": "89085"
                                }
                            ]
                        },
                        "text/html": "<table><tr><th>month</th><th>Bangkok</th><th>Phuket</th><th>Bkk-Phuket</th></tr><tr><td>1</td><td>651358</td><td>491590</td><td>159768</td></tr><tr><td>2</td><td>560901</td><td>446446</td><td>114455</td></tr><tr><td>3</td><td>613155</td><td>463012</td><td>150143</td></tr><tr><td>4</td><td>645128</td><td>447123</td><td>198005</td></tr><tr><td>5</td><td>576109</td><td>454681</td><td>121428</td></tr><tr><td>6</td><td>604661</td><td>422990</td><td>181671</td></tr><tr><td>7</td><td>578793</td><td>474021</td><td>104772</td></tr><tr><td>8</td><td>637582</td><td>414673</td><td>222909</td></tr><tr><td>9</td><td>566532</td><td>454458</td><td>112074</td></tr><tr><td>10</td><td>658339</td><td>458650</td><td>199689</td></tr><tr><td>11</td><td>631292</td><td>451150</td><td>180142</td></tr><tr><td>12</td><td>555450</td><td>466365</td><td>89085</td></tr></table>"
                    },
                    "metadata": {}
                }
            ],
            "execution_count": 5
        },
        {
            "cell_type": "code",
            "source": [
                "with cte as (\n",
                "    select branch, date_part('month', dt)::int \"month\", sum(revenue) total\n",
                "        from sales\n",
                "        where date_part('year', dt) = 2018\n",
                "        group by branch, date_part('month', dt)\n",
                "        order by branch, \"month\"\n",
                "),\n",
                "b as (\n",
                "    select * from cte where branch = 'bangkok'\n",
                "),\n",
                "p as (\n",
                "    select * from cte where branch = 'phuket'\n",
                ")\n",
                "select b.month, b.total \"Bangkok\", p.total \"Phuket\", b.total - p.total \"Bkk-Phuket\",\n",
                "    to_char(b.total - p.total, '99G999G999')\n",
                "    from b inner join p on b.month = p.month"
            ],
            "metadata": {
                "azdata_cell_guid": "44756236-e8a5-4923-9357-641ee7ed4467"
            },
            "outputs": [
                {
                    "output_type": "display_data",
                    "data": {
                        "text/html": "(12 row(s) affected)"
                    },
                    "metadata": {}
                },
                {
                    "output_type": "display_data",
                    "data": {
                        "text/html": "Total execution time: 00:00:00.006"
                    },
                    "metadata": {}
                },
                {
                    "output_type": "execute_result",
                    "execution_count": 6,
                    "data": {
                        "application/vnd.dataresource+json": {
                            "schema": {
                                "fields": [
                                    {
                                        "name": "month"
                                    },
                                    {
                                        "name": "Bangkok"
                                    },
                                    {
                                        "name": "Phuket"
                                    },
                                    {
                                        "name": "Bkk-Phuket"
                                    },
                                    {
                                        "name": "to_char"
                                    }
                                ]
                            },
                            "data": [
                                {
                                    "0": "1",
                                    "1": "651358",
                                    "2": "491590",
                                    "3": "159768",
                                    "4": "    159,768"
                                },
                                {
                                    "0": "2",
                                    "1": "560901",
                                    "2": "446446",
                                    "3": "114455",
                                    "4": "    114,455"
                                },
                                {
                                    "0": "3",
                                    "1": "613155",
                                    "2": "463012",
                                    "3": "150143",
                                    "4": "    150,143"
                                },
                                {
                                    "0": "4",
                                    "1": "645128",
                                    "2": "447123",
                                    "3": "198005",
                                    "4": "    198,005"
                                },
                                {
                                    "0": "5",
                                    "1": "576109",
                                    "2": "454681",
                                    "3": "121428",
                                    "4": "    121,428"
                                },
                                {
                                    "0": "6",
                                    "1": "604661",
                                    "2": "422990",
                                    "3": "181671",
                                    "4": "    181,671"
                                },
                                {
                                    "0": "7",
                                    "1": "578793",
                                    "2": "474021",
                                    "3": "104772",
                                    "4": "    104,772"
                                },
                                {
                                    "0": "8",
                                    "1": "637582",
                                    "2": "414673",
                                    "3": "222909",
                                    "4": "    222,909"
                                },
                                {
                                    "0": "9",
                                    "1": "566532",
                                    "2": "454458",
                                    "3": "112074",
                                    "4": "    112,074"
                                },
                                {
                                    "0": "10",
                                    "1": "658339",
                                    "2": "458650",
                                    "3": "199689",
                                    "4": "    199,689"
                                },
                                {
                                    "0": "11",
                                    "1": "631292",
                                    "2": "451150",
                                    "3": "180142",
                                    "4": "    180,142"
                                },
                                {
                                    "0": "12",
                                    "1": "555450",
                                    "2": "466365",
                                    "3": "89085",
                                    "4": "     89,085"
                                }
                            ]
                        },
                        "text/html": "<table><tr><th>month</th><th>Bangkok</th><th>Phuket</th><th>Bkk-Phuket</th><th>to_char</th></tr><tr><td>1</td><td>651358</td><td>491590</td><td>159768</td><td>    159,768</td></tr><tr><td>2</td><td>560901</td><td>446446</td><td>114455</td><td>    114,455</td></tr><tr><td>3</td><td>613155</td><td>463012</td><td>150143</td><td>    150,143</td></tr><tr><td>4</td><td>645128</td><td>447123</td><td>198005</td><td>    198,005</td></tr><tr><td>5</td><td>576109</td><td>454681</td><td>121428</td><td>    121,428</td></tr><tr><td>6</td><td>604661</td><td>422990</td><td>181671</td><td>    181,671</td></tr><tr><td>7</td><td>578793</td><td>474021</td><td>104772</td><td>    104,772</td></tr><tr><td>8</td><td>637582</td><td>414673</td><td>222909</td><td>    222,909</td></tr><tr><td>9</td><td>566532</td><td>454458</td><td>112074</td><td>    112,074</td></tr><tr><td>10</td><td>658339</td><td>458650</td><td>199689</td><td>    199,689</td></tr><tr><td>11</td><td>631292</td><td>451150</td><td>180142</td><td>    180,142</td></tr><tr><td>12</td><td>555450</td><td>466365</td><td>89085</td><td>     89,085</td></tr></table>"
                    },
                    "metadata": {}
                }
            ],
            "execution_count": 6
        },
        {
            "cell_type": "code",
            "source": [
                "select \n",
                "    branch, date_part('year', dt)::int ",
                ",\n",
                "    date_part('month', dt)::int ",
                ", sum(revenue) total\n",
                "    from sales\n",
                "    -- where date_part('year', dt) = 2018\n",
                "    group by branch, date_part('year', dt), date_part('month', dt)\n",
                "    order by branch, ",
                ", ",
                ""
            ],
            "metadata": {
                "azdata_cell_guid": "b87b062d-5dc5-42f8-8493-72701929f647"
            },
            "outputs": [
                {
                    "output_type": "error",
                    "ename": "",
                    "evalue": "syntax error at or near \",\"",
                    "traceback": []
                },
                {
                    "output_type": "display_data",
                    "data": {
                        "text/html": "Total execution time: 00:00:00.001"
                    },
                    "metadata": {}
                }
            ],
            "execution_count": 7
        },
        {
            "cell_type": "code",
            "source": [
                "with cte as (\n",
                "    select \n",
                "        branch, date_part('year', dt)::int \"year\",\n",
                "        date_part('month', dt)::int \"month\", sum(revenue) total\n",
                "        from sales\n",
                "        -- where date_part('year', dt) = 2018\n",
                "        group by branch, date_part('year', dt), date_part('month', dt)\n",
                "        order by branch, \"year\", \"month\"\n",
                "),\n",
                "b as (\n",
                "    select * from cte where branch = 'bangkok'\n",
                "),\n",
                "p as (\n",
                "    select * from cte where branch = 'phuket'\n",
                ")\n",
                "select b.year, b.month, b.total \"Bangkok\", p.total \"Phuket\", b.total - p.total \"Bkk-Phuket\",\n",
                "    to_char(b.total - p.total, '99G999G999')\n",
                "    from b inner join p on b.month = p.month and b.year = p.year"
            ],
            "metadata": {
                "azdata_cell_guid": "dbbfd8d9-451f-425a-8e78-5a176f1a701e"
            },
            "outputs": [
                {
                    "output_type": "display_data",
                    "data": {
                        "text/html": "(24 row(s) affected)"
                    },
                    "metadata": {}
                },
                {
                    "output_type": "display_data",
                    "data": {
                        "text/html": "Total execution time: 00:00:00.007"
                    },
                    "metadata": {}
                },
                {
                    "output_type": "execute_result",
                    "execution_count": 8,
                    "data": {
                        "application/vnd.dataresource+json": {
                            "schema": {
                                "fields": [
                                    {
                                        "name": "year"
                                    },
                                    {
                                        "name": "month"
                                    },
                                    {
                                        "name": "Bangkok"
                                    },
                                    {
                                        "name": "Phuket"
                                    },
                                    {
                                        "name": "Bkk-Phuket"
                                    },
                                    {
                                        "name": "to_char"
                                    }
                                ]
                            },
                            "data": [
                                {
                                    "0": "2018",
                                    "1": "1",
                                    "2": "651358",
                                    "3": "491590",
                                    "4": "159768",
                                    "5": "    159,768"
                                },
                                {
                                    "0": "2018",
                                    "1": "2",
                                    "2": "560901",
                                    "3": "446446",
                                    "4": "114455",
                                    "5": "    114,455"
                                },
                                {
                                    "0": "2018",
                                    "1": "3",
                                    "2": "613155",
                                    "3": "463012",
                                    "4": "150143",
                                    "5": "    150,143"
                                },
                                {
                                    "0": "2018",
                                    "1": "4",
                                    "2": "645128",
                                    "3": "447123",
                                    "4": "198005",
                                    "5": "    198,005"
                                },
                                {
                                    "0": "2018",
                                    "1": "5",
                                    "2": "576109",
                                    "3": "454681",
                                    "4": "121428",
                                    "5": "    121,428"
                                },
                                {
                                    "0": "2018",
                                    "1": "6",
                                    "2": "604661",
                                    "3": "422990",
                                    "4": "181671",
                                    "5": "    181,671"
                                },
                                {
                                    "0": "2018",
                                    "1": "7",
                                    "2": "578793",
                                    "3": "474021",
                                    "4": "104772",
                                    "5": "    104,772"
                                },
                                {
                                    "0": "2018",
                                    "1": "8",
                                    "2": "637582",
                                    "3": "414673",
                                    "4": "222909",
                                    "5": "    222,909"
                                },
                                {
                                    "0": "2018",
                                    "1": "9",
                                    "2": "566532",
                                    "3": "454458",
                                    "4": "112074",
                                    "5": "    112,074"
                                },
                                {
                                    "0": "2018",
                                    "1": "10",
                                    "2": "658339",
                                    "3": "458650",
                                    "4": "199689",
                                    "5": "    199,689"
                                },
                                {
                                    "0": "2018",
                                    "1": "11",
                                    "2": "631292",
                                    "3": "451150",
                                    "4": "180142",
                                    "5": "    180,142"
                                },
                                {
                                    "0": "2018",
                                    "1": "12",
                                    "2": "555450",
                                    "3": "466365",
                                    "4": "89085",
                                    "5": "     89,085"
                                },
                                {
                                    "0": "2019",
                                    "1": "1",
                                    "2": "620556",
                                    "3": "430615",
                                    "4": "189941",
                                    "5": "    189,941"
                                },
                                {
                                    "0": "2019",
                                    "1": "2",
                                    "2": "568715",
                                    "3": "425228",
                                    "4": "143487",
                                    "5": "    143,487"
                                },
                                {
                                    "0": "2019",
                                    "1": "3",
                                    "2": "651521",
                                    "3": "464776",
                                    "4": "186745",
                                    "5": "    186,745"
                                },
                                {
                                    "0": "2019",
                                    "1": "4",
                                    "2": "537748",
                                    "3": "462804",
                                    "4": "74944",
                                    "5": "     74,944"
                                },
                                {
                                    "0": "2019",
                                    "1": "5",
                                    "2": "655961",
                                    "3": "443149",
                                    "4": "212812",
                                    "5": "    212,812"
                                },
                                {
                                    "0": "2019",
                                    "1": "6",
                                    "2": "632247",
                                    "3": "447493",
                                    "4": "184754",
                                    "5": "    184,754"
                                },
                                {
                                    "0": "2019",
                                    "1": "7",
                                    "2": "605240",
                                    "3": "451264",
                                    "4": "153976",
                                    "5": "    153,976"
                                },
                                {
                                    "0": "2019",
                                    "1": "8",
                                    "2": "616458",
                                    "3": "476528",
                                    "4": "139930",
                                    "5": "    139,930"
                                },
                                {
                                    "0": "2019",
                                    "1": "9",
                                    "2": "679310",
                                    "3": "445775",
                                    "4": "233535",
                                    "5": "    233,535"
                                },
                                {
                                    "0": "2019",
                                    "1": "10",
                                    "2": "619606",
                                    "3": "454056",
                                    "4": "165550",
                                    "5": "    165,550"
                                },
                                {
                                    "0": "2019",
                                    "1": "11",
                                    "2": "618736",
                                    "3": "446251",
                                    "4": "172485",
                                    "5": "    172,485"
                                },
                                {
                                    "0": "2019",
                                    "1": "12",
                                    "2": "597527",
                                    "3": "466323",
                                    "4": "131204",
                                    "5": "    131,204"
                                }
                            ]
                        },
                        "text/html": "<table><tr><th>year</th><th>month</th><th>Bangkok</th><th>Phuket</th><th>Bkk-Phuket</th><th>to_char</th></tr><tr><td>2018</td><td>1</td><td>651358</td><td>491590</td><td>159768</td><td>    159,768</td></tr><tr><td>2018</td><td>2</td><td>560901</td><td>446446</td><td>114455</td><td>    114,455</td></tr><tr><td>2018</td><td>3</td><td>613155</td><td>463012</td><td>150143</td><td>    150,143</td></tr><tr><td>2018</td><td>4</td><td>645128</td><td>447123</td><td>198005</td><td>    198,005</td></tr><tr><td>2018</td><td>5</td><td>576109</td><td>454681</td><td>121428</td><td>    121,428</td></tr><tr><td>2018</td><td>6</td><td>604661</td><td>422990</td><td>181671</td><td>    181,671</td></tr><tr><td>2018</td><td>7</td><td>578793</td><td>474021</td><td>104772</td><td>    104,772</td></tr><tr><td>2018</td><td>8</td><td>637582</td><td>414673</td><td>222909</td><td>    222,909</td></tr><tr><td>2018</td><td>9</td><td>566532</td><td>454458</td><td>112074</td><td>    112,074</td></tr><tr><td>2018</td><td>10</td><td>658339</td><td>458650</td><td>199689</td><td>    199,689</td></tr><tr><td>2018</td><td>11</td><td>631292</td><td>451150</td><td>180142</td><td>    180,142</td></tr><tr><td>2018</td><td>12</td><td>555450</td><td>466365</td><td>89085</td><td>     89,085</td></tr><tr><td>2019</td><td>1</td><td>620556</td><td>430615</td><td>189941</td><td>    189,941</td></tr><tr><td>2019</td><td>2</td><td>568715</td><td>425228</td><td>143487</td><td>    143,487</td></tr><tr><td>2019</td><td>3</td><td>651521</td><td>464776</td><td>186745</td><td>    186,745</td></tr><tr><td>2019</td><td>4</td><td>537748</td><td>462804</td><td>74944</td><td>     74,944</td></tr><tr><td>2019</td><td>5</td><td>655961</td><td>443149</td><td>212812</td><td>    212,812</td></tr><tr><td>2019</td><td>6</td><td>632247</td><td>447493</td><td>184754</td><td>    184,754</td></tr><tr><td>2019</td><td>7</td><td>605240</td><td>451264</td><td>153976</td><td>    153,976</td></tr><tr><td>2019</td><td>8</td><td>616458</td><td>476528</td><td>139930</td><td>    139,930</td></tr><tr><td>2019</td><td>9</td><td>679310</td><td>445775</td><td>233535</td><td>    233,535</td></tr><tr><td>2019</td><td>10</td><td>619606</td><td>454056</td><td>165550</td><td>    165,550</td></tr><tr><td>2019</td><td>11</td><td>618736</td><td>446251</td><td>172485</td><td>    172,485</td></tr><tr><td>2019</td><td>12</td><td>597527</td><td>466323</td><td>131204</td><td>    131,204</td></tr></table>"
                    },
                    "metadata": {}
                }
            ],
            "execution_count": 8
        }
    ]
}