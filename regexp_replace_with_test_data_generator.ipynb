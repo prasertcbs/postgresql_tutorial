{
    "metadata": {
        "kernelspec": {
            "name": "SQL",
            "display_name": "SQL",
            "language": "sql"
        },
        "language_info": {
            "name": "sql",
            "version": ""
        }
    },
    "nbformat_minor": 2,
    "nbformat": 4,
    "cells": [
        {
            "cell_type": "markdown",
            "source": [
                "# replace() vs regexp_replace() function"
            ],
            "metadata": {
                "azdata_cell_guid": "07d18443-9aaf-4f59-a63f-8522f5076ad9"
            }
        },
        {
            "cell_type": "markdown",
            "source": [
                "# Billionaires 2019\n",
                "https://en.wikipedia.org/wiki/The_World%27s_Billionaires"
            ],
            "metadata": {
                "azdata_cell_guid": "c200db8f-0ecc-419c-8dc8-9fc1609411ac"
            }
        },
        {
            "cell_type": "code",
            "source": [
                "select * from billionaire_2019"
            ],
            "metadata": {
                "azdata_cell_guid": "6447e6f8-5fc0-48fc-99c0-31cbbf6db7ab",
                "tags": []
            },
            "outputs": [
                {
                    "output_type": "display_data",
                    "data": {
                        "text/html": "(10 row(s) affected)"
                    },
                    "metadata": {}
                },
                {
                    "output_type": "display_data",
                    "data": {
                        "text/html": "Total execution time: 00:00:00.008"
                    },
                    "metadata": {}
                },
                {
                    "output_type": "execute_result",
                    "metadata": {},
                    "execution_count": 99,
                    "data": {
                        "application/vnd.dataresource+json": {
                            "schema": {
                                "fields": [
                                    {
                                        "name": "no_"
                                    },
                                    {
                                        "name": "name"
                                    },
                                    {
                                        "name": "net_worth_usd"
                                    },
                                    {
                                        "name": "age"
                                    },
                                    {
                                        "name": "nationality"
                                    },
                                    {
                                        "name": "sources_of_wealth"
                                    }
                                ]
                            },
                            "data": [
                                {
                                    "0": "1",
                                    "1": "Jeff Bezos",
                                    "2": "$131 billion",
                                    "3": "55",
                                    "4": "United States",
                                    "5": "Amazon"
                                },
                                {
                                    "0": "2",
                                    "1": "Bill Gates",
                                    "2": "$96.5 billion",
                                    "3": "63",
                                    "4": "United States",
                                    "5": "Microsoft"
                                },
                                {
                                    "0": "3",
                                    "1": "Warren Buffett",
                                    "2": "$82.5 billion",
                                    "3": "88",
                                    "4": "United States",
                                    "5": "Berkshire Hathaway"
                                },
                                {
                                    "0": "4",
                                    "1": "Bernard Arnault",
                                    "2": "$76 billion",
                                    "3": "70",
                                    "4": "France",
                                    "5": "LVMH"
                                },
                                {
                                    "0": "5",
                                    "1": "Carlos Slim",
                                    "2": "$64 billion",
                                    "3": "79",
                                    "4": "Mexico",
                                    "5": "América Móvil, Grupo Carso"
                                },
                                {
                                    "0": "6",
                                    "1": "Amancio Ortega",
                                    "2": "$62.7 billion",
                                    "3": "82",
                                    "4": "Spain",
                                    "5": "Inditex, Zara"
                                },
                                {
                                    "0": "7",
                                    "1": "Larry Ellison",
                                    "2": "$62.5 billion",
                                    "3": "74",
                                    "4": "United States",
                                    "5": "Oracle Corporation"
                                },
                                {
                                    "0": "8",
                                    "1": "Mark Zuckerberg",
                                    "2": "$62.3 billion",
                                    "3": "34",
                                    "4": "United States",
                                    "5": "Facebook"
                                },
                                {
                                    "0": "9",
                                    "1": "Michael Bloomberg",
                                    "2": "$55.5 billion",
                                    "3": "77",
                                    "4": "United States",
                                    "5": "Bloomberg L.P."
                                },
                                {
                                    "0": "10",
                                    "1": "Larry Page",
                                    "2": "$50.8 billion",
                                    "3": "45",
                                    "4": "United States",
                                    "5": "Alphabet Inc."
                                }
                            ]
                        },
                        "text/html": "<table><tr><th>no_</th><th>name</th><th>net_worth_usd</th><th>age</th><th>nationality</th><th>sources_of_wealth</th></tr><tr><td>1</td><td>Jeff Bezos</td><td>$131 billion</td><td>55</td><td>United States</td><td>Amazon</td></tr><tr><td>2</td><td>Bill Gates</td><td>$96.5 billion</td><td>63</td><td>United States</td><td>Microsoft</td></tr><tr><td>3</td><td>Warren Buffett</td><td>$82.5 billion</td><td>88</td><td>United States</td><td>Berkshire Hathaway</td></tr><tr><td>4</td><td>Bernard Arnault</td><td>$76 billion</td><td>70</td><td>France</td><td>LVMH</td></tr><tr><td>5</td><td>Carlos Slim</td><td>$64 billion</td><td>79</td><td>Mexico</td><td>América Móvil, Grupo Carso</td></tr><tr><td>6</td><td>Amancio Ortega</td><td>$62.7 billion</td><td>82</td><td>Spain</td><td>Inditex, Zara</td></tr><tr><td>7</td><td>Larry Ellison</td><td>$62.5 billion</td><td>74</td><td>United States</td><td>Oracle Corporation</td></tr><tr><td>8</td><td>Mark Zuckerberg</td><td>$62.3 billion</td><td>34</td><td>United States</td><td>Facebook</td></tr><tr><td>9</td><td>Michael Bloomberg</td><td>$55.5 billion</td><td>77</td><td>United States</td><td>Bloomberg L.P.</td></tr><tr><td>10</td><td>Larry Page</td><td>$50.8 billion</td><td>45</td><td>United States</td><td>Alphabet Inc.</td></tr></table>"
                    }
                }
            ],
            "execution_count": 99
        },
        {
            "cell_type": "code",
            "source": [
                "select name, net_worth_usd,\n",
                "    replace(net_worth_usd, 'billion', 'พันล้าน')\n",
                "    from billionaire_2019"
            ],
            "metadata": {
                "azdata_cell_guid": "6eb06ed5-cb27-4352-a56f-2662051e5de4"
            },
            "outputs": [
                {
                    "output_type": "display_data",
                    "data": {
                        "text/html": "(10 row(s) affected)"
                    },
                    "metadata": {}
                },
                {
                    "output_type": "display_data",
                    "data": {
                        "text/html": "Total execution time: 00:00:00.014"
                    },
                    "metadata": {}
                },
                {
                    "output_type": "execute_result",
                    "metadata": {},
                    "execution_count": 100,
                    "data": {
                        "application/vnd.dataresource+json": {
                            "schema": {
                                "fields": [
                                    {
                                        "name": "name"
                                    },
                                    {
                                        "name": "net_worth_usd"
                                    },
                                    {
                                        "name": "replace"
                                    }
                                ]
                            },
                            "data": [
                                {
                                    "0": "Jeff Bezos",
                                    "1": "$131 billion",
                                    "2": "$131 พันล้าน"
                                },
                                {
                                    "0": "Bill Gates",
                                    "1": "$96.5 billion",
                                    "2": "$96.5 พันล้าน"
                                },
                                {
                                    "0": "Warren Buffett",
                                    "1": "$82.5 billion",
                                    "2": "$82.5 พันล้าน"
                                },
                                {
                                    "0": "Bernard Arnault",
                                    "1": "$76 billion",
                                    "2": "$76 พันล้าน"
                                },
                                {
                                    "0": "Carlos Slim",
                                    "1": "$64 billion",
                                    "2": "$64 พันล้าน"
                                },
                                {
                                    "0": "Amancio Ortega",
                                    "1": "$62.7 billion",
                                    "2": "$62.7 พันล้าน"
                                },
                                {
                                    "0": "Larry Ellison",
                                    "1": "$62.5 billion",
                                    "2": "$62.5 พันล้าน"
                                },
                                {
                                    "0": "Mark Zuckerberg",
                                    "1": "$62.3 billion",
                                    "2": "$62.3 พันล้าน"
                                },
                                {
                                    "0": "Michael Bloomberg",
                                    "1": "$55.5 billion",
                                    "2": "$55.5 พันล้าน"
                                },
                                {
                                    "0": "Larry Page",
                                    "1": "$50.8 billion",
                                    "2": "$50.8 พันล้าน"
                                }
                            ]
                        },
                        "text/html": "<table><tr><th>name</th><th>net_worth_usd</th><th>replace</th></tr><tr><td>Jeff Bezos</td><td>$131 billion</td><td>$131 พันล้าน</td></tr><tr><td>Bill Gates</td><td>$96.5 billion</td><td>$96.5 พันล้าน</td></tr><tr><td>Warren Buffett</td><td>$82.5 billion</td><td>$82.5 พันล้าน</td></tr><tr><td>Bernard Arnault</td><td>$76 billion</td><td>$76 พันล้าน</td></tr><tr><td>Carlos Slim</td><td>$64 billion</td><td>$64 พันล้าน</td></tr><tr><td>Amancio Ortega</td><td>$62.7 billion</td><td>$62.7 พันล้าน</td></tr><tr><td>Larry Ellison</td><td>$62.5 billion</td><td>$62.5 พันล้าน</td></tr><tr><td>Mark Zuckerberg</td><td>$62.3 billion</td><td>$62.3 พันล้าน</td></tr><tr><td>Michael Bloomberg</td><td>$55.5 billion</td><td>$55.5 พันล้าน</td></tr><tr><td>Larry Page</td><td>$50.8 billion</td><td>$50.8 พันล้าน</td></tr></table>"
                    }
                }
            ],
            "execution_count": 100
        },
        {
            "cell_type": "code",
            "source": [
                "select name, net_worth_usd,\n",
                "    replace(net_worth_usd, '$', '')\n",
                "    from billionaire_2019"
            ],
            "metadata": {
                "azdata_cell_guid": "edb18ef0-e365-4d6d-ae6a-e1d7962f3324"
            },
            "outputs": [
                {
                    "output_type": "display_data",
                    "data": {
                        "text/html": "(10 row(s) affected)"
                    },
                    "metadata": {}
                },
                {
                    "output_type": "display_data",
                    "data": {
                        "text/html": "Total execution time: 00:00:00.006"
                    },
                    "metadata": {}
                },
                {
                    "output_type": "execute_result",
                    "metadata": {},
                    "execution_count": 101,
                    "data": {
                        "application/vnd.dataresource+json": {
                            "schema": {
                                "fields": [
                                    {
                                        "name": "name"
                                    },
                                    {
                                        "name": "net_worth_usd"
                                    },
                                    {
                                        "name": "replace"
                                    }
                                ]
                            },
                            "data": [
                                {
                                    "0": "Jeff Bezos",
                                    "1": "$131 billion",
                                    "2": "131 billion"
                                },
                                {
                                    "0": "Bill Gates",
                                    "1": "$96.5 billion",
                                    "2": "96.5 billion"
                                },
                                {
                                    "0": "Warren Buffett",
                                    "1": "$82.5 billion",
                                    "2": "82.5 billion"
                                },
                                {
                                    "0": "Bernard Arnault",
                                    "1": "$76 billion",
                                    "2": "76 billion"
                                },
                                {
                                    "0": "Carlos Slim",
                                    "1": "$64 billion",
                                    "2": "64 billion"
                                },
                                {
                                    "0": "Amancio Ortega",
                                    "1": "$62.7 billion",
                                    "2": "62.7 billion"
                                },
                                {
                                    "0": "Larry Ellison",
                                    "1": "$62.5 billion",
                                    "2": "62.5 billion"
                                },
                                {
                                    "0": "Mark Zuckerberg",
                                    "1": "$62.3 billion",
                                    "2": "62.3 billion"
                                },
                                {
                                    "0": "Michael Bloomberg",
                                    "1": "$55.5 billion",
                                    "2": "55.5 billion"
                                },
                                {
                                    "0": "Larry Page",
                                    "1": "$50.8 billion",
                                    "2": "50.8 billion"
                                }
                            ]
                        },
                        "text/html": "<table><tr><th>name</th><th>net_worth_usd</th><th>replace</th></tr><tr><td>Jeff Bezos</td><td>$131 billion</td><td>131 billion</td></tr><tr><td>Bill Gates</td><td>$96.5 billion</td><td>96.5 billion</td></tr><tr><td>Warren Buffett</td><td>$82.5 billion</td><td>82.5 billion</td></tr><tr><td>Bernard Arnault</td><td>$76 billion</td><td>76 billion</td></tr><tr><td>Carlos Slim</td><td>$64 billion</td><td>64 billion</td></tr><tr><td>Amancio Ortega</td><td>$62.7 billion</td><td>62.7 billion</td></tr><tr><td>Larry Ellison</td><td>$62.5 billion</td><td>62.5 billion</td></tr><tr><td>Mark Zuckerberg</td><td>$62.3 billion</td><td>62.3 billion</td></tr><tr><td>Michael Bloomberg</td><td>$55.5 billion</td><td>55.5 billion</td></tr><tr><td>Larry Page</td><td>$50.8 billion</td><td>50.8 billion</td></tr></table>"
                    }
                }
            ],
            "execution_count": 101
        },
        {
            "cell_type": "code",
            "source": [
                "select name, net_worth_usd,\n",
                "    replace(net_worth_usd, '$', ''),\n",
                "    replace(net_worth_usd, 'billion', ''),\n",
                "    replace(replace(net_worth_usd, ' billion', ''), '$', ''),\n",
                "    regexp_replace(net_worth_usd, '[^\\d.]', '', 'g'),\n",
                "    regexp_replace(net_worth_usd, '[^\\d.]', '', 'g')::decimal(5,1)\n",
                "    from billionaire_2019"
            ],
            "metadata": {
                "azdata_cell_guid": "02a2d473-6af8-4f5d-bf66-42183e2e218a"
            },
            "outputs": [
                {
                    "output_type": "display_data",
                    "data": {
                        "text/html": "(10 row(s) affected)"
                    },
                    "metadata": {}
                },
                {
                    "output_type": "display_data",
                    "data": {
                        "text/html": "Total execution time: 00:00:00.014"
                    },
                    "metadata": {}
                },
                {
                    "output_type": "execute_result",
                    "metadata": {},
                    "execution_count": 117,
                    "data": {
                        "application/vnd.dataresource+json": {
                            "schema": {
                                "fields": [
                                    {
                                        "name": "name"
                                    },
                                    {
                                        "name": "net_worth_usd"
                                    },
                                    {
                                        "name": "replace"
                                    },
                                    {
                                        "name": "replace"
                                    },
                                    {
                                        "name": "replace"
                                    },
                                    {
                                        "name": "regexp_replace"
                                    },
                                    {
                                        "name": "regexp_replace"
                                    }
                                ]
                            },
                            "data": [
                                {
                                    "0": "Jeff Bezos",
                                    "1": "$131 billion",
                                    "2": "131 billion",
                                    "3": "$131 ",
                                    "4": "131",
                                    "5": "131",
                                    "6": "131.0"
                                },
                                {
                                    "0": "Bill Gates",
                                    "1": "$96.5 billion",
                                    "2": "96.5 billion",
                                    "3": "$96.5 ",
                                    "4": "96.5",
                                    "5": "96.5",
                                    "6": "96.5"
                                },
                                {
                                    "0": "Warren Buffett",
                                    "1": "$82.5 billion",
                                    "2": "82.5 billion",
                                    "3": "$82.5 ",
                                    "4": "82.5",
                                    "5": "82.5",
                                    "6": "82.5"
                                },
                                {
                                    "0": "Bernard Arnault",
                                    "1": "$76 billion",
                                    "2": "76 billion",
                                    "3": "$76 ",
                                    "4": "76",
                                    "5": "76",
                                    "6": "76.0"
                                },
                                {
                                    "0": "Carlos Slim",
                                    "1": "$64 billion",
                                    "2": "64 billion",
                                    "3": "$64 ",
                                    "4": "64",
                                    "5": "64",
                                    "6": "64.0"
                                },
                                {
                                    "0": "Amancio Ortega",
                                    "1": "$62.7 billion",
                                    "2": "62.7 billion",
                                    "3": "$62.7 ",
                                    "4": "62.7",
                                    "5": "62.7",
                                    "6": "62.7"
                                },
                                {
                                    "0": "Larry Ellison",
                                    "1": "$62.5 billion",
                                    "2": "62.5 billion",
                                    "3": "$62.5 ",
                                    "4": "62.5",
                                    "5": "62.5",
                                    "6": "62.5"
                                },
                                {
                                    "0": "Mark Zuckerberg",
                                    "1": "$62.3 billion",
                                    "2": "62.3 billion",
                                    "3": "$62.3 ",
                                    "4": "62.3",
                                    "5": "62.3",
                                    "6": "62.3"
                                },
                                {
                                    "0": "Michael Bloomberg",
                                    "1": "$55.5 billion",
                                    "2": "55.5 billion",
                                    "3": "$55.5 ",
                                    "4": "55.5",
                                    "5": "55.5",
                                    "6": "55.5"
                                },
                                {
                                    "0": "Larry Page",
                                    "1": "$50.8 billion",
                                    "2": "50.8 billion",
                                    "3": "$50.8 ",
                                    "4": "50.8",
                                    "5": "50.8",
                                    "6": "50.8"
                                }
                            ]
                        },
                        "text/html": "<table><tr><th>name</th><th>net_worth_usd</th><th>replace</th><th>replace</th><th>replace</th><th>regexp_replace</th><th>regexp_replace</th></tr><tr><td>Jeff Bezos</td><td>$131 billion</td><td>131 billion</td><td>$131 </td><td>131</td><td>131</td><td>131.0</td></tr><tr><td>Bill Gates</td><td>$96.5 billion</td><td>96.5 billion</td><td>$96.5 </td><td>96.5</td><td>96.5</td><td>96.5</td></tr><tr><td>Warren Buffett</td><td>$82.5 billion</td><td>82.5 billion</td><td>$82.5 </td><td>82.5</td><td>82.5</td><td>82.5</td></tr><tr><td>Bernard Arnault</td><td>$76 billion</td><td>76 billion</td><td>$76 </td><td>76</td><td>76</td><td>76.0</td></tr><tr><td>Carlos Slim</td><td>$64 billion</td><td>64 billion</td><td>$64 </td><td>64</td><td>64</td><td>64.0</td></tr><tr><td>Amancio Ortega</td><td>$62.7 billion</td><td>62.7 billion</td><td>$62.7 </td><td>62.7</td><td>62.7</td><td>62.7</td></tr><tr><td>Larry Ellison</td><td>$62.5 billion</td><td>62.5 billion</td><td>$62.5 </td><td>62.5</td><td>62.5</td><td>62.5</td></tr><tr><td>Mark Zuckerberg</td><td>$62.3 billion</td><td>62.3 billion</td><td>$62.3 </td><td>62.3</td><td>62.3</td><td>62.3</td></tr><tr><td>Michael Bloomberg</td><td>$55.5 billion</td><td>55.5 billion</td><td>$55.5 </td><td>55.5</td><td>55.5</td><td>55.5</td></tr><tr><td>Larry Page</td><td>$50.8 billion</td><td>50.8 billion</td><td>$50.8 </td><td>50.8</td><td>50.8</td><td>50.8</td></tr></table>"
                    }
                }
            ],
            "execution_count": 117
        },
        {
            "cell_type": "code",
            "source": [
                "select name, \n",
                "    regexp_replace(name, '(\\w+.)(\\w+.)', '\\2, \\1'),\n",
                "    regexp_replace(name, '(\\w+.)(\\w+.)', '[\\2], [\\1]')\n",
                "    from billionaire_2019"
            ],
            "metadata": {
                "azdata_cell_guid": "266ff4b2-07e7-40f4-b1bb-d0b39d42fec4"
            },
            "outputs": [
                {
                    "output_type": "display_data",
                    "data": {
                        "text/html": "(10 row(s) affected)"
                    },
                    "metadata": {}
                },
                {
                    "output_type": "display_data",
                    "data": {
                        "text/html": "Total execution time: 00:00:00.005"
                    },
                    "metadata": {}
                },
                {
                    "output_type": "execute_result",
                    "metadata": {},
                    "execution_count": 103,
                    "data": {
                        "application/vnd.dataresource+json": {
                            "schema": {
                                "fields": [
                                    {
                                        "name": "name"
                                    },
                                    {
                                        "name": "regexp_replace"
                                    },
                                    {
                                        "name": "regexp_replace"
                                    }
                                ]
                            },
                            "data": [
                                {
                                    "0": "Jeff Bezos",
                                    "1": "Bezos, Jeff ",
                                    "2": "[Bezos], [Jeff ]"
                                },
                                {
                                    "0": "Bill Gates",
                                    "1": "Gates, Bill ",
                                    "2": "[Gates], [Bill ]"
                                },
                                {
                                    "0": "Warren Buffett",
                                    "1": "Buffett, Warren ",
                                    "2": "[Buffett], [Warren ]"
                                },
                                {
                                    "0": "Bernard Arnault",
                                    "1": "Arnault, Bernard ",
                                    "2": "[Arnault], [Bernard ]"
                                },
                                {
                                    "0": "Carlos Slim",
                                    "1": "Slim, Carlos ",
                                    "2": "[Slim], [Carlos ]"
                                },
                                {
                                    "0": "Amancio Ortega",
                                    "1": "Ortega, Amancio ",
                                    "2": "[Ortega], [Amancio ]"
                                },
                                {
                                    "0": "Larry Ellison",
                                    "1": "Ellison, Larry ",
                                    "2": "[Ellison], [Larry ]"
                                },
                                {
                                    "0": "Mark Zuckerberg",
                                    "1": "Zuckerberg, Mark ",
                                    "2": "[Zuckerberg], [Mark ]"
                                },
                                {
                                    "0": "Michael Bloomberg",
                                    "1": "Bloomberg, Michael ",
                                    "2": "[Bloomberg], [Michael ]"
                                },
                                {
                                    "0": "Larry Page",
                                    "1": "Page, Larry ",
                                    "2": "[Page], [Larry ]"
                                }
                            ]
                        },
                        "text/html": "<table><tr><th>name</th><th>regexp_replace</th><th>regexp_replace</th></tr><tr><td>Jeff Bezos</td><td>Bezos, Jeff </td><td>[Bezos], [Jeff ]</td></tr><tr><td>Bill Gates</td><td>Gates, Bill </td><td>[Gates], [Bill ]</td></tr><tr><td>Warren Buffett</td><td>Buffett, Warren </td><td>[Buffett], [Warren ]</td></tr><tr><td>Bernard Arnault</td><td>Arnault, Bernard </td><td>[Arnault], [Bernard ]</td></tr><tr><td>Carlos Slim</td><td>Slim, Carlos </td><td>[Slim], [Carlos ]</td></tr><tr><td>Amancio Ortega</td><td>Ortega, Amancio </td><td>[Ortega], [Amancio ]</td></tr><tr><td>Larry Ellison</td><td>Ellison, Larry </td><td>[Ellison], [Larry ]</td></tr><tr><td>Mark Zuckerberg</td><td>Zuckerberg, Mark </td><td>[Zuckerberg], [Mark ]</td></tr><tr><td>Michael Bloomberg</td><td>Bloomberg, Michael </td><td>[Bloomberg], [Michael ]</td></tr><tr><td>Larry Page</td><td>Page, Larry </td><td>[Page], [Larry ]</td></tr></table>"
                    }
                }
            ],
            "execution_count": 103
        },
        {
            "cell_type": "code",
            "source": [
                "select \n",
                "    name,\n",
                "    (regexp_replace(name, '(\\w+.)(\\s+)(\\w+.)', '\\3, \\1')),\n",
                "    (regexp_replace(name, '(\\w+.)(\\s+)(\\w+.)', '\\3, \\1 [\\2]')) \n",
                "    from billionaire_2019"
            ],
            "metadata": {
                "azdata_cell_guid": "f16a30c6-e70b-4403-b2a6-59890ba7246c"
            },
            "outputs": [
                {
                    "output_type": "display_data",
                    "data": {
                        "text/html": "(10 row(s) affected)"
                    },
                    "metadata": {}
                },
                {
                    "output_type": "display_data",
                    "data": {
                        "text/html": "Total execution time: 00:00:00.008"
                    },
                    "metadata": {}
                },
                {
                    "output_type": "execute_result",
                    "metadata": {},
                    "execution_count": 104,
                    "data": {
                        "application/vnd.dataresource+json": {
                            "schema": {
                                "fields": [
                                    {
                                        "name": "name"
                                    },
                                    {
                                        "name": "regexp_replace"
                                    },
                                    {
                                        "name": "regexp_replace"
                                    }
                                ]
                            },
                            "data": [
                                {
                                    "0": "Jeff Bezos",
                                    "1": "Bezos, Jeff",
                                    "2": "Bezos, Jeff [ ]"
                                },
                                {
                                    "0": "Bill Gates",
                                    "1": "Gates, Bill",
                                    "2": "Gates, Bill [ ]"
                                },
                                {
                                    "0": "Warren Buffett",
                                    "1": "Buffett, Warren",
                                    "2": "Buffett, Warren [ ]"
                                },
                                {
                                    "0": "Bernard Arnault",
                                    "1": "Arnault, Bernard",
                                    "2": "Arnault, Bernard [ ]"
                                },
                                {
                                    "0": "Carlos Slim",
                                    "1": "Slim, Carlos",
                                    "2": "Slim, Carlos [ ]"
                                },
                                {
                                    "0": "Amancio Ortega",
                                    "1": "Ortega, Amancio",
                                    "2": "Ortega, Amancio [ ]"
                                },
                                {
                                    "0": "Larry Ellison",
                                    "1": "Ellison, Larry",
                                    "2": "Ellison, Larry [ ]"
                                },
                                {
                                    "0": "Mark Zuckerberg",
                                    "1": "Zuckerberg, Mark",
                                    "2": "Zuckerberg, Mark [ ]"
                                },
                                {
                                    "0": "Michael Bloomberg",
                                    "1": "Bloomberg, Michael",
                                    "2": "Bloomberg, Michael [ ]"
                                },
                                {
                                    "0": "Larry Page",
                                    "1": "Page, Larry",
                                    "2": "Page, Larry [ ]"
                                }
                            ]
                        },
                        "text/html": "<table><tr><th>name</th><th>regexp_replace</th><th>regexp_replace</th></tr><tr><td>Jeff Bezos</td><td>Bezos, Jeff</td><td>Bezos, Jeff [ ]</td></tr><tr><td>Bill Gates</td><td>Gates, Bill</td><td>Gates, Bill [ ]</td></tr><tr><td>Warren Buffett</td><td>Buffett, Warren</td><td>Buffett, Warren [ ]</td></tr><tr><td>Bernard Arnault</td><td>Arnault, Bernard</td><td>Arnault, Bernard [ ]</td></tr><tr><td>Carlos Slim</td><td>Slim, Carlos</td><td>Slim, Carlos [ ]</td></tr><tr><td>Amancio Ortega</td><td>Ortega, Amancio</td><td>Ortega, Amancio [ ]</td></tr><tr><td>Larry Ellison</td><td>Ellison, Larry</td><td>Ellison, Larry [ ]</td></tr><tr><td>Mark Zuckerberg</td><td>Zuckerberg, Mark</td><td>Zuckerberg, Mark [ ]</td></tr><tr><td>Michael Bloomberg</td><td>Bloomberg, Michael</td><td>Bloomberg, Michael [ ]</td></tr><tr><td>Larry Page</td><td>Page, Larry</td><td>Page, Larry [ ]</td></tr></table>"
                    }
                }
            ],
            "execution_count": 104
        },
        {
            "cell_type": "code",
            "source": [
                "select name, regexp_replace(name, '(.)(\\w+.)(\\s+)(\\w+.)', '\\4, \\1') from billionaire_2019"
            ],
            "metadata": {
                "azdata_cell_guid": "cfffe201-e864-4cc1-80f9-63eb80d0a6bd"
            },
            "outputs": [
                {
                    "output_type": "display_data",
                    "data": {
                        "text/html": "(10 row(s) affected)"
                    },
                    "metadata": {}
                },
                {
                    "output_type": "display_data",
                    "data": {
                        "text/html": "Total execution time: 00:00:00.006"
                    },
                    "metadata": {}
                },
                {
                    "output_type": "execute_result",
                    "metadata": {},
                    "execution_count": 105,
                    "data": {
                        "application/vnd.dataresource+json": {
                            "schema": {
                                "fields": [
                                    {
                                        "name": "name"
                                    },
                                    {
                                        "name": "regexp_replace"
                                    }
                                ]
                            },
                            "data": [
                                {
                                    "0": "Jeff Bezos",
                                    "1": "Bezos, J"
                                },
                                {
                                    "0": "Bill Gates",
                                    "1": "Gates, B"
                                },
                                {
                                    "0": "Warren Buffett",
                                    "1": "Buffett, W"
                                },
                                {
                                    "0": "Bernard Arnault",
                                    "1": "Arnault, B"
                                },
                                {
                                    "0": "Carlos Slim",
                                    "1": "Slim, C"
                                },
                                {
                                    "0": "Amancio Ortega",
                                    "1": "Ortega, A"
                                },
                                {
                                    "0": "Larry Ellison",
                                    "1": "Ellison, L"
                                },
                                {
                                    "0": "Mark Zuckerberg",
                                    "1": "Zuckerberg, M"
                                },
                                {
                                    "0": "Michael Bloomberg",
                                    "1": "Bloomberg, M"
                                },
                                {
                                    "0": "Larry Page",
                                    "1": "Page, L"
                                }
                            ]
                        },
                        "text/html": "<table><tr><th>name</th><th>regexp_replace</th></tr><tr><td>Jeff Bezos</td><td>Bezos, J</td></tr><tr><td>Bill Gates</td><td>Gates, B</td></tr><tr><td>Warren Buffett</td><td>Buffett, W</td></tr><tr><td>Bernard Arnault</td><td>Arnault, B</td></tr><tr><td>Carlos Slim</td><td>Slim, C</td></tr><tr><td>Amancio Ortega</td><td>Ortega, A</td></tr><tr><td>Larry Ellison</td><td>Ellison, L</td></tr><tr><td>Mark Zuckerberg</td><td>Zuckerberg, M</td></tr><tr><td>Michael Bloomberg</td><td>Bloomberg, M</td></tr><tr><td>Larry Page</td><td>Page, L</td></tr></table>"
                    }
                }
            ],
            "execution_count": 105
        },
        {
            "cell_type": "markdown",
            "source": [
                "---"
            ],
            "metadata": {
                "azdata_cell_guid": "509309c2-c884-45ca-8b76-b914d27ee201"
            }
        },
        {
            "cell_type": "code",
            "source": [
                "select \n",
                "    regexp_replace('0621234567', '(\\d{3})(\\d{3})(\\d{4})', '\\1-\\2-\\3'),\n",
                "    regexp_replace('0621234567', '(\\d{3})(\\d{3})(\\d{4})', '(\\1) \\2-\\3')"
            ],
            "metadata": {
                "azdata_cell_guid": "bf15b249-4617-498d-bd4f-12967a8582ff"
            },
            "outputs": [
                {
                    "output_type": "display_data",
                    "data": {
                        "text/html": "(1 row(s) affected)"
                    },
                    "metadata": {}
                },
                {
                    "output_type": "display_data",
                    "data": {
                        "text/html": "Total execution time: 00:00:00.003"
                    },
                    "metadata": {}
                },
                {
                    "output_type": "execute_result",
                    "metadata": {},
                    "execution_count": 116,
                    "data": {
                        "application/vnd.dataresource+json": {
                            "schema": {
                                "fields": [
                                    {
                                        "name": "regexp_replace"
                                    },
                                    {
                                        "name": "regexp_replace"
                                    }
                                ]
                            },
                            "data": [
                                {
                                    "0": "062-123-4567",
                                    "1": "(062) 123-4567"
                                }
                            ]
                        },
                        "text/html": "<table><tr><th>regexp_replace</th><th>regexp_replace</th></tr><tr><td>062-123-4567</td><td>(062) 123-4567</td></tr></table>"
                    }
                }
            ],
            "execution_count": 116
        },
        {
            "cell_type": "markdown",
            "source": [
                "---"
            ],
            "metadata": {
                "azdata_cell_guid": "2e512fe3-7efc-46a7-99ab-679cc529f707"
            }
        },
        {
            "cell_type": "markdown",
            "source": [
                "## replace non-numeric characters"
            ],
            "metadata": {
                "azdata_cell_guid": "4ce0390b-570f-41c4-9276-67662ad386a2"
            }
        },
        {
            "cell_type": "code",
            "source": [
                "select regexp_replace('$4,711.25', '[$,]', '')"
            ],
            "metadata": {
                "azdata_cell_guid": "350114d7-a700-4a80-978a-124ae9106c3e"
            },
            "outputs": [
                {
                    "output_type": "display_data",
                    "data": {
                        "text/html": "(1 row(s) affected)"
                    },
                    "metadata": {}
                },
                {
                    "output_type": "display_data",
                    "data": {
                        "text/html": "Total execution time: 00:00:00.009"
                    },
                    "metadata": {}
                },
                {
                    "output_type": "execute_result",
                    "metadata": {},
                    "execution_count": 106,
                    "data": {
                        "application/vnd.dataresource+json": {
                            "schema": {
                                "fields": [
                                    {
                                        "name": "regexp_replace"
                                    }
                                ]
                            },
                            "data": [
                                {
                                    "0": "4,711.25"
                                }
                            ]
                        },
                        "text/html": "<table><tr><th>regexp_replace</th></tr><tr><td>4,711.25</td></tr></table>"
                    }
                }
            ],
            "execution_count": 106
        },
        {
            "cell_type": "code",
            "source": [
                "select 'C' || n customer_id, \n",
                "    '0' || (random() * (9e8 - 6e8 + 1) + 6e8)::bigint::text tel,\n",
                "    '$' || trim(to_char((random() * 10000), '99G999D99')) sales_fmt,\n",
                "    trim(to_char((random() * 10000), '99G999D99')) || ' THB' sales_fmt2\n",
                "    from generate_series(1, 10) as n"
            ],
            "metadata": {
                "azdata_cell_guid": "52ea4740-38b0-48a6-9411-18169d72b186"
            },
            "outputs": [
                {
                    "output_type": "display_data",
                    "data": {
                        "text/html": "(10 row(s) affected)"
                    },
                    "metadata": {}
                },
                {
                    "output_type": "display_data",
                    "data": {
                        "text/html": "Total execution time: 00:00:00.003"
                    },
                    "metadata": {}
                },
                {
                    "output_type": "execute_result",
                    "metadata": {},
                    "execution_count": 111,
                    "data": {
                        "application/vnd.dataresource+json": {
                            "schema": {
                                "fields": [
                                    {
                                        "name": "customer_id"
                                    },
                                    {
                                        "name": "tel"
                                    },
                                    {
                                        "name": "sales_fmt"
                                    },
                                    {
                                        "name": "sales_fmt2"
                                    }
                                ]
                            },
                            "data": [
                                {
                                    "0": "C1",
                                    "1": "0643842593",
                                    "2": "$1,673.06",
                                    "3": "7,230.11 THB"
                                },
                                {
                                    "0": "C2",
                                    "1": "0740525739",
                                    "2": "$6,675.60",
                                    "3": "4,305.55 THB"
                                },
                                {
                                    "0": "C3",
                                    "1": "0825305718",
                                    "2": "$511.41",
                                    "3": "4,483.94 THB"
                                },
                                {
                                    "0": "C4",
                                    "1": "0795959066",
                                    "2": "$6,781.30",
                                    "3": "517.36 THB"
                                },
                                {
                                    "0": "C5",
                                    "1": "0860994832",
                                    "2": "$4,674.86",
                                    "3": "510.14 THB"
                                },
                                {
                                    "0": "C6",
                                    "1": "0724993043",
                                    "2": "$6,756.13",
                                    "3": "1,956.31 THB"
                                },
                                {
                                    "0": "C7",
                                    "1": "0752931283",
                                    "2": "$9,337.36",
                                    "3": "5,782.72 THB"
                                },
                                {
                                    "0": "C8",
                                    "1": "0740829352",
                                    "2": "$7,735.18",
                                    "3": "1,305.05 THB"
                                },
                                {
                                    "0": "C9",
                                    "1": "0631312932",
                                    "2": "$9,227.15",
                                    "3": "2,275.89 THB"
                                },
                                {
                                    "0": "C10",
                                    "1": "0750817145",
                                    "2": "$1,937.80",
                                    "3": "7,108.35 THB"
                                }
                            ]
                        },
                        "text/html": "<table><tr><th>customer_id</th><th>tel</th><th>sales_fmt</th><th>sales_fmt2</th></tr><tr><td>C1</td><td>0643842593</td><td>$1,673.06</td><td>7,230.11 THB</td></tr><tr><td>C2</td><td>0740525739</td><td>$6,675.60</td><td>4,305.55 THB</td></tr><tr><td>C3</td><td>0825305718</td><td>$511.41</td><td>4,483.94 THB</td></tr><tr><td>C4</td><td>0795959066</td><td>$6,781.30</td><td>517.36 THB</td></tr><tr><td>C5</td><td>0860994832</td><td>$4,674.86</td><td>510.14 THB</td></tr><tr><td>C6</td><td>0724993043</td><td>$6,756.13</td><td>1,956.31 THB</td></tr><tr><td>C7</td><td>0752931283</td><td>$9,337.36</td><td>5,782.72 THB</td></tr><tr><td>C8</td><td>0740829352</td><td>$7,735.18</td><td>1,305.05 THB</td></tr><tr><td>C9</td><td>0631312932</td><td>$9,227.15</td><td>2,275.89 THB</td></tr><tr><td>C10</td><td>0750817145</td><td>$1,937.80</td><td>7,108.35 THB</td></tr></table>"
                    }
                }
            ],
            "execution_count": 111
        },
        {
            "cell_type": "code",
            "source": [
                "with cte as (\n",
                "    select 'C' || n customer_id, \n",
                "        '0' || (random() * (9e8 - 6e8 + 1) + 6e8)::bigint::text tel,\n",
                "        '$' || trim(to_char((random() * 10000), '99G999D99')) sales_fmt,\n",
                "        trim(to_char((random() * 10000), '99G999D99')) || ' THB' sales_fmt2\n",
                "        from generate_series(1, 10) as n\n",
                ")\n",
                "select *, \n",
                "    regexp_replace(sales_fmt, '[,$]', '', 'g'),\n",
                "    regexp_replace(sales_fmt2, '[^0-9.]', '', 'g'),\n",
                "    regexp_replace(sales_fmt2, '[^\\d.]', '', 'g'),\n",
                "    tel,\n",
                "    regexp_replace(tel, '(\\d{3})(\\d{3})(\\d{4})', '\\1-\\2-\\3') tel_fmt  \n",
                "    from cte"
            ],
            "metadata": {
                "azdata_cell_guid": "0451cc80-9d87-4228-ab12-93a8cfe5db15"
            },
            "outputs": [
                {
                    "output_type": "display_data",
                    "data": {
                        "text/html": "(10 row(s) affected)"
                    },
                    "metadata": {}
                },
                {
                    "output_type": "display_data",
                    "data": {
                        "text/html": "Total execution time: 00:00:00.006"
                    },
                    "metadata": {}
                },
                {
                    "output_type": "execute_result",
                    "metadata": {},
                    "execution_count": 114,
                    "data": {
                        "application/vnd.dataresource+json": {
                            "schema": {
                                "fields": [
                                    {
                                        "name": "customer_id"
                                    },
                                    {
                                        "name": "tel"
                                    },
                                    {
                                        "name": "sales_fmt"
                                    },
                                    {
                                        "name": "sales_fmt2"
                                    },
                                    {
                                        "name": "regexp_replace"
                                    },
                                    {
                                        "name": "regexp_replace"
                                    },
                                    {
                                        "name": "regexp_replace"
                                    },
                                    {
                                        "name": "tel"
                                    },
                                    {
                                        "name": "tel_fmt"
                                    }
                                ]
                            },
                            "data": [
                                {
                                    "0": "C1",
                                    "1": "0886422500",
                                    "2": "$5,880.19",
                                    "3": "65.03 THB",
                                    "4": "5880.19",
                                    "5": "65.03",
                                    "6": "65.03",
                                    "7": "0886422500",
                                    "8": "088-642-2500"
                                },
                                {
                                    "0": "C2",
                                    "1": "0792003507",
                                    "2": "$4,555.12",
                                    "3": "7,952.44 THB",
                                    "4": "4555.12",
                                    "5": "7952.44",
                                    "6": "7952.44",
                                    "7": "0792003507",
                                    "8": "079-200-3507"
                                },
                                {
                                    "0": "C3",
                                    "1": "0742329049",
                                    "2": "$3,182.35",
                                    "3": "2,121.87 THB",
                                    "4": "3182.35",
                                    "5": "2121.87",
                                    "6": "2121.87",
                                    "7": "0742329049",
                                    "8": "074-232-9049"
                                },
                                {
                                    "0": "C4",
                                    "1": "0688271752",
                                    "2": "$4,547.74",
                                    "3": "6,653.56 THB",
                                    "4": "4547.74",
                                    "5": "6653.56",
                                    "6": "6653.56",
                                    "7": "0688271752",
                                    "8": "068-827-1752"
                                },
                                {
                                    "0": "C5",
                                    "1": "0728662026",
                                    "2": "$4,317.97",
                                    "3": "4,938.19 THB",
                                    "4": "4317.97",
                                    "5": "4938.19",
                                    "6": "4938.19",
                                    "7": "0728662026",
                                    "8": "072-866-2026"
                                },
                                {
                                    "0": "C6",
                                    "1": "0778469992",
                                    "2": "$3,787.48",
                                    "3": "1,158.78 THB",
                                    "4": "3787.48",
                                    "5": "1158.78",
                                    "6": "1158.78",
                                    "7": "0778469992",
                                    "8": "077-846-9992"
                                },
                                {
                                    "0": "C7",
                                    "1": "0770737468",
                                    "2": "$5,313.30",
                                    "3": "1,055.32 THB",
                                    "4": "5313.30",
                                    "5": "1055.32",
                                    "6": "1055.32",
                                    "7": "0770737468",
                                    "8": "077-073-7468"
                                },
                                {
                                    "0": "C8",
                                    "1": "0807490261",
                                    "2": "$1,366.95",
                                    "3": "2,329.24 THB",
                                    "4": "1366.95",
                                    "5": "2329.24",
                                    "6": "2329.24",
                                    "7": "0807490261",
                                    "8": "080-749-0261"
                                },
                                {
                                    "0": "C9",
                                    "1": "0873219337",
                                    "2": "$8,484.60",
                                    "3": "4,399.95 THB",
                                    "4": "8484.60",
                                    "5": "4399.95",
                                    "6": "4399.95",
                                    "7": "0873219337",
                                    "8": "087-321-9337"
                                },
                                {
                                    "0": "C10",
                                    "1": "0635962227",
                                    "2": "$6,238.63",
                                    "3": "5,351.27 THB",
                                    "4": "6238.63",
                                    "5": "5351.27",
                                    "6": "5351.27",
                                    "7": "0635962227",
                                    "8": "063-596-2227"
                                }
                            ]
                        },
                        "text/html": "<table><tr><th>customer_id</th><th>tel</th><th>sales_fmt</th><th>sales_fmt2</th><th>regexp_replace</th><th>regexp_replace</th><th>regexp_replace</th><th>tel</th><th>tel_fmt</th></tr><tr><td>C1</td><td>0886422500</td><td>$5,880.19</td><td>65.03 THB</td><td>5880.19</td><td>65.03</td><td>65.03</td><td>0886422500</td><td>088-642-2500</td></tr><tr><td>C2</td><td>0792003507</td><td>$4,555.12</td><td>7,952.44 THB</td><td>4555.12</td><td>7952.44</td><td>7952.44</td><td>0792003507</td><td>079-200-3507</td></tr><tr><td>C3</td><td>0742329049</td><td>$3,182.35</td><td>2,121.87 THB</td><td>3182.35</td><td>2121.87</td><td>2121.87</td><td>0742329049</td><td>074-232-9049</td></tr><tr><td>C4</td><td>0688271752</td><td>$4,547.74</td><td>6,653.56 THB</td><td>4547.74</td><td>6653.56</td><td>6653.56</td><td>0688271752</td><td>068-827-1752</td></tr><tr><td>C5</td><td>0728662026</td><td>$4,317.97</td><td>4,938.19 THB</td><td>4317.97</td><td>4938.19</td><td>4938.19</td><td>0728662026</td><td>072-866-2026</td></tr><tr><td>C6</td><td>0778469992</td><td>$3,787.48</td><td>1,158.78 THB</td><td>3787.48</td><td>1158.78</td><td>1158.78</td><td>0778469992</td><td>077-846-9992</td></tr><tr><td>C7</td><td>0770737468</td><td>$5,313.30</td><td>1,055.32 THB</td><td>5313.30</td><td>1055.32</td><td>1055.32</td><td>0770737468</td><td>077-073-7468</td></tr><tr><td>C8</td><td>0807490261</td><td>$1,366.95</td><td>2,329.24 THB</td><td>1366.95</td><td>2329.24</td><td>2329.24</td><td>0807490261</td><td>080-749-0261</td></tr><tr><td>C9</td><td>0873219337</td><td>$8,484.60</td><td>4,399.95 THB</td><td>8484.60</td><td>4399.95</td><td>4399.95</td><td>0873219337</td><td>087-321-9337</td></tr><tr><td>C10</td><td>0635962227</td><td>$6,238.63</td><td>5,351.27 THB</td><td>6238.63</td><td>5351.27</td><td>5351.27</td><td>0635962227</td><td>063-596-2227</td></tr></table>"
                    }
                }
            ],
            "execution_count": 114
        },
        {
            "cell_type": "markdown",
            "source": [
                "## Format phone number"
            ],
            "metadata": {
                "azdata_cell_guid": "a1ae6087-ec88-40a2-9e0c-c4d436ac5fea"
            }
        },
        {
            "cell_type": "code",
            "source": [
                "select regexp_replace('0621234567', '(\\d{3})(\\d{3})(\\d{4})', '\\1-\\2-\\3')"
            ],
            "metadata": {
                "azdata_cell_guid": "1fd2d263-259c-4a2c-ae84-033a3deac828"
            },
            "outputs": [
                {
                    "output_type": "display_data",
                    "data": {
                        "text/html": "(1 row(s) affected)"
                    },
                    "metadata": {}
                },
                {
                    "output_type": "display_data",
                    "data": {
                        "text/html": "Total execution time: 00:00:00.006"
                    },
                    "metadata": {}
                },
                {
                    "output_type": "execute_result",
                    "metadata": {},
                    "execution_count": 109,
                    "data": {
                        "application/vnd.dataresource+json": {
                            "schema": {
                                "fields": [
                                    {
                                        "name": "regexp_replace"
                                    }
                                ]
                            },
                            "data": [
                                {
                                    "0": "062-123-4567"
                                }
                            ]
                        },
                        "text/html": "<table><tr><th>regexp_replace</th></tr><tr><td>062-123-4567</td></tr></table>"
                    }
                }
            ],
            "execution_count": 109
        },
        {
            "cell_type": "markdown",
            "source": [
                "### random 10-digit phone number"
            ],
            "metadata": {
                "azdata_cell_guid": "bfc466c7-55ca-4eeb-a0e3-5b0fb1af25d5"
            }
        },
        {
            "cell_type": "code",
            "source": [
                "with cte as (\n",
                "    select '0' || (random() * (9e8 - 6e8 + 1) + 6e8)::bigint::text tel\n",
                "        from generate_series(1, 10) as n\n",
                ")\n",
                "select tel, \n",
                "    regexp_replace(tel, '(\\d{3})(\\d{3})(\\d{4})', '\\1-\\2-\\3') tel_fmt \n",
                "    from cte"
            ],
            "metadata": {
                "azdata_cell_guid": "74e121fa-c79f-48ec-ada0-89ac15481750"
            },
            "outputs": [
                {
                    "output_type": "display_data",
                    "data": {
                        "text/html": "(10 row(s) affected)"
                    },
                    "metadata": {}
                },
                {
                    "output_type": "display_data",
                    "data": {
                        "text/html": "Total execution time: 00:00:00.006"
                    },
                    "metadata": {}
                },
                {
                    "output_type": "execute_result",
                    "metadata": {},
                    "execution_count": 110,
                    "data": {
                        "application/vnd.dataresource+json": {
                            "schema": {
                                "fields": [
                                    {
                                        "name": "tel"
                                    },
                                    {
                                        "name": "tel_fmt"
                                    }
                                ]
                            },
                            "data": [
                                {
                                    "0": "0609477513",
                                    "1": "060-947-7513"
                                },
                                {
                                    "0": "0618897254",
                                    "1": "061-889-7254"
                                },
                                {
                                    "0": "0840125747",
                                    "1": "084-012-5747"
                                },
                                {
                                    "0": "0703879843",
                                    "1": "070-387-9843"
                                },
                                {
                                    "0": "0783909278",
                                    "1": "078-390-9278"
                                },
                                {
                                    "0": "0897113425",
                                    "1": "089-711-3425"
                                },
                                {
                                    "0": "0638656699",
                                    "1": "063-865-6699"
                                },
                                {
                                    "0": "0712737908",
                                    "1": "071-273-7908"
                                },
                                {
                                    "0": "0863310287",
                                    "1": "086-331-0287"
                                },
                                {
                                    "0": "0636136223",
                                    "1": "063-613-6223"
                                }
                            ]
                        },
                        "text/html": "<table><tr><th>tel</th><th>tel_fmt</th></tr><tr><td>0609477513</td><td>060-947-7513</td></tr><tr><td>0618897254</td><td>061-889-7254</td></tr><tr><td>0840125747</td><td>084-012-5747</td></tr><tr><td>0703879843</td><td>070-387-9843</td></tr><tr><td>0783909278</td><td>078-390-9278</td></tr><tr><td>0897113425</td><td>089-711-3425</td></tr><tr><td>0638656699</td><td>063-865-6699</td></tr><tr><td>0712737908</td><td>071-273-7908</td></tr><tr><td>0863310287</td><td>086-331-0287</td></tr><tr><td>0636136223</td><td>063-613-6223</td></tr></table>"
                    }
                }
            ],
            "execution_count": 110
        }
    ]
}