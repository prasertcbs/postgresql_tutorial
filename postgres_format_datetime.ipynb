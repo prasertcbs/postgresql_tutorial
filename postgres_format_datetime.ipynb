{
    "metadata": {
        "kernelspec": {
            "name": "SQL",
            "display_name": "SQL",
            "language": "sql"
        },
        "language_info": {
            "name": "sql",
            "version": ""
        }
    },
    "nbformat_minor": 2,
    "nbformat": 4,
    "cells": [
        {
            "cell_type": "markdown",
            "source": [
                "# Format date/time\n",
                "## Server: PostgreSQL\n",
                "## Author: Prasert Kanawattanachai\n",
                "## YouTube: https://youtu.be/GI2VEr3opsc"
            ],
            "metadata": {
                "azdata_cell_guid": "301d5ffc-8e56-48d9-ba6d-f263bace3663"
            }
        },
        {
            "cell_type": "markdown",
            "source": [
                "doc: https://www.postgresql.org/docs/11/functions-formatting.html\n",
                "\n",
                "<table class=\"table\" summary=\"Template Patterns for Date/Time Formatting\" border=\"1\">\n",
                "        <colgroup>\n",
                "          <col>\n",
                "          <col>\n",
                "        </colgroup>\n",
                "        <thead>\n",
                "          <tr>\n",
                "            <th>Pattern</th>\n",
                "            <th>Description</th>\n",
                "          </tr>\n",
                "        </thead>\n",
                "        <tbody>\n",
                "          <tr>\n",
                "            <td><code class=\"literal\">HH</code></td>\n",
                "            <td>hour of day (01-12)</td>\n",
                "          </tr>\n",
                "          <tr>\n",
                "            <td><code class=\"literal\">HH12</code></td>\n",
                "            <td>hour of day (01-12)</td>\n",
                "          </tr>\n",
                "          <tr>\n",
                "            <td><code class=\"literal\">HH24</code></td>\n",
                "            <td>hour of day (00-23)</td>\n",
                "          </tr>\n",
                "          <tr>\n",
                "            <td><code class=\"literal\">MI</code></td>\n",
                "            <td>minute (00-59)</td>\n",
                "          </tr>\n",
                "          <tr>\n",
                "            <td><code class=\"literal\">SS</code></td>\n",
                "            <td>second (00-59)</td>\n",
                "          </tr>\n",
                "          <tr>\n",
                "            <td><code class=\"literal\">MS</code></td>\n",
                "            <td>millisecond (000-999)</td>\n",
                "          </tr>\n",
                "          <tr>\n",
                "            <td><code class=\"literal\">US</code></td>\n",
                "            <td>microsecond (000000-999999)</td>\n",
                "          </tr>\n",
                "          <tr>\n",
                "            <td><code class=\"literal\">SSSS</code></td>\n",
                "            <td>seconds past midnight (0-86399)</td>\n",
                "          </tr>\n",
                "          <tr>\n",
                "            <td><code class=\"literal\">AM</code>, <code class=\"literal\">am</code>, <code class=\"literal\">PM</code> or <code class=\"literal\">pm</code></td>\n",
                "            <td>meridiem indicator (without periods)</td>\n",
                "          </tr>\n",
                "          <tr>\n",
                "            <td><code class=\"literal\">A.M.</code>, <code class=\"literal\">a.m.</code>, <code class=\"literal\">P.M.</code> or <code class=\"literal\">p.m.</code></td>\n",
                "            <td>meridiem indicator (with periods)</td>\n",
                "          </tr>\n",
                "          <tr>\n",
                "            <td><code class=\"literal\">Y,YYY</code></td>\n",
                "            <td>year (4 or more digits) with comma</td>\n",
                "          </tr>\n",
                "          <tr>\n",
                "            <td><code class=\"literal\">YYYY</code></td>\n",
                "            <td>year (4 or more digits)</td>\n",
                "          </tr>\n",
                "          <tr>\n",
                "            <td><code class=\"literal\">YYY</code></td>\n",
                "            <td>last 3 digits of year</td>\n",
                "          </tr>\n",
                "          <tr>\n",
                "            <td><code class=\"literal\">YY</code></td>\n",
                "            <td>last 2 digits of year</td>\n",
                "          </tr>\n",
                "          <tr>\n",
                "            <td><code class=\"literal\">Y</code></td>\n",
                "            <td>last digit of year</td>\n",
                "          </tr>\n",
                "          <tr>\n",
                "            <td><code class=\"literal\">IYYY</code></td>\n",
                "            <td>ISO 8601 week-numbering year (4 or more digits)</td>\n",
                "          </tr>\n",
                "          <tr>\n",
                "            <td><code class=\"literal\">IYY</code></td>\n",
                "            <td>last 3 digits of ISO 8601 week-numbering year</td>\n",
                "          </tr>\n",
                "          <tr>\n",
                "            <td><code class=\"literal\">IY</code></td>\n",
                "            <td>last 2 digits of ISO 8601 week-numbering year</td>\n",
                "          </tr>\n",
                "          <tr>\n",
                "            <td><code class=\"literal\">I</code></td>\n",
                "            <td>last digit of ISO 8601 week-numbering year</td>\n",
                "          </tr>\n",
                "          <tr>\n",
                "            <td><code class=\"literal\">BC</code>, <code class=\"literal\">bc</code>, <code class=\"literal\">AD</code> or <code class=\"literal\">ad</code></td>\n",
                "            <td>era indicator (without periods)</td>\n",
                "          </tr>\n",
                "          <tr>\n",
                "            <td><code class=\"literal\">B.C.</code>, <code class=\"literal\">b.c.</code>, <code class=\"literal\">A.D.</code> or <code class=\"literal\">a.d.</code></td>\n",
                "            <td>era indicator (with periods)</td>\n",
                "          </tr>\n",
                "          <tr>\n",
                "            <td><code class=\"literal\">MONTH</code></td>\n",
                "            <td>full upper case month name (blank-padded to 9 chars)</td>\n",
                "          </tr>\n",
                "          <tr>\n",
                "            <td><code class=\"literal\">Month</code></td>\n",
                "            <td>full capitalized month name (blank-padded to 9 chars)</td>\n",
                "          </tr>\n",
                "          <tr>\n",
                "            <td><code class=\"literal\">month</code></td>\n",
                "            <td>full lower case month name (blank-padded to 9 chars)</td>\n",
                "          </tr>\n",
                "          <tr>\n",
                "            <td><code class=\"literal\">MON</code></td>\n",
                "            <td>abbreviated upper case month name (3 chars in English, localized lengths vary)</td>\n",
                "          </tr>\n",
                "          <tr>\n",
                "            <td><code class=\"literal\">Mon</code></td>\n",
                "            <td>abbreviated capitalized month name (3 chars in English, localized lengths vary)</td>\n",
                "          </tr>\n",
                "          <tr>\n",
                "            <td><code class=\"literal\">mon</code></td>\n",
                "            <td>abbreviated lower case month name (3 chars in English, localized lengths vary)</td>\n",
                "          </tr>\n",
                "          <tr>\n",
                "            <td><code class=\"literal\">MM</code></td>\n",
                "            <td>month number (01-12)</td>\n",
                "          </tr>\n",
                "          <tr>\n",
                "            <td><code class=\"literal\">DAY</code></td>\n",
                "            <td>full upper case day name (blank-padded to 9 chars)</td>\n",
                "          </tr>\n",
                "          <tr>\n",
                "            <td><code class=\"literal\">Day</code></td>\n",
                "            <td>full capitalized day name (blank-padded to 9 chars)</td>\n",
                "          </tr>\n",
                "          <tr>\n",
                "            <td><code class=\"literal\">day</code></td>\n",
                "            <td>full lower case day name (blank-padded to 9 chars)</td>\n",
                "          </tr>\n",
                "          <tr>\n",
                "            <td><code class=\"literal\">DY</code></td>\n",
                "            <td>abbreviated upper case day name (3 chars in English, localized lengths vary)</td>\n",
                "          </tr>\n",
                "          <tr>\n",
                "            <td><code class=\"literal\">Dy</code></td>\n",
                "            <td>abbreviated capitalized day name (3 chars in English, localized lengths vary)</td>\n",
                "          </tr>\n",
                "          <tr>\n",
                "            <td><code class=\"literal\">dy</code></td>\n",
                "            <td>abbreviated lower case day name (3 chars in English, localized lengths vary)</td>\n",
                "          </tr>\n",
                "          <tr>\n",
                "            <td><code class=\"literal\">DDD</code></td>\n",
                "            <td>day of year (001-366)</td>\n",
                "          </tr>\n",
                "          <tr>\n",
                "            <td><code class=\"literal\">IDDD</code></td>\n",
                "            <td>day of ISO 8601 week-numbering year (001-371; day 1 of the year is Monday of the first ISO week)</td>\n",
                "          </tr>\n",
                "          <tr>\n",
                "            <td><code class=\"literal\">DD</code></td>\n",
                "            <td>day of month (01-31)</td>\n",
                "          </tr>\n",
                "          <tr>\n",
                "            <td><code class=\"literal\">D</code></td>\n",
                "            <td>day of the week, Sunday (<code class=\"literal\">1</code>) to Saturday (<code class=\"literal\">7</code>)</td>\n",
                "          </tr>\n",
                "          <tr>\n",
                "            <td><code class=\"literal\">ID</code></td>\n",
                "            <td>ISO 8601 day of the week, Monday (<code class=\"literal\">1</code>) to Sunday (<code class=\"literal\">7</code>)</td>\n",
                "          </tr>\n",
                "          <tr>\n",
                "            <td><code class=\"literal\">W</code></td>\n",
                "            <td>week of month (1-5) (the first week starts on the first day of the month)</td>\n",
                "          </tr>\n",
                "          <tr>\n",
                "            <td><code class=\"literal\">WW</code></td>\n",
                "            <td>week number of year (1-53) (the first week starts on the first day of the year)</td>\n",
                "          </tr>\n",
                "          <tr>\n",
                "            <td><code class=\"literal\">IW</code></td>\n",
                "            <td>week number of ISO 8601 week-numbering year (01-53; the first Thursday of the year is in week 1)</td>\n",
                "          </tr>\n",
                "          <tr>\n",
                "            <td><code class=\"literal\">CC</code></td>\n",
                "            <td>century (2 digits) (the twenty-first century starts on 2001-01-01)</td>\n",
                "          </tr>\n",
                "          <tr>\n",
                "            <td><code class=\"literal\">J</code></td>\n",
                "            <td>Julian Day (integer days since November 24, 4714 BC at midnight UTC)</td>\n",
                "          </tr>\n",
                "          <tr>\n",
                "            <td><code class=\"literal\">Q</code></td>\n",
                "            <td>quarter</td>\n",
                "          </tr>\n",
                "          <tr>\n",
                "            <td><code class=\"literal\">RM</code></td>\n",
                "            <td>month in upper case Roman numerals (I-XII; I=January)</td>\n",
                "          </tr>\n",
                "          <tr>\n",
                "            <td><code class=\"literal\">rm</code></td>\n",
                "            <td>month in lower case Roman numerals (i-xii; i=January)</td>\n",
                "          </tr>\n",
                "          <tr>\n",
                "            <td><code class=\"literal\">TZ</code></td>\n",
                "            <td>upper case time-zone abbreviation (only supported in <code class=\"function\">to_char</code>)</td>\n",
                "          </tr>\n",
                "          <tr>\n",
                "            <td><code class=\"literal\">tz</code></td>\n",
                "            <td>lower case time-zone abbreviation (only supported in <code class=\"function\">to_char</code>)</td>\n",
                "          </tr>\n",
                "          <tr>\n",
                "            <td><code class=\"literal\">TZH</code></td>\n",
                "            <td>time-zone hours</td>\n",
                "          </tr>\n",
                "          <tr>\n",
                "            <td><code class=\"literal\">TZM</code></td>\n",
                "            <td>time-zone minutes</td>\n",
                "          </tr>\n",
                "          <tr>\n",
                "            <td><code class=\"literal\">OF</code></td>\n",
                "            <td>time-zone offset from UTC (only supported in <code class=\"function\">to_char</code>)</td>\n",
                "          </tr>\n",
                "        </tbody>\n",
                "      </table>"
            ],
            "metadata": {
                "azdata_cell_guid": "c62fe723-2d47-4970-8c61-afb574291b01"
            }
        },
        {
            "cell_type": "code",
            "source": [
                "select LOCALTIMESTAMP,\n",
                "    to_char(LOCALTIMESTAMP, 'DD') \"DD\",\n",
                "    to_char(LOCALTIMESTAMP, 'DDD') \"DDD\",\n",
                "    to_char(LOCALTIMESTAMP, 'Dy') \"Dy\""
            ],
            "metadata": {
                "azdata_cell_guid": "ecd950e3-208d-4714-9c46-494d22871b65"
            },
            "outputs": [
                {
                    "output_type": "display_data",
                    "data": {
                        "text/html": "(1 row(s) affected)"
                    },
                    "metadata": {}
                },
                {
                    "output_type": "display_data",
                    "data": {
                        "text/html": "Total execution time: 00:00:00.009"
                    },
                    "metadata": {}
                },
                {
                    "output_type": "execute_result",
                    "execution_count": 1,
                    "data": {
                        "application/vnd.dataresource+json": {
                            "schema": {
                                "fields": [
                                    {
                                        "name": "localtimestamp"
                                    },
                                    {
                                        "name": "DD"
                                    },
                                    {
                                        "name": "DDD"
                                    },
                                    {
                                        "name": "Dy"
                                    }
                                ]
                            },
                            "data": [
                                {
                                    "0": "2019-09-17T20:23:53.654620",
                                    "1": "17",
                                    "2": "260",
                                    "3": "Tue"
                                }
                            ]
                        },
                        "text/html": "<table><tr><th>localtimestamp</th><th>DD</th><th>DDD</th><th>Dy</th></tr><tr><td>2019-09-17T20:23:53.654620</td><td>17</td><td>260</td><td>Tue</td></tr></table>"
                    },
                    "metadata": {}
                }
            ],
            "execution_count": 1
        },
        {
            "cell_type": "code",
            "source": [
                "select '2019-02-01'::date,\n",
                "    to_char('2019-02-01'::date, 'DD') \"DD\",\n",
                "    to_char('2019-02-01'::date, 'DDD') \"DDD\",\n",
                "    to_char('2019-02-01'::date, 'Dy') \"Dy\",\n",
                "    to_char('2019-02-01'::date, 'Day') \"Day\",\n",
                "    to_char('2019-02-01'::date, 'MM') \"MM\",\n",
                "    to_char('2019-02-01'::date, 'Mon') \"Mon\",\n",
                "    to_char('2019-02-01'::date, 'Month') \"Month\""
            ],
            "metadata": {
                "azdata_cell_guid": "f670a485-43b6-467b-94b5-b0cc20dc2f9a"
            },
            "outputs": [
                {
                    "output_type": "display_data",
                    "data": {
                        "text/html": "(1 row(s) affected)"
                    },
                    "metadata": {}
                },
                {
                    "output_type": "display_data",
                    "data": {
                        "text/html": "Total execution time: 00:00:00.005"
                    },
                    "metadata": {}
                },
                {
                    "output_type": "execute_result",
                    "execution_count": 2,
                    "data": {
                        "application/vnd.dataresource+json": {
                            "schema": {
                                "fields": [
                                    {
                                        "name": "date"
                                    },
                                    {
                                        "name": "DD"
                                    },
                                    {
                                        "name": "DDD"
                                    },
                                    {
                                        "name": "Dy"
                                    },
                                    {
                                        "name": "Day"
                                    },
                                    {
                                        "name": "MM"
                                    },
                                    {
                                        "name": "Mon"
                                    },
                                    {
                                        "name": "Month"
                                    }
                                ]
                            },
                            "data": [
                                {
                                    "0": "2019-02-01",
                                    "1": "01",
                                    "2": "032",
                                    "3": "Fri",
                                    "4": "Friday   ",
                                    "5": "02",
                                    "6": "Feb",
                                    "7": "February "
                                }
                            ]
                        },
                        "text/html": "<table><tr><th>date</th><th>DD</th><th>DDD</th><th>Dy</th><th>Day</th><th>MM</th><th>Mon</th><th>Month</th></tr><tr><td>2019-02-01</td><td>01</td><td>032</td><td>Fri</td><td>Friday   </td><td>02</td><td>Feb</td><td>February </td></tr></table>"
                    },
                    "metadata": {}
                }
            ],
            "execution_count": 2
        },
        {
            "cell_type": "code",
            "source": [
                "select LOCALTIMESTAMP,\n",
                "    to_char(LOCALTIMESTAMP, 'HH') \"HH\",\n",
                "    to_char(LOCALTIMESTAMP, 'HH24') \"HH24\""
            ],
            "metadata": {
                "azdata_cell_guid": "b5e21139-323e-4c3e-bccd-76e2beba53f7"
            },
            "outputs": [
                {
                    "output_type": "display_data",
                    "data": {
                        "text/html": "(1 row(s) affected)"
                    },
                    "metadata": {}
                },
                {
                    "output_type": "display_data",
                    "data": {
                        "text/html": "Total execution time: 00:00:00.004"
                    },
                    "metadata": {}
                },
                {
                    "output_type": "execute_result",
                    "execution_count": 3,
                    "data": {
                        "application/vnd.dataresource+json": {
                            "schema": {
                                "fields": [
                                    {
                                        "name": "localtimestamp"
                                    },
                                    {
                                        "name": "HH"
                                    },
                                    {
                                        "name": "HH24"
                                    }
                                ]
                            },
                            "data": [
                                {
                                    "0": "2019-09-17T20:23:53.976675",
                                    "1": "08",
                                    "2": "20"
                                }
                            ]
                        },
                        "text/html": "<table><tr><th>localtimestamp</th><th>HH</th><th>HH24</th></tr><tr><td>2019-09-17T20:23:53.976675</td><td>08</td><td>20</td></tr></table>"
                    },
                    "metadata": {}
                }
            ],
            "execution_count": 3
        },
        {
            "cell_type": "code",
            "source": [
                "select '2019-07-11 14:30'::timestamp,\n",
                "    to_char('2019-07-11 14:30'::timestamp, 'HH') \"HH\",\n",
                "    to_char('2019-07-11 14:30'::timestamp, 'HH24') \"HH24\",\n",
                "    to_char('2019-07-11 14:30'::timestamp, 'HH24:MI') \"HH24:MI\",\n",
                "    to_char('2019-07-11 14:30'::timestamp, 'HH:MI am') \"HH:MI am\",\n",
                "    to_char('2019-07-11 14:30'::timestamp, 'Dy DD-Mon-YYYY HH:MI am') \"Dy DD-Mon-YYYY HH:MI am\""
            ],
            "metadata": {
                "azdata_cell_guid": "c5c8c145-4c89-4623-9a8c-51c34d58e294"
            },
            "outputs": [
                {
                    "output_type": "display_data",
                    "data": {
                        "text/html": "(1 row(s) affected)"
                    },
                    "metadata": {}
                },
                {
                    "output_type": "display_data",
                    "data": {
                        "text/html": "Total execution time: 00:00:00.005"
                    },
                    "metadata": {}
                },
                {
                    "output_type": "execute_result",
                    "execution_count": 4,
                    "data": {
                        "application/vnd.dataresource+json": {
                            "schema": {
                                "fields": [
                                    {
                                        "name": "timestamp"
                                    },
                                    {
                                        "name": "HH"
                                    },
                                    {
                                        "name": "HH24"
                                    },
                                    {
                                        "name": "HH24:MI"
                                    },
                                    {
                                        "name": "HH:MI am"
                                    },
                                    {
                                        "name": "Dy DD-Mon-YYYY HH:MI am"
                                    }
                                ]
                            },
                            "data": [
                                {
                                    "0": "2019-07-11T14:30:00",
                                    "1": "02",
                                    "2": "14",
                                    "3": "14:30",
                                    "4": "02:30 pm",
                                    "5": "Thu 11-Jul-2019 02:30 pm"
                                }
                            ]
                        },
                        "text/html": "<table><tr><th>timestamp</th><th>HH</th><th>HH24</th><th>HH24:MI</th><th>HH:MI am</th><th>Dy DD-Mon-YYYY HH:MI am</th></tr><tr><td>2019-07-11T14:30:00</td><td>02</td><td>14</td><td>14:30</td><td>02:30 pm</td><td>Thu 11-Jul-2019 02:30 pm</td></tr></table>"
                    },
                    "metadata": {}
                }
            ],
            "execution_count": 4
        }
    ]
}