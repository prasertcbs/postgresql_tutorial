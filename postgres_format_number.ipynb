{
    "metadata": {
        "kernelspec": {
            "name": "SQL",
            "display_name": "SQL",
            "language": "sql"
        },
        "language_info": {
            "name": "sql",
            "version": ""
        }
    },
    "nbformat_minor": 2,
    "nbformat": 4,
    "cells": [
        {
            "cell_type": "markdown",
            "source": [
                "# Format number with TO_CHAR()\n",
                "## Server: PostgreSQL\n",
                "## Database: saturn\n",
                "## Table: country\n",
                "## Author: Prasert Kanawattanachai\n",
                "## YouTube: https://youtu.be/uOhC9kMi_Ac"
            ],
            "metadata": {
                "azdata_cell_guid": "1c918984-bf98-4447-8cb7-3724a9a0e059"
            }
        },
        {
            "cell_type": "markdown",
            "source": [
                "doc: https://www.postgresql.org/docs/11/functions-formatting.html\n",
                "<table class=\"table\" summary=\"Template Patterns for Numeric Formatting\" border=\"1\">\n",
                "        <colgroup>\n",
                "          <col>\n",
                "          <col>\n",
                "        </colgroup>\n",
                "        <thead>\n",
                "          <tr>\n",
                "            <th>Pattern</th>\n",
                "            <th>Description</th>\n",
                "          </tr>\n",
                "        </thead>\n",
                "        <tbody>\n",
                "          <tr>\n",
                "            <td><code class=\"literal\">9</code></td>\n",
                "            <td>digit position (can be dropped if insignificant)</td>\n",
                "          </tr>\n",
                "          <tr>\n",
                "            <td><code class=\"literal\">0</code></td>\n",
                "            <td>digit position (will not be dropped, even if insignificant)</td>\n",
                "          </tr>\n",
                "          <tr>\n",
                "            <td><code class=\"literal\">.</code> (period)</td>\n",
                "            <td>decimal point</td>\n",
                "          </tr>\n",
                "          <tr>\n",
                "            <td><code class=\"literal\">,</code> (comma)</td>\n",
                "            <td>group (thousands) separator</td>\n",
                "          </tr>\n",
                "          <tr>\n",
                "            <td><code class=\"literal\">PR</code></td>\n",
                "            <td>negative value in angle brackets</td>\n",
                "          </tr>\n",
                "          <tr>\n",
                "            <td><code class=\"literal\">S</code></td>\n",
                "            <td>sign anchored to number (uses locale)</td>\n",
                "          </tr>\n",
                "          <tr>\n",
                "            <td><code class=\"literal\">L</code></td>\n",
                "            <td>currency symbol (uses locale)</td>\n",
                "          </tr>\n",
                "          <tr>\n",
                "            <td><code class=\"literal\">D</code></td>\n",
                "            <td>decimal point (uses locale)</td>\n",
                "          </tr>\n",
                "          <tr>\n",
                "            <td><code class=\"literal\">G</code></td>\n",
                "            <td>group separator (uses locale)</td>\n",
                "          </tr>\n",
                "          <tr>\n",
                "            <td><code class=\"literal\">MI</code></td>\n",
                "            <td>minus sign in specified position (if number &lt; 0)</td>\n",
                "          </tr>\n",
                "          <tr>\n",
                "            <td><code class=\"literal\">PL</code></td>\n",
                "            <td>plus sign in specified position (if number &gt; 0)</td>\n",
                "          </tr>\n",
                "          <tr>\n",
                "            <td><code class=\"literal\">SG</code></td>\n",
                "            <td>plus/minus sign in specified position</td>\n",
                "          </tr>\n",
                "          <tr>\n",
                "            <td><code class=\"literal\">RN</code></td>\n",
                "            <td>Roman numeral (input between 1 and 3999)</td>\n",
                "          </tr>\n",
                "          <tr>\n",
                "            <td><code class=\"literal\">TH</code> or <code class=\"literal\">th</code></td>\n",
                "            <td>ordinal number suffix</td>\n",
                "          </tr>\n",
                "          <tr>\n",
                "            <td><code class=\"literal\">V</code></td>\n",
                "            <td>shift specified number of digits (see notes)</td>\n",
                "          </tr>\n",
                "          <tr>\n",
                "            <td><code class=\"literal\">EEEE</code></td>\n",
                "            <td>exponent for scientific notation</td>\n",
                "          </tr>\n",
                "        </tbody>\n",
                "      </table>"
            ],
            "metadata": {
                "azdata_cell_guid": "330750a3-a934-4171-a11c-673701954162"
            }
        },
        {
            "cell_type": "code",
            "source": [
                "select 123456789, \n",
                "    to_char(123456789, '9,999,999,999'),\n",
                "    to_char(123456789, '999,999')"
            ],
            "metadata": {
                "azdata_cell_guid": "858e9614-198c-4eae-b279-7955dfc2271f"
            },
            "outputs": [
                {
                    "output_type": "display_data",
                    "data": {
                        "text/html": "(1 row(s) affected)"
                    },
                    "metadata": {}
                },
                {
                    "output_type": "display_data",
                    "data": {
                        "text/html": "Total execution time: 00:00:00.010"
                    },
                    "metadata": {}
                },
                {
                    "output_type": "execute_result",
                    "metadata": {},
                    "execution_count": 1,
                    "data": {
                        "application/vnd.dataresource+json": {
                            "schema": {
                                "fields": [
                                    {
                                        "name": "Column1"
                                    },
                                    {
                                        "name": "to_char"
                                    },
                                    {
                                        "name": "to_char"
                                    }
                                ]
                            },
                            "data": [
                                {
                                    "0": "123456789",
                                    "1": "   123,456,789",
                                    "2": " ###,###"
                                }
                            ]
                        },
                        "text/html": "<table><tr><th>Column1</th><th>to_char</th><th>to_char</th></tr><tr><td>123456789</td><td>   123,456,789</td><td> ###,###</td></tr></table>"
                    }
                }
            ],
            "execution_count": 1
        },
        {
            "cell_type": "code",
            "source": [
                "select 1234.758,\n",
                "    to_char(1234.758, '9999.99'),\n",
                "    to_char(1234.758, '9,999.99') \"9,999.99\",\n",
                "    to_char(1234.758, '9G999D99') \"9G999D99\" -- G, D (locale)"
            ],
            "metadata": {
                "azdata_cell_guid": "5ccd49b7-454b-4fbf-a0b6-9365c9e13422"
            },
            "outputs": [
                {
                    "output_type": "display_data",
                    "data": {
                        "text/html": "(1 row(s) affected)"
                    },
                    "metadata": {}
                },
                {
                    "output_type": "display_data",
                    "data": {
                        "text/html": "Total execution time: 00:00:00.008"
                    },
                    "metadata": {}
                },
                {
                    "output_type": "execute_result",
                    "metadata": {},
                    "execution_count": 2,
                    "data": {
                        "application/vnd.dataresource+json": {
                            "schema": {
                                "fields": [
                                    {
                                        "name": "Column1"
                                    },
                                    {
                                        "name": "to_char"
                                    },
                                    {
                                        "name": "9,999.99"
                                    },
                                    {
                                        "name": "9G999D99"
                                    }
                                ]
                            },
                            "data": [
                                {
                                    "0": "1234.758",
                                    "1": " 1234.76",
                                    "2": " 1,234.76",
                                    "3": " 1,234.76"
                                }
                            ]
                        },
                        "text/html": "<table><tr><th>Column1</th><th>to_char</th><th>9,999.99</th><th>9G999D99</th></tr><tr><td>1234.758</td><td> 1234.76</td><td> 1,234.76</td><td> 1,234.76</td></tr></table>"
                    }
                }
            ],
            "execution_count": 2
        },
        {
            "cell_type": "code",
            "source": [
                "select * from country limit 10;"
            ],
            "metadata": {
                "azdata_cell_guid": "f0217d9e-9425-4b1a-a394-9908e4fcca12"
            },
            "outputs": [
                {
                    "output_type": "display_data",
                    "data": {
                        "text/html": "(10 row(s) affected)"
                    },
                    "metadata": {}
                },
                {
                    "output_type": "display_data",
                    "data": {
                        "text/html": "Total execution time: 00:00:00.013"
                    },
                    "metadata": {}
                },
                {
                    "output_type": "execute_result",
                    "metadata": {},
                    "execution_count": 3,
                    "data": {
                        "application/vnd.dataresource+json": {
                            "schema": {
                                "fields": [
                                    {
                                        "name": "code"
                                    },
                                    {
                                        "name": "name"
                                    },
                                    {
                                        "name": "continent"
                                    },
                                    {
                                        "name": "region"
                                    },
                                    {
                                        "name": "surfacearea"
                                    },
                                    {
                                        "name": "indepyear"
                                    },
                                    {
                                        "name": "population"
                                    },
                                    {
                                        "name": "lifeexpectancy"
                                    },
                                    {
                                        "name": "gnp"
                                    },
                                    {
                                        "name": "gnpold"
                                    },
                                    {
                                        "name": "localname"
                                    },
                                    {
                                        "name": "governmentform"
                                    },
                                    {
                                        "name": "headofstate"
                                    },
                                    {
                                        "name": "capital"
                                    },
                                    {
                                        "name": "code2"
                                    }
                                ]
                            },
                            "data": [
                                {
                                    "0": "ABW",
                                    "1": "Aruba",
                                    "2": "North America",
                                    "3": "Caribbean",
                                    "4": "193.0",
                                    "5": "NULL",
                                    "6": "103000",
                                    "7": "78.4",
                                    "8": "828.0",
                                    "9": "793.0",
                                    "10": "Aruba",
                                    "11": "Nonmetropolitan Territory of The Netherlands",
                                    "12": "Beatrix",
                                    "13": "129.0",
                                    "14": "AW"
                                },
                                {
                                    "0": "AFG",
                                    "1": "Afghanistan",
                                    "2": "Asia",
                                    "3": "Southern and Central Asia",
                                    "4": "652090.0",
                                    "5": "1919.0",
                                    "6": "22720000",
                                    "7": "45.9",
                                    "8": "5976.0",
                                    "9": "NULL",
                                    "10": "Afganistan/Afqanestan",
                                    "11": "Islamic Emirate",
                                    "12": "Mohammad Omar",
                                    "13": "1.0",
                                    "14": "AF"
                                },
                                {
                                    "0": "AGO",
                                    "1": "Angola",
                                    "2": "Africa",
                                    "3": "Central Africa",
                                    "4": "1246700.0",
                                    "5": "1975.0",
                                    "6": "12878000",
                                    "7": "38.3",
                                    "8": "6648.0",
                                    "9": "7984.0",
                                    "10": "Angola",
                                    "11": "Republic",
                                    "12": "José Eduardo dos Santos",
                                    "13": "56.0",
                                    "14": "AO"
                                },
                                {
                                    "0": "AIA",
                                    "1": "Anguilla",
                                    "2": "North America",
                                    "3": "Caribbean",
                                    "4": "96.0",
                                    "5": "NULL",
                                    "6": "8000",
                                    "7": "76.1",
                                    "8": "63.2",
                                    "9": "NULL",
                                    "10": "Anguilla",
                                    "11": "Dependent Territory of the UK",
                                    "12": "Elisabeth II",
                                    "13": "62.0",
                                    "14": "AI"
                                },
                                {
                                    "0": "ALB",
                                    "1": "Albania",
                                    "2": "Europe",
                                    "3": "Southern Europe",
                                    "4": "28748.0",
                                    "5": "1912.0",
                                    "6": "3401200",
                                    "7": "71.6",
                                    "8": "3205.0",
                                    "9": "2500.0",
                                    "10": "Shqipëria",
                                    "11": "Republic",
                                    "12": "Rexhep Mejdani",
                                    "13": "34.0",
                                    "14": "AL"
                                },
                                {
                                    "0": "AND",
                                    "1": "Andorra",
                                    "2": "Europe",
                                    "3": "Southern Europe",
                                    "4": "468.0",
                                    "5": "1278.0",
                                    "6": "78000",
                                    "7": "83.5",
                                    "8": "1630.0",
                                    "9": "NULL",
                                    "10": "Andorra",
                                    "11": "Parliamentary Coprincipality",
                                    "12": "NULL",
                                    "13": "55.0",
                                    "14": "AD"
                                },
                                {
                                    "0": "ANT",
                                    "1": "Netherlands Antilles",
                                    "2": "North America",
                                    "3": "Caribbean",
                                    "4": "800.0",
                                    "5": "NULL",
                                    "6": "217000",
                                    "7": "74.7",
                                    "8": "1941.0",
                                    "9": "NULL",
                                    "10": "Nederlandse Antillen",
                                    "11": "Nonmetropolitan Territory of The Netherlands",
                                    "12": "Beatrix",
                                    "13": "33.0",
                                    "14": "AN"
                                },
                                {
                                    "0": "ARE",
                                    "1": "United Arab Emirates",
                                    "2": "Asia",
                                    "3": "Middle East",
                                    "4": "83600.0",
                                    "5": "1971.0",
                                    "6": "2441000",
                                    "7": "74.1",
                                    "8": "37966.0",
                                    "9": "36846.0",
                                    "10": "Al-Imarat al-´Arabiya al-Muttahida",
                                    "11": "Emirate Federation",
                                    "12": "Zayid bin Sultan al-Nahayan",
                                    "13": "65.0",
                                    "14": "AE"
                                },
                                {
                                    "0": "ARG",
                                    "1": "Argentina",
                                    "2": "South America",
                                    "3": "South America",
                                    "4": "2780400.0",
                                    "5": "1816.0",
                                    "6": "37032000",
                                    "7": "75.1",
                                    "8": "340238.0",
                                    "9": "323310.0",
                                    "10": "Argentina",
                                    "11": "Federal Republic",
                                    "12": "Fernando de la Rúa",
                                    "13": "69.0",
                                    "14": "AR"
                                },
                                {
                                    "0": "ARM",
                                    "1": "Armenia",
                                    "2": "Asia",
                                    "3": "Middle East",
                                    "4": "29800.0",
                                    "5": "1991.0",
                                    "6": "3520000",
                                    "7": "66.4",
                                    "8": "1813.0",
                                    "9": "1627.0",
                                    "10": "Hajastan",
                                    "11": "Republic",
                                    "12": "Robert Kotšarjan",
                                    "13": "126.0",
                                    "14": "AM"
                                }
                            ]
                        },
                        "text/html": "<table><tr><th>code</th><th>name</th><th>continent</th><th>region</th><th>surfacearea</th><th>indepyear</th><th>population</th><th>lifeexpectancy</th><th>gnp</th><th>gnpold</th><th>localname</th><th>governmentform</th><th>headofstate</th><th>capital</th><th>code2</th></tr><tr><td>ABW</td><td>Aruba</td><td>North America</td><td>Caribbean</td><td>193.0</td><td>NULL</td><td>103000</td><td>78.4</td><td>828.0</td><td>793.0</td><td>Aruba</td><td>Nonmetropolitan Territory of The Netherlands</td><td>Beatrix</td><td>129.0</td><td>AW</td></tr><tr><td>AFG</td><td>Afghanistan</td><td>Asia</td><td>Southern and Central Asia</td><td>652090.0</td><td>1919.0</td><td>22720000</td><td>45.9</td><td>5976.0</td><td>NULL</td><td>Afganistan/Afqanestan</td><td>Islamic Emirate</td><td>Mohammad Omar</td><td>1.0</td><td>AF</td></tr><tr><td>AGO</td><td>Angola</td><td>Africa</td><td>Central Africa</td><td>1246700.0</td><td>1975.0</td><td>12878000</td><td>38.3</td><td>6648.0</td><td>7984.0</td><td>Angola</td><td>Republic</td><td>José Eduardo dos Santos</td><td>56.0</td><td>AO</td></tr><tr><td>AIA</td><td>Anguilla</td><td>North America</td><td>Caribbean</td><td>96.0</td><td>NULL</td><td>8000</td><td>76.1</td><td>63.2</td><td>NULL</td><td>Anguilla</td><td>Dependent Territory of the UK</td><td>Elisabeth II</td><td>62.0</td><td>AI</td></tr><tr><td>ALB</td><td>Albania</td><td>Europe</td><td>Southern Europe</td><td>28748.0</td><td>1912.0</td><td>3401200</td><td>71.6</td><td>3205.0</td><td>2500.0</td><td>Shqipëria</td><td>Republic</td><td>Rexhep Mejdani</td><td>34.0</td><td>AL</td></tr><tr><td>AND</td><td>Andorra</td><td>Europe</td><td>Southern Europe</td><td>468.0</td><td>1278.0</td><td>78000</td><td>83.5</td><td>1630.0</td><td>NULL</td><td>Andorra</td><td>Parliamentary Coprincipality</td><td>NULL</td><td>55.0</td><td>AD</td></tr><tr><td>ANT</td><td>Netherlands Antilles</td><td>North America</td><td>Caribbean</td><td>800.0</td><td>NULL</td><td>217000</td><td>74.7</td><td>1941.0</td><td>NULL</td><td>Nederlandse Antillen</td><td>Nonmetropolitan Territory of The Netherlands</td><td>Beatrix</td><td>33.0</td><td>AN</td></tr><tr><td>ARE</td><td>United Arab Emirates</td><td>Asia</td><td>Middle East</td><td>83600.0</td><td>1971.0</td><td>2441000</td><td>74.1</td><td>37966.0</td><td>36846.0</td><td>Al-Imarat al-´Arabiya al-Muttahida</td><td>Emirate Federation</td><td>Zayid bin Sultan al-Nahayan</td><td>65.0</td><td>AE</td></tr><tr><td>ARG</td><td>Argentina</td><td>South America</td><td>South America</td><td>2780400.0</td><td>1816.0</td><td>37032000</td><td>75.1</td><td>340238.0</td><td>323310.0</td><td>Argentina</td><td>Federal Republic</td><td>Fernando de la Rúa</td><td>69.0</td><td>AR</td></tr><tr><td>ARM</td><td>Armenia</td><td>Asia</td><td>Middle East</td><td>29800.0</td><td>1991.0</td><td>3520000</td><td>66.4</td><td>1813.0</td><td>1627.0</td><td>Hajastan</td><td>Republic</td><td>Robert Kotšarjan</td><td>126.0</td><td>AM</td></tr></table>"
                    }
                }
            ],
            "execution_count": 3
        },
        {
            "cell_type": "code",
            "source": [
                "select name, surfacearea, population, gnp from country limit 10"
            ],
            "metadata": {
                "azdata_cell_guid": "3abfe5a0-e09f-451e-a8ef-f4e4f38d5765"
            },
            "outputs": [
                {
                    "output_type": "display_data",
                    "data": {
                        "text/html": "(10 row(s) affected)"
                    },
                    "metadata": {}
                },
                {
                    "output_type": "display_data",
                    "data": {
                        "text/html": "Total execution time: 00:00:00.008"
                    },
                    "metadata": {}
                },
                {
                    "output_type": "execute_result",
                    "metadata": {},
                    "execution_count": 4,
                    "data": {
                        "application/vnd.dataresource+json": {
                            "schema": {
                                "fields": [
                                    {
                                        "name": "name"
                                    },
                                    {
                                        "name": "surfacearea"
                                    },
                                    {
                                        "name": "population"
                                    },
                                    {
                                        "name": "gnp"
                                    }
                                ]
                            },
                            "data": [
                                {
                                    "0": "Aruba",
                                    "1": "193.0",
                                    "2": "103000",
                                    "3": "828.0"
                                },
                                {
                                    "0": "Afghanistan",
                                    "1": "652090.0",
                                    "2": "22720000",
                                    "3": "5976.0"
                                },
                                {
                                    "0": "Angola",
                                    "1": "1246700.0",
                                    "2": "12878000",
                                    "3": "6648.0"
                                },
                                {
                                    "0": "Anguilla",
                                    "1": "96.0",
                                    "2": "8000",
                                    "3": "63.2"
                                },
                                {
                                    "0": "Albania",
                                    "1": "28748.0",
                                    "2": "3401200",
                                    "3": "3205.0"
                                },
                                {
                                    "0": "Andorra",
                                    "1": "468.0",
                                    "2": "78000",
                                    "3": "1630.0"
                                },
                                {
                                    "0": "Netherlands Antilles",
                                    "1": "800.0",
                                    "2": "217000",
                                    "3": "1941.0"
                                },
                                {
                                    "0": "United Arab Emirates",
                                    "1": "83600.0",
                                    "2": "2441000",
                                    "3": "37966.0"
                                },
                                {
                                    "0": "Argentina",
                                    "1": "2780400.0",
                                    "2": "37032000",
                                    "3": "340238.0"
                                },
                                {
                                    "0": "Armenia",
                                    "1": "29800.0",
                                    "2": "3520000",
                                    "3": "1813.0"
                                }
                            ]
                        },
                        "text/html": "<table><tr><th>name</th><th>surfacearea</th><th>population</th><th>gnp</th></tr><tr><td>Aruba</td><td>193.0</td><td>103000</td><td>828.0</td></tr><tr><td>Afghanistan</td><td>652090.0</td><td>22720000</td><td>5976.0</td></tr><tr><td>Angola</td><td>1246700.0</td><td>12878000</td><td>6648.0</td></tr><tr><td>Anguilla</td><td>96.0</td><td>8000</td><td>63.2</td></tr><tr><td>Albania</td><td>28748.0</td><td>3401200</td><td>3205.0</td></tr><tr><td>Andorra</td><td>468.0</td><td>78000</td><td>1630.0</td></tr><tr><td>Netherlands Antilles</td><td>800.0</td><td>217000</td><td>1941.0</td></tr><tr><td>United Arab Emirates</td><td>83600.0</td><td>2441000</td><td>37966.0</td></tr><tr><td>Argentina</td><td>2780400.0</td><td>37032000</td><td>340238.0</td></tr><tr><td>Armenia</td><td>29800.0</td><td>3520000</td><td>1813.0</td></tr></table>"
                    }
                }
            ],
            "execution_count": 4
        },
        {
            "cell_type": "code",
            "source": [
                "select name, \n",
                "    surfacearea, \n",
                "    to_char(surfacearea, '9G999G999G999'), \n",
                "    population, \n",
                "    to_char(population, '9G999G999G999'),\n",
                "    to_char(population / 1e6, '9G999G999G999D99'),\n",
                "    to_char(population / 1e6, '9G999G999G999D99') || ' m',\n",
                "    gnp,\n",
                "    to_char(gnp, '9G999G999G999D99') || ' mil USD' \n",
                "    from country limit 10"
            ],
            "metadata": {
                "azdata_cell_guid": "279ac0a2-2333-41e6-949c-b5241b35af36"
            },
            "outputs": [
                {
                    "output_type": "display_data",
                    "data": {
                        "text/html": "(10 row(s) affected)"
                    },
                    "metadata": {}
                },
                {
                    "output_type": "display_data",
                    "data": {
                        "text/html": "Total execution time: 00:00:00.006"
                    },
                    "metadata": {}
                },
                {
                    "output_type": "execute_result",
                    "metadata": {},
                    "execution_count": 5,
                    "data": {
                        "application/vnd.dataresource+json": {
                            "schema": {
                                "fields": [
                                    {
                                        "name": "name"
                                    },
                                    {
                                        "name": "surfacearea"
                                    },
                                    {
                                        "name": "to_char"
                                    },
                                    {
                                        "name": "population"
                                    },
                                    {
                                        "name": "to_char"
                                    },
                                    {
                                        "name": "to_char"
                                    },
                                    {
                                        "name": "Column7"
                                    },
                                    {
                                        "name": "gnp"
                                    },
                                    {
                                        "name": "Column9"
                                    }
                                ]
                            },
                            "data": [
                                {
                                    "0": "Aruba",
                                    "1": "193.0",
                                    "2": "           193",
                                    "3": "103000",
                                    "4": "       103,000",
                                    "5": "              .10",
                                    "6": "              .10 m",
                                    "7": "828.0",
                                    "8": "           828.00 mil USD"
                                },
                                {
                                    "0": "Afghanistan",
                                    "1": "652090.0",
                                    "2": "       652,090",
                                    "3": "22720000",
                                    "4": "    22,720,000",
                                    "5": "            22.72",
                                    "6": "            22.72 m",
                                    "7": "5976.0",
                                    "8": "         5,976.00 mil USD"
                                },
                                {
                                    "0": "Angola",
                                    "1": "1246700.0",
                                    "2": "     1,246,700",
                                    "3": "12878000",
                                    "4": "    12,878,000",
                                    "5": "            12.88",
                                    "6": "            12.88 m",
                                    "7": "6648.0",
                                    "8": "         6,648.00 mil USD"
                                },
                                {
                                    "0": "Anguilla",
                                    "1": "96.0",
                                    "2": "            96",
                                    "3": "8000",
                                    "4": "         8,000",
                                    "5": "              .01",
                                    "6": "              .01 m",
                                    "7": "63.2",
                                    "8": "            63.20 mil USD"
                                },
                                {
                                    "0": "Albania",
                                    "1": "28748.0",
                                    "2": "        28,748",
                                    "3": "3401200",
                                    "4": "     3,401,200",
                                    "5": "             3.40",
                                    "6": "             3.40 m",
                                    "7": "3205.0",
                                    "8": "         3,205.00 mil USD"
                                },
                                {
                                    "0": "Andorra",
                                    "1": "468.0",
                                    "2": "           468",
                                    "3": "78000",
                                    "4": "        78,000",
                                    "5": "              .08",
                                    "6": "              .08 m",
                                    "7": "1630.0",
                                    "8": "         1,630.00 mil USD"
                                },
                                {
                                    "0": "Netherlands Antilles",
                                    "1": "800.0",
                                    "2": "           800",
                                    "3": "217000",
                                    "4": "       217,000",
                                    "5": "              .22",
                                    "6": "              .22 m",
                                    "7": "1941.0",
                                    "8": "         1,941.00 mil USD"
                                },
                                {
                                    "0": "United Arab Emirates",
                                    "1": "83600.0",
                                    "2": "        83,600",
                                    "3": "2441000",
                                    "4": "     2,441,000",
                                    "5": "             2.44",
                                    "6": "             2.44 m",
                                    "7": "37966.0",
                                    "8": "        37,966.00 mil USD"
                                },
                                {
                                    "0": "Argentina",
                                    "1": "2780400.0",
                                    "2": "     2,780,400",
                                    "3": "37032000",
                                    "4": "    37,032,000",
                                    "5": "            37.03",
                                    "6": "            37.03 m",
                                    "7": "340238.0",
                                    "8": "       340,238.00 mil USD"
                                },
                                {
                                    "0": "Armenia",
                                    "1": "29800.0",
                                    "2": "        29,800",
                                    "3": "3520000",
                                    "4": "     3,520,000",
                                    "5": "             3.52",
                                    "6": "             3.52 m",
                                    "7": "1813.0",
                                    "8": "         1,813.00 mil USD"
                                }
                            ]
                        },
                        "text/html": "<table><tr><th>name</th><th>surfacearea</th><th>to_char</th><th>population</th><th>to_char</th><th>to_char</th><th>Column7</th><th>gnp</th><th>Column9</th></tr><tr><td>Aruba</td><td>193.0</td><td>           193</td><td>103000</td><td>       103,000</td><td>              .10</td><td>              .10 m</td><td>828.0</td><td>           828.00 mil USD</td></tr><tr><td>Afghanistan</td><td>652090.0</td><td>       652,090</td><td>22720000</td><td>    22,720,000</td><td>            22.72</td><td>            22.72 m</td><td>5976.0</td><td>         5,976.00 mil USD</td></tr><tr><td>Angola</td><td>1246700.0</td><td>     1,246,700</td><td>12878000</td><td>    12,878,000</td><td>            12.88</td><td>            12.88 m</td><td>6648.0</td><td>         6,648.00 mil USD</td></tr><tr><td>Anguilla</td><td>96.0</td><td>            96</td><td>8000</td><td>         8,000</td><td>              .01</td><td>              .01 m</td><td>63.2</td><td>            63.20 mil USD</td></tr><tr><td>Albania</td><td>28748.0</td><td>        28,748</td><td>3401200</td><td>     3,401,200</td><td>             3.40</td><td>             3.40 m</td><td>3205.0</td><td>         3,205.00 mil USD</td></tr><tr><td>Andorra</td><td>468.0</td><td>           468</td><td>78000</td><td>        78,000</td><td>              .08</td><td>              .08 m</td><td>1630.0</td><td>         1,630.00 mil USD</td></tr><tr><td>Netherlands Antilles</td><td>800.0</td><td>           800</td><td>217000</td><td>       217,000</td><td>              .22</td><td>              .22 m</td><td>1941.0</td><td>         1,941.00 mil USD</td></tr><tr><td>United Arab Emirates</td><td>83600.0</td><td>        83,600</td><td>2441000</td><td>     2,441,000</td><td>             2.44</td><td>             2.44 m</td><td>37966.0</td><td>        37,966.00 mil USD</td></tr><tr><td>Argentina</td><td>2780400.0</td><td>     2,780,400</td><td>37032000</td><td>    37,032,000</td><td>            37.03</td><td>            37.03 m</td><td>340238.0</td><td>       340,238.00 mil USD</td></tr><tr><td>Armenia</td><td>29800.0</td><td>        29,800</td><td>3520000</td><td>     3,520,000</td><td>             3.52</td><td>             3.52 m</td><td>1813.0</td><td>         1,813.00 mil USD</td></tr></table>"
                    }
                }
            ],
            "execution_count": 5
        },
        {
            "cell_type": "code",
            "source": [
                "select name, \n",
                "    to_char(surfacearea, '999G999G999G999'),\n",
                "    to_char(surfacearea, '999G999'),\n",
                "    to_char(population, '9G999G999G999'),\n",
                "    to_char(population / 1e6, '9G999G999G999D99'),\n",
                "    to_char(population / 1e6, '9G999G999G999D99') || ' mil' \"population (mil)\",\n",
                "    gnp\n",
                "    from country\n",
                "    where continent = 'Asia' \n",
                "    order by random() limit 10;"
            ],
            "metadata": {
                "azdata_cell_guid": "20092b98-05db-45bc-a889-1c2451fe3d19"
            },
            "outputs": [
                {
                    "output_type": "display_data",
                    "data": {
                        "text/html": "(10 row(s) affected)"
                    },
                    "metadata": {}
                },
                {
                    "output_type": "display_data",
                    "data": {
                        "text/html": "Total execution time: 00:00:00.009"
                    },
                    "metadata": {}
                },
                {
                    "output_type": "execute_result",
                    "metadata": {},
                    "execution_count": 6,
                    "data": {
                        "application/vnd.dataresource+json": {
                            "schema": {
                                "fields": [
                                    {
                                        "name": "name"
                                    },
                                    {
                                        "name": "to_char"
                                    },
                                    {
                                        "name": "to_char"
                                    },
                                    {
                                        "name": "to_char"
                                    },
                                    {
                                        "name": "to_char"
                                    },
                                    {
                                        "name": "population (mil)"
                                    },
                                    {
                                        "name": "gnp"
                                    }
                                ]
                            },
                            "data": [
                                {
                                    "0": "Singapore",
                                    "1": "             618",
                                    "2": "     618",
                                    "3": "     3,567,000",
                                    "4": "             3.57",
                                    "5": "             3.57 mil",
                                    "6": "86503.0"
                                },
                                {
                                    "0": "Saudi Arabia",
                                    "1": "       2,149,690",
                                    "2": " ###,###",
                                    "3": "    21,607,000",
                                    "4": "            21.61",
                                    "5": "            21.61 mil",
                                    "6": "137635.0"
                                },
                                {
                                    "0": "Armenia",
                                    "1": "          29,800",
                                    "2": "  29,800",
                                    "3": "     3,520,000",
                                    "4": "             3.52",
                                    "5": "             3.52 mil",
                                    "6": "1813.0"
                                },
                                {
                                    "0": "Macao",
                                    "1": "              18",
                                    "2": "      18",
                                    "3": "       473,000",
                                    "4": "              .47",
                                    "5": "              .47 mil",
                                    "6": "5749.0"
                                },
                                {
                                    "0": "East Timor",
                                    "1": "          14,874",
                                    "2": "  14,874",
                                    "3": "       885,000",
                                    "4": "              .89",
                                    "5": "              .89 mil",
                                    "6": "0.0"
                                },
                                {
                                    "0": "Indonesia",
                                    "1": "       1,904,569",
                                    "2": " ###,###",
                                    "3": "   212,107,000",
                                    "4": "           212.11",
                                    "5": "           212.11 mil",
                                    "6": "84982.0"
                                },
                                {
                                    "0": "Tajikistan",
                                    "1": "         143,100",
                                    "2": " 143,100",
                                    "3": "     6,188,000",
                                    "4": "             6.19",
                                    "5": "             6.19 mil",
                                    "6": "1990.0"
                                },
                                {
                                    "0": "Jordan",
                                    "1": "          88,946",
                                    "2": "  88,946",
                                    "3": "     5,083,000",
                                    "4": "             5.08",
                                    "5": "             5.08 mil",
                                    "6": "7526.0"
                                },
                                {
                                    "0": "Hong Kong",
                                    "1": "           1,075",
                                    "2": "   1,075",
                                    "3": "     6,782,000",
                                    "4": "             6.78",
                                    "5": "             6.78 mil",
                                    "6": "166448.0"
                                },
                                {
                                    "0": "Thailand",
                                    "1": "         513,115",
                                    "2": " 513,115",
                                    "3": "    61,399,000",
                                    "4": "            61.40",
                                    "5": "            61.40 mil",
                                    "6": "116416.0"
                                }
                            ]
                        },
                        "text/html": "<table><tr><th>name</th><th>to_char</th><th>to_char</th><th>to_char</th><th>to_char</th><th>population (mil)</th><th>gnp</th></tr><tr><td>Singapore</td><td>             618</td><td>     618</td><td>     3,567,000</td><td>             3.57</td><td>             3.57 mil</td><td>86503.0</td></tr><tr><td>Saudi Arabia</td><td>       2,149,690</td><td> ###,###</td><td>    21,607,000</td><td>            21.61</td><td>            21.61 mil</td><td>137635.0</td></tr><tr><td>Armenia</td><td>          29,800</td><td>  29,800</td><td>     3,520,000</td><td>             3.52</td><td>             3.52 mil</td><td>1813.0</td></tr><tr><td>Macao</td><td>              18</td><td>      18</td><td>       473,000</td><td>              .47</td><td>              .47 mil</td><td>5749.0</td></tr><tr><td>East Timor</td><td>          14,874</td><td>  14,874</td><td>       885,000</td><td>              .89</td><td>              .89 mil</td><td>0.0</td></tr><tr><td>Indonesia</td><td>       1,904,569</td><td> ###,###</td><td>   212,107,000</td><td>           212.11</td><td>           212.11 mil</td><td>84982.0</td></tr><tr><td>Tajikistan</td><td>         143,100</td><td> 143,100</td><td>     6,188,000</td><td>             6.19</td><td>             6.19 mil</td><td>1990.0</td></tr><tr><td>Jordan</td><td>          88,946</td><td>  88,946</td><td>     5,083,000</td><td>             5.08</td><td>             5.08 mil</td><td>7526.0</td></tr><tr><td>Hong Kong</td><td>           1,075</td><td>   1,075</td><td>     6,782,000</td><td>             6.78</td><td>             6.78 mil</td><td>166448.0</td></tr><tr><td>Thailand</td><td>         513,115</td><td> 513,115</td><td>    61,399,000</td><td>            61.40</td><td>            61.40 mil</td><td>116416.0</td></tr></table>"
                    }
                }
            ],
            "execution_count": 6
        },
        {
            "cell_type": "code",
            "source": [
                "select to_char(2019, 'RN')"
            ],
            "metadata": {
                "azdata_cell_guid": "36847946-7bf6-472c-8f43-6a7357ad2daf"
            },
            "outputs": [
                {
                    "output_type": "display_data",
                    "data": {
                        "text/html": "(1 row(s) affected)"
                    },
                    "metadata": {}
                },
                {
                    "output_type": "display_data",
                    "data": {
                        "text/html": "Total execution time: 00:00:00.004"
                    },
                    "metadata": {}
                },
                {
                    "output_type": "execute_result",
                    "metadata": {},
                    "execution_count": 7,
                    "data": {
                        "application/vnd.dataresource+json": {
                            "schema": {
                                "fields": [
                                    {
                                        "name": "to_char"
                                    }
                                ]
                            },
                            "data": [
                                {
                                    "0": "          MMXIX"
                                }
                            ]
                        },
                        "text/html": "<table><tr><th>to_char</th></tr><tr><td>          MMXIX</td></tr></table>"
                    }
                }
            ],
            "execution_count": 7
        }
    ]
}