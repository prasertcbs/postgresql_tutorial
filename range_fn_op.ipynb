{
    "metadata": {
        "kernelspec": {
            "name": "SQL",
            "display_name": "SQL",
            "language": "sql"
        },
        "language_info": {
            "name": "sql",
            "version": ""
        }
    },
    "nbformat_minor": 2,
    "nbformat": 4,
    "cells": [
        {
            "cell_type": "markdown",
            "source": [
                "# PostgreSQL Range data type\n",
                "\n",
                "-   range data type: [https://www.postgresql.org/docs/current/rangetypes.html](https://www.postgresql.org/docs/current/rangetypes.html) \n",
                "    \n",
                "-   doc: [https://www.postgresql.org/docs/current/functions-range.html](https://www.postgresql.org/docs/current/functions-range.html)"
            ],
            "metadata": {
                "azdata_cell_guid": "4bc0dac4-7b5b-4fb5-ab35-bc20eca010ef"
            }
        },
        {
            "cell_type": "code",
            "source": [
                "drop table if exists job;\n",
                "\n",
                "create table job(\n",
                "    id varchar(5) primary key,\n",
                "    descr text,\n",
                "    salary numrange,\n",
                "    open_period daterange\n",
                ");"
            ],
            "metadata": {
                "azdata_cell_guid": "5eeb86cd-0d43-414e-b3be-2c239a315116"
            },
            "outputs": [
                {
                    "output_type": "display_data",
                    "data": {
                        "text/html": "Commands completed successfully"
                    },
                    "metadata": {}
                },
                {
                    "output_type": "display_data",
                    "data": {
                        "text/html": "Commands completed successfully"
                    },
                    "metadata": {}
                },
                {
                    "output_type": "display_data",
                    "data": {
                        "text/html": "Total execution time: 00:00:00.021"
                    },
                    "metadata": {}
                }
            ],
            "execution_count": 56
        },
        {
            "cell_type": "code",
            "source": [
                "-- (), [], (], [)\n",
                "\n",
                "insert into job(id, descr, salary, open_period) values \n",
                "    ('ITS', 'IT security', '[50000, 100000]', '[2020-10-01, 2020-10-31]'),\n",
                "    ('FIN', 'Finance', '(50000, 60000)', '[2020-10-15, 2020-11-15)'),\n",
                "    ('MKT', 'Marketing', '[30000, 50000)', '[2020-10-20, 2020-11-30]'),\n",
                "    ('HR', 'Human Resources', '(27000, 52000]', '[2020-11-01, 2020-11-15]'),\n",
                "    ('WH', 'Warehouse', '[15000, 25000]', '[2020-11-15, 2020-12-15]'),\n",
                "    ('CEO', 'CEO', '[200000,)', '[2020-10-15, 2020-11-15)'),\n",
                "    ('PD', 'Production', '(,70000]', '[2020-11-15, 2020-12-15]')"
            ],
            "metadata": {
                "azdata_cell_guid": "a9751bca-c060-40dd-a00d-f2ad4b67b5a3"
            },
            "outputs": [
                {
                    "output_type": "display_data",
                    "data": {
                        "text/html": "Commands completed successfully"
                    },
                    "metadata": {}
                },
                {
                    "output_type": "display_data",
                    "data": {
                        "text/html": "Total execution time: 00:00:00.001"
                    },
                    "metadata": {}
                }
            ],
            "execution_count": 57
        },
        {
            "cell_type": "code",
            "source": [
                "select * from job;"
            ],
            "metadata": {
                "azdata_cell_guid": "4ee9cf5e-1269-4f83-bfb7-50c8bc076c6c"
            },
            "outputs": [
                {
                    "output_type": "display_data",
                    "data": {
                        "text/html": "(7 row(s) affected)"
                    },
                    "metadata": {}
                },
                {
                    "output_type": "display_data",
                    "data": {
                        "text/html": "Total execution time: 00:00:00.012"
                    },
                    "metadata": {}
                },
                {
                    "output_type": "execute_result",
                    "metadata": {},
                    "execution_count": 58,
                    "data": {
                        "application/vnd.dataresource+json": {
                            "schema": {
                                "fields": [
                                    {
                                        "name": "id"
                                    },
                                    {
                                        "name": "descr"
                                    },
                                    {
                                        "name": "salary"
                                    },
                                    {
                                        "name": "open_period"
                                    }
                                ]
                            },
                            "data": [
                                {
                                    "0": "ITS",
                                    "1": "IT security",
                                    "2": "[50000,100000]",
                                    "3": "[2020-10-01,2020-11-01)"
                                },
                                {
                                    "0": "FIN",
                                    "1": "Finance",
                                    "2": "(50000,60000)",
                                    "3": "[2020-10-15,2020-11-15)"
                                },
                                {
                                    "0": "MKT",
                                    "1": "Marketing",
                                    "2": "[30000,50000)",
                                    "3": "[2020-10-20,2020-12-01)"
                                },
                                {
                                    "0": "HR",
                                    "1": "Human Resources",
                                    "2": "(27000,52000]",
                                    "3": "[2020-11-01,2020-11-16)"
                                },
                                {
                                    "0": "WH",
                                    "1": "Warehouse",
                                    "2": "[15000,25000]",
                                    "3": "[2020-11-15,2020-12-16)"
                                },
                                {
                                    "0": "CEO",
                                    "1": "CEO",
                                    "2": "[200000,)",
                                    "3": "[2020-10-15,2020-11-15)"
                                },
                                {
                                    "0": "PD",
                                    "1": "Production",
                                    "2": "(,70000]",
                                    "3": "[2020-11-15,2020-12-16)"
                                }
                            ]
                        },
                        "text/html": [
                            "<table>",
                            "<tr><th>id</th><th>descr</th><th>salary</th><th>open_period</th></tr>",
                            "<tr><td>ITS</td><td>IT security</td><td>[50000,100000]</td><td>[2020-10-01,2020-11-01)</td></tr>",
                            "<tr><td>FIN</td><td>Finance</td><td>(50000,60000)</td><td>[2020-10-15,2020-11-15)</td></tr>",
                            "<tr><td>MKT</td><td>Marketing</td><td>[30000,50000)</td><td>[2020-10-20,2020-12-01)</td></tr>",
                            "<tr><td>HR</td><td>Human Resources</td><td>(27000,52000]</td><td>[2020-11-01,2020-11-16)</td></tr>",
                            "<tr><td>WH</td><td>Warehouse</td><td>[15000,25000]</td><td>[2020-11-15,2020-12-16)</td></tr>",
                            "<tr><td>CEO</td><td>CEO</td><td>[200000,)</td><td>[2020-10-15,2020-11-15)</td></tr>",
                            "<tr><td>PD</td><td>Production</td><td>(,70000]</td><td>[2020-11-15,2020-12-16)</td></tr>",
                            "</table>"
                        ]
                    }
                }
            ],
            "execution_count": 58
        },
        {
            "cell_type": "code",
            "source": [
                "update job\n",
                "    set salary='[60000, 120000]'\n",
                "    where id='ITS';"
            ],
            "metadata": {
                "azdata_cell_guid": "ea9268ed-3250-4228-a75d-e16756de3f50"
            },
            "outputs": [
                {
                    "output_type": "display_data",
                    "data": {
                        "text/html": "Commands completed successfully"
                    },
                    "metadata": {}
                },
                {
                    "output_type": "display_data",
                    "data": {
                        "text/html": "Total execution time: 00:00:00.001"
                    },
                    "metadata": {}
                }
            ],
            "execution_count": 59
        },
        {
            "cell_type": "code",
            "source": [
                "select * from job;"
            ],
            "metadata": {
                "azdata_cell_guid": "f41be2bd-5936-4f7b-b86c-72b8c042270d"
            },
            "outputs": [
                {
                    "output_type": "display_data",
                    "data": {
                        "text/html": "(7 row(s) affected)"
                    },
                    "metadata": {}
                },
                {
                    "output_type": "display_data",
                    "data": {
                        "text/html": "Total execution time: 00:00:00.006"
                    },
                    "metadata": {}
                },
                {
                    "output_type": "execute_result",
                    "metadata": {},
                    "execution_count": 60,
                    "data": {
                        "application/vnd.dataresource+json": {
                            "schema": {
                                "fields": [
                                    {
                                        "name": "id"
                                    },
                                    {
                                        "name": "descr"
                                    },
                                    {
                                        "name": "salary"
                                    },
                                    {
                                        "name": "open_period"
                                    }
                                ]
                            },
                            "data": [
                                {
                                    "0": "FIN",
                                    "1": "Finance",
                                    "2": "(50000,60000)",
                                    "3": "[2020-10-15,2020-11-15)"
                                },
                                {
                                    "0": "MKT",
                                    "1": "Marketing",
                                    "2": "[30000,50000)",
                                    "3": "[2020-10-20,2020-12-01)"
                                },
                                {
                                    "0": "HR",
                                    "1": "Human Resources",
                                    "2": "(27000,52000]",
                                    "3": "[2020-11-01,2020-11-16)"
                                },
                                {
                                    "0": "WH",
                                    "1": "Warehouse",
                                    "2": "[15000,25000]",
                                    "3": "[2020-11-15,2020-12-16)"
                                },
                                {
                                    "0": "CEO",
                                    "1": "CEO",
                                    "2": "[200000,)",
                                    "3": "[2020-10-15,2020-11-15)"
                                },
                                {
                                    "0": "PD",
                                    "1": "Production",
                                    "2": "(,70000]",
                                    "3": "[2020-11-15,2020-12-16)"
                                },
                                {
                                    "0": "ITS",
                                    "1": "IT security",
                                    "2": "[60000,120000]",
                                    "3": "[2020-10-01,2020-11-01)"
                                }
                            ]
                        },
                        "text/html": [
                            "<table>",
                            "<tr><th>id</th><th>descr</th><th>salary</th><th>open_period</th></tr>",
                            "<tr><td>FIN</td><td>Finance</td><td>(50000,60000)</td><td>[2020-10-15,2020-11-15)</td></tr>",
                            "<tr><td>MKT</td><td>Marketing</td><td>[30000,50000)</td><td>[2020-10-20,2020-12-01)</td></tr>",
                            "<tr><td>HR</td><td>Human Resources</td><td>(27000,52000]</td><td>[2020-11-01,2020-11-16)</td></tr>",
                            "<tr><td>WH</td><td>Warehouse</td><td>[15000,25000]</td><td>[2020-11-15,2020-12-16)</td></tr>",
                            "<tr><td>CEO</td><td>CEO</td><td>[200000,)</td><td>[2020-10-15,2020-11-15)</td></tr>",
                            "<tr><td>PD</td><td>Production</td><td>(,70000]</td><td>[2020-11-15,2020-12-16)</td></tr>",
                            "<tr><td>ITS</td><td>IT security</td><td>[60000,120000]</td><td>[2020-10-01,2020-11-01)</td></tr>",
                            "</table>"
                        ]
                    }
                }
            ],
            "execution_count": 60
        },
        {
            "cell_type": "code",
            "source": [
                "-- select * from job where salary @> 50000; -- error"
            ],
            "metadata": {
                "azdata_cell_guid": "113d3782-af5e-4efc-bd97-e98a74cb5ffa"
            },
            "outputs": [
                {
                    "output_type": "display_data",
                    "data": {
                        "text/html": "Total execution time: 00:00:00"
                    },
                    "metadata": {}
                }
            ],
            "execution_count": 61
        },
        {
            "cell_type": "code",
            "source": [
                "select * from job where salary @> 50000.0; -- need real/float"
            ],
            "metadata": {
                "azdata_cell_guid": "954ebb4b-8b34-42ac-81fb-f48681a23650"
            },
            "outputs": [
                {
                    "output_type": "display_data",
                    "data": {
                        "text/html": "(2 row(s) affected)"
                    },
                    "metadata": {}
                },
                {
                    "output_type": "display_data",
                    "data": {
                        "text/html": "Total execution time: 00:00:00.009"
                    },
                    "metadata": {}
                },
                {
                    "output_type": "execute_result",
                    "metadata": {},
                    "execution_count": 62,
                    "data": {
                        "application/vnd.dataresource+json": {
                            "schema": {
                                "fields": [
                                    {
                                        "name": "id"
                                    },
                                    {
                                        "name": "descr"
                                    },
                                    {
                                        "name": "salary"
                                    },
                                    {
                                        "name": "open_period"
                                    }
                                ]
                            },
                            "data": [
                                {
                                    "0": "HR",
                                    "1": "Human Resources",
                                    "2": "(27000,52000]",
                                    "3": "[2020-11-01,2020-11-16)"
                                },
                                {
                                    "0": "PD",
                                    "1": "Production",
                                    "2": "(,70000]",
                                    "3": "[2020-11-15,2020-12-16)"
                                }
                            ]
                        },
                        "text/html": [
                            "<table>",
                            "<tr><th>id</th><th>descr</th><th>salary</th><th>open_period</th></tr>",
                            "<tr><td>HR</td><td>Human Resources</td><td>(27000,52000]</td><td>[2020-11-01,2020-11-16)</td></tr>",
                            "<tr><td>PD</td><td>Production</td><td>(,70000]</td><td>[2020-11-15,2020-12-16)</td></tr>",
                            "</table>"
                        ]
                    }
                }
            ],
            "execution_count": 62
        },
        {
            "cell_type": "code",
            "source": [
                "select * from job;"
            ],
            "metadata": {
                "azdata_cell_guid": "ee447fcb-7387-436a-bfee-b9e113eb81ec"
            },
            "outputs": [
                {
                    "output_type": "display_data",
                    "data": {
                        "text/html": "(7 row(s) affected)"
                    },
                    "metadata": {}
                },
                {
                    "output_type": "display_data",
                    "data": {
                        "text/html": "Total execution time: 00:00:00.008"
                    },
                    "metadata": {}
                },
                {
                    "output_type": "execute_result",
                    "metadata": {},
                    "execution_count": 63,
                    "data": {
                        "application/vnd.dataresource+json": {
                            "schema": {
                                "fields": [
                                    {
                                        "name": "id"
                                    },
                                    {
                                        "name": "descr"
                                    },
                                    {
                                        "name": "salary"
                                    },
                                    {
                                        "name": "open_period"
                                    }
                                ]
                            },
                            "data": [
                                {
                                    "0": "FIN",
                                    "1": "Finance",
                                    "2": "(50000,60000)",
                                    "3": "[2020-10-15,2020-11-15)"
                                },
                                {
                                    "0": "MKT",
                                    "1": "Marketing",
                                    "2": "[30000,50000)",
                                    "3": "[2020-10-20,2020-12-01)"
                                },
                                {
                                    "0": "HR",
                                    "1": "Human Resources",
                                    "2": "(27000,52000]",
                                    "3": "[2020-11-01,2020-11-16)"
                                },
                                {
                                    "0": "WH",
                                    "1": "Warehouse",
                                    "2": "[15000,25000]",
                                    "3": "[2020-11-15,2020-12-16)"
                                },
                                {
                                    "0": "CEO",
                                    "1": "CEO",
                                    "2": "[200000,)",
                                    "3": "[2020-10-15,2020-11-15)"
                                },
                                {
                                    "0": "PD",
                                    "1": "Production",
                                    "2": "(,70000]",
                                    "3": "[2020-11-15,2020-12-16)"
                                },
                                {
                                    "0": "ITS",
                                    "1": "IT security",
                                    "2": "[60000,120000]",
                                    "3": "[2020-10-01,2020-11-01)"
                                }
                            ]
                        },
                        "text/html": [
                            "<table>",
                            "<tr><th>id</th><th>descr</th><th>salary</th><th>open_period</th></tr>",
                            "<tr><td>FIN</td><td>Finance</td><td>(50000,60000)</td><td>[2020-10-15,2020-11-15)</td></tr>",
                            "<tr><td>MKT</td><td>Marketing</td><td>[30000,50000)</td><td>[2020-10-20,2020-12-01)</td></tr>",
                            "<tr><td>HR</td><td>Human Resources</td><td>(27000,52000]</td><td>[2020-11-01,2020-11-16)</td></tr>",
                            "<tr><td>WH</td><td>Warehouse</td><td>[15000,25000]</td><td>[2020-11-15,2020-12-16)</td></tr>",
                            "<tr><td>CEO</td><td>CEO</td><td>[200000,)</td><td>[2020-10-15,2020-11-15)</td></tr>",
                            "<tr><td>PD</td><td>Production</td><td>(,70000]</td><td>[2020-11-15,2020-12-16)</td></tr>",
                            "<tr><td>ITS</td><td>IT security</td><td>[60000,120000]</td><td>[2020-10-01,2020-11-01)</td></tr>",
                            "</table>"
                        ]
                    }
                }
            ],
            "execution_count": 63
        },
        {
            "cell_type": "code",
            "source": [
                "select * from job where salary @> '[32000,50000]'::numrange;\r\n",
                "-- select * from job where salary @> numrange(32000, 50000, '[]');"
            ],
            "metadata": {
                "azdata_cell_guid": "34ceba70-a25c-428e-96f3-8dd9bdd910a1"
            },
            "outputs": [
                {
                    "output_type": "display_data",
                    "data": {
                        "text/html": "(2 row(s) affected)"
                    },
                    "metadata": {}
                },
                {
                    "output_type": "display_data",
                    "data": {
                        "text/html": "Total execution time: 00:00:00.010"
                    },
                    "metadata": {}
                },
                {
                    "output_type": "execute_result",
                    "metadata": {},
                    "execution_count": 64,
                    "data": {
                        "application/vnd.dataresource+json": {
                            "schema": {
                                "fields": [
                                    {
                                        "name": "id"
                                    },
                                    {
                                        "name": "descr"
                                    },
                                    {
                                        "name": "salary"
                                    },
                                    {
                                        "name": "open_period"
                                    }
                                ]
                            },
                            "data": [
                                {
                                    "0": "HR",
                                    "1": "Human Resources",
                                    "2": "(27000,52000]",
                                    "3": "[2020-11-01,2020-11-16)"
                                },
                                {
                                    "0": "PD",
                                    "1": "Production",
                                    "2": "(,70000]",
                                    "3": "[2020-11-15,2020-12-16)"
                                }
                            ]
                        },
                        "text/html": [
                            "<table>",
                            "<tr><th>id</th><th>descr</th><th>salary</th><th>open_period</th></tr>",
                            "<tr><td>HR</td><td>Human Resources</td><td>(27000,52000]</td><td>[2020-11-01,2020-11-16)</td></tr>",
                            "<tr><td>PD</td><td>Production</td><td>(,70000]</td><td>[2020-11-15,2020-12-16)</td></tr>",
                            "</table>"
                        ]
                    }
                }
            ],
            "execution_count": 64
        },
        {
            "cell_type": "code",
            "source": [
                "select * from job where open_period @> '2020-11-15'::date"
            ],
            "metadata": {
                "azdata_cell_guid": "28057e9e-ad59-4448-9298-025a0c7ec37c"
            },
            "outputs": [
                {
                    "output_type": "display_data",
                    "data": {
                        "text/html": "(4 row(s) affected)"
                    },
                    "metadata": {}
                },
                {
                    "output_type": "display_data",
                    "data": {
                        "text/html": "Total execution time: 00:00:00.014"
                    },
                    "metadata": {}
                },
                {
                    "output_type": "execute_result",
                    "metadata": {},
                    "execution_count": 65,
                    "data": {
                        "application/vnd.dataresource+json": {
                            "schema": {
                                "fields": [
                                    {
                                        "name": "id"
                                    },
                                    {
                                        "name": "descr"
                                    },
                                    {
                                        "name": "salary"
                                    },
                                    {
                                        "name": "open_period"
                                    }
                                ]
                            },
                            "data": [
                                {
                                    "0": "MKT",
                                    "1": "Marketing",
                                    "2": "[30000,50000)",
                                    "3": "[2020-10-20,2020-12-01)"
                                },
                                {
                                    "0": "HR",
                                    "1": "Human Resources",
                                    "2": "(27000,52000]",
                                    "3": "[2020-11-01,2020-11-16)"
                                },
                                {
                                    "0": "WH",
                                    "1": "Warehouse",
                                    "2": "[15000,25000]",
                                    "3": "[2020-11-15,2020-12-16)"
                                },
                                {
                                    "0": "PD",
                                    "1": "Production",
                                    "2": "(,70000]",
                                    "3": "[2020-11-15,2020-12-16)"
                                }
                            ]
                        },
                        "text/html": [
                            "<table>",
                            "<tr><th>id</th><th>descr</th><th>salary</th><th>open_period</th></tr>",
                            "<tr><td>MKT</td><td>Marketing</td><td>[30000,50000)</td><td>[2020-10-20,2020-12-01)</td></tr>",
                            "<tr><td>HR</td><td>Human Resources</td><td>(27000,52000]</td><td>[2020-11-01,2020-11-16)</td></tr>",
                            "<tr><td>WH</td><td>Warehouse</td><td>[15000,25000]</td><td>[2020-11-15,2020-12-16)</td></tr>",
                            "<tr><td>PD</td><td>Production</td><td>(,70000]</td><td>[2020-11-15,2020-12-16)</td></tr>",
                            "</table>"
                        ]
                    }
                }
            ],
            "execution_count": 65
        },
        {
            "cell_type": "code",
            "source": [
                "select CURRENT_DATE"
            ],
            "metadata": {
                "azdata_cell_guid": "a9a3cead-1252-45da-9f83-175086739370"
            },
            "outputs": [
                {
                    "output_type": "display_data",
                    "data": {
                        "text/html": "(1 row(s) affected)"
                    },
                    "metadata": {}
                },
                {
                    "output_type": "display_data",
                    "data": {
                        "text/html": "Total execution time: 00:00:00.011"
                    },
                    "metadata": {}
                },
                {
                    "output_type": "execute_result",
                    "metadata": {},
                    "execution_count": 66,
                    "data": {
                        "application/vnd.dataresource+json": {
                            "schema": {
                                "fields": [
                                    {
                                        "name": "current_date"
                                    }
                                ]
                            },
                            "data": [
                                {
                                    "0": "2020-10-22"
                                }
                            ]
                        },
                        "text/html": [
                            "<table>",
                            "<tr><th>current_date</th></tr>",
                            "<tr><td>2020-10-22</td></tr>",
                            "</table>"
                        ]
                    }
                }
            ],
            "execution_count": 66
        },
        {
            "cell_type": "code",
            "source": [
                "select * from job where open_period @> CURRENT_DATE"
            ],
            "metadata": {
                "azdata_cell_guid": "f8f6644b-5c41-4557-898b-a518c5bc36e6"
            },
            "outputs": [
                {
                    "output_type": "display_data",
                    "data": {
                        "text/html": "(4 row(s) affected)"
                    },
                    "metadata": {}
                },
                {
                    "output_type": "display_data",
                    "data": {
                        "text/html": "Total execution time: 00:00:00.011"
                    },
                    "metadata": {}
                },
                {
                    "output_type": "execute_result",
                    "metadata": {},
                    "execution_count": 67,
                    "data": {
                        "application/vnd.dataresource+json": {
                            "schema": {
                                "fields": [
                                    {
                                        "name": "id"
                                    },
                                    {
                                        "name": "descr"
                                    },
                                    {
                                        "name": "salary"
                                    },
                                    {
                                        "name": "open_period"
                                    }
                                ]
                            },
                            "data": [
                                {
                                    "0": "FIN",
                                    "1": "Finance",
                                    "2": "(50000,60000)",
                                    "3": "[2020-10-15,2020-11-15)"
                                },
                                {
                                    "0": "MKT",
                                    "1": "Marketing",
                                    "2": "[30000,50000)",
                                    "3": "[2020-10-20,2020-12-01)"
                                },
                                {
                                    "0": "CEO",
                                    "1": "CEO",
                                    "2": "[200000,)",
                                    "3": "[2020-10-15,2020-11-15)"
                                },
                                {
                                    "0": "ITS",
                                    "1": "IT security",
                                    "2": "[60000,120000]",
                                    "3": "[2020-10-01,2020-11-01)"
                                }
                            ]
                        },
                        "text/html": [
                            "<table>",
                            "<tr><th>id</th><th>descr</th><th>salary</th><th>open_period</th></tr>",
                            "<tr><td>FIN</td><td>Finance</td><td>(50000,60000)</td><td>[2020-10-15,2020-11-15)</td></tr>",
                            "<tr><td>MKT</td><td>Marketing</td><td>[30000,50000)</td><td>[2020-10-20,2020-12-01)</td></tr>",
                            "<tr><td>CEO</td><td>CEO</td><td>[200000,)</td><td>[2020-10-15,2020-11-15)</td></tr>",
                            "<tr><td>ITS</td><td>IT security</td><td>[60000,120000]</td><td>[2020-10-01,2020-11-01)</td></tr>",
                            "</table>"
                        ]
                    }
                }
            ],
            "execution_count": 67
        },
        {
            "cell_type": "code",
            "source": [
                "select * from job"
            ],
            "metadata": {
                "azdata_cell_guid": "bdef132e-347e-4c48-9922-931e75683427"
            },
            "outputs": [
                {
                    "output_type": "display_data",
                    "data": {
                        "text/html": "(7 row(s) affected)"
                    },
                    "metadata": {}
                },
                {
                    "output_type": "display_data",
                    "data": {
                        "text/html": "Total execution time: 00:00:00.009"
                    },
                    "metadata": {}
                },
                {
                    "output_type": "execute_result",
                    "metadata": {},
                    "execution_count": 68,
                    "data": {
                        "application/vnd.dataresource+json": {
                            "schema": {
                                "fields": [
                                    {
                                        "name": "id"
                                    },
                                    {
                                        "name": "descr"
                                    },
                                    {
                                        "name": "salary"
                                    },
                                    {
                                        "name": "open_period"
                                    }
                                ]
                            },
                            "data": [
                                {
                                    "0": "FIN",
                                    "1": "Finance",
                                    "2": "(50000,60000)",
                                    "3": "[2020-10-15,2020-11-15)"
                                },
                                {
                                    "0": "MKT",
                                    "1": "Marketing",
                                    "2": "[30000,50000)",
                                    "3": "[2020-10-20,2020-12-01)"
                                },
                                {
                                    "0": "HR",
                                    "1": "Human Resources",
                                    "2": "(27000,52000]",
                                    "3": "[2020-11-01,2020-11-16)"
                                },
                                {
                                    "0": "WH",
                                    "1": "Warehouse",
                                    "2": "[15000,25000]",
                                    "3": "[2020-11-15,2020-12-16)"
                                },
                                {
                                    "0": "CEO",
                                    "1": "CEO",
                                    "2": "[200000,)",
                                    "3": "[2020-10-15,2020-11-15)"
                                },
                                {
                                    "0": "PD",
                                    "1": "Production",
                                    "2": "(,70000]",
                                    "3": "[2020-11-15,2020-12-16)"
                                },
                                {
                                    "0": "ITS",
                                    "1": "IT security",
                                    "2": "[60000,120000]",
                                    "3": "[2020-10-01,2020-11-01)"
                                }
                            ]
                        },
                        "text/html": [
                            "<table>",
                            "<tr><th>id</th><th>descr</th><th>salary</th><th>open_period</th></tr>",
                            "<tr><td>FIN</td><td>Finance</td><td>(50000,60000)</td><td>[2020-10-15,2020-11-15)</td></tr>",
                            "<tr><td>MKT</td><td>Marketing</td><td>[30000,50000)</td><td>[2020-10-20,2020-12-01)</td></tr>",
                            "<tr><td>HR</td><td>Human Resources</td><td>(27000,52000]</td><td>[2020-11-01,2020-11-16)</td></tr>",
                            "<tr><td>WH</td><td>Warehouse</td><td>[15000,25000]</td><td>[2020-11-15,2020-12-16)</td></tr>",
                            "<tr><td>CEO</td><td>CEO</td><td>[200000,)</td><td>[2020-10-15,2020-11-15)</td></tr>",
                            "<tr><td>PD</td><td>Production</td><td>(,70000]</td><td>[2020-11-15,2020-12-16)</td></tr>",
                            "<tr><td>ITS</td><td>IT security</td><td>[60000,120000]</td><td>[2020-10-01,2020-11-01)</td></tr>",
                            "</table>"
                        ]
                    }
                }
            ],
            "execution_count": 68
        },
        {
            "cell_type": "code",
            "source": [
                "select * from job where open_period @> '[2020-11-17,2020-12-15]'"
            ],
            "metadata": {
                "azdata_cell_guid": "54d38b96-2ef6-4db5-bfee-c5bff21082f7"
            },
            "outputs": [
                {
                    "output_type": "display_data",
                    "data": {
                        "text/html": "(2 row(s) affected)"
                    },
                    "metadata": {}
                },
                {
                    "output_type": "display_data",
                    "data": {
                        "text/html": "Total execution time: 00:00:00.011"
                    },
                    "metadata": {}
                },
                {
                    "output_type": "execute_result",
                    "metadata": {},
                    "execution_count": 69,
                    "data": {
                        "application/vnd.dataresource+json": {
                            "schema": {
                                "fields": [
                                    {
                                        "name": "id"
                                    },
                                    {
                                        "name": "descr"
                                    },
                                    {
                                        "name": "salary"
                                    },
                                    {
                                        "name": "open_period"
                                    }
                                ]
                            },
                            "data": [
                                {
                                    "0": "WH",
                                    "1": "Warehouse",
                                    "2": "[15000,25000]",
                                    "3": "[2020-11-15,2020-12-16)"
                                },
                                {
                                    "0": "PD",
                                    "1": "Production",
                                    "2": "(,70000]",
                                    "3": "[2020-11-15,2020-12-16)"
                                }
                            ]
                        },
                        "text/html": [
                            "<table>",
                            "<tr><th>id</th><th>descr</th><th>salary</th><th>open_period</th></tr>",
                            "<tr><td>WH</td><td>Warehouse</td><td>[15000,25000]</td><td>[2020-11-15,2020-12-16)</td></tr>",
                            "<tr><td>PD</td><td>Production</td><td>(,70000]</td><td>[2020-11-15,2020-12-16)</td></tr>",
                            "</table>"
                        ]
                    }
                }
            ],
            "execution_count": 69
        }
    ]
}