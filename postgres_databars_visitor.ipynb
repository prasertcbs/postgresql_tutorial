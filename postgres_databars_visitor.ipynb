{
    "metadata": {
        "kernelspec": {
            "name": "SQL",
            "display_name": "SQL",
            "language": "sql"
        },
        "language_info": {
            "name": "sql",
            "version": ""
        }
    },
    "nbformat_minor": 2,
    "nbformat": 4,
    "cells": [
        {
            "cell_type": "markdown",
            "source": [
                "# databars\n",
                "## Server: PostgreSQL\n",
                "## Author: Prasert Kanawattanachai\n",
                "## YouTube: http://bit.ly/2mseopN"
            ],
            "metadata": {
                "azdata_cell_guid": "d6aa73ef-9f1d-44ce-88b2-05bb4f931c56"
            }
        },
        {
            "cell_type": "markdown",
            "source": [
                "## Block elements\n",
                "https://en.wikipedia.org/wiki/Block_Elements\n",
                "\n",
                "<table class=\"wikitable sortable collapsible mw-collapsible jquery-tablesorter mw-made-collapsible\">\n",
                "<thead><tr>\n",
                "<th class=\"headerSort\" tabindex=\"0\" role=\"columnheader button\" title=\"Sort ascending\"><span class=\"mw-collapsible-toggle mw-collapsible-toggle-default\" role=\"button\" tabindex=\"0\"><a class=\"mw-collapsible-text\"></a></span>Code\n",
                "</th>\n",
                "<th class=\"headerSort\" tabindex=\"0\" role=\"columnheader button\" title=\"Sort ascending\">Result\n",
                "</th>\n",
                "<th class=\"headerSort\" tabindex=\"0\" role=\"columnheader button\" title=\"Sort ascending\">Description\n",
                "</th></tr></thead><tbody>\n",
                "<tr>\n",
                "<td>U+2580\n",
                "</td>\n",
                "<td>▀\n",
                "</td>\n",
                "<td>Upper half block\n",
                "</td></tr>\n",
                "<tr>\n",
                "<td>U+2581\n",
                "</td>\n",
                "<td>▁\n",
                "</td>\n",
                "<td>Lower one eighth block\n",
                "</td></tr>\n",
                "<tr>\n",
                "<td>U+2582\n",
                "</td>\n",
                "<td>▂\n",
                "</td>\n",
                "<td>Lower one quarter block\n",
                "</td></tr>\n",
                "<tr>\n",
                "<td>U+2583\n",
                "</td>\n",
                "<td>▃\n",
                "</td>\n",
                "<td>Lower three eighths block\n",
                "</td></tr>\n",
                "<tr>\n",
                "<td>U+2584\n",
                "</td>\n",
                "<td>▄\n",
                "</td>\n",
                "<td>Lower half block\n",
                "</td></tr>\n",
                "<tr>\n",
                "<td>U+2585\n",
                "</td>\n",
                "<td>▅\n",
                "</td>\n",
                "<td>Lower five eighths block\n",
                "</td></tr>\n",
                "<tr>\n",
                "<td>U+2586\n",
                "</td>\n",
                "<td>▆\n",
                "</td>\n",
                "<td>Lower three quarters block\n",
                "</td></tr>\n",
                "<tr>\n",
                "<td>U+2587\n",
                "</td>\n",
                "<td>▇\n",
                "</td>\n",
                "<td>Lower seven eighths block\n",
                "</td></tr>\n",
                "<tr>\n",
                "<td>U+2588\n",
                "</td>\n",
                "<td>█\n",
                "</td>\n",
                "<td>Full block\n",
                "</td></tr>\n",
                "<tr>\n",
                "<td>U+2589\n",
                "</td>\n",
                "<td>▉\n",
                "</td>\n",
                "<td>Left seven eighths block\n",
                "</td></tr>\n",
                "<tr>\n",
                "<td>U+258A\n",
                "</td>\n",
                "<td>▊\n",
                "</td>\n",
                "<td>Left three quarters block\n",
                "</td></tr>\n",
                "<tr>\n",
                "<td>U+258B\n",
                "</td>\n",
                "<td>▋\n",
                "</td>\n",
                "<td>Left five eighths block\n",
                "</td></tr>\n",
                "<tr>\n",
                "<td>U+258C\n",
                "</td>\n",
                "<td>▌\n",
                "</td>\n",
                "<td>Left half block\n",
                "</td></tr>\n",
                "<tr>\n",
                "<td>U+258D\n",
                "</td>\n",
                "<td>▍\n",
                "</td>\n",
                "<td>Left three eighths block\n",
                "</td></tr>\n",
                "<tr>\n",
                "<td>U+258E\n",
                "</td>\n",
                "<td>▎\n",
                "</td>\n",
                "<td>Left one quarter block\n",
                "</td></tr>\n",
                "<tr>\n",
                "<td>U+258F\n",
                "</td>\n",
                "<td>▏\n",
                "</td>\n",
                "<td>Left one eighth block\n",
                "</td></tr>\n",
                "<tr>\n",
                "<td>U+2590\n",
                "</td>\n",
                "<td>▐\n",
                "</td>\n",
                "<td>Right half block\n",
                "</td></tr>\n",
                "<tr>\n",
                "<td>U+2591\n",
                "</td>\n",
                "<td>░\n",
                "</td>\n",
                "<td>Light shade\n",
                "</td></tr>\n",
                "<tr>\n",
                "<td>U+2592\n",
                "</td>\n",
                "<td>▒\n",
                "</td>\n",
                "<td>Medium shade\n",
                "</td></tr>\n",
                "<tr>\n",
                "<td>U+2593\n",
                "</td>\n",
                "<td>▓\n",
                "</td>\n",
                "<td>Dark shade\n",
                "</td></tr>\n",
                "<tr>\n",
                "<td>U+2594\n",
                "</td>\n",
                "<td>▔\n",
                "</td>\n",
                "<td>Upper one eighth block\n",
                "</td></tr>\n",
                "<tr>\n",
                "<td>U+2595\n",
                "</td>\n",
                "<td>▕\n",
                "</td>\n",
                "<td>Right one eighth block\n",
                "</td></tr>\n",
                "<tr>\n",
                "<td>U+2596\n",
                "</td>\n",
                "<td>▖\n",
                "</td>\n",
                "<td>Quadrant lower left\n",
                "</td></tr>\n",
                "<tr>\n",
                "<td>U+2597\n",
                "</td>\n",
                "<td>▗\n",
                "</td>\n",
                "<td>Quadrant lower right\n",
                "</td></tr>\n",
                "<tr>\n",
                "<td>U+2598\n",
                "</td>\n",
                "<td>▘\n",
                "</td>\n",
                "<td>Quadrant upper left\n",
                "</td></tr>\n",
                "<tr>\n",
                "<td>U+2599\n",
                "</td>\n",
                "<td>▙\n",
                "</td>\n",
                "<td>Quadrant upper left and lower left and lower right\n",
                "</td></tr>\n",
                "<tr>\n",
                "<td>U+259A\n",
                "</td>\n",
                "<td>▚\n",
                "</td>\n",
                "<td>Quadrant upper left and lower right\n",
                "</td></tr>\n",
                "<tr>\n",
                "<td>U+259B\n",
                "</td>\n",
                "<td>▛\n",
                "</td>\n",
                "<td>Quadrant upper left and upper right and lower left\n",
                "</td></tr>\n",
                "<tr>\n",
                "<td>U+259C\n",
                "</td>\n",
                "<td>▜\n",
                "</td>\n",
                "<td>Quadrant upper left and upper right and lower right\n",
                "</td></tr>\n",
                "<tr>\n",
                "<td>U+259D\n",
                "</td>\n",
                "<td>▝\n",
                "</td>\n",
                "<td>Quadrant upper right\n",
                "</td></tr>\n",
                "<tr>\n",
                "<td>U+259E\n",
                "</td>\n",
                "<td>▞\n",
                "</td>\n",
                "<td>Quadrant upper right and lower left\n",
                "</td></tr>\n",
                "<tr>\n",
                "<td>U+259F\n",
                "</td>\n",
                "<td>▟\n",
                "</td>\n",
                "<td>Quadrant upper right and lower left and lower right\n",
                "</td></tr></tbody><tfoot></tfoot></table>"
            ],
            "metadata": {
                "azdata_cell_guid": "4f33b281-dfd6-44c4-9256-98fc79ec905c"
            }
        },
        {
            "cell_type": "code",
            "source": [
                "drop table if exists visitor;\n",
                "\n",
                "create table visitor (\n",
                "    dt date,\n",
                "    male int,\n",
                "    female int\n",
                ");"
            ],
            "metadata": {
                "azdata_cell_guid": "da9d3f00-aab0-4984-b6af-2e1c26577c8f"
            },
            "outputs": [
                {
                    "output_type": "display_data",
                    "data": {
                        "text/html": "Commands completed successfully"
                    },
                    "metadata": {}
                },
                {
                    "output_type": "display_data",
                    "data": {
                        "text/html": "Commands completed successfully"
                    },
                    "metadata": {}
                },
                {
                    "output_type": "display_data",
                    "data": {
                        "text/html": "Total execution time: 00:00:00.033"
                    },
                    "metadata": {}
                }
            ],
            "execution_count": 4
        },
        {
            "cell_type": "code",
            "source": [
                "select random()"
            ],
            "metadata": {
                "azdata_cell_guid": "e5a30b91-007b-44b2-8516-f81adbf0075b"
            },
            "outputs": [
                {
                    "output_type": "display_data",
                    "data": {
                        "text/html": "(1 row(s) affected)"
                    },
                    "metadata": {}
                },
                {
                    "output_type": "display_data",
                    "data": {
                        "text/html": "Total execution time: 00:00:00.003"
                    },
                    "metadata": {}
                },
                {
                    "output_type": "execute_result",
                    "execution_count": 6,
                    "data": {
                        "application/vnd.dataresource+json": {
                            "schema": {
                                "fields": [
                                    {
                                        "name": "random"
                                    }
                                ]
                            },
                            "data": [
                                {
                                    "0": "0.238407311495394"
                                }
                            ]
                        },
                        "text/html": "<table><tr><th>random</th></tr><tr><td>0.238407311495394</td></tr></table>"
                    },
                    "metadata": {}
                }
            ],
            "execution_count": 6
        },
        {
            "cell_type": "code",
            "source": [
                "select dt::date,\n",
                "    (10 + random() * 20)::int male,\n",
                "    (15 + random() * 20)::int female\n",
                "    from generate_series('2019-07-01'::date, '2019-07-07'::date, '1 day') dt"
            ],
            "metadata": {
                "azdata_cell_guid": "911e9ac6-f0d8-45fc-b62c-49d817ad02fc"
            },
            "outputs": [
                {
                    "output_type": "display_data",
                    "data": {
                        "text/html": "(7 row(s) affected)"
                    },
                    "metadata": {}
                },
                {
                    "output_type": "display_data",
                    "data": {
                        "text/html": "Total execution time: 00:00:00.004"
                    },
                    "metadata": {}
                },
                {
                    "output_type": "execute_result",
                    "execution_count": 9,
                    "data": {
                        "application/vnd.dataresource+json": {
                            "schema": {
                                "fields": [
                                    {
                                        "name": "dt"
                                    },
                                    {
                                        "name": "male"
                                    },
                                    {
                                        "name": "female"
                                    }
                                ]
                            },
                            "data": [
                                {
                                    "0": "2019-07-01",
                                    "1": "29",
                                    "2": "30"
                                },
                                {
                                    "0": "2019-07-02",
                                    "1": "24",
                                    "2": "28"
                                },
                                {
                                    "0": "2019-07-03",
                                    "1": "27",
                                    "2": "23"
                                },
                                {
                                    "0": "2019-07-04",
                                    "1": "24",
                                    "2": "31"
                                },
                                {
                                    "0": "2019-07-05",
                                    "1": "21",
                                    "2": "24"
                                },
                                {
                                    "0": "2019-07-06",
                                    "1": "10",
                                    "2": "34"
                                },
                                {
                                    "0": "2019-07-07",
                                    "1": "27",
                                    "2": "15"
                                }
                            ]
                        },
                        "text/html": "<table><tr><th>dt</th><th>male</th><th>female</th></tr><tr><td>2019-07-01</td><td>29</td><td>30</td></tr><tr><td>2019-07-02</td><td>24</td><td>28</td></tr><tr><td>2019-07-03</td><td>27</td><td>23</td></tr><tr><td>2019-07-04</td><td>24</td><td>31</td></tr><tr><td>2019-07-05</td><td>21</td><td>24</td></tr><tr><td>2019-07-06</td><td>10</td><td>34</td></tr><tr><td>2019-07-07</td><td>27</td><td>15</td></tr></table>"
                    },
                    "metadata": {}
                }
            ],
            "execution_count": 9
        },
        {
            "cell_type": "code",
            "source": [
                "insert into visitor\n",
                "    select dt::date,\n",
                "        (10 + random() * 20)::int male,\n",
                "        (15 + random() * 20)::int female\n",
                "        from generate_series('2019-07-01'::date, '2019-07-07'::date, '1 day') dt"
            ],
            "metadata": {
                "azdata_cell_guid": "4170c29a-bb71-4059-b186-349c9148597f"
            },
            "outputs": [
                {
                    "output_type": "display_data",
                    "data": {
                        "text/html": "Commands completed successfully"
                    },
                    "metadata": {}
                },
                {
                    "output_type": "display_data",
                    "data": {
                        "text/html": "Total execution time: 00:00:00.002"
                    },
                    "metadata": {}
                }
            ],
            "execution_count": 14
        },
        {
            "cell_type": "code",
            "source": [
                "select * from visitor"
            ],
            "metadata": {
                "azdata_cell_guid": "1b341654-c5b2-4762-a9b4-7af730bb6fba"
            },
            "outputs": [
                {
                    "output_type": "display_data",
                    "data": {
                        "text/html": "(7 row(s) affected)"
                    },
                    "metadata": {}
                },
                {
                    "output_type": "display_data",
                    "data": {
                        "text/html": "Total execution time: 00:00:00.003"
                    },
                    "metadata": {}
                },
                {
                    "output_type": "execute_result",
                    "execution_count": 15,
                    "data": {
                        "application/vnd.dataresource+json": {
                            "schema": {
                                "fields": [
                                    {
                                        "name": "dt"
                                    },
                                    {
                                        "name": "male"
                                    },
                                    {
                                        "name": "female"
                                    }
                                ]
                            },
                            "data": [
                                {
                                    "0": "2019-07-01",
                                    "1": "22",
                                    "2": "21"
                                },
                                {
                                    "0": "2019-07-02",
                                    "1": "10",
                                    "2": "26"
                                },
                                {
                                    "0": "2019-07-03",
                                    "1": "11",
                                    "2": "29"
                                },
                                {
                                    "0": "2019-07-04",
                                    "1": "14",
                                    "2": "32"
                                },
                                {
                                    "0": "2019-07-05",
                                    "1": "12",
                                    "2": "33"
                                },
                                {
                                    "0": "2019-07-06",
                                    "1": "23",
                                    "2": "28"
                                },
                                {
                                    "0": "2019-07-07",
                                    "1": "17",
                                    "2": "28"
                                }
                            ]
                        },
                        "text/html": "<table><tr><th>dt</th><th>male</th><th>female</th></tr><tr><td>2019-07-01</td><td>22</td><td>21</td></tr><tr><td>2019-07-02</td><td>10</td><td>26</td></tr><tr><td>2019-07-03</td><td>11</td><td>29</td></tr><tr><td>2019-07-04</td><td>14</td><td>32</td></tr><tr><td>2019-07-05</td><td>12</td><td>33</td></tr><tr><td>2019-07-06</td><td>23</td><td>28</td></tr><tr><td>2019-07-07</td><td>17</td><td>28</td></tr></table>"
                    },
                    "metadata": {}
                }
            ],
            "execution_count": 15
        },
        {
            "cell_type": "code",
            "source": [
                "select dt, male, \n",
                "    repeat('x', male),\n",
                "    female, repeat('+', female)\n",
                "    from visitor"
            ],
            "metadata": {
                "azdata_cell_guid": "3102afe9-016a-476c-ad9a-87eeb0514947"
            },
            "outputs": [
                {
                    "output_type": "display_data",
                    "data": {
                        "text/html": "(7 row(s) affected)"
                    },
                    "metadata": {}
                },
                {
                    "output_type": "display_data",
                    "data": {
                        "text/html": "Total execution time: 00:00:00.003"
                    },
                    "metadata": {}
                },
                {
                    "output_type": "execute_result",
                    "execution_count": 18,
                    "data": {
                        "application/vnd.dataresource+json": {
                            "schema": {
                                "fields": [
                                    {
                                        "name": "dt"
                                    },
                                    {
                                        "name": "male"
                                    },
                                    {
                                        "name": "repeat"
                                    },
                                    {
                                        "name": "female"
                                    },
                                    {
                                        "name": "repeat"
                                    }
                                ]
                            },
                            "data": [
                                {
                                    "0": "2019-07-01",
                                    "1": "22",
                                    "2": "xxxxxxxxxxxxxxxxxxxxxx",
                                    "3": "21",
                                    "4": "+++++++++++++++++++++"
                                },
                                {
                                    "0": "2019-07-02",
                                    "1": "10",
                                    "2": "xxxxxxxxxx",
                                    "3": "26",
                                    "4": "++++++++++++++++++++++++++"
                                },
                                {
                                    "0": "2019-07-03",
                                    "1": "11",
                                    "2": "xxxxxxxxxxx",
                                    "3": "29",
                                    "4": "+++++++++++++++++++++++++++++"
                                },
                                {
                                    "0": "2019-07-04",
                                    "1": "14",
                                    "2": "xxxxxxxxxxxxxx",
                                    "3": "32",
                                    "4": "++++++++++++++++++++++++++++++++"
                                },
                                {
                                    "0": "2019-07-05",
                                    "1": "12",
                                    "2": "xxxxxxxxxxxx",
                                    "3": "33",
                                    "4": "+++++++++++++++++++++++++++++++++"
                                },
                                {
                                    "0": "2019-07-06",
                                    "1": "23",
                                    "2": "xxxxxxxxxxxxxxxxxxxxxxx",
                                    "3": "28",
                                    "4": "++++++++++++++++++++++++++++"
                                },
                                {
                                    "0": "2019-07-07",
                                    "1": "17",
                                    "2": "xxxxxxxxxxxxxxxxx",
                                    "3": "28",
                                    "4": "++++++++++++++++++++++++++++"
                                }
                            ]
                        },
                        "text/html": "<table><tr><th>dt</th><th>male</th><th>repeat</th><th>female</th><th>repeat</th></tr><tr><td>2019-07-01</td><td>22</td><td>xxxxxxxxxxxxxxxxxxxxxx</td><td>21</td><td>+++++++++++++++++++++</td></tr><tr><td>2019-07-02</td><td>10</td><td>xxxxxxxxxx</td><td>26</td><td>++++++++++++++++++++++++++</td></tr><tr><td>2019-07-03</td><td>11</td><td>xxxxxxxxxxx</td><td>29</td><td>+++++++++++++++++++++++++++++</td></tr><tr><td>2019-07-04</td><td>14</td><td>xxxxxxxxxxxxxx</td><td>32</td><td>++++++++++++++++++++++++++++++++</td></tr><tr><td>2019-07-05</td><td>12</td><td>xxxxxxxxxxxx</td><td>33</td><td>+++++++++++++++++++++++++++++++++</td></tr><tr><td>2019-07-06</td><td>23</td><td>xxxxxxxxxxxxxxxxxxxxxxx</td><td>28</td><td>++++++++++++++++++++++++++++</td></tr><tr><td>2019-07-07</td><td>17</td><td>xxxxxxxxxxxxxxxxx</td><td>28</td><td>++++++++++++++++++++++++++++</td></tr></table>"
                    },
                    "metadata": {}
                }
            ],
            "execution_count": 18
        },
        {
            "cell_type": "code",
            "source": [
                "select chr(x'2591'::int)"
            ],
            "metadata": {
                "azdata_cell_guid": "c8bb8b34-7e2b-4a7e-a640-38b86332e4e8"
            },
            "outputs": [
                {
                    "output_type": "display_data",
                    "data": {
                        "text/html": "(1 row(s) affected)"
                    },
                    "metadata": {}
                },
                {
                    "output_type": "display_data",
                    "data": {
                        "text/html": "Total execution time: 00:00:00.008"
                    },
                    "metadata": {}
                },
                {
                    "output_type": "execute_result",
                    "execution_count": 19,
                    "data": {
                        "application/vnd.dataresource+json": {
                            "schema": {
                                "fields": [
                                    {
                                        "name": "chr"
                                    }
                                ]
                            },
                            "data": [
                                {
                                    "0": "░"
                                }
                            ]
                        },
                        "text/html": "<table><tr><th>chr</th></tr><tr><td>░</td></tr></table>"
                    },
                    "metadata": {}
                }
            ],
            "execution_count": 19
        },
        {
            "cell_type": "code",
            "source": [
                "select dt, male, \n",
                "    repeat(chr(x'2591'::int), male) male,\n",
                "    female, repeat(chr(x'2592'::int), female) female\n",
                "    from visitor"
            ],
            "metadata": {
                "azdata_cell_guid": "c558fd54-4428-4780-806c-198c9d1a296a"
            },
            "outputs": [
                {
                    "output_type": "display_data",
                    "data": {
                        "text/html": "(7 row(s) affected)"
                    },
                    "metadata": {}
                },
                {
                    "output_type": "display_data",
                    "data": {
                        "text/html": "Total execution time: 00:00:00.007"
                    },
                    "metadata": {}
                },
                {
                    "output_type": "execute_result",
                    "execution_count": 1,
                    "data": {
                        "application/vnd.dataresource+json": {
                            "schema": {
                                "fields": [
                                    {
                                        "name": "dt"
                                    },
                                    {
                                        "name": "male"
                                    },
                                    {
                                        "name": "male"
                                    },
                                    {
                                        "name": "female"
                                    },
                                    {
                                        "name": "female"
                                    }
                                ]
                            },
                            "data": [
                                {
                                    "0": "2019-07-01",
                                    "1": "22",
                                    "2": "░░░░░░░░░░░░░░░░░░░░░░",
                                    "3": "21",
                                    "4": "▒▒▒▒▒▒▒▒▒▒▒▒▒▒▒▒▒▒▒▒▒"
                                },
                                {
                                    "0": "2019-07-02",
                                    "1": "10",
                                    "2": "░░░░░░░░░░",
                                    "3": "26",
                                    "4": "▒▒▒▒▒▒▒▒▒▒▒▒▒▒▒▒▒▒▒▒▒▒▒▒▒▒"
                                },
                                {
                                    "0": "2019-07-03",
                                    "1": "11",
                                    "2": "░░░░░░░░░░░",
                                    "3": "29",
                                    "4": "▒▒▒▒▒▒▒▒▒▒▒▒▒▒▒▒▒▒▒▒▒▒▒▒▒▒▒▒▒"
                                },
                                {
                                    "0": "2019-07-04",
                                    "1": "14",
                                    "2": "░░░░░░░░░░░░░░",
                                    "3": "32",
                                    "4": "▒▒▒▒▒▒▒▒▒▒▒▒▒▒▒▒▒▒▒▒▒▒▒▒▒▒▒▒▒▒▒▒"
                                },
                                {
                                    "0": "2019-07-05",
                                    "1": "12",
                                    "2": "░░░░░░░░░░░░",
                                    "3": "33",
                                    "4": "▒▒▒▒▒▒▒▒▒▒▒▒▒▒▒▒▒▒▒▒▒▒▒▒▒▒▒▒▒▒▒▒▒"
                                },
                                {
                                    "0": "2019-07-06",
                                    "1": "23",
                                    "2": "░░░░░░░░░░░░░░░░░░░░░░░",
                                    "3": "28",
                                    "4": "▒▒▒▒▒▒▒▒▒▒▒▒▒▒▒▒▒▒▒▒▒▒▒▒▒▒▒▒"
                                },
                                {
                                    "0": "2019-07-07",
                                    "1": "17",
                                    "2": "░░░░░░░░░░░░░░░░░",
                                    "3": "28",
                                    "4": "▒▒▒▒▒▒▒▒▒▒▒▒▒▒▒▒▒▒▒▒▒▒▒▒▒▒▒▒"
                                }
                            ]
                        },
                        "text/html": "<table><tr><th>dt</th><th>male</th><th>male</th><th>female</th><th>female</th></tr><tr><td>2019-07-01</td><td>22</td><td>░░░░░░░░░░░░░░░░░░░░░░</td><td>21</td><td>▒▒▒▒▒▒▒▒▒▒▒▒▒▒▒▒▒▒▒▒▒</td></tr><tr><td>2019-07-02</td><td>10</td><td>░░░░░░░░░░</td><td>26</td><td>▒▒▒▒▒▒▒▒▒▒▒▒▒▒▒▒▒▒▒▒▒▒▒▒▒▒</td></tr><tr><td>2019-07-03</td><td>11</td><td>░░░░░░░░░░░</td><td>29</td><td>▒▒▒▒▒▒▒▒▒▒▒▒▒▒▒▒▒▒▒▒▒▒▒▒▒▒▒▒▒</td></tr><tr><td>2019-07-04</td><td>14</td><td>░░░░░░░░░░░░░░</td><td>32</td><td>▒▒▒▒▒▒▒▒▒▒▒▒▒▒▒▒▒▒▒▒▒▒▒▒▒▒▒▒▒▒▒▒</td></tr><tr><td>2019-07-05</td><td>12</td><td>░░░░░░░░░░░░</td><td>33</td><td>▒▒▒▒▒▒▒▒▒▒▒▒▒▒▒▒▒▒▒▒▒▒▒▒▒▒▒▒▒▒▒▒▒</td></tr><tr><td>2019-07-06</td><td>23</td><td>░░░░░░░░░░░░░░░░░░░░░░░</td><td>28</td><td>▒▒▒▒▒▒▒▒▒▒▒▒▒▒▒▒▒▒▒▒▒▒▒▒▒▒▒▒</td></tr><tr><td>2019-07-07</td><td>17</td><td>░░░░░░░░░░░░░░░░░</td><td>28</td><td>▒▒▒▒▒▒▒▒▒▒▒▒▒▒▒▒▒▒▒▒▒▒▒▒▒▒▒▒</td></tr></table>"
                    },
                    "metadata": {}
                }
            ],
            "execution_count": 1
        },
        {
            "cell_type": "code",
            "source": [
                "select dt, \n",
                "    male, \n",
                "    repeat(chr(x'2591'::int), male) || ' (' || male || ')',\n",
                "    female, \n",
                "    repeat(chr(x'2592'::int), female) || ' (' || female || ')'\n",
                "    from visitor"
            ],
            "metadata": {
                "azdata_cell_guid": "e8df59a4-c4ea-4fc9-9b11-756f5e246d3a"
            },
            "outputs": [
                {
                    "output_type": "display_data",
                    "data": {
                        "text/html": "(7 row(s) affected)"
                    },
                    "metadata": {}
                },
                {
                    "output_type": "display_data",
                    "data": {
                        "text/html": "Total execution time: 00:00:00.009"
                    },
                    "metadata": {}
                },
                {
                    "output_type": "execute_result",
                    "execution_count": 2,
                    "data": {
                        "application/vnd.dataresource+json": {
                            "schema": {
                                "fields": [
                                    {
                                        "name": "dt"
                                    },
                                    {
                                        "name": "male"
                                    },
                                    {
                                        "name": "Column3"
                                    },
                                    {
                                        "name": "female"
                                    },
                                    {
                                        "name": "Column5"
                                    }
                                ]
                            },
                            "data": [
                                {
                                    "0": "2019-07-01",
                                    "1": "22",
                                    "2": "░░░░░░░░░░░░░░░░░░░░░░ (22)",
                                    "3": "21",
                                    "4": "▒▒▒▒▒▒▒▒▒▒▒▒▒▒▒▒▒▒▒▒▒ (21)"
                                },
                                {
                                    "0": "2019-07-02",
                                    "1": "10",
                                    "2": "░░░░░░░░░░ (10)",
                                    "3": "26",
                                    "4": "▒▒▒▒▒▒▒▒▒▒▒▒▒▒▒▒▒▒▒▒▒▒▒▒▒▒ (26)"
                                },
                                {
                                    "0": "2019-07-03",
                                    "1": "11",
                                    "2": "░░░░░░░░░░░ (11)",
                                    "3": "29",
                                    "4": "▒▒▒▒▒▒▒▒▒▒▒▒▒▒▒▒▒▒▒▒▒▒▒▒▒▒▒▒▒ (29)"
                                },
                                {
                                    "0": "2019-07-04",
                                    "1": "14",
                                    "2": "░░░░░░░░░░░░░░ (14)",
                                    "3": "32",
                                    "4": "▒▒▒▒▒▒▒▒▒▒▒▒▒▒▒▒▒▒▒▒▒▒▒▒▒▒▒▒▒▒▒▒ (32)"
                                },
                                {
                                    "0": "2019-07-05",
                                    "1": "12",
                                    "2": "░░░░░░░░░░░░ (12)",
                                    "3": "33",
                                    "4": "▒▒▒▒▒▒▒▒▒▒▒▒▒▒▒▒▒▒▒▒▒▒▒▒▒▒▒▒▒▒▒▒▒ (33)"
                                },
                                {
                                    "0": "2019-07-06",
                                    "1": "23",
                                    "2": "░░░░░░░░░░░░░░░░░░░░░░░ (23)",
                                    "3": "28",
                                    "4": "▒▒▒▒▒▒▒▒▒▒▒▒▒▒▒▒▒▒▒▒▒▒▒▒▒▒▒▒ (28)"
                                },
                                {
                                    "0": "2019-07-07",
                                    "1": "17",
                                    "2": "░░░░░░░░░░░░░░░░░ (17)",
                                    "3": "28",
                                    "4": "▒▒▒▒▒▒▒▒▒▒▒▒▒▒▒▒▒▒▒▒▒▒▒▒▒▒▒▒ (28)"
                                }
                            ]
                        },
                        "text/html": "<table><tr><th>dt</th><th>male</th><th>Column3</th><th>female</th><th>Column5</th></tr><tr><td>2019-07-01</td><td>22</td><td>░░░░░░░░░░░░░░░░░░░░░░ (22)</td><td>21</td><td>▒▒▒▒▒▒▒▒▒▒▒▒▒▒▒▒▒▒▒▒▒ (21)</td></tr><tr><td>2019-07-02</td><td>10</td><td>░░░░░░░░░░ (10)</td><td>26</td><td>▒▒▒▒▒▒▒▒▒▒▒▒▒▒▒▒▒▒▒▒▒▒▒▒▒▒ (26)</td></tr><tr><td>2019-07-03</td><td>11</td><td>░░░░░░░░░░░ (11)</td><td>29</td><td>▒▒▒▒▒▒▒▒▒▒▒▒▒▒▒▒▒▒▒▒▒▒▒▒▒▒▒▒▒ (29)</td></tr><tr><td>2019-07-04</td><td>14</td><td>░░░░░░░░░░░░░░ (14)</td><td>32</td><td>▒▒▒▒▒▒▒▒▒▒▒▒▒▒▒▒▒▒▒▒▒▒▒▒▒▒▒▒▒▒▒▒ (32)</td></tr><tr><td>2019-07-05</td><td>12</td><td>░░░░░░░░░░░░ (12)</td><td>33</td><td>▒▒▒▒▒▒▒▒▒▒▒▒▒▒▒▒▒▒▒▒▒▒▒▒▒▒▒▒▒▒▒▒▒ (33)</td></tr><tr><td>2019-07-06</td><td>23</td><td>░░░░░░░░░░░░░░░░░░░░░░░ (23)</td><td>28</td><td>▒▒▒▒▒▒▒▒▒▒▒▒▒▒▒▒▒▒▒▒▒▒▒▒▒▒▒▒ (28)</td></tr><tr><td>2019-07-07</td><td>17</td><td>░░░░░░░░░░░░░░░░░ (17)</td><td>28</td><td>▒▒▒▒▒▒▒▒▒▒▒▒▒▒▒▒▒▒▒▒▒▒▒▒▒▒▒▒ (28)</td></tr></table>"
                    },
                    "metadata": {}
                }
            ],
            "execution_count": 2
        },
        {
            "cell_type": "code",
            "source": [
                "select dt, \n",
                "    repeat(chr(x'2591'::int), male) || ' (' || male || ')' male,\n",
                "    repeat(chr(x'2592'::int), female) || ' (' || female || ')' female\n",
                "    from visitor"
            ],
            "metadata": {
                "azdata_cell_guid": "b05c9570-b1b8-4b0f-8700-523e7c20129f"
            },
            "outputs": [
                {
                    "output_type": "display_data",
                    "data": {
                        "text/html": "(7 row(s) affected)"
                    },
                    "metadata": {}
                },
                {
                    "output_type": "display_data",
                    "data": {
                        "text/html": "Total execution time: 00:00:00.005"
                    },
                    "metadata": {}
                },
                {
                    "output_type": "execute_result",
                    "execution_count": 4,
                    "data": {
                        "application/vnd.dataresource+json": {
                            "schema": {
                                "fields": [
                                    {
                                        "name": "dt"
                                    },
                                    {
                                        "name": "male"
                                    },
                                    {
                                        "name": "female"
                                    }
                                ]
                            },
                            "data": [
                                {
                                    "0": "2019-07-01",
                                    "1": "░░░░░░░░░░░░░░░░░░░░░░ (22)",
                                    "2": "▒▒▒▒▒▒▒▒▒▒▒▒▒▒▒▒▒▒▒▒▒ (21)"
                                },
                                {
                                    "0": "2019-07-02",
                                    "1": "░░░░░░░░░░ (10)",
                                    "2": "▒▒▒▒▒▒▒▒▒▒▒▒▒▒▒▒▒▒▒▒▒▒▒▒▒▒ (26)"
                                },
                                {
                                    "0": "2019-07-03",
                                    "1": "░░░░░░░░░░░ (11)",
                                    "2": "▒▒▒▒▒▒▒▒▒▒▒▒▒▒▒▒▒▒▒▒▒▒▒▒▒▒▒▒▒ (29)"
                                },
                                {
                                    "0": "2019-07-04",
                                    "1": "░░░░░░░░░░░░░░ (14)",
                                    "2": "▒▒▒▒▒▒▒▒▒▒▒▒▒▒▒▒▒▒▒▒▒▒▒▒▒▒▒▒▒▒▒▒ (32)"
                                },
                                {
                                    "0": "2019-07-05",
                                    "1": "░░░░░░░░░░░░ (12)",
                                    "2": "▒▒▒▒▒▒▒▒▒▒▒▒▒▒▒▒▒▒▒▒▒▒▒▒▒▒▒▒▒▒▒▒▒ (33)"
                                },
                                {
                                    "0": "2019-07-06",
                                    "1": "░░░░░░░░░░░░░░░░░░░░░░░ (23)",
                                    "2": "▒▒▒▒▒▒▒▒▒▒▒▒▒▒▒▒▒▒▒▒▒▒▒▒▒▒▒▒ (28)"
                                },
                                {
                                    "0": "2019-07-07",
                                    "1": "░░░░░░░░░░░░░░░░░ (17)",
                                    "2": "▒▒▒▒▒▒▒▒▒▒▒▒▒▒▒▒▒▒▒▒▒▒▒▒▒▒▒▒ (28)"
                                }
                            ]
                        },
                        "text/html": "<table><tr><th>dt</th><th>male</th><th>female</th></tr><tr><td>2019-07-01</td><td>░░░░░░░░░░░░░░░░░░░░░░ (22)</td><td>▒▒▒▒▒▒▒▒▒▒▒▒▒▒▒▒▒▒▒▒▒ (21)</td></tr><tr><td>2019-07-02</td><td>░░░░░░░░░░ (10)</td><td>▒▒▒▒▒▒▒▒▒▒▒▒▒▒▒▒▒▒▒▒▒▒▒▒▒▒ (26)</td></tr><tr><td>2019-07-03</td><td>░░░░░░░░░░░ (11)</td><td>▒▒▒▒▒▒▒▒▒▒▒▒▒▒▒▒▒▒▒▒▒▒▒▒▒▒▒▒▒ (29)</td></tr><tr><td>2019-07-04</td><td>░░░░░░░░░░░░░░ (14)</td><td>▒▒▒▒▒▒▒▒▒▒▒▒▒▒▒▒▒▒▒▒▒▒▒▒▒▒▒▒▒▒▒▒ (32)</td></tr><tr><td>2019-07-05</td><td>░░░░░░░░░░░░ (12)</td><td>▒▒▒▒▒▒▒▒▒▒▒▒▒▒▒▒▒▒▒▒▒▒▒▒▒▒▒▒▒▒▒▒▒ (33)</td></tr><tr><td>2019-07-06</td><td>░░░░░░░░░░░░░░░░░░░░░░░ (23)</td><td>▒▒▒▒▒▒▒▒▒▒▒▒▒▒▒▒▒▒▒▒▒▒▒▒▒▒▒▒ (28)</td></tr><tr><td>2019-07-07</td><td>░░░░░░░░░░░░░░░░░ (17)</td><td>▒▒▒▒▒▒▒▒▒▒▒▒▒▒▒▒▒▒▒▒▒▒▒▒▒▒▒▒ (28)</td></tr></table>"
                    },
                    "metadata": {}
                }
            ],
            "execution_count": 4
        },
        {
            "cell_type": "code",
            "source": [
                "select dt, male, \n",
                "    repeat(chr(x'2591'::int), male) male,\n",
                "    female, repeat(chr(x'2592'::int), female) female,\n",
                "    repeat(chr(x'2591'::int), male) || repeat(chr(x'2592'::int), female) || ' (' || (male + female) || ')' total\n",
                "    from visitor"
            ],
            "metadata": {
                "azdata_cell_guid": "ccfda4cf-2c44-428d-b5cb-dd3d6aaf695d"
            },
            "outputs": [
                {
                    "output_type": "display_data",
                    "data": {
                        "text/html": "(7 row(s) affected)"
                    },
                    "metadata": {}
                },
                {
                    "output_type": "display_data",
                    "data": {
                        "text/html": "Total execution time: 00:00:00.009"
                    },
                    "metadata": {}
                },
                {
                    "output_type": "execute_result",
                    "execution_count": 29,
                    "data": {
                        "application/vnd.dataresource+json": {
                            "schema": {
                                "fields": [
                                    {
                                        "name": "dt"
                                    },
                                    {
                                        "name": "male"
                                    },
                                    {
                                        "name": "male"
                                    },
                                    {
                                        "name": "female"
                                    },
                                    {
                                        "name": "female"
                                    },
                                    {
                                        "name": "total"
                                    }
                                ]
                            },
                            "data": [
                                {
                                    "0": "2019-07-01",
                                    "1": "22",
                                    "2": "░░░░░░░░░░░░░░░░░░░░░░",
                                    "3": "21",
                                    "4": "▒▒▒▒▒▒▒▒▒▒▒▒▒▒▒▒▒▒▒▒▒",
                                    "5": "░░░░░░░░░░░░░░░░░░░░░░▒▒▒▒▒▒▒▒▒▒▒▒▒▒▒▒▒▒▒▒▒ (43)"
                                },
                                {
                                    "0": "2019-07-02",
                                    "1": "10",
                                    "2": "░░░░░░░░░░",
                                    "3": "26",
                                    "4": "▒▒▒▒▒▒▒▒▒▒▒▒▒▒▒▒▒▒▒▒▒▒▒▒▒▒",
                                    "5": "░░░░░░░░░░▒▒▒▒▒▒▒▒▒▒▒▒▒▒▒▒▒▒▒▒▒▒▒▒▒▒ (36)"
                                },
                                {
                                    "0": "2019-07-03",
                                    "1": "11",
                                    "2": "░░░░░░░░░░░",
                                    "3": "29",
                                    "4": "▒▒▒▒▒▒▒▒▒▒▒▒▒▒▒▒▒▒▒▒▒▒▒▒▒▒▒▒▒",
                                    "5": "░░░░░░░░░░░▒▒▒▒▒▒▒▒▒▒▒▒▒▒▒▒▒▒▒▒▒▒▒▒▒▒▒▒▒ (40)"
                                },
                                {
                                    "0": "2019-07-04",
                                    "1": "14",
                                    "2": "░░░░░░░░░░░░░░",
                                    "3": "32",
                                    "4": "▒▒▒▒▒▒▒▒▒▒▒▒▒▒▒▒▒▒▒▒▒▒▒▒▒▒▒▒▒▒▒▒",
                                    "5": "░░░░░░░░░░░░░░▒▒▒▒▒▒▒▒▒▒▒▒▒▒▒▒▒▒▒▒▒▒▒▒▒▒▒▒▒▒▒▒ (46)"
                                },
                                {
                                    "0": "2019-07-05",
                                    "1": "12",
                                    "2": "░░░░░░░░░░░░",
                                    "3": "33",
                                    "4": "▒▒▒▒▒▒▒▒▒▒▒▒▒▒▒▒▒▒▒▒▒▒▒▒▒▒▒▒▒▒▒▒▒",
                                    "5": "░░░░░░░░░░░░▒▒▒▒▒▒▒▒▒▒▒▒▒▒▒▒▒▒▒▒▒▒▒▒▒▒▒▒▒▒▒▒▒ (45)"
                                },
                                {
                                    "0": "2019-07-06",
                                    "1": "23",
                                    "2": "░░░░░░░░░░░░░░░░░░░░░░░",
                                    "3": "28",
                                    "4": "▒▒▒▒▒▒▒▒▒▒▒▒▒▒▒▒▒▒▒▒▒▒▒▒▒▒▒▒",
                                    "5": "░░░░░░░░░░░░░░░░░░░░░░░▒▒▒▒▒▒▒▒▒▒▒▒▒▒▒▒▒▒▒▒▒▒▒▒▒▒▒▒ (51)"
                                },
                                {
                                    "0": "2019-07-07",
                                    "1": "17",
                                    "2": "░░░░░░░░░░░░░░░░░",
                                    "3": "28",
                                    "4": "▒▒▒▒▒▒▒▒▒▒▒▒▒▒▒▒▒▒▒▒▒▒▒▒▒▒▒▒",
                                    "5": "░░░░░░░░░░░░░░░░░▒▒▒▒▒▒▒▒▒▒▒▒▒▒▒▒▒▒▒▒▒▒▒▒▒▒▒▒ (45)"
                                }
                            ]
                        },
                        "text/html": "<table><tr><th>dt</th><th>male</th><th>male</th><th>female</th><th>female</th><th>total</th></tr><tr><td>2019-07-01</td><td>22</td><td>░░░░░░░░░░░░░░░░░░░░░░</td><td>21</td><td>▒▒▒▒▒▒▒▒▒▒▒▒▒▒▒▒▒▒▒▒▒</td><td>░░░░░░░░░░░░░░░░░░░░░░▒▒▒▒▒▒▒▒▒▒▒▒▒▒▒▒▒▒▒▒▒ (43)</td></tr><tr><td>2019-07-02</td><td>10</td><td>░░░░░░░░░░</td><td>26</td><td>▒▒▒▒▒▒▒▒▒▒▒▒▒▒▒▒▒▒▒▒▒▒▒▒▒▒</td><td>░░░░░░░░░░▒▒▒▒▒▒▒▒▒▒▒▒▒▒▒▒▒▒▒▒▒▒▒▒▒▒ (36)</td></tr><tr><td>2019-07-03</td><td>11</td><td>░░░░░░░░░░░</td><td>29</td><td>▒▒▒▒▒▒▒▒▒▒▒▒▒▒▒▒▒▒▒▒▒▒▒▒▒▒▒▒▒</td><td>░░░░░░░░░░░▒▒▒▒▒▒▒▒▒▒▒▒▒▒▒▒▒▒▒▒▒▒▒▒▒▒▒▒▒ (40)</td></tr><tr><td>2019-07-04</td><td>14</td><td>░░░░░░░░░░░░░░</td><td>32</td><td>▒▒▒▒▒▒▒▒▒▒▒▒▒▒▒▒▒▒▒▒▒▒▒▒▒▒▒▒▒▒▒▒</td><td>░░░░░░░░░░░░░░▒▒▒▒▒▒▒▒▒▒▒▒▒▒▒▒▒▒▒▒▒▒▒▒▒▒▒▒▒▒▒▒ (46)</td></tr><tr><td>2019-07-05</td><td>12</td><td>░░░░░░░░░░░░</td><td>33</td><td>▒▒▒▒▒▒▒▒▒▒▒▒▒▒▒▒▒▒▒▒▒▒▒▒▒▒▒▒▒▒▒▒▒</td><td>░░░░░░░░░░░░▒▒▒▒▒▒▒▒▒▒▒▒▒▒▒▒▒▒▒▒▒▒▒▒▒▒▒▒▒▒▒▒▒ (45)</td></tr><tr><td>2019-07-06</td><td>23</td><td>░░░░░░░░░░░░░░░░░░░░░░░</td><td>28</td><td>▒▒▒▒▒▒▒▒▒▒▒▒▒▒▒▒▒▒▒▒▒▒▒▒▒▒▒▒</td><td>░░░░░░░░░░░░░░░░░░░░░░░▒▒▒▒▒▒▒▒▒▒▒▒▒▒▒▒▒▒▒▒▒▒▒▒▒▒▒▒ (51)</td></tr><tr><td>2019-07-07</td><td>17</td><td>░░░░░░░░░░░░░░░░░</td><td>28</td><td>▒▒▒▒▒▒▒▒▒▒▒▒▒▒▒▒▒▒▒▒▒▒▒▒▒▒▒▒</td><td>░░░░░░░░░░░░░░░░░▒▒▒▒▒▒▒▒▒▒▒▒▒▒▒▒▒▒▒▒▒▒▒▒▒▒▒▒ (45)</td></tr></table>"
                    },
                    "metadata": {}
                }
            ],
            "execution_count": 29
        },
        {
            "cell_type": "code",
            "source": [
                "select chr(x'2591'::int), chr(x'2592'::int)"
            ],
            "metadata": {
                "azdata_cell_guid": "07d4513e-372b-4495-8b8a-fa2420c8720d"
            },
            "outputs": [
                {
                    "output_type": "display_data",
                    "data": {
                        "text/html": "(1 row(s) affected)"
                    },
                    "metadata": {}
                },
                {
                    "output_type": "display_data",
                    "data": {
                        "text/html": "Total execution time: 00:00:00.003"
                    },
                    "metadata": {}
                },
                {
                    "output_type": "execute_result",
                    "execution_count": 32,
                    "data": {
                        "application/vnd.dataresource+json": {
                            "schema": {
                                "fields": [
                                    {
                                        "name": "chr"
                                    },
                                    {
                                        "name": "chr"
                                    }
                                ]
                            },
                            "data": [
                                {
                                    "0": "░",
                                    "1": "▒"
                                }
                            ]
                        },
                        "text/html": "<table><tr><th>chr</th><th>chr</th></tr><tr><td>░</td><td>▒</td></tr></table>"
                    },
                    "metadata": {}
                }
            ],
            "execution_count": 32
        },
        {
            "cell_type": "code",
            "source": [
                "select dt, \n",
                "    repeat(chr(x'2591'::int), ceil(male * 100.0 / (male + female))::int) ||\n",
                "    repeat(chr(x'2592'::int), floor(female * 100.0 / (male + female))::int) \"░ male  ▒ female\"\n",
                "    from visitor"
            ],
            "metadata": {
                "azdata_cell_guid": "cb938353-0120-4ef4-bfb6-c33b1c97f6bf"
            },
            "outputs": [
                {
                    "output_type": "display_data",
                    "data": {
                        "text/html": "(7 row(s) affected)"
                    },
                    "metadata": {}
                },
                {
                    "output_type": "display_data",
                    "data": {
                        "text/html": "Total execution time: 00:00:00.004"
                    },
                    "metadata": {}
                },
                {
                    "output_type": "execute_result",
                    "execution_count": 37,
                    "data": {
                        "application/vnd.dataresource+json": {
                            "schema": {
                                "fields": [
                                    {
                                        "name": "dt"
                                    },
                                    {
                                        "name": "░ male  ▒ female"
                                    }
                                ]
                            },
                            "data": [
                                {
                                    "0": "2019-07-01",
                                    "1": "░░░░░░░░░░░░░░░░░░░░░░░░░░░░░░░░░░░░░░░░░░░░░░░░░░░░▒▒▒▒▒▒▒▒▒▒▒▒▒▒▒▒▒▒▒▒▒▒▒▒▒▒▒▒▒▒▒▒▒▒▒▒▒▒▒▒▒▒▒▒▒▒▒▒"
                                },
                                {
                                    "0": "2019-07-02",
                                    "1": "░░░░░░░░░░░░░░░░░░░░░░░░░░░░▒▒▒▒▒▒▒▒▒▒▒▒▒▒▒▒▒▒▒▒▒▒▒▒▒▒▒▒▒▒▒▒▒▒▒▒▒▒▒▒▒▒▒▒▒▒▒▒▒▒▒▒▒▒▒▒▒▒▒▒▒▒▒▒▒▒▒▒▒▒▒▒"
                                },
                                {
                                    "0": "2019-07-03",
                                    "1": "░░░░░░░░░░░░░░░░░░░░░░░░░░░░▒▒▒▒▒▒▒▒▒▒▒▒▒▒▒▒▒▒▒▒▒▒▒▒▒▒▒▒▒▒▒▒▒▒▒▒▒▒▒▒▒▒▒▒▒▒▒▒▒▒▒▒▒▒▒▒▒▒▒▒▒▒▒▒▒▒▒▒▒▒▒▒"
                                },
                                {
                                    "0": "2019-07-04",
                                    "1": "░░░░░░░░░░░░░░░░░░░░░░░░░░░░░░░▒▒▒▒▒▒▒▒▒▒▒▒▒▒▒▒▒▒▒▒▒▒▒▒▒▒▒▒▒▒▒▒▒▒▒▒▒▒▒▒▒▒▒▒▒▒▒▒▒▒▒▒▒▒▒▒▒▒▒▒▒▒▒▒▒▒▒▒▒"
                                },
                                {
                                    "0": "2019-07-05",
                                    "1": "░░░░░░░░░░░░░░░░░░░░░░░░░░░▒▒▒▒▒▒▒▒▒▒▒▒▒▒▒▒▒▒▒▒▒▒▒▒▒▒▒▒▒▒▒▒▒▒▒▒▒▒▒▒▒▒▒▒▒▒▒▒▒▒▒▒▒▒▒▒▒▒▒▒▒▒▒▒▒▒▒▒▒▒▒▒▒"
                                },
                                {
                                    "0": "2019-07-06",
                                    "1": "░░░░░░░░░░░░░░░░░░░░░░░░░░░░░░░░░░░░░░░░░░░░░░▒▒▒▒▒▒▒▒▒▒▒▒▒▒▒▒▒▒▒▒▒▒▒▒▒▒▒▒▒▒▒▒▒▒▒▒▒▒▒▒▒▒▒▒▒▒▒▒▒▒▒▒▒▒"
                                },
                                {
                                    "0": "2019-07-07",
                                    "1": "░░░░░░░░░░░░░░░░░░░░░░░░░░░░░░░░░░░░░░▒▒▒▒▒▒▒▒▒▒▒▒▒▒▒▒▒▒▒▒▒▒▒▒▒▒▒▒▒▒▒▒▒▒▒▒▒▒▒▒▒▒▒▒▒▒▒▒▒▒▒▒▒▒▒▒▒▒▒▒▒▒"
                                }
                            ]
                        },
                        "text/html": "<table><tr><th>dt</th><th>░ male  ▒ female</th></tr><tr><td>2019-07-01</td><td>░░░░░░░░░░░░░░░░░░░░░░░░░░░░░░░░░░░░░░░░░░░░░░░░░░░░▒▒▒▒▒▒▒▒▒▒▒▒▒▒▒▒▒▒▒▒▒▒▒▒▒▒▒▒▒▒▒▒▒▒▒▒▒▒▒▒▒▒▒▒▒▒▒▒</td></tr><tr><td>2019-07-02</td><td>░░░░░░░░░░░░░░░░░░░░░░░░░░░░▒▒▒▒▒▒▒▒▒▒▒▒▒▒▒▒▒▒▒▒▒▒▒▒▒▒▒▒▒▒▒▒▒▒▒▒▒▒▒▒▒▒▒▒▒▒▒▒▒▒▒▒▒▒▒▒▒▒▒▒▒▒▒▒▒▒▒▒▒▒▒▒</td></tr><tr><td>2019-07-03</td><td>░░░░░░░░░░░░░░░░░░░░░░░░░░░░▒▒▒▒▒▒▒▒▒▒▒▒▒▒▒▒▒▒▒▒▒▒▒▒▒▒▒▒▒▒▒▒▒▒▒▒▒▒▒▒▒▒▒▒▒▒▒▒▒▒▒▒▒▒▒▒▒▒▒▒▒▒▒▒▒▒▒▒▒▒▒▒</td></tr><tr><td>2019-07-04</td><td>░░░░░░░░░░░░░░░░░░░░░░░░░░░░░░░▒▒▒▒▒▒▒▒▒▒▒▒▒▒▒▒▒▒▒▒▒▒▒▒▒▒▒▒▒▒▒▒▒▒▒▒▒▒▒▒▒▒▒▒▒▒▒▒▒▒▒▒▒▒▒▒▒▒▒▒▒▒▒▒▒▒▒▒▒</td></tr><tr><td>2019-07-05</td><td>░░░░░░░░░░░░░░░░░░░░░░░░░░░▒▒▒▒▒▒▒▒▒▒▒▒▒▒▒▒▒▒▒▒▒▒▒▒▒▒▒▒▒▒▒▒▒▒▒▒▒▒▒▒▒▒▒▒▒▒▒▒▒▒▒▒▒▒▒▒▒▒▒▒▒▒▒▒▒▒▒▒▒▒▒▒▒</td></tr><tr><td>2019-07-06</td><td>░░░░░░░░░░░░░░░░░░░░░░░░░░░░░░░░░░░░░░░░░░░░░░▒▒▒▒▒▒▒▒▒▒▒▒▒▒▒▒▒▒▒▒▒▒▒▒▒▒▒▒▒▒▒▒▒▒▒▒▒▒▒▒▒▒▒▒▒▒▒▒▒▒▒▒▒▒</td></tr><tr><td>2019-07-07</td><td>░░░░░░░░░░░░░░░░░░░░░░░░░░░░░░░░░░░░░░▒▒▒▒▒▒▒▒▒▒▒▒▒▒▒▒▒▒▒▒▒▒▒▒▒▒▒▒▒▒▒▒▒▒▒▒▒▒▒▒▒▒▒▒▒▒▒▒▒▒▒▒▒▒▒▒▒▒▒▒▒▒</td></tr></table>"
                    },
                    "metadata": {}
                }
            ],
            "execution_count": 37
        },
        {
            "cell_type": "markdown",
            "source": [
                "## 100% stacked bar"
            ],
            "metadata": {
                "azdata_cell_guid": "5ea3e40b-a423-47af-9700-7b4ee9ed9216"
            }
        },
        {
            "cell_type": "code",
            "source": [
                "select dt, \n",
                "    repeat(chr(x'2591'::int), ceil(male * 50.0 / (male + female))::int) ||\n",
                "    repeat(chr(x'2592'::int), floor(female * 50.0 / (male + female))::int) \"░ male  ▒ female\"\n",
                "    from visitor"
            ],
            "metadata": {
                "azdata_cell_guid": "7c5f1793-f25d-4ea9-b90e-97d2aaf8d701"
            },
            "outputs": [
                {
                    "output_type": "display_data",
                    "data": {
                        "text/html": "(7 row(s) affected)"
                    },
                    "metadata": {}
                },
                {
                    "output_type": "display_data",
                    "data": {
                        "text/html": "Total execution time: 00:00:00.008"
                    },
                    "metadata": {}
                },
                {
                    "output_type": "execute_result",
                    "execution_count": 38,
                    "data": {
                        "application/vnd.dataresource+json": {
                            "schema": {
                                "fields": [
                                    {
                                        "name": "dt"
                                    },
                                    {
                                        "name": "░ male  ▒ female"
                                    }
                                ]
                            },
                            "data": [
                                {
                                    "0": "2019-07-01",
                                    "1": "░░░░░░░░░░░░░░░░░░░░░░░░░░▒▒▒▒▒▒▒▒▒▒▒▒▒▒▒▒▒▒▒▒▒▒▒▒"
                                },
                                {
                                    "0": "2019-07-02",
                                    "1": "░░░░░░░░░░░░░░▒▒▒▒▒▒▒▒▒▒▒▒▒▒▒▒▒▒▒▒▒▒▒▒▒▒▒▒▒▒▒▒▒▒▒▒"
                                },
                                {
                                    "0": "2019-07-03",
                                    "1": "░░░░░░░░░░░░░░▒▒▒▒▒▒▒▒▒▒▒▒▒▒▒▒▒▒▒▒▒▒▒▒▒▒▒▒▒▒▒▒▒▒▒▒"
                                },
                                {
                                    "0": "2019-07-04",
                                    "1": "░░░░░░░░░░░░░░░░▒▒▒▒▒▒▒▒▒▒▒▒▒▒▒▒▒▒▒▒▒▒▒▒▒▒▒▒▒▒▒▒▒▒"
                                },
                                {
                                    "0": "2019-07-05",
                                    "1": "░░░░░░░░░░░░░░▒▒▒▒▒▒▒▒▒▒▒▒▒▒▒▒▒▒▒▒▒▒▒▒▒▒▒▒▒▒▒▒▒▒▒▒"
                                },
                                {
                                    "0": "2019-07-06",
                                    "1": "░░░░░░░░░░░░░░░░░░░░░░░▒▒▒▒▒▒▒▒▒▒▒▒▒▒▒▒▒▒▒▒▒▒▒▒▒▒▒"
                                },
                                {
                                    "0": "2019-07-07",
                                    "1": "░░░░░░░░░░░░░░░░░░░▒▒▒▒▒▒▒▒▒▒▒▒▒▒▒▒▒▒▒▒▒▒▒▒▒▒▒▒▒▒▒"
                                }
                            ]
                        },
                        "text/html": "<table><tr><th>dt</th><th>░ male  ▒ female</th></tr><tr><td>2019-07-01</td><td>░░░░░░░░░░░░░░░░░░░░░░░░░░▒▒▒▒▒▒▒▒▒▒▒▒▒▒▒▒▒▒▒▒▒▒▒▒</td></tr><tr><td>2019-07-02</td><td>░░░░░░░░░░░░░░▒▒▒▒▒▒▒▒▒▒▒▒▒▒▒▒▒▒▒▒▒▒▒▒▒▒▒▒▒▒▒▒▒▒▒▒</td></tr><tr><td>2019-07-03</td><td>░░░░░░░░░░░░░░▒▒▒▒▒▒▒▒▒▒▒▒▒▒▒▒▒▒▒▒▒▒▒▒▒▒▒▒▒▒▒▒▒▒▒▒</td></tr><tr><td>2019-07-04</td><td>░░░░░░░░░░░░░░░░▒▒▒▒▒▒▒▒▒▒▒▒▒▒▒▒▒▒▒▒▒▒▒▒▒▒▒▒▒▒▒▒▒▒</td></tr><tr><td>2019-07-05</td><td>░░░░░░░░░░░░░░▒▒▒▒▒▒▒▒▒▒▒▒▒▒▒▒▒▒▒▒▒▒▒▒▒▒▒▒▒▒▒▒▒▒▒▒</td></tr><tr><td>2019-07-06</td><td>░░░░░░░░░░░░░░░░░░░░░░░▒▒▒▒▒▒▒▒▒▒▒▒▒▒▒▒▒▒▒▒▒▒▒▒▒▒▒</td></tr><tr><td>2019-07-07</td><td>░░░░░░░░░░░░░░░░░░░▒▒▒▒▒▒▒▒▒▒▒▒▒▒▒▒▒▒▒▒▒▒▒▒▒▒▒▒▒▒▒</td></tr></table>"
                    },
                    "metadata": {}
                }
            ],
            "execution_count": 38
        }
    ]
}