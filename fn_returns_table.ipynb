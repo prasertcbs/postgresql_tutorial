{
    "metadata": {
        "kernelspec": {
            "name": "SQL",
            "display_name": "SQL",
            "language": "sql"
        },
        "language_info": {
            "name": "sql",
            "version": ""
        }
    },
    "nbformat_minor": 2,
    "nbformat": 4,
    "cells": [
        {
            "cell_type": "markdown",
            "source": [
                "# Create function returning table\n",
                "\n",
                "## Author: Prasert Kanawattanachai\n",
                "\n",
                "## YouTube: https://youtu.be/5TbiSexA5-Q"
            ],
            "metadata": {
                "azdata_cell_guid": "e46ddd13-f605-44a7-8eb8-ff4cc495b625"
            }
        },
        {
            "cell_type": "code",
            "source": [
                "drop table if exists guest;\n",
                "\n",
                "create table guest (\n",
                "    order_id serial primary key,\n",
                "    no_guest int,\n",
                "    table_no int,\n",
                "    in_time timestamp,\n",
                "    out_time timestamp,\n",
                "    total numeric(10,2)\n",
                ");"
            ],
            "metadata": {
                "azdata_cell_guid": "091de506-a79d-4c66-b9a6-f9b0a61127d3"
            },
            "outputs": [
                {
                    "output_type": "display_data",
                    "data": {
                        "text/html": "Commands completed successfully"
                    },
                    "metadata": {}
                },
                {
                    "output_type": "display_data",
                    "data": {
                        "text/html": "Commands completed successfully"
                    },
                    "metadata": {}
                },
                {
                    "output_type": "display_data",
                    "data": {
                        "text/html": "Total execution time: 00:00:00.006"
                    },
                    "metadata": {}
                }
            ],
            "execution_count": 3
        },
        {
            "cell_type": "code",
            "source": [
                "insert into guest(no_guest, table_no, in_time, out_time, total) values\n",
                "    (3, 3, '2019-07-11 10:35:00', '2019-07-11 12:36:00', 250.00),\n",
                "    (2, 3, '2019-07-11 10:37:00', '2019-07-11 11:11:00', 360.00),\n",
                "    (3, 4, '2019-07-11 10:43:00', '2019-07-11 11:53:00', 760.00),\n",
                "    (3, 4, '2019-07-11 10:47:00', '2019-07-11 11:23:00', 420.00),\n",
                "    (4, 5, '2019-07-11 10:51:00', '2019-07-11 12:00:00', 1300.00),\n",
                "    (1, 7, '2019-07-11 11:07:00', '2019-07-11 13:25:00', 360.00),\n",
                "    (3, 1, '2019-07-11 11:15:00', '2019-07-11 13:27:00', 40.00),\n",
                "    (1, 2, '2019-07-11 11:28:00', '2019-07-11 13:16:00', 320.00),\n",
                "    (2, 2, '2019-07-11 11:29:00', '2019-07-11 13:52:00', 660.00),\n",
                "    (1, 3, '2019-07-11 11:35:00', '2019-07-11 12:42:00', 675.00),\n",
                "    (6, 3, '2019-07-11 11:15:00', '2019-07-11 13:25:00', 2290.00),\n",
                "    (6, 3, '2019-07-11 11:39:00', '2019-07-11 12:50:00', 1240.00),\n",
                "    (2, 4, '2019-07-11 11:41:00', '2019-07-11 12:22:00', 425.00),\n",
                "    (3, 4, '2019-07-11 11:42:00', '2019-07-11 12:18:00', 830.00),\n",
                "    (4, 4, '2019-07-11 11:44:00', '2019-07-11 12:23:00', 110.00),\n",
                "    (2, 5, '2019-07-11 11:55:00', '2019-07-11 13:05:00', 815.00),\n",
                "    (1, 5, '2019-07-11 11:58:00', '2019-07-11 13:32:00', 480.00),\n",
                "    (2, 7, '2019-07-12 12:07:00', '2019-07-12 14:24:00', 310.00),\n",
                "    (3, 7, '2019-07-12 12:07:00', '2019-07-12 12:48:00', 180.00),\n",
                "    (2, 1, '2019-07-12 12:14:00', '2019-07-12 14:33:00', 520.00),\n",
                "    (2, 1, '2019-07-12 12:17:00', '2019-07-12 13:28:00', 410.00),\n",
                "    (3, 1, '2019-07-12 12:19:00', '2019-07-12 14:32:00', 240.00),\n",
                "    (2, 1, '2019-07-12 12:19:00', '2019-07-12 13:26:00', 850.00),\n",
                "    (2, 2, '2019-07-12 12:20:00', '2019-07-12 14:05:00', 270.00),\n",
                "    (2, 2, '2019-07-12 12:20:00', '2019-07-12 14:20:00', 410.00),\n",
                "    (3, 3, '2019-07-11 18:35:00', '2019-07-11 20:09:00', 1010.00),\n",
                "    (2, 3, '2019-07-11 18:37:00', '2019-07-11 20:54:00', 130.00),\n",
                "    (2, 3, '2019-07-11 18:37:00', '2019-07-11 19:53:00', 930.00),\n",
                "    (2, 4, '2019-07-11 18:40:00', '2019-07-11 20:08:00', 950.00),\n",
                "    (4, 5, '2019-07-11 18:58:00', '2019-07-11 19:51:00', 1670.00),\n",
                "    (3, 5, '2019-07-11 18:58:00', '2019-07-11 21:13:00', 1020.00),\n",
                "    (4, 5, '2019-07-11 18:59:00', '2019-07-11 19:31:00', 1815.00),\n",
                "    (3, 5, '2019-07-11 18:59:00', '2019-07-11 19:58:00', 490.00),\n",
                "    (4, 2, '2019-07-11 19:02:00', '2019-07-11 21:12:00', 275.00),\n",
                "    (4, 8, '2019-07-11 19:08:00', '2019-07-11 21:18:00', 220.00),\n",
                "    (1, 0, '2019-07-11 19:13:00', '2019-07-11 19:28:00', 360.00),\n",
                "    (3, 1, '2019-07-11 19:13:00', '2019-07-11 19:44:00', 1270.00),\n",
                "    (4, 1, '2019-07-11 19:16:00', '2019-07-11 20:34:00', 600.00),\n",
                "    (2, 1, '2019-07-11 19:17:00', '2019-07-11 20:21:00', 100.00),\n",
                "    (6, 1, '2019-07-12 18:19:00', '2019-07-12 21:42:00', 1690.00),\n",
                "    (4, 2, '2019-07-12 19:22:00', '2019-07-12 20:59:00', 175.00),\n",
                "    (1, 2, '2019-07-12 19:29:00', '2019-07-12 20:36:00', 200.00),\n",
                "    (3, 3, '2019-07-12 19:37:00', '2019-07-12 20:22:00', 210.00),\n",
                "    (1, 0, '2019-07-12 19:38:00', '2019-07-12 20:03:00', 50.00),\n",
                "    (1, 4, '2019-07-12 19:47:00', '2019-07-12 21:03:00', 240.00),\n",
                "    (5, 5, '2019-07-12 19:53:00', '2019-07-12 22:05:00', 1130.00),\n",
                "    (1, 5, '2019-07-12 20:05:00', '2019-07-12 21:37:00', 710.00),\n",
                "    (2, 1, '2019-07-12 20:11:00', '2019-07-12 20:54:00', 225.00),\n",
                "    (6, 1, '2019-07-12 20:13:00', '2019-07-12 21:55:00', 1400.00),\n",
                "    (3, 1, '2019-07-12 20:19:00', '2019-07-12 22:25:00', 1360.00),\n",
                "    (4, 5, '2019-07-13 18:00:00', '2019-07-13 19:51:00', 1670.00),\n",
                "    (3, 5, '2019-07-13 18:10:00', '2019-07-13 21:13:00', 1020.00),\n",
                "    (4, 5, '2019-07-13 18:15:00', '2019-07-13 20:31:00', 1815.00),\n",
                "    (3, 5, '2019-07-13 18:20:00', '2019-07-13 20:58:00', 990.00),\n",
                "    (4, 2, '2019-07-13 19:02:00', '2019-07-13 21:12:00', 575.00)"
            ],
            "metadata": {
                "azdata_cell_guid": "3f2c9278-28e6-4226-88a7-d0fbccdf8bce"
            },
            "outputs": [
                {
                    "output_type": "display_data",
                    "data": {
                        "text/html": "Commands completed successfully"
                    },
                    "metadata": {}
                },
                {
                    "output_type": "display_data",
                    "data": {
                        "text/html": "Total execution time: 00:00:00.005"
                    },
                    "metadata": {}
                }
            ],
            "execution_count": 4
        },
        {
            "cell_type": "code",
            "source": [
                "select * from guest where in_time::date='2019-07-13';"
            ],
            "metadata": {
                "azdata_cell_guid": "0405417e-633a-415b-968f-6cb915477fd9"
            },
            "outputs": [
                {
                    "output_type": "display_data",
                    "data": {
                        "text/html": "(5 row(s) affected)"
                    },
                    "metadata": {}
                },
                {
                    "output_type": "display_data",
                    "data": {
                        "text/html": "Total execution time: 00:00:00.013"
                    },
                    "metadata": {}
                },
                {
                    "output_type": "execute_result",
                    "metadata": {},
                    "execution_count": 5,
                    "data": {
                        "application/vnd.dataresource+json": {
                            "schema": {
                                "fields": [
                                    {
                                        "name": "order_id"
                                    },
                                    {
                                        "name": "no_guest"
                                    },
                                    {
                                        "name": "table_no"
                                    },
                                    {
                                        "name": "in_time"
                                    },
                                    {
                                        "name": "out_time"
                                    },
                                    {
                                        "name": "total"
                                    }
                                ]
                            },
                            "data": [
                                {
                                    "0": "51",
                                    "1": "4",
                                    "2": "5",
                                    "3": "2019-07-13T18:00:00",
                                    "4": "2019-07-13T19:51:00",
                                    "5": "1670.00"
                                },
                                {
                                    "0": "52",
                                    "1": "3",
                                    "2": "5",
                                    "3": "2019-07-13T18:10:00",
                                    "4": "2019-07-13T21:13:00",
                                    "5": "1020.00"
                                },
                                {
                                    "0": "53",
                                    "1": "4",
                                    "2": "5",
                                    "3": "2019-07-13T18:15:00",
                                    "4": "2019-07-13T20:31:00",
                                    "5": "1815.00"
                                },
                                {
                                    "0": "54",
                                    "1": "3",
                                    "2": "5",
                                    "3": "2019-07-13T18:20:00",
                                    "4": "2019-07-13T20:58:00",
                                    "5": "990.00"
                                },
                                {
                                    "0": "55",
                                    "1": "4",
                                    "2": "2",
                                    "3": "2019-07-13T19:02:00",
                                    "4": "2019-07-13T21:12:00",
                                    "5": "575.00"
                                }
                            ]
                        },
                        "text/html": [
                            "<table>",
                            "<tr><th>order_id</th><th>no_guest</th><th>table_no</th><th>in_time</th><th>out_time</th><th>total</th></tr>",
                            "<tr><td>51</td><td>4</td><td>5</td><td>2019-07-13T18:00:00</td><td>2019-07-13T19:51:00</td><td>1670.00</td></tr>",
                            "<tr><td>52</td><td>3</td><td>5</td><td>2019-07-13T18:10:00</td><td>2019-07-13T21:13:00</td><td>1020.00</td></tr>",
                            "<tr><td>53</td><td>4</td><td>5</td><td>2019-07-13T18:15:00</td><td>2019-07-13T20:31:00</td><td>1815.00</td></tr>",
                            "<tr><td>54</td><td>3</td><td>5</td><td>2019-07-13T18:20:00</td><td>2019-07-13T20:58:00</td><td>990.00</td></tr>",
                            "<tr><td>55</td><td>4</td><td>2</td><td>2019-07-13T19:02:00</td><td>2019-07-13T21:12:00</td><td>575.00</td></tr>",
                            "</table>"
                        ]
                    }
                }
            ],
            "execution_count": 5
        },
        {
            "cell_type": "code",
            "source": [
                "drop function if exists fn1;\r\n",
                "\r\n",
                "CREATE FUNCTION fn1(visit_date date, num_guests int) \r\n",
                "RETURNS TABLE (\r\n",
                "    no_customer int,\r\n",
                "    revenue numeric(10,2),\r\n",
                "    per_head numeric(10,2)\r\n",
                ") \r\n",
                "AS $$\r\n",
                "BEGIN RETURN QUERY \r\n",
                "    select no_guest, total, (total / no_guest)::numeric(10,2) \r\n",
                "        from guest \r\n",
                "        where in_time::date=visit_date and no_guest=num_guests;\r\n",
                "END; $$ \r\n",
                "LANGUAGE 'plpgsql';"
            ],
            "metadata": {
                "azdata_cell_guid": "009ac931-cab0-4559-8610-fad169de2646"
            },
            "outputs": [
                {
                    "output_type": "display_data",
                    "data": {
                        "text/html": "NOTICE:  function fn1() does not exist, skipping\n"
                    },
                    "metadata": {}
                },
                {
                    "output_type": "display_data",
                    "data": {
                        "text/html": "Commands completed successfully"
                    },
                    "metadata": {}
                },
                {
                    "output_type": "display_data",
                    "data": {
                        "text/html": "Commands completed successfully"
                    },
                    "metadata": {}
                },
                {
                    "output_type": "display_data",
                    "data": {
                        "text/html": "Total execution time: 00:00:00.003"
                    },
                    "metadata": {}
                }
            ],
            "execution_count": 6
        },
        {
            "cell_type": "code",
            "source": [
                "select * from fn1('2019-07-11', 4) where per_head > 300"
            ],
            "metadata": {
                "azdata_cell_guid": "ddf82473-eaa1-4cb3-b93e-adaf51390646"
            },
            "outputs": [
                {
                    "output_type": "display_data",
                    "data": {
                        "text/html": "(3 row(s) affected)"
                    },
                    "metadata": {}
                },
                {
                    "output_type": "display_data",
                    "data": {
                        "text/html": "Total execution time: 00:00:00.010"
                    },
                    "metadata": {}
                },
                {
                    "output_type": "execute_result",
                    "metadata": {},
                    "execution_count": 7,
                    "data": {
                        "application/vnd.dataresource+json": {
                            "schema": {
                                "fields": [
                                    {
                                        "name": "no_customer"
                                    },
                                    {
                                        "name": "revenue"
                                    },
                                    {
                                        "name": "per_head"
                                    }
                                ]
                            },
                            "data": [
                                {
                                    "0": "4",
                                    "1": "1300.00",
                                    "2": "325.00"
                                },
                                {
                                    "0": "4",
                                    "1": "1670.00",
                                    "2": "417.50"
                                },
                                {
                                    "0": "4",
                                    "1": "1815.00",
                                    "2": "453.75"
                                }
                            ]
                        },
                        "text/html": [
                            "<table>",
                            "<tr><th>no_customer</th><th>revenue</th><th>per_head</th></tr>",
                            "<tr><td>4</td><td>1300.00</td><td>325.00</td></tr>",
                            "<tr><td>4</td><td>1670.00</td><td>417.50</td></tr>",
                            "<tr><td>4</td><td>1815.00</td><td>453.75</td></tr>",
                            "</table>"
                        ]
                    }
                }
            ],
            "execution_count": 7
        },
        {
            "cell_type": "code",
            "source": [
                "drop view if exists vw1;\r\n",
                "\r\n",
                "create view vw1 as \r\n",
                "select no_guest, in_time, total, (total / no_guest)::numeric(10,2) from guest;"
            ],
            "metadata": {
                "azdata_cell_guid": "46e82f72-d6ea-47d9-98ba-b4d3f68bd4d4"
            },
            "outputs": [
                {
                    "output_type": "display_data",
                    "data": {
                        "text/html": "NOTICE:  view \"vw1\" does not exist, skipping\n"
                    },
                    "metadata": {}
                },
                {
                    "output_type": "display_data",
                    "data": {
                        "text/html": "Commands completed successfully"
                    },
                    "metadata": {}
                },
                {
                    "output_type": "display_data",
                    "data": {
                        "text/html": "Commands completed successfully"
                    },
                    "metadata": {}
                },
                {
                    "output_type": "display_data",
                    "data": {
                        "text/html": "Total execution time: 00:00:00.002"
                    },
                    "metadata": {}
                }
            ],
            "execution_count": 8
        },
        {
            "cell_type": "code",
            "source": [
                "select * from vw1 where in_time::date='2019-07-11'"
            ],
            "metadata": {
                "azdata_cell_guid": "f34f9a13-562e-4d7a-9f28-a86956a2b09a"
            },
            "outputs": [
                {
                    "output_type": "display_data",
                    "data": {
                        "text/html": "(31 row(s) affected)"
                    },
                    "metadata": {}
                },
                {
                    "output_type": "display_data",
                    "data": {
                        "text/html": "Total execution time: 00:00:00.021"
                    },
                    "metadata": {}
                },
                {
                    "output_type": "execute_result",
                    "metadata": {},
                    "execution_count": 9,
                    "data": {
                        "application/vnd.dataresource+json": {
                            "schema": {
                                "fields": [
                                    {
                                        "name": "no_guest"
                                    },
                                    {
                                        "name": "in_time"
                                    },
                                    {
                                        "name": "total"
                                    },
                                    {
                                        "name": "numeric"
                                    }
                                ]
                            },
                            "data": [
                                {
                                    "0": "3",
                                    "1": "2019-07-11T10:35:00",
                                    "2": "250.00",
                                    "3": "83.33"
                                },
                                {
                                    "0": "2",
                                    "1": "2019-07-11T10:37:00",
                                    "2": "360.00",
                                    "3": "180.00"
                                },
                                {
                                    "0": "3",
                                    "1": "2019-07-11T10:43:00",
                                    "2": "760.00",
                                    "3": "253.33"
                                },
                                {
                                    "0": "3",
                                    "1": "2019-07-11T10:47:00",
                                    "2": "420.00",
                                    "3": "140.00"
                                },
                                {
                                    "0": "4",
                                    "1": "2019-07-11T10:51:00",
                                    "2": "1300.00",
                                    "3": "325.00"
                                },
                                {
                                    "0": "1",
                                    "1": "2019-07-11T11:07:00",
                                    "2": "360.00",
                                    "3": "360.00"
                                },
                                {
                                    "0": "3",
                                    "1": "2019-07-11T11:15:00",
                                    "2": "40.00",
                                    "3": "13.33"
                                },
                                {
                                    "0": "1",
                                    "1": "2019-07-11T11:28:00",
                                    "2": "320.00",
                                    "3": "320.00"
                                },
                                {
                                    "0": "2",
                                    "1": "2019-07-11T11:29:00",
                                    "2": "660.00",
                                    "3": "330.00"
                                },
                                {
                                    "0": "1",
                                    "1": "2019-07-11T11:35:00",
                                    "2": "675.00",
                                    "3": "675.00"
                                },
                                {
                                    "0": "6",
                                    "1": "2019-07-11T11:15:00",
                                    "2": "2290.00",
                                    "3": "381.67"
                                },
                                {
                                    "0": "6",
                                    "1": "2019-07-11T11:39:00",
                                    "2": "1240.00",
                                    "3": "206.67"
                                },
                                {
                                    "0": "2",
                                    "1": "2019-07-11T11:41:00",
                                    "2": "425.00",
                                    "3": "212.50"
                                },
                                {
                                    "0": "3",
                                    "1": "2019-07-11T11:42:00",
                                    "2": "830.00",
                                    "3": "276.67"
                                },
                                {
                                    "0": "4",
                                    "1": "2019-07-11T11:44:00",
                                    "2": "110.00",
                                    "3": "27.50"
                                },
                                {
                                    "0": "2",
                                    "1": "2019-07-11T11:55:00",
                                    "2": "815.00",
                                    "3": "407.50"
                                },
                                {
                                    "0": "1",
                                    "1": "2019-07-11T11:58:00",
                                    "2": "480.00",
                                    "3": "480.00"
                                },
                                {
                                    "0": "3",
                                    "1": "2019-07-11T18:35:00",
                                    "2": "1010.00",
                                    "3": "336.67"
                                },
                                {
                                    "0": "2",
                                    "1": "2019-07-11T18:37:00",
                                    "2": "130.00",
                                    "3": "65.00"
                                },
                                {
                                    "0": "2",
                                    "1": "2019-07-11T18:37:00",
                                    "2": "930.00",
                                    "3": "465.00"
                                },
                                {
                                    "0": "2",
                                    "1": "2019-07-11T18:40:00",
                                    "2": "950.00",
                                    "3": "475.00"
                                },
                                {
                                    "0": "4",
                                    "1": "2019-07-11T18:58:00",
                                    "2": "1670.00",
                                    "3": "417.50"
                                },
                                {
                                    "0": "3",
                                    "1": "2019-07-11T18:58:00",
                                    "2": "1020.00",
                                    "3": "340.00"
                                },
                                {
                                    "0": "4",
                                    "1": "2019-07-11T18:59:00",
                                    "2": "1815.00",
                                    "3": "453.75"
                                },
                                {
                                    "0": "3",
                                    "1": "2019-07-11T18:59:00",
                                    "2": "490.00",
                                    "3": "163.33"
                                },
                                {
                                    "0": "4",
                                    "1": "2019-07-11T19:02:00",
                                    "2": "275.00",
                                    "3": "68.75"
                                },
                                {
                                    "0": "4",
                                    "1": "2019-07-11T19:08:00",
                                    "2": "220.00",
                                    "3": "55.00"
                                },
                                {
                                    "0": "1",
                                    "1": "2019-07-11T19:13:00",
                                    "2": "360.00",
                                    "3": "360.00"
                                },
                                {
                                    "0": "3",
                                    "1": "2019-07-11T19:13:00",
                                    "2": "1270.00",
                                    "3": "423.33"
                                },
                                {
                                    "0": "4",
                                    "1": "2019-07-11T19:16:00",
                                    "2": "600.00",
                                    "3": "150.00"
                                },
                                {
                                    "0": "2",
                                    "1": "2019-07-11T19:17:00",
                                    "2": "100.00",
                                    "3": "50.00"
                                }
                            ]
                        },
                        "text/html": [
                            "<table>",
                            "<tr><th>no_guest</th><th>in_time</th><th>total</th><th>numeric</th></tr>",
                            "<tr><td>3</td><td>2019-07-11T10:35:00</td><td>250.00</td><td>83.33</td></tr>",
                            "<tr><td>2</td><td>2019-07-11T10:37:00</td><td>360.00</td><td>180.00</td></tr>",
                            "<tr><td>3</td><td>2019-07-11T10:43:00</td><td>760.00</td><td>253.33</td></tr>",
                            "<tr><td>3</td><td>2019-07-11T10:47:00</td><td>420.00</td><td>140.00</td></tr>",
                            "<tr><td>4</td><td>2019-07-11T10:51:00</td><td>1300.00</td><td>325.00</td></tr>",
                            "<tr><td>1</td><td>2019-07-11T11:07:00</td><td>360.00</td><td>360.00</td></tr>",
                            "<tr><td>3</td><td>2019-07-11T11:15:00</td><td>40.00</td><td>13.33</td></tr>",
                            "<tr><td>1</td><td>2019-07-11T11:28:00</td><td>320.00</td><td>320.00</td></tr>",
                            "<tr><td>2</td><td>2019-07-11T11:29:00</td><td>660.00</td><td>330.00</td></tr>",
                            "<tr><td>1</td><td>2019-07-11T11:35:00</td><td>675.00</td><td>675.00</td></tr>",
                            "<tr><td>6</td><td>2019-07-11T11:15:00</td><td>2290.00</td><td>381.67</td></tr>",
                            "<tr><td>6</td><td>2019-07-11T11:39:00</td><td>1240.00</td><td>206.67</td></tr>",
                            "<tr><td>2</td><td>2019-07-11T11:41:00</td><td>425.00</td><td>212.50</td></tr>",
                            "<tr><td>3</td><td>2019-07-11T11:42:00</td><td>830.00</td><td>276.67</td></tr>",
                            "<tr><td>4</td><td>2019-07-11T11:44:00</td><td>110.00</td><td>27.50</td></tr>",
                            "<tr><td>2</td><td>2019-07-11T11:55:00</td><td>815.00</td><td>407.50</td></tr>",
                            "<tr><td>1</td><td>2019-07-11T11:58:00</td><td>480.00</td><td>480.00</td></tr>",
                            "<tr><td>3</td><td>2019-07-11T18:35:00</td><td>1010.00</td><td>336.67</td></tr>",
                            "<tr><td>2</td><td>2019-07-11T18:37:00</td><td>130.00</td><td>65.00</td></tr>",
                            "<tr><td>2</td><td>2019-07-11T18:37:00</td><td>930.00</td><td>465.00</td></tr>",
                            "<tr><td>2</td><td>2019-07-11T18:40:00</td><td>950.00</td><td>475.00</td></tr>",
                            "<tr><td>4</td><td>2019-07-11T18:58:00</td><td>1670.00</td><td>417.50</td></tr>",
                            "<tr><td>3</td><td>2019-07-11T18:58:00</td><td>1020.00</td><td>340.00</td></tr>",
                            "<tr><td>4</td><td>2019-07-11T18:59:00</td><td>1815.00</td><td>453.75</td></tr>",
                            "<tr><td>3</td><td>2019-07-11T18:59:00</td><td>490.00</td><td>163.33</td></tr>",
                            "<tr><td>4</td><td>2019-07-11T19:02:00</td><td>275.00</td><td>68.75</td></tr>",
                            "<tr><td>4</td><td>2019-07-11T19:08:00</td><td>220.00</td><td>55.00</td></tr>",
                            "<tr><td>1</td><td>2019-07-11T19:13:00</td><td>360.00</td><td>360.00</td></tr>",
                            "<tr><td>3</td><td>2019-07-11T19:13:00</td><td>1270.00</td><td>423.33</td></tr>",
                            "<tr><td>4</td><td>2019-07-11T19:16:00</td><td>600.00</td><td>150.00</td></tr>",
                            "<tr><td>2</td><td>2019-07-11T19:17:00</td><td>100.00</td><td>50.00</td></tr>",
                            "</table>"
                        ]
                    }
                }
            ],
            "execution_count": 9
        },
        {
            "cell_type": "code",
            "source": [
                "drop function if exists trans;\r\n",
                "\r\n",
                "CREATE FUNCTION trans(visit_date date) \r\n",
                "RETURNS TABLE (\r\n",
                "    order_id_ int,\r\n",
                "    no_guest_ int,\r\n",
                "    in_time_ timestamp,\r\n",
                "    out_time_ timestamp,\r\n",
                "    time_spend interval,\r\n",
                "    total_ numeric(10,2)\r\n",
                ") \r\n",
                "AS $$\r\n",
                "BEGIN RETURN QUERY \r\n",
                "select order_id, no_guest, in_time, out_time, out_time-in_time, total \r\n",
                "    from guest \r\n",
                "    where in_time::date = visit_date;\r\n",
                "END; $$ \r\n",
                "LANGUAGE 'plpgsql';"
            ],
            "metadata": {
                "azdata_cell_guid": "b61224cc-d227-4286-8197-c01882f9a3b9"
            },
            "outputs": [
                {
                    "output_type": "display_data",
                    "data": {
                        "text/html": "Commands completed successfully"
                    },
                    "metadata": {}
                },
                {
                    "output_type": "display_data",
                    "data": {
                        "text/html": "Commands completed successfully"
                    },
                    "metadata": {}
                },
                {
                    "output_type": "display_data",
                    "data": {
                        "text/html": "Total execution time: 00:00:00.003"
                    },
                    "metadata": {}
                }
            ],
            "execution_count": 10
        },
        {
            "cell_type": "code",
            "source": [
                "select * from trans('2019-07-11') "
            ],
            "metadata": {
                "azdata_cell_guid": "fb0c967b-47c1-4cc3-a2a7-4f56c0c721fb"
            },
            "outputs": [
                {
                    "output_type": "display_data",
                    "data": {
                        "text/html": "(31 row(s) affected)"
                    },
                    "metadata": {}
                },
                {
                    "output_type": "display_data",
                    "data": {
                        "text/html": "Total execution time: 00:00:00.012"
                    },
                    "metadata": {}
                },
                {
                    "output_type": "execute_result",
                    "metadata": {},
                    "execution_count": 11,
                    "data": {
                        "application/vnd.dataresource+json": {
                            "schema": {
                                "fields": [
                                    {
                                        "name": "order_id_"
                                    },
                                    {
                                        "name": "no_guest_"
                                    },
                                    {
                                        "name": "in_time_"
                                    },
                                    {
                                        "name": "out_time_"
                                    },
                                    {
                                        "name": "time_spend"
                                    },
                                    {
                                        "name": "total_"
                                    }
                                ]
                            },
                            "data": [
                                {
                                    "0": "1",
                                    "1": "3",
                                    "2": "2019-07-11T10:35:00",
                                    "3": "2019-07-11T12:36:00",
                                    "4": "2:01:00",
                                    "5": "250.00"
                                },
                                {
                                    "0": "2",
                                    "1": "2",
                                    "2": "2019-07-11T10:37:00",
                                    "3": "2019-07-11T11:11:00",
                                    "4": "0:34:00",
                                    "5": "360.00"
                                },
                                {
                                    "0": "3",
                                    "1": "3",
                                    "2": "2019-07-11T10:43:00",
                                    "3": "2019-07-11T11:53:00",
                                    "4": "1:10:00",
                                    "5": "760.00"
                                },
                                {
                                    "0": "4",
                                    "1": "3",
                                    "2": "2019-07-11T10:47:00",
                                    "3": "2019-07-11T11:23:00",
                                    "4": "0:36:00",
                                    "5": "420.00"
                                },
                                {
                                    "0": "5",
                                    "1": "4",
                                    "2": "2019-07-11T10:51:00",
                                    "3": "2019-07-11T12:00:00",
                                    "4": "1:09:00",
                                    "5": "1300.00"
                                },
                                {
                                    "0": "6",
                                    "1": "1",
                                    "2": "2019-07-11T11:07:00",
                                    "3": "2019-07-11T13:25:00",
                                    "4": "2:18:00",
                                    "5": "360.00"
                                },
                                {
                                    "0": "7",
                                    "1": "3",
                                    "2": "2019-07-11T11:15:00",
                                    "3": "2019-07-11T13:27:00",
                                    "4": "2:12:00",
                                    "5": "40.00"
                                },
                                {
                                    "0": "8",
                                    "1": "1",
                                    "2": "2019-07-11T11:28:00",
                                    "3": "2019-07-11T13:16:00",
                                    "4": "1:48:00",
                                    "5": "320.00"
                                },
                                {
                                    "0": "9",
                                    "1": "2",
                                    "2": "2019-07-11T11:29:00",
                                    "3": "2019-07-11T13:52:00",
                                    "4": "2:23:00",
                                    "5": "660.00"
                                },
                                {
                                    "0": "10",
                                    "1": "1",
                                    "2": "2019-07-11T11:35:00",
                                    "3": "2019-07-11T12:42:00",
                                    "4": "1:07:00",
                                    "5": "675.00"
                                },
                                {
                                    "0": "11",
                                    "1": "6",
                                    "2": "2019-07-11T11:15:00",
                                    "3": "2019-07-11T13:25:00",
                                    "4": "2:10:00",
                                    "5": "2290.00"
                                },
                                {
                                    "0": "12",
                                    "1": "6",
                                    "2": "2019-07-11T11:39:00",
                                    "3": "2019-07-11T12:50:00",
                                    "4": "1:11:00",
                                    "5": "1240.00"
                                },
                                {
                                    "0": "13",
                                    "1": "2",
                                    "2": "2019-07-11T11:41:00",
                                    "3": "2019-07-11T12:22:00",
                                    "4": "0:41:00",
                                    "5": "425.00"
                                },
                                {
                                    "0": "14",
                                    "1": "3",
                                    "2": "2019-07-11T11:42:00",
                                    "3": "2019-07-11T12:18:00",
                                    "4": "0:36:00",
                                    "5": "830.00"
                                },
                                {
                                    "0": "15",
                                    "1": "4",
                                    "2": "2019-07-11T11:44:00",
                                    "3": "2019-07-11T12:23:00",
                                    "4": "0:39:00",
                                    "5": "110.00"
                                },
                                {
                                    "0": "16",
                                    "1": "2",
                                    "2": "2019-07-11T11:55:00",
                                    "3": "2019-07-11T13:05:00",
                                    "4": "1:10:00",
                                    "5": "815.00"
                                },
                                {
                                    "0": "17",
                                    "1": "1",
                                    "2": "2019-07-11T11:58:00",
                                    "3": "2019-07-11T13:32:00",
                                    "4": "1:34:00",
                                    "5": "480.00"
                                },
                                {
                                    "0": "26",
                                    "1": "3",
                                    "2": "2019-07-11T18:35:00",
                                    "3": "2019-07-11T20:09:00",
                                    "4": "1:34:00",
                                    "5": "1010.00"
                                },
                                {
                                    "0": "27",
                                    "1": "2",
                                    "2": "2019-07-11T18:37:00",
                                    "3": "2019-07-11T20:54:00",
                                    "4": "2:17:00",
                                    "5": "130.00"
                                },
                                {
                                    "0": "28",
                                    "1": "2",
                                    "2": "2019-07-11T18:37:00",
                                    "3": "2019-07-11T19:53:00",
                                    "4": "1:16:00",
                                    "5": "930.00"
                                },
                                {
                                    "0": "29",
                                    "1": "2",
                                    "2": "2019-07-11T18:40:00",
                                    "3": "2019-07-11T20:08:00",
                                    "4": "1:28:00",
                                    "5": "950.00"
                                },
                                {
                                    "0": "30",
                                    "1": "4",
                                    "2": "2019-07-11T18:58:00",
                                    "3": "2019-07-11T19:51:00",
                                    "4": "0:53:00",
                                    "5": "1670.00"
                                },
                                {
                                    "0": "31",
                                    "1": "3",
                                    "2": "2019-07-11T18:58:00",
                                    "3": "2019-07-11T21:13:00",
                                    "4": "2:15:00",
                                    "5": "1020.00"
                                },
                                {
                                    "0": "32",
                                    "1": "4",
                                    "2": "2019-07-11T18:59:00",
                                    "3": "2019-07-11T19:31:00",
                                    "4": "0:32:00",
                                    "5": "1815.00"
                                },
                                {
                                    "0": "33",
                                    "1": "3",
                                    "2": "2019-07-11T18:59:00",
                                    "3": "2019-07-11T19:58:00",
                                    "4": "0:59:00",
                                    "5": "490.00"
                                },
                                {
                                    "0": "34",
                                    "1": "4",
                                    "2": "2019-07-11T19:02:00",
                                    "3": "2019-07-11T21:12:00",
                                    "4": "2:10:00",
                                    "5": "275.00"
                                },
                                {
                                    "0": "35",
                                    "1": "4",
                                    "2": "2019-07-11T19:08:00",
                                    "3": "2019-07-11T21:18:00",
                                    "4": "2:10:00",
                                    "5": "220.00"
                                },
                                {
                                    "0": "36",
                                    "1": "1",
                                    "2": "2019-07-11T19:13:00",
                                    "3": "2019-07-11T19:28:00",
                                    "4": "0:15:00",
                                    "5": "360.00"
                                },
                                {
                                    "0": "37",
                                    "1": "3",
                                    "2": "2019-07-11T19:13:00",
                                    "3": "2019-07-11T19:44:00",
                                    "4": "0:31:00",
                                    "5": "1270.00"
                                },
                                {
                                    "0": "38",
                                    "1": "4",
                                    "2": "2019-07-11T19:16:00",
                                    "3": "2019-07-11T20:34:00",
                                    "4": "1:18:00",
                                    "5": "600.00"
                                },
                                {
                                    "0": "39",
                                    "1": "2",
                                    "2": "2019-07-11T19:17:00",
                                    "3": "2019-07-11T20:21:00",
                                    "4": "1:04:00",
                                    "5": "100.00"
                                }
                            ]
                        },
                        "text/html": [
                            "<table>",
                            "<tr><th>order_id_</th><th>no_guest_</th><th>in_time_</th><th>out_time_</th><th>time_spend</th><th>total_</th></tr>",
                            "<tr><td>1</td><td>3</td><td>2019-07-11T10:35:00</td><td>2019-07-11T12:36:00</td><td>2:01:00</td><td>250.00</td></tr>",
                            "<tr><td>2</td><td>2</td><td>2019-07-11T10:37:00</td><td>2019-07-11T11:11:00</td><td>0:34:00</td><td>360.00</td></tr>",
                            "<tr><td>3</td><td>3</td><td>2019-07-11T10:43:00</td><td>2019-07-11T11:53:00</td><td>1:10:00</td><td>760.00</td></tr>",
                            "<tr><td>4</td><td>3</td><td>2019-07-11T10:47:00</td><td>2019-07-11T11:23:00</td><td>0:36:00</td><td>420.00</td></tr>",
                            "<tr><td>5</td><td>4</td><td>2019-07-11T10:51:00</td><td>2019-07-11T12:00:00</td><td>1:09:00</td><td>1300.00</td></tr>",
                            "<tr><td>6</td><td>1</td><td>2019-07-11T11:07:00</td><td>2019-07-11T13:25:00</td><td>2:18:00</td><td>360.00</td></tr>",
                            "<tr><td>7</td><td>3</td><td>2019-07-11T11:15:00</td><td>2019-07-11T13:27:00</td><td>2:12:00</td><td>40.00</td></tr>",
                            "<tr><td>8</td><td>1</td><td>2019-07-11T11:28:00</td><td>2019-07-11T13:16:00</td><td>1:48:00</td><td>320.00</td></tr>",
                            "<tr><td>9</td><td>2</td><td>2019-07-11T11:29:00</td><td>2019-07-11T13:52:00</td><td>2:23:00</td><td>660.00</td></tr>",
                            "<tr><td>10</td><td>1</td><td>2019-07-11T11:35:00</td><td>2019-07-11T12:42:00</td><td>1:07:00</td><td>675.00</td></tr>",
                            "<tr><td>11</td><td>6</td><td>2019-07-11T11:15:00</td><td>2019-07-11T13:25:00</td><td>2:10:00</td><td>2290.00</td></tr>",
                            "<tr><td>12</td><td>6</td><td>2019-07-11T11:39:00</td><td>2019-07-11T12:50:00</td><td>1:11:00</td><td>1240.00</td></tr>",
                            "<tr><td>13</td><td>2</td><td>2019-07-11T11:41:00</td><td>2019-07-11T12:22:00</td><td>0:41:00</td><td>425.00</td></tr>",
                            "<tr><td>14</td><td>3</td><td>2019-07-11T11:42:00</td><td>2019-07-11T12:18:00</td><td>0:36:00</td><td>830.00</td></tr>",
                            "<tr><td>15</td><td>4</td><td>2019-07-11T11:44:00</td><td>2019-07-11T12:23:00</td><td>0:39:00</td><td>110.00</td></tr>",
                            "<tr><td>16</td><td>2</td><td>2019-07-11T11:55:00</td><td>2019-07-11T13:05:00</td><td>1:10:00</td><td>815.00</td></tr>",
                            "<tr><td>17</td><td>1</td><td>2019-07-11T11:58:00</td><td>2019-07-11T13:32:00</td><td>1:34:00</td><td>480.00</td></tr>",
                            "<tr><td>26</td><td>3</td><td>2019-07-11T18:35:00</td><td>2019-07-11T20:09:00</td><td>1:34:00</td><td>1010.00</td></tr>",
                            "<tr><td>27</td><td>2</td><td>2019-07-11T18:37:00</td><td>2019-07-11T20:54:00</td><td>2:17:00</td><td>130.00</td></tr>",
                            "<tr><td>28</td><td>2</td><td>2019-07-11T18:37:00</td><td>2019-07-11T19:53:00</td><td>1:16:00</td><td>930.00</td></tr>",
                            "<tr><td>29</td><td>2</td><td>2019-07-11T18:40:00</td><td>2019-07-11T20:08:00</td><td>1:28:00</td><td>950.00</td></tr>",
                            "<tr><td>30</td><td>4</td><td>2019-07-11T18:58:00</td><td>2019-07-11T19:51:00</td><td>0:53:00</td><td>1670.00</td></tr>",
                            "<tr><td>31</td><td>3</td><td>2019-07-11T18:58:00</td><td>2019-07-11T21:13:00</td><td>2:15:00</td><td>1020.00</td></tr>",
                            "<tr><td>32</td><td>4</td><td>2019-07-11T18:59:00</td><td>2019-07-11T19:31:00</td><td>0:32:00</td><td>1815.00</td></tr>",
                            "<tr><td>33</td><td>3</td><td>2019-07-11T18:59:00</td><td>2019-07-11T19:58:00</td><td>0:59:00</td><td>490.00</td></tr>",
                            "<tr><td>34</td><td>4</td><td>2019-07-11T19:02:00</td><td>2019-07-11T21:12:00</td><td>2:10:00</td><td>275.00</td></tr>",
                            "<tr><td>35</td><td>4</td><td>2019-07-11T19:08:00</td><td>2019-07-11T21:18:00</td><td>2:10:00</td><td>220.00</td></tr>",
                            "<tr><td>36</td><td>1</td><td>2019-07-11T19:13:00</td><td>2019-07-11T19:28:00</td><td>0:15:00</td><td>360.00</td></tr>",
                            "<tr><td>37</td><td>3</td><td>2019-07-11T19:13:00</td><td>2019-07-11T19:44:00</td><td>0:31:00</td><td>1270.00</td></tr>",
                            "<tr><td>38</td><td>4</td><td>2019-07-11T19:16:00</td><td>2019-07-11T20:34:00</td><td>1:18:00</td><td>600.00</td></tr>",
                            "<tr><td>39</td><td>2</td><td>2019-07-11T19:17:00</td><td>2019-07-11T20:21:00</td><td>1:04:00</td><td>100.00</td></tr>",
                            "</table>"
                        ]
                    }
                }
            ],
            "execution_count": 11
        },
        {
            "cell_type": "code",
            "source": [
                "drop function if exists guest_stat;\r\n",
                "\r\n",
                "CREATE FUNCTION guest_stat(num_guest int) \r\n",
                "RETURNS TABLE (\r\n",
                "    order_id_ int,\r\n",
                "    no_guest_ int,\r\n",
                "    in_time_ timestamp,\r\n",
                "    out_time_ timestamp,\r\n",
                "    time_spend interval,\r\n",
                "    total_ numeric(10,2)\r\n",
                ") \r\n",
                "AS $$\r\n",
                "BEGIN RETURN QUERY \r\n",
                "select order_id, no_guest, in_time, out_time, out_time-in_time, total \r\n",
                "    from guest \r\n",
                "    where no_guest = num_guest;\r\n",
                "END; $$ \r\n",
                "LANGUAGE 'plpgsql';"
            ],
            "metadata": {
                "azdata_cell_guid": "5ab23203-daac-42f0-9214-0923b9e95f77"
            },
            "outputs": [
                {
                    "output_type": "display_data",
                    "data": {
                        "text/html": "Commands completed successfully"
                    },
                    "metadata": {}
                },
                {
                    "output_type": "display_data",
                    "data": {
                        "text/html": "Commands completed successfully"
                    },
                    "metadata": {}
                },
                {
                    "output_type": "display_data",
                    "data": {
                        "text/html": "Total execution time: 00:00:00.001"
                    },
                    "metadata": {}
                }
            ],
            "execution_count": 12
        },
        {
            "cell_type": "code",
            "source": [
                "select * from guest_stat(1)"
            ],
            "metadata": {
                "azdata_cell_guid": "6ad0f3ef-cf03-4b35-a9aa-e51664c2725e"
            },
            "outputs": [
                {
                    "output_type": "display_data",
                    "data": {
                        "text/html": "(9 row(s) affected)"
                    },
                    "metadata": {}
                },
                {
                    "output_type": "display_data",
                    "data": {
                        "text/html": "Total execution time: 00:00:00.019"
                    },
                    "metadata": {}
                },
                {
                    "output_type": "execute_result",
                    "metadata": {},
                    "execution_count": 13,
                    "data": {
                        "application/vnd.dataresource+json": {
                            "schema": {
                                "fields": [
                                    {
                                        "name": "order_id_"
                                    },
                                    {
                                        "name": "no_guest_"
                                    },
                                    {
                                        "name": "in_time_"
                                    },
                                    {
                                        "name": "out_time_"
                                    },
                                    {
                                        "name": "time_spend"
                                    },
                                    {
                                        "name": "total_"
                                    }
                                ]
                            },
                            "data": [
                                {
                                    "0": "6",
                                    "1": "1",
                                    "2": "2019-07-11T11:07:00",
                                    "3": "2019-07-11T13:25:00",
                                    "4": "2:18:00",
                                    "5": "360.00"
                                },
                                {
                                    "0": "8",
                                    "1": "1",
                                    "2": "2019-07-11T11:28:00",
                                    "3": "2019-07-11T13:16:00",
                                    "4": "1:48:00",
                                    "5": "320.00"
                                },
                                {
                                    "0": "10",
                                    "1": "1",
                                    "2": "2019-07-11T11:35:00",
                                    "3": "2019-07-11T12:42:00",
                                    "4": "1:07:00",
                                    "5": "675.00"
                                },
                                {
                                    "0": "17",
                                    "1": "1",
                                    "2": "2019-07-11T11:58:00",
                                    "3": "2019-07-11T13:32:00",
                                    "4": "1:34:00",
                                    "5": "480.00"
                                },
                                {
                                    "0": "36",
                                    "1": "1",
                                    "2": "2019-07-11T19:13:00",
                                    "3": "2019-07-11T19:28:00",
                                    "4": "0:15:00",
                                    "5": "360.00"
                                },
                                {
                                    "0": "42",
                                    "1": "1",
                                    "2": "2019-07-12T19:29:00",
                                    "3": "2019-07-12T20:36:00",
                                    "4": "1:07:00",
                                    "5": "200.00"
                                },
                                {
                                    "0": "44",
                                    "1": "1",
                                    "2": "2019-07-12T19:38:00",
                                    "3": "2019-07-12T20:03:00",
                                    "4": "0:25:00",
                                    "5": "50.00"
                                },
                                {
                                    "0": "45",
                                    "1": "1",
                                    "2": "2019-07-12T19:47:00",
                                    "3": "2019-07-12T21:03:00",
                                    "4": "1:16:00",
                                    "5": "240.00"
                                },
                                {
                                    "0": "47",
                                    "1": "1",
                                    "2": "2019-07-12T20:05:00",
                                    "3": "2019-07-12T21:37:00",
                                    "4": "1:32:00",
                                    "5": "710.00"
                                }
                            ]
                        },
                        "text/html": [
                            "<table>",
                            "<tr><th>order_id_</th><th>no_guest_</th><th>in_time_</th><th>out_time_</th><th>time_spend</th><th>total_</th></tr>",
                            "<tr><td>6</td><td>1</td><td>2019-07-11T11:07:00</td><td>2019-07-11T13:25:00</td><td>2:18:00</td><td>360.00</td></tr>",
                            "<tr><td>8</td><td>1</td><td>2019-07-11T11:28:00</td><td>2019-07-11T13:16:00</td><td>1:48:00</td><td>320.00</td></tr>",
                            "<tr><td>10</td><td>1</td><td>2019-07-11T11:35:00</td><td>2019-07-11T12:42:00</td><td>1:07:00</td><td>675.00</td></tr>",
                            "<tr><td>17</td><td>1</td><td>2019-07-11T11:58:00</td><td>2019-07-11T13:32:00</td><td>1:34:00</td><td>480.00</td></tr>",
                            "<tr><td>36</td><td>1</td><td>2019-07-11T19:13:00</td><td>2019-07-11T19:28:00</td><td>0:15:00</td><td>360.00</td></tr>",
                            "<tr><td>42</td><td>1</td><td>2019-07-12T19:29:00</td><td>2019-07-12T20:36:00</td><td>1:07:00</td><td>200.00</td></tr>",
                            "<tr><td>44</td><td>1</td><td>2019-07-12T19:38:00</td><td>2019-07-12T20:03:00</td><td>0:25:00</td><td>50.00</td></tr>",
                            "<tr><td>45</td><td>1</td><td>2019-07-12T19:47:00</td><td>2019-07-12T21:03:00</td><td>1:16:00</td><td>240.00</td></tr>",
                            "<tr><td>47</td><td>1</td><td>2019-07-12T20:05:00</td><td>2019-07-12T21:37:00</td><td>1:32:00</td><td>710.00</td></tr>",
                            "</table>"
                        ]
                    }
                }
            ],
            "execution_count": 13
        },
        {
            "cell_type": "code",
            "source": [
                "select no_guest, count(*), avg(out_time-in_time) time_spent \r\n",
                "    from guest \r\n",
                "    where no_guest between 1 and 3\r\n",
                "    group by no_guest\r\n",
                "    order by no_guest"
            ],
            "metadata": {
                "azdata_cell_guid": "5fd01fa1-256e-46d0-8980-4fb1edc0b469"
            },
            "outputs": [
                {
                    "output_type": "display_data",
                    "data": {
                        "text/html": "(3 row(s) affected)"
                    },
                    "metadata": {}
                },
                {
                    "output_type": "display_data",
                    "data": {
                        "text/html": "Total execution time: 00:00:00.010"
                    },
                    "metadata": {}
                },
                {
                    "output_type": "execute_result",
                    "metadata": {},
                    "execution_count": 14,
                    "data": {
                        "application/vnd.dataresource+json": {
                            "schema": {
                                "fields": [
                                    {
                                        "name": "no_guest"
                                    },
                                    {
                                        "name": "count"
                                    },
                                    {
                                        "name": "time_spent"
                                    }
                                ]
                            },
                            "data": [
                                {
                                    "0": "1",
                                    "1": "9",
                                    "2": "1:15:46.666667"
                                },
                                {
                                    "0": "2",
                                    "1": "15",
                                    "2": "1:29:00"
                                },
                                {
                                    "0": "3",
                                    "1": "15",
                                    "2": "1:33:20"
                                }
                            ]
                        },
                        "text/html": [
                            "<table>",
                            "<tr><th>no_guest</th><th>count</th><th>time_spent</th></tr>",
                            "<tr><td>1</td><td>9</td><td>1:15:46.666667</td></tr>",
                            "<tr><td>2</td><td>15</td><td>1:29:00</td></tr>",
                            "<tr><td>3</td><td>15</td><td>1:33:20</td></tr>",
                            "</table>"
                        ]
                    }
                }
            ],
            "execution_count": 14
        },
        {
            "cell_type": "code",
            "source": [
                "drop function if exists guest_time_spent;\r\n",
                "\r\n",
                "CREATE FUNCTION guest_time_spent(from_num_guest int, to_num_guest int) \r\n",
                "RETURNS TABLE (\r\n",
                "    no_guest_ int,\r\n",
                "    count_ int,\r\n",
                "    time_spend interval\r\n",
                ") \r\n",
                "AS $$\r\n",
                "BEGIN RETURN QUERY \r\n",
                "select no_guest, count(*)::int, avg(out_time-in_time) time_spent \r\n",
                "    from guest \r\n",
                "    where no_guest between from_num_guest and to_num_guest\r\n",
                "    group by no_guest\r\n",
                "    order by no_guest;\r\n",
                "END; $$ \r\n",
                "LANGUAGE 'plpgsql';"
            ],
            "metadata": {
                "azdata_cell_guid": "47f261c6-397e-4858-b693-1fe147663562"
            },
            "outputs": [
                {
                    "output_type": "display_data",
                    "data": {
                        "text/html": "Commands completed successfully"
                    },
                    "metadata": {}
                },
                {
                    "output_type": "display_data",
                    "data": {
                        "text/html": "Commands completed successfully"
                    },
                    "metadata": {}
                },
                {
                    "output_type": "display_data",
                    "data": {
                        "text/html": "Total execution time: 00:00:00.002"
                    },
                    "metadata": {}
                }
            ],
            "execution_count": 15
        },
        {
            "cell_type": "code",
            "source": [
                "select * from guest_time_spent(1, 3)"
            ],
            "metadata": {
                "azdata_cell_guid": "26501bf8-86b2-43be-bc12-6669c8c57a08"
            },
            "outputs": [
                {
                    "output_type": "display_data",
                    "data": {
                        "text/html": "(3 row(s) affected)"
                    },
                    "metadata": {}
                },
                {
                    "output_type": "display_data",
                    "data": {
                        "text/html": "Total execution time: 00:00:00.014"
                    },
                    "metadata": {}
                },
                {
                    "output_type": "execute_result",
                    "metadata": {},
                    "execution_count": 16,
                    "data": {
                        "application/vnd.dataresource+json": {
                            "schema": {
                                "fields": [
                                    {
                                        "name": "no_guest_"
                                    },
                                    {
                                        "name": "count_"
                                    },
                                    {
                                        "name": "time_spend"
                                    }
                                ]
                            },
                            "data": [
                                {
                                    "0": "1",
                                    "1": "9",
                                    "2": "1:15:46.666667"
                                },
                                {
                                    "0": "2",
                                    "1": "15",
                                    "2": "1:29:00"
                                },
                                {
                                    "0": "3",
                                    "1": "15",
                                    "2": "1:33:20"
                                }
                            ]
                        },
                        "text/html": [
                            "<table>",
                            "<tr><th>no_guest_</th><th>count_</th><th>time_spend</th></tr>",
                            "<tr><td>1</td><td>9</td><td>1:15:46.666667</td></tr>",
                            "<tr><td>2</td><td>15</td><td>1:29:00</td></tr>",
                            "<tr><td>3</td><td>15</td><td>1:33:20</td></tr>",
                            "</table>"
                        ]
                    }
                }
            ],
            "execution_count": 16
        },
        {
            "cell_type": "code",
            "source": [
                "select pg_typeof(repeat('x', 5))"
            ],
            "metadata": {
                "azdata_cell_guid": "0b1f7a43-fcc0-4619-ab65-3da24d5e5e1b"
            },
            "outputs": [
                {
                    "output_type": "display_data",
                    "data": {
                        "text/html": "(1 row(s) affected)"
                    },
                    "metadata": {}
                },
                {
                    "output_type": "display_data",
                    "data": {
                        "text/html": "Total execution time: 00:00:00.018"
                    },
                    "metadata": {}
                },
                {
                    "output_type": "execute_result",
                    "metadata": {},
                    "execution_count": 17,
                    "data": {
                        "application/vnd.dataresource+json": {
                            "schema": {
                                "fields": [
                                    {
                                        "name": "pg_typeof"
                                    }
                                ]
                            },
                            "data": [
                                {
                                    "0": "text"
                                }
                            ]
                        },
                        "text/html": [
                            "<table>",
                            "<tr><th>pg_typeof</th></tr>",
                            "<tr><td>text</td></tr>",
                            "</table>"
                        ]
                    }
                }
            ],
            "execution_count": 17
        },
        {
            "cell_type": "code",
            "source": [
                "select date_part('hour', in_time)::int \"period\", count(*)::int, \n",
                "    repeat(chr(x'2588'::int), count(*)::int)\n",
                "    from guest\n",
                "    group by date_part('hour', in_time)\n",
                "    order by date_part('hour', in_time)"
            ],
            "metadata": {
                "azdata_cell_guid": "da8d5481-d9e0-49d4-89b2-d8761c416402"
            },
            "outputs": [
                {
                    "output_type": "display_data",
                    "data": {
                        "text/html": "(6 row(s) affected)"
                    },
                    "metadata": {}
                },
                {
                    "output_type": "display_data",
                    "data": {
                        "text/html": "Total execution time: 00:00:00.015"
                    },
                    "metadata": {}
                },
                {
                    "output_type": "execute_result",
                    "metadata": {},
                    "execution_count": 18,
                    "data": {
                        "application/vnd.dataresource+json": {
                            "schema": {
                                "fields": [
                                    {
                                        "name": "period"
                                    },
                                    {
                                        "name": "count"
                                    },
                                    {
                                        "name": "repeat"
                                    }
                                ]
                            },
                            "data": [
                                {
                                    "0": "10",
                                    "1": "5",
                                    "2": "█████"
                                },
                                {
                                    "0": "11",
                                    "1": "12",
                                    "2": "████████████"
                                },
                                {
                                    "0": "12",
                                    "1": "8",
                                    "2": "████████"
                                },
                                {
                                    "0": "18",
                                    "1": "13",
                                    "2": "█████████████"
                                },
                                {
                                    "0": "19",
                                    "1": "13",
                                    "2": "█████████████"
                                },
                                {
                                    "0": "20",
                                    "1": "4",
                                    "2": "████"
                                }
                            ]
                        },
                        "text/html": [
                            "<table>",
                            "<tr><th>period</th><th>count</th><th>repeat</th></tr>",
                            "<tr><td>10</td><td>5</td><td>█████</td></tr>",
                            "<tr><td>11</td><td>12</td><td>████████████</td></tr>",
                            "<tr><td>12</td><td>8</td><td>████████</td></tr>",
                            "<tr><td>18</td><td>13</td><td>█████████████</td></tr>",
                            "<tr><td>19</td><td>13</td><td>█████████████</td></tr>",
                            "<tr><td>20</td><td>4</td><td>████</td></tr>",
                            "</table>"
                        ]
                    }
                }
            ],
            "execution_count": 18
        },
        {
            "cell_type": "code",
            "source": [
                "drop function if exists in_time_stat;\n",
                "\n",
                "CREATE OR REPLACE FUNCTION in_time_stat() \n",
                "RETURNS TABLE (\n",
                "    period int,\n",
                "    count int,\n",
                "    bar text\n",
                ") \n",
                "AS $$\n",
                "BEGIN RETURN QUERY \n",
                "select date_part('hour', in_time)::int \"period\", count(*)::int, \n",
                "    repeat(chr(x'2588'::int), count(*)::int)\n",
                "    from guest\n",
                "    group by date_part('hour', in_time)\n",
                "    order by date_part('hour', in_time);\n",
                "END; $$ \n",
                "LANGUAGE 'plpgsql';"
            ],
            "metadata": {
                "azdata_cell_guid": "ebd0e880-26de-4c51-b216-add57a1a4062"
            },
            "outputs": [
                {
                    "output_type": "display_data",
                    "data": {
                        "text/html": "NOTICE:  function in_time_stat() does not exist, skipping\n"
                    },
                    "metadata": {}
                },
                {
                    "output_type": "display_data",
                    "data": {
                        "text/html": "Commands completed successfully"
                    },
                    "metadata": {}
                },
                {
                    "output_type": "display_data",
                    "data": {
                        "text/html": "Commands completed successfully"
                    },
                    "metadata": {}
                },
                {
                    "output_type": "display_data",
                    "data": {
                        "text/html": "Total execution time: 00:00:00.001"
                    },
                    "metadata": {}
                }
            ],
            "execution_count": 19
        },
        {
            "cell_type": "code",
            "source": [
                "select * from in_time_stat();"
            ],
            "metadata": {
                "azdata_cell_guid": "490e06be-4fd1-4ca6-b9b4-80850a9a204d"
            },
            "outputs": [
                {
                    "output_type": "display_data",
                    "data": {
                        "text/html": "(6 row(s) affected)"
                    },
                    "metadata": {}
                },
                {
                    "output_type": "display_data",
                    "data": {
                        "text/html": "Total execution time: 00:00:00.009"
                    },
                    "metadata": {}
                },
                {
                    "output_type": "execute_result",
                    "metadata": {},
                    "execution_count": 20,
                    "data": {
                        "application/vnd.dataresource+json": {
                            "schema": {
                                "fields": [
                                    {
                                        "name": "period"
                                    },
                                    {
                                        "name": "count"
                                    },
                                    {
                                        "name": "bar"
                                    }
                                ]
                            },
                            "data": [
                                {
                                    "0": "10",
                                    "1": "5",
                                    "2": "█████"
                                },
                                {
                                    "0": "11",
                                    "1": "12",
                                    "2": "████████████"
                                },
                                {
                                    "0": "12",
                                    "1": "8",
                                    "2": "████████"
                                },
                                {
                                    "0": "18",
                                    "1": "13",
                                    "2": "█████████████"
                                },
                                {
                                    "0": "19",
                                    "1": "13",
                                    "2": "█████████████"
                                },
                                {
                                    "0": "20",
                                    "1": "4",
                                    "2": "████"
                                }
                            ]
                        },
                        "text/html": [
                            "<table>",
                            "<tr><th>period</th><th>count</th><th>bar</th></tr>",
                            "<tr><td>10</td><td>5</td><td>█████</td></tr>",
                            "<tr><td>11</td><td>12</td><td>████████████</td></tr>",
                            "<tr><td>12</td><td>8</td><td>████████</td></tr>",
                            "<tr><td>18</td><td>13</td><td>█████████████</td></tr>",
                            "<tr><td>19</td><td>13</td><td>█████████████</td></tr>",
                            "<tr><td>20</td><td>4</td><td>████</td></tr>",
                            "</table>"
                        ]
                    }
                }
            ],
            "execution_count": 20
        },
        {
            "cell_type": "code",
            "source": [
                "drop function if exists parking_fee;\n",
                "\n",
                "CREATE FUNCTION parking_fee(rate int) \n",
                "RETURNS TABLE (\n",
                "    a_order_id int,\n",
                "    a_in_time timestamp,\n",
                "    a_out_time timestamp,\n",
                "    a_duration interval,\n",
                "    fee int\n",
                ") \n",
                "AS $$\n",
                "BEGIN RETURN QUERY \n",
                "    select \n",
                "        order_id, in_time, out_time,\n",
                "        out_time - in_time \"duration\", \n",
                "        (date_part('hour', out_time - in_time) * 10 +\n",
                "            case\n",
                "                when date_part('minute', out_time - in_time) > 20 then 10\n",
                "                else 0\n",
                "            end)::int \"parking fee\"\n",
                "    from guest;\n",
                "END; $$ \n",
                "LANGUAGE 'plpgsql';"
            ],
            "metadata": {
                "azdata_cell_guid": "c2ed9d92-f5c3-49d0-8e7c-c3f0215bc87e"
            },
            "outputs": [
                {
                    "output_type": "display_data",
                    "data": {
                        "text/html": "Commands completed successfully"
                    },
                    "metadata": {}
                },
                {
                    "output_type": "display_data",
                    "data": {
                        "text/html": "Commands completed successfully"
                    },
                    "metadata": {}
                },
                {
                    "output_type": "display_data",
                    "data": {
                        "text/html": "Total execution time: 00:00:00.003"
                    },
                    "metadata": {}
                }
            ],
            "execution_count": 21
        },
        {
            "cell_type": "code",
            "source": [
                "select * from parking_fee(10)"
            ],
            "metadata": {
                "azdata_cell_guid": "984733e2-f8ba-4fc9-b08f-39d03a090f95"
            },
            "outputs": [
                {
                    "output_type": "display_data",
                    "data": {
                        "text/html": "(55 row(s) affected)"
                    },
                    "metadata": {}
                },
                {
                    "output_type": "display_data",
                    "data": {
                        "text/html": "Total execution time: 00:00:00.027"
                    },
                    "metadata": {}
                },
                {
                    "output_type": "execute_result",
                    "metadata": {},
                    "execution_count": 22,
                    "data": {
                        "application/vnd.dataresource+json": {
                            "schema": {
                                "fields": [
                                    {
                                        "name": "a_order_id"
                                    },
                                    {
                                        "name": "a_in_time"
                                    },
                                    {
                                        "name": "a_out_time"
                                    },
                                    {
                                        "name": "a_duration"
                                    },
                                    {
                                        "name": "fee"
                                    }
                                ]
                            },
                            "data": [
                                {
                                    "0": "1",
                                    "1": "2019-07-11T10:35:00",
                                    "2": "2019-07-11T12:36:00",
                                    "3": "2:01:00",
                                    "4": "20"
                                },
                                {
                                    "0": "2",
                                    "1": "2019-07-11T10:37:00",
                                    "2": "2019-07-11T11:11:00",
                                    "3": "0:34:00",
                                    "4": "10"
                                },
                                {
                                    "0": "3",
                                    "1": "2019-07-11T10:43:00",
                                    "2": "2019-07-11T11:53:00",
                                    "3": "1:10:00",
                                    "4": "10"
                                },
                                {
                                    "0": "4",
                                    "1": "2019-07-11T10:47:00",
                                    "2": "2019-07-11T11:23:00",
                                    "3": "0:36:00",
                                    "4": "10"
                                },
                                {
                                    "0": "5",
                                    "1": "2019-07-11T10:51:00",
                                    "2": "2019-07-11T12:00:00",
                                    "3": "1:09:00",
                                    "4": "10"
                                },
                                {
                                    "0": "6",
                                    "1": "2019-07-11T11:07:00",
                                    "2": "2019-07-11T13:25:00",
                                    "3": "2:18:00",
                                    "4": "20"
                                },
                                {
                                    "0": "7",
                                    "1": "2019-07-11T11:15:00",
                                    "2": "2019-07-11T13:27:00",
                                    "3": "2:12:00",
                                    "4": "20"
                                },
                                {
                                    "0": "8",
                                    "1": "2019-07-11T11:28:00",
                                    "2": "2019-07-11T13:16:00",
                                    "3": "1:48:00",
                                    "4": "20"
                                },
                                {
                                    "0": "9",
                                    "1": "2019-07-11T11:29:00",
                                    "2": "2019-07-11T13:52:00",
                                    "3": "2:23:00",
                                    "4": "30"
                                },
                                {
                                    "0": "10",
                                    "1": "2019-07-11T11:35:00",
                                    "2": "2019-07-11T12:42:00",
                                    "3": "1:07:00",
                                    "4": "10"
                                },
                                {
                                    "0": "11",
                                    "1": "2019-07-11T11:15:00",
                                    "2": "2019-07-11T13:25:00",
                                    "3": "2:10:00",
                                    "4": "20"
                                },
                                {
                                    "0": "12",
                                    "1": "2019-07-11T11:39:00",
                                    "2": "2019-07-11T12:50:00",
                                    "3": "1:11:00",
                                    "4": "10"
                                },
                                {
                                    "0": "13",
                                    "1": "2019-07-11T11:41:00",
                                    "2": "2019-07-11T12:22:00",
                                    "3": "0:41:00",
                                    "4": "10"
                                },
                                {
                                    "0": "14",
                                    "1": "2019-07-11T11:42:00",
                                    "2": "2019-07-11T12:18:00",
                                    "3": "0:36:00",
                                    "4": "10"
                                },
                                {
                                    "0": "15",
                                    "1": "2019-07-11T11:44:00",
                                    "2": "2019-07-11T12:23:00",
                                    "3": "0:39:00",
                                    "4": "10"
                                },
                                {
                                    "0": "16",
                                    "1": "2019-07-11T11:55:00",
                                    "2": "2019-07-11T13:05:00",
                                    "3": "1:10:00",
                                    "4": "10"
                                },
                                {
                                    "0": "17",
                                    "1": "2019-07-11T11:58:00",
                                    "2": "2019-07-11T13:32:00",
                                    "3": "1:34:00",
                                    "4": "20"
                                },
                                {
                                    "0": "18",
                                    "1": "2019-07-12T12:07:00",
                                    "2": "2019-07-12T14:24:00",
                                    "3": "2:17:00",
                                    "4": "20"
                                },
                                {
                                    "0": "19",
                                    "1": "2019-07-12T12:07:00",
                                    "2": "2019-07-12T12:48:00",
                                    "3": "0:41:00",
                                    "4": "10"
                                },
                                {
                                    "0": "20",
                                    "1": "2019-07-12T12:14:00",
                                    "2": "2019-07-12T14:33:00",
                                    "3": "2:19:00",
                                    "4": "20"
                                },
                                {
                                    "0": "21",
                                    "1": "2019-07-12T12:17:00",
                                    "2": "2019-07-12T13:28:00",
                                    "3": "1:11:00",
                                    "4": "10"
                                },
                                {
                                    "0": "22",
                                    "1": "2019-07-12T12:19:00",
                                    "2": "2019-07-12T14:32:00",
                                    "3": "2:13:00",
                                    "4": "20"
                                },
                                {
                                    "0": "23",
                                    "1": "2019-07-12T12:19:00",
                                    "2": "2019-07-12T13:26:00",
                                    "3": "1:07:00",
                                    "4": "10"
                                },
                                {
                                    "0": "24",
                                    "1": "2019-07-12T12:20:00",
                                    "2": "2019-07-12T14:05:00",
                                    "3": "1:45:00",
                                    "4": "20"
                                },
                                {
                                    "0": "25",
                                    "1": "2019-07-12T12:20:00",
                                    "2": "2019-07-12T14:20:00",
                                    "3": "2:00:00",
                                    "4": "20"
                                },
                                {
                                    "0": "26",
                                    "1": "2019-07-11T18:35:00",
                                    "2": "2019-07-11T20:09:00",
                                    "3": "1:34:00",
                                    "4": "20"
                                },
                                {
                                    "0": "27",
                                    "1": "2019-07-11T18:37:00",
                                    "2": "2019-07-11T20:54:00",
                                    "3": "2:17:00",
                                    "4": "20"
                                },
                                {
                                    "0": "28",
                                    "1": "2019-07-11T18:37:00",
                                    "2": "2019-07-11T19:53:00",
                                    "3": "1:16:00",
                                    "4": "10"
                                },
                                {
                                    "0": "29",
                                    "1": "2019-07-11T18:40:00",
                                    "2": "2019-07-11T20:08:00",
                                    "3": "1:28:00",
                                    "4": "20"
                                },
                                {
                                    "0": "30",
                                    "1": "2019-07-11T18:58:00",
                                    "2": "2019-07-11T19:51:00",
                                    "3": "0:53:00",
                                    "4": "10"
                                },
                                {
                                    "0": "31",
                                    "1": "2019-07-11T18:58:00",
                                    "2": "2019-07-11T21:13:00",
                                    "3": "2:15:00",
                                    "4": "20"
                                },
                                {
                                    "0": "32",
                                    "1": "2019-07-11T18:59:00",
                                    "2": "2019-07-11T19:31:00",
                                    "3": "0:32:00",
                                    "4": "10"
                                },
                                {
                                    "0": "33",
                                    "1": "2019-07-11T18:59:00",
                                    "2": "2019-07-11T19:58:00",
                                    "3": "0:59:00",
                                    "4": "10"
                                },
                                {
                                    "0": "34",
                                    "1": "2019-07-11T19:02:00",
                                    "2": "2019-07-11T21:12:00",
                                    "3": "2:10:00",
                                    "4": "20"
                                },
                                {
                                    "0": "35",
                                    "1": "2019-07-11T19:08:00",
                                    "2": "2019-07-11T21:18:00",
                                    "3": "2:10:00",
                                    "4": "20"
                                },
                                {
                                    "0": "36",
                                    "1": "2019-07-11T19:13:00",
                                    "2": "2019-07-11T19:28:00",
                                    "3": "0:15:00",
                                    "4": "0"
                                },
                                {
                                    "0": "37",
                                    "1": "2019-07-11T19:13:00",
                                    "2": "2019-07-11T19:44:00",
                                    "3": "0:31:00",
                                    "4": "10"
                                },
                                {
                                    "0": "38",
                                    "1": "2019-07-11T19:16:00",
                                    "2": "2019-07-11T20:34:00",
                                    "3": "1:18:00",
                                    "4": "10"
                                },
                                {
                                    "0": "39",
                                    "1": "2019-07-11T19:17:00",
                                    "2": "2019-07-11T20:21:00",
                                    "3": "1:04:00",
                                    "4": "10"
                                },
                                {
                                    "0": "40",
                                    "1": "2019-07-12T18:19:00",
                                    "2": "2019-07-12T21:42:00",
                                    "3": "3:23:00",
                                    "4": "40"
                                },
                                {
                                    "0": "41",
                                    "1": "2019-07-12T19:22:00",
                                    "2": "2019-07-12T20:59:00",
                                    "3": "1:37:00",
                                    "4": "20"
                                },
                                {
                                    "0": "42",
                                    "1": "2019-07-12T19:29:00",
                                    "2": "2019-07-12T20:36:00",
                                    "3": "1:07:00",
                                    "4": "10"
                                },
                                {
                                    "0": "43",
                                    "1": "2019-07-12T19:37:00",
                                    "2": "2019-07-12T20:22:00",
                                    "3": "0:45:00",
                                    "4": "10"
                                },
                                {
                                    "0": "44",
                                    "1": "2019-07-12T19:38:00",
                                    "2": "2019-07-12T20:03:00",
                                    "3": "0:25:00",
                                    "4": "10"
                                },
                                {
                                    "0": "45",
                                    "1": "2019-07-12T19:47:00",
                                    "2": "2019-07-12T21:03:00",
                                    "3": "1:16:00",
                                    "4": "10"
                                },
                                {
                                    "0": "46",
                                    "1": "2019-07-12T19:53:00",
                                    "2": "2019-07-12T22:05:00",
                                    "3": "2:12:00",
                                    "4": "20"
                                },
                                {
                                    "0": "47",
                                    "1": "2019-07-12T20:05:00",
                                    "2": "2019-07-12T21:37:00",
                                    "3": "1:32:00",
                                    "4": "20"
                                },
                                {
                                    "0": "48",
                                    "1": "2019-07-12T20:11:00",
                                    "2": "2019-07-12T20:54:00",
                                    "3": "0:43:00",
                                    "4": "10"
                                },
                                {
                                    "0": "49",
                                    "1": "2019-07-12T20:13:00",
                                    "2": "2019-07-12T21:55:00",
                                    "3": "1:42:00",
                                    "4": "20"
                                },
                                {
                                    "0": "50",
                                    "1": "2019-07-12T20:19:00",
                                    "2": "2019-07-12T22:25:00",
                                    "3": "2:06:00",
                                    "4": "20"
                                },
                                {
                                    "0": "51",
                                    "1": "2019-07-13T18:00:00",
                                    "2": "2019-07-13T19:51:00",
                                    "3": "1:51:00",
                                    "4": "20"
                                },
                                {
                                    "0": "52",
                                    "1": "2019-07-13T18:10:00",
                                    "2": "2019-07-13T21:13:00",
                                    "3": "3:03:00",
                                    "4": "30"
                                },
                                {
                                    "0": "53",
                                    "1": "2019-07-13T18:15:00",
                                    "2": "2019-07-13T20:31:00",
                                    "3": "2:16:00",
                                    "4": "20"
                                },
                                {
                                    "0": "54",
                                    "1": "2019-07-13T18:20:00",
                                    "2": "2019-07-13T20:58:00",
                                    "3": "2:38:00",
                                    "4": "30"
                                },
                                {
                                    "0": "55",
                                    "1": "2019-07-13T19:02:00",
                                    "2": "2019-07-13T21:12:00",
                                    "3": "2:10:00",
                                    "4": "20"
                                }
                            ]
                        },
                        "text/html": [
                            "<table>",
                            "<tr><th>a_order_id</th><th>a_in_time</th><th>a_out_time</th><th>a_duration</th><th>fee</th></tr>",
                            "<tr><td>1</td><td>2019-07-11T10:35:00</td><td>2019-07-11T12:36:00</td><td>2:01:00</td><td>20</td></tr>",
                            "<tr><td>2</td><td>2019-07-11T10:37:00</td><td>2019-07-11T11:11:00</td><td>0:34:00</td><td>10</td></tr>",
                            "<tr><td>3</td><td>2019-07-11T10:43:00</td><td>2019-07-11T11:53:00</td><td>1:10:00</td><td>10</td></tr>",
                            "<tr><td>4</td><td>2019-07-11T10:47:00</td><td>2019-07-11T11:23:00</td><td>0:36:00</td><td>10</td></tr>",
                            "<tr><td>5</td><td>2019-07-11T10:51:00</td><td>2019-07-11T12:00:00</td><td>1:09:00</td><td>10</td></tr>",
                            "<tr><td>6</td><td>2019-07-11T11:07:00</td><td>2019-07-11T13:25:00</td><td>2:18:00</td><td>20</td></tr>",
                            "<tr><td>7</td><td>2019-07-11T11:15:00</td><td>2019-07-11T13:27:00</td><td>2:12:00</td><td>20</td></tr>",
                            "<tr><td>8</td><td>2019-07-11T11:28:00</td><td>2019-07-11T13:16:00</td><td>1:48:00</td><td>20</td></tr>",
                            "<tr><td>9</td><td>2019-07-11T11:29:00</td><td>2019-07-11T13:52:00</td><td>2:23:00</td><td>30</td></tr>",
                            "<tr><td>10</td><td>2019-07-11T11:35:00</td><td>2019-07-11T12:42:00</td><td>1:07:00</td><td>10</td></tr>",
                            "<tr><td>11</td><td>2019-07-11T11:15:00</td><td>2019-07-11T13:25:00</td><td>2:10:00</td><td>20</td></tr>",
                            "<tr><td>12</td><td>2019-07-11T11:39:00</td><td>2019-07-11T12:50:00</td><td>1:11:00</td><td>10</td></tr>",
                            "<tr><td>13</td><td>2019-07-11T11:41:00</td><td>2019-07-11T12:22:00</td><td>0:41:00</td><td>10</td></tr>",
                            "<tr><td>14</td><td>2019-07-11T11:42:00</td><td>2019-07-11T12:18:00</td><td>0:36:00</td><td>10</td></tr>",
                            "<tr><td>15</td><td>2019-07-11T11:44:00</td><td>2019-07-11T12:23:00</td><td>0:39:00</td><td>10</td></tr>",
                            "<tr><td>16</td><td>2019-07-11T11:55:00</td><td>2019-07-11T13:05:00</td><td>1:10:00</td><td>10</td></tr>",
                            "<tr><td>17</td><td>2019-07-11T11:58:00</td><td>2019-07-11T13:32:00</td><td>1:34:00</td><td>20</td></tr>",
                            "<tr><td>18</td><td>2019-07-12T12:07:00</td><td>2019-07-12T14:24:00</td><td>2:17:00</td><td>20</td></tr>",
                            "<tr><td>19</td><td>2019-07-12T12:07:00</td><td>2019-07-12T12:48:00</td><td>0:41:00</td><td>10</td></tr>",
                            "<tr><td>20</td><td>2019-07-12T12:14:00</td><td>2019-07-12T14:33:00</td><td>2:19:00</td><td>20</td></tr>",
                            "<tr><td>21</td><td>2019-07-12T12:17:00</td><td>2019-07-12T13:28:00</td><td>1:11:00</td><td>10</td></tr>",
                            "<tr><td>22</td><td>2019-07-12T12:19:00</td><td>2019-07-12T14:32:00</td><td>2:13:00</td><td>20</td></tr>",
                            "<tr><td>23</td><td>2019-07-12T12:19:00</td><td>2019-07-12T13:26:00</td><td>1:07:00</td><td>10</td></tr>",
                            "<tr><td>24</td><td>2019-07-12T12:20:00</td><td>2019-07-12T14:05:00</td><td>1:45:00</td><td>20</td></tr>",
                            "<tr><td>25</td><td>2019-07-12T12:20:00</td><td>2019-07-12T14:20:00</td><td>2:00:00</td><td>20</td></tr>",
                            "<tr><td>26</td><td>2019-07-11T18:35:00</td><td>2019-07-11T20:09:00</td><td>1:34:00</td><td>20</td></tr>",
                            "<tr><td>27</td><td>2019-07-11T18:37:00</td><td>2019-07-11T20:54:00</td><td>2:17:00</td><td>20</td></tr>",
                            "<tr><td>28</td><td>2019-07-11T18:37:00</td><td>2019-07-11T19:53:00</td><td>1:16:00</td><td>10</td></tr>",
                            "<tr><td>29</td><td>2019-07-11T18:40:00</td><td>2019-07-11T20:08:00</td><td>1:28:00</td><td>20</td></tr>",
                            "<tr><td>30</td><td>2019-07-11T18:58:00</td><td>2019-07-11T19:51:00</td><td>0:53:00</td><td>10</td></tr>",
                            "<tr><td>31</td><td>2019-07-11T18:58:00</td><td>2019-07-11T21:13:00</td><td>2:15:00</td><td>20</td></tr>",
                            "<tr><td>32</td><td>2019-07-11T18:59:00</td><td>2019-07-11T19:31:00</td><td>0:32:00</td><td>10</td></tr>",
                            "<tr><td>33</td><td>2019-07-11T18:59:00</td><td>2019-07-11T19:58:00</td><td>0:59:00</td><td>10</td></tr>",
                            "<tr><td>34</td><td>2019-07-11T19:02:00</td><td>2019-07-11T21:12:00</td><td>2:10:00</td><td>20</td></tr>",
                            "<tr><td>35</td><td>2019-07-11T19:08:00</td><td>2019-07-11T21:18:00</td><td>2:10:00</td><td>20</td></tr>",
                            "<tr><td>36</td><td>2019-07-11T19:13:00</td><td>2019-07-11T19:28:00</td><td>0:15:00</td><td>0</td></tr>",
                            "<tr><td>37</td><td>2019-07-11T19:13:00</td><td>2019-07-11T19:44:00</td><td>0:31:00</td><td>10</td></tr>",
                            "<tr><td>38</td><td>2019-07-11T19:16:00</td><td>2019-07-11T20:34:00</td><td>1:18:00</td><td>10</td></tr>",
                            "<tr><td>39</td><td>2019-07-11T19:17:00</td><td>2019-07-11T20:21:00</td><td>1:04:00</td><td>10</td></tr>",
                            "<tr><td>40</td><td>2019-07-12T18:19:00</td><td>2019-07-12T21:42:00</td><td>3:23:00</td><td>40</td></tr>",
                            "<tr><td>41</td><td>2019-07-12T19:22:00</td><td>2019-07-12T20:59:00</td><td>1:37:00</td><td>20</td></tr>",
                            "<tr><td>42</td><td>2019-07-12T19:29:00</td><td>2019-07-12T20:36:00</td><td>1:07:00</td><td>10</td></tr>",
                            "<tr><td>43</td><td>2019-07-12T19:37:00</td><td>2019-07-12T20:22:00</td><td>0:45:00</td><td>10</td></tr>",
                            "<tr><td>44</td><td>2019-07-12T19:38:00</td><td>2019-07-12T20:03:00</td><td>0:25:00</td><td>10</td></tr>",
                            "<tr><td>45</td><td>2019-07-12T19:47:00</td><td>2019-07-12T21:03:00</td><td>1:16:00</td><td>10</td></tr>",
                            "<tr><td>46</td><td>2019-07-12T19:53:00</td><td>2019-07-12T22:05:00</td><td>2:12:00</td><td>20</td></tr>",
                            "<tr><td>47</td><td>2019-07-12T20:05:00</td><td>2019-07-12T21:37:00</td><td>1:32:00</td><td>20</td></tr>",
                            "<tr><td>48</td><td>2019-07-12T20:11:00</td><td>2019-07-12T20:54:00</td><td>0:43:00</td><td>10</td></tr>",
                            "<tr><td>49</td><td>2019-07-12T20:13:00</td><td>2019-07-12T21:55:00</td><td>1:42:00</td><td>20</td></tr>",
                            "<tr><td>50</td><td>2019-07-12T20:19:00</td><td>2019-07-12T22:25:00</td><td>2:06:00</td><td>20</td></tr>",
                            "<tr><td>51</td><td>2019-07-13T18:00:00</td><td>2019-07-13T19:51:00</td><td>1:51:00</td><td>20</td></tr>",
                            "<tr><td>52</td><td>2019-07-13T18:10:00</td><td>2019-07-13T21:13:00</td><td>3:03:00</td><td>30</td></tr>",
                            "<tr><td>53</td><td>2019-07-13T18:15:00</td><td>2019-07-13T20:31:00</td><td>2:16:00</td><td>20</td></tr>",
                            "<tr><td>54</td><td>2019-07-13T18:20:00</td><td>2019-07-13T20:58:00</td><td>2:38:00</td><td>30</td></tr>",
                            "<tr><td>55</td><td>2019-07-13T19:02:00</td><td>2019-07-13T21:12:00</td><td>2:10:00</td><td>20</td></tr>",
                            "</table>"
                        ]
                    }
                }
            ],
            "execution_count": 22
        }
    ]
}