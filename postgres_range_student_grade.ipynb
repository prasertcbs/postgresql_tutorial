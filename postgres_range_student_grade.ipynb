{
    "metadata": {
        "kernelspec": {
            "name": "SQL",
            "display_name": "SQL",
            "language": "sql"
        },
        "language_info": {
            "name": "sql",
            "version": ""
        }
    },
    "nbformat_minor": 2,
    "nbformat": 4,
    "cells": [
        {
            "cell_type": "markdown",
            "source": [
                "# ประยุกต์ใช้ RANGE data type ในการตัดเกรด\n",
                "## Server: PostgreSQL\n",
                "## Database: saturn\n",
                "## Table: country\n",
                "## Author: Prasert Kanawattanachai\n",
                "## YouTube: http://bit.ly/2kmgVB0\n",
                "\n",
                ""
            ],
            "metadata": {
                "azdata_cell_guid": "9b7313a5-38ea-45f6-b3c0-e36b618d9297"
            }
        },
        {
            "cell_type": "markdown",
            "source": [
                "## built-in range types\n",
                "### discrete range types\n",
                "1. int4range — Range of integer\n",
                "1. int8range — Range of bigint\n",
                "1. daterange — Range of date\n",
                "\n",
                "### continuous range types\n",
                "1. numrange — Range of numeric\n",
                "1. tsrange — Range of timestamp without time zone\n",
                "1. tstzrange — Range of timestamp with time zone"
            ],
            "metadata": {
                "azdata_cell_guid": "dac869dc-6a9a-4e48-8fae-a8c245a40228"
            }
        },
        {
            "cell_type": "code",
            "source": [
                "drop table if exists student;\n",
                "\n",
                "create table student (\n",
                "    student_id int,\n",
                "    score numeric(5, 2)\n",
                ");"
            ],
            "metadata": {
                "azdata_cell_guid": "a22a0088-bc43-47b7-93b8-73c2544f166a"
            },
            "outputs": [
                {
                    "output_type": "display_data",
                    "data": {
                        "text/html": "Commands completed successfully"
                    },
                    "metadata": {}
                },
                {
                    "output_type": "display_data",
                    "data": {
                        "text/html": "Commands completed successfully"
                    },
                    "metadata": {}
                },
                {
                    "output_type": "display_data",
                    "data": {
                        "text/html": "Total execution time: 00:00:00.012"
                    },
                    "metadata": {}
                }
            ],
            "execution_count": 2
        },
        {
            "cell_type": "code",
            "source": [
                "select random()"
            ],
            "metadata": {
                "azdata_cell_guid": "965c10bc-5dc1-4e53-894a-a65bd4822bba"
            },
            "outputs": [
                {
                    "output_type": "display_data",
                    "data": {
                        "text/html": "(1 row(s) affected)"
                    },
                    "metadata": {}
                },
                {
                    "output_type": "display_data",
                    "data": {
                        "text/html": "Total execution time: 00:00:00.003"
                    },
                    "metadata": {}
                },
                {
                    "output_type": "execute_result",
                    "execution_count": 5,
                    "data": {
                        "application/vnd.dataresource+json": {
                            "schema": {
                                "fields": [
                                    {
                                        "name": "random"
                                    }
                                ]
                            },
                            "data": [
                                {
                                    "0": "0.659552345983684"
                                }
                            ]
                        },
                        "text/html": "<table><tr><th>random</th></tr><tr><td>0.659552345983684</td></tr></table>"
                    },
                    "metadata": {}
                }
            ],
            "execution_count": 5
        },
        {
            "cell_type": "code",
            "source": [
                "select student_id,\n",
                "    (random() * 60 + 40)::numeric(5, 2) score\n",
                "from generate_series(1, 50) student_id"
            ],
            "metadata": {
                "azdata_cell_guid": "42342684-2054-4e45-ae7b-121effa21e3f"
            },
            "outputs": [
                {
                    "output_type": "display_data",
                    "data": {
                        "text/html": "(50 row(s) affected)"
                    },
                    "metadata": {}
                },
                {
                    "output_type": "display_data",
                    "data": {
                        "text/html": "Total execution time: 00:00:00.004"
                    },
                    "metadata": {}
                },
                {
                    "output_type": "execute_result",
                    "execution_count": 6,
                    "data": {
                        "application/vnd.dataresource+json": {
                            "schema": {
                                "fields": [
                                    {
                                        "name": "student_id"
                                    },
                                    {
                                        "name": "score"
                                    }
                                ]
                            },
                            "data": [
                                {
                                    "0": "1",
                                    "1": "81.15"
                                },
                                {
                                    "0": "2",
                                    "1": "76.40"
                                },
                                {
                                    "0": "3",
                                    "1": "54.55"
                                },
                                {
                                    "0": "4",
                                    "1": "54.68"
                                },
                                {
                                    "0": "5",
                                    "1": "41.49"
                                },
                                {
                                    "0": "6",
                                    "1": "40.52"
                                },
                                {
                                    "0": "7",
                                    "1": "86.73"
                                },
                                {
                                    "0": "8",
                                    "1": "47.03"
                                },
                                {
                                    "0": "9",
                                    "1": "81.05"
                                },
                                {
                                    "0": "10",
                                    "1": "52.83"
                                },
                                {
                                    "0": "11",
                                    "1": "98.55"
                                },
                                {
                                    "0": "12",
                                    "1": "40.05"
                                },
                                {
                                    "0": "13",
                                    "1": "66.50"
                                },
                                {
                                    "0": "14",
                                    "1": "41.75"
                                },
                                {
                                    "0": "15",
                                    "1": "88.28"
                                },
                                {
                                    "0": "16",
                                    "1": "87.40"
                                },
                                {
                                    "0": "17",
                                    "1": "46.37"
                                },
                                {
                                    "0": "18",
                                    "1": "58.18"
                                },
                                {
                                    "0": "19",
                                    "1": "86.00"
                                },
                                {
                                    "0": "20",
                                    "1": "91.95"
                                },
                                {
                                    "0": "21",
                                    "1": "40.20"
                                },
                                {
                                    "0": "22",
                                    "1": "43.84"
                                },
                                {
                                    "0": "23",
                                    "1": "52.53"
                                },
                                {
                                    "0": "24",
                                    "1": "65.68"
                                },
                                {
                                    "0": "25",
                                    "1": "94.50"
                                },
                                {
                                    "0": "26",
                                    "1": "74.69"
                                },
                                {
                                    "0": "27",
                                    "1": "43.50"
                                },
                                {
                                    "0": "28",
                                    "1": "87.46"
                                },
                                {
                                    "0": "29",
                                    "1": "52.05"
                                },
                                {
                                    "0": "30",
                                    "1": "44.81"
                                },
                                {
                                    "0": "31",
                                    "1": "67.03"
                                },
                                {
                                    "0": "32",
                                    "1": "93.20"
                                },
                                {
                                    "0": "33",
                                    "1": "81.21"
                                },
                                {
                                    "0": "34",
                                    "1": "81.58"
                                },
                                {
                                    "0": "35",
                                    "1": "47.89"
                                },
                                {
                                    "0": "36",
                                    "1": "82.70"
                                },
                                {
                                    "0": "37",
                                    "1": "82.10"
                                },
                                {
                                    "0": "38",
                                    "1": "94.61"
                                },
                                {
                                    "0": "39",
                                    "1": "89.73"
                                },
                                {
                                    "0": "40",
                                    "1": "63.15"
                                },
                                {
                                    "0": "41",
                                    "1": "47.45"
                                },
                                {
                                    "0": "42",
                                    "1": "88.28"
                                },
                                {
                                    "0": "43",
                                    "1": "63.20"
                                },
                                {
                                    "0": "44",
                                    "1": "73.95"
                                },
                                {
                                    "0": "45",
                                    "1": "90.03"
                                },
                                {
                                    "0": "46",
                                    "1": "51.48"
                                },
                                {
                                    "0": "47",
                                    "1": "61.35"
                                },
                                {
                                    "0": "48",
                                    "1": "96.40"
                                },
                                {
                                    "0": "49",
                                    "1": "69.66"
                                },
                                {
                                    "0": "50",
                                    "1": "47.35"
                                }
                            ]
                        },
                        "text/html": "<table><tr><th>student_id</th><th>score</th></tr><tr><td>1</td><td>81.15</td></tr><tr><td>2</td><td>76.40</td></tr><tr><td>3</td><td>54.55</td></tr><tr><td>4</td><td>54.68</td></tr><tr><td>5</td><td>41.49</td></tr><tr><td>6</td><td>40.52</td></tr><tr><td>7</td><td>86.73</td></tr><tr><td>8</td><td>47.03</td></tr><tr><td>9</td><td>81.05</td></tr><tr><td>10</td><td>52.83</td></tr><tr><td>11</td><td>98.55</td></tr><tr><td>12</td><td>40.05</td></tr><tr><td>13</td><td>66.50</td></tr><tr><td>14</td><td>41.75</td></tr><tr><td>15</td><td>88.28</td></tr><tr><td>16</td><td>87.40</td></tr><tr><td>17</td><td>46.37</td></tr><tr><td>18</td><td>58.18</td></tr><tr><td>19</td><td>86.00</td></tr><tr><td>20</td><td>91.95</td></tr><tr><td>21</td><td>40.20</td></tr><tr><td>22</td><td>43.84</td></tr><tr><td>23</td><td>52.53</td></tr><tr><td>24</td><td>65.68</td></tr><tr><td>25</td><td>94.50</td></tr><tr><td>26</td><td>74.69</td></tr><tr><td>27</td><td>43.50</td></tr><tr><td>28</td><td>87.46</td></tr><tr><td>29</td><td>52.05</td></tr><tr><td>30</td><td>44.81</td></tr><tr><td>31</td><td>67.03</td></tr><tr><td>32</td><td>93.20</td></tr><tr><td>33</td><td>81.21</td></tr><tr><td>34</td><td>81.58</td></tr><tr><td>35</td><td>47.89</td></tr><tr><td>36</td><td>82.70</td></tr><tr><td>37</td><td>82.10</td></tr><tr><td>38</td><td>94.61</td></tr><tr><td>39</td><td>89.73</td></tr><tr><td>40</td><td>63.15</td></tr><tr><td>41</td><td>47.45</td></tr><tr><td>42</td><td>88.28</td></tr><tr><td>43</td><td>63.20</td></tr><tr><td>44</td><td>73.95</td></tr><tr><td>45</td><td>90.03</td></tr><tr><td>46</td><td>51.48</td></tr><tr><td>47</td><td>61.35</td></tr><tr><td>48</td><td>96.40</td></tr><tr><td>49</td><td>69.66</td></tr><tr><td>50</td><td>47.35</td></tr></table>"
                    },
                    "metadata": {}
                }
            ],
            "execution_count": 6
        },
        {
            "cell_type": "code",
            "source": [
                "insert into student\n",
                "    select student_id,\n",
                "        (random() * 60 + 40)::numeric(5, 2) score\n",
                "    from generate_series(1, 50) student_id"
            ],
            "metadata": {
                "azdata_cell_guid": "2005b6d3-8d0d-4f7d-996e-a1d8eefb7fc6"
            },
            "outputs": [
                {
                    "output_type": "display_data",
                    "data": {
                        "text/html": "Commands completed successfully"
                    },
                    "metadata": {}
                },
                {
                    "output_type": "display_data",
                    "data": {
                        "text/html": "Total execution time: 00:00:00.002"
                    },
                    "metadata": {}
                }
            ],
            "execution_count": 7
        },
        {
            "cell_type": "code",
            "source": [
                "select * from student"
            ],
            "metadata": {
                "azdata_cell_guid": "0d980592-887e-4ad8-b639-0e9527d9b6b9"
            },
            "outputs": [
                {
                    "output_type": "display_data",
                    "data": {
                        "text/html": "(50 row(s) affected)"
                    },
                    "metadata": {}
                },
                {
                    "output_type": "display_data",
                    "data": {
                        "text/html": "Total execution time: 00:00:00.004"
                    },
                    "metadata": {}
                },
                {
                    "output_type": "execute_result",
                    "execution_count": 8,
                    "data": {
                        "application/vnd.dataresource+json": {
                            "schema": {
                                "fields": [
                                    {
                                        "name": "student_id"
                                    },
                                    {
                                        "name": "score"
                                    }
                                ]
                            },
                            "data": [
                                {
                                    "0": "1",
                                    "1": "88.35"
                                },
                                {
                                    "0": "2",
                                    "1": "69.86"
                                },
                                {
                                    "0": "3",
                                    "1": "51.19"
                                },
                                {
                                    "0": "4",
                                    "1": "40.88"
                                },
                                {
                                    "0": "5",
                                    "1": "95.54"
                                },
                                {
                                    "0": "6",
                                    "1": "45.69"
                                },
                                {
                                    "0": "7",
                                    "1": "75.57"
                                },
                                {
                                    "0": "8",
                                    "1": "99.04"
                                },
                                {
                                    "0": "9",
                                    "1": "93.15"
                                },
                                {
                                    "0": "10",
                                    "1": "87.63"
                                },
                                {
                                    "0": "11",
                                    "1": "43.85"
                                },
                                {
                                    "0": "12",
                                    "1": "60.19"
                                },
                                {
                                    "0": "13",
                                    "1": "80.83"
                                },
                                {
                                    "0": "14",
                                    "1": "85.06"
                                },
                                {
                                    "0": "15",
                                    "1": "41.77"
                                },
                                {
                                    "0": "16",
                                    "1": "88.72"
                                },
                                {
                                    "0": "17",
                                    "1": "67.76"
                                },
                                {
                                    "0": "18",
                                    "1": "83.87"
                                },
                                {
                                    "0": "19",
                                    "1": "83.33"
                                },
                                {
                                    "0": "20",
                                    "1": "57.49"
                                },
                                {
                                    "0": "21",
                                    "1": "47.02"
                                },
                                {
                                    "0": "22",
                                    "1": "90.78"
                                },
                                {
                                    "0": "23",
                                    "1": "45.76"
                                },
                                {
                                    "0": "24",
                                    "1": "70.22"
                                },
                                {
                                    "0": "25",
                                    "1": "64.73"
                                },
                                {
                                    "0": "26",
                                    "1": "95.79"
                                },
                                {
                                    "0": "27",
                                    "1": "81.70"
                                },
                                {
                                    "0": "28",
                                    "1": "86.08"
                                },
                                {
                                    "0": "29",
                                    "1": "92.19"
                                },
                                {
                                    "0": "30",
                                    "1": "51.36"
                                },
                                {
                                    "0": "31",
                                    "1": "93.43"
                                },
                                {
                                    "0": "32",
                                    "1": "80.54"
                                },
                                {
                                    "0": "33",
                                    "1": "81.22"
                                },
                                {
                                    "0": "34",
                                    "1": "44.62"
                                },
                                {
                                    "0": "35",
                                    "1": "81.42"
                                },
                                {
                                    "0": "36",
                                    "1": "76.76"
                                },
                                {
                                    "0": "37",
                                    "1": "50.32"
                                },
                                {
                                    "0": "38",
                                    "1": "56.99"
                                },
                                {
                                    "0": "39",
                                    "1": "75.80"
                                },
                                {
                                    "0": "40",
                                    "1": "43.47"
                                },
                                {
                                    "0": "41",
                                    "1": "44.62"
                                },
                                {
                                    "0": "42",
                                    "1": "79.65"
                                },
                                {
                                    "0": "43",
                                    "1": "63.66"
                                },
                                {
                                    "0": "44",
                                    "1": "85.45"
                                },
                                {
                                    "0": "45",
                                    "1": "64.71"
                                },
                                {
                                    "0": "46",
                                    "1": "65.43"
                                },
                                {
                                    "0": "47",
                                    "1": "74.17"
                                },
                                {
                                    "0": "48",
                                    "1": "92.46"
                                },
                                {
                                    "0": "49",
                                    "1": "49.30"
                                },
                                {
                                    "0": "50",
                                    "1": "57.50"
                                }
                            ]
                        },
                        "text/html": "<table><tr><th>student_id</th><th>score</th></tr><tr><td>1</td><td>88.35</td></tr><tr><td>2</td><td>69.86</td></tr><tr><td>3</td><td>51.19</td></tr><tr><td>4</td><td>40.88</td></tr><tr><td>5</td><td>95.54</td></tr><tr><td>6</td><td>45.69</td></tr><tr><td>7</td><td>75.57</td></tr><tr><td>8</td><td>99.04</td></tr><tr><td>9</td><td>93.15</td></tr><tr><td>10</td><td>87.63</td></tr><tr><td>11</td><td>43.85</td></tr><tr><td>12</td><td>60.19</td></tr><tr><td>13</td><td>80.83</td></tr><tr><td>14</td><td>85.06</td></tr><tr><td>15</td><td>41.77</td></tr><tr><td>16</td><td>88.72</td></tr><tr><td>17</td><td>67.76</td></tr><tr><td>18</td><td>83.87</td></tr><tr><td>19</td><td>83.33</td></tr><tr><td>20</td><td>57.49</td></tr><tr><td>21</td><td>47.02</td></tr><tr><td>22</td><td>90.78</td></tr><tr><td>23</td><td>45.76</td></tr><tr><td>24</td><td>70.22</td></tr><tr><td>25</td><td>64.73</td></tr><tr><td>26</td><td>95.79</td></tr><tr><td>27</td><td>81.70</td></tr><tr><td>28</td><td>86.08</td></tr><tr><td>29</td><td>92.19</td></tr><tr><td>30</td><td>51.36</td></tr><tr><td>31</td><td>93.43</td></tr><tr><td>32</td><td>80.54</td></tr><tr><td>33</td><td>81.22</td></tr><tr><td>34</td><td>44.62</td></tr><tr><td>35</td><td>81.42</td></tr><tr><td>36</td><td>76.76</td></tr><tr><td>37</td><td>50.32</td></tr><tr><td>38</td><td>56.99</td></tr><tr><td>39</td><td>75.80</td></tr><tr><td>40</td><td>43.47</td></tr><tr><td>41</td><td>44.62</td></tr><tr><td>42</td><td>79.65</td></tr><tr><td>43</td><td>63.66</td></tr><tr><td>44</td><td>85.45</td></tr><tr><td>45</td><td>64.71</td></tr><tr><td>46</td><td>65.43</td></tr><tr><td>47</td><td>74.17</td></tr><tr><td>48</td><td>92.46</td></tr><tr><td>49</td><td>49.30</td></tr><tr><td>50</td><td>57.50</td></tr></table>"
                    },
                    "metadata": {}
                }
            ],
            "execution_count": 8
        },
        {
            "cell_type": "code",
            "source": [
                "select student_id, score,\n",
                "    case\n",
                "        when score between 85 and 100 then 'A'\n",
                "        when score between 70 and 84.999 then 'B'\n",
                "        when score between 60 and 69.999 then 'C'\n",
                "        when score between 50 and 59.999 then 'D'\n",
                "        else 'F'\n",
                "    end grade\n",
                "    from student"
            ],
            "metadata": {
                "azdata_cell_guid": "4096d9a9-ef68-4388-a7d9-110e1587b73f"
            },
            "outputs": [
                {
                    "output_type": "display_data",
                    "data": {
                        "text/html": "(50 row(s) affected)"
                    },
                    "metadata": {}
                },
                {
                    "output_type": "display_data",
                    "data": {
                        "text/html": "Total execution time: 00:00:00.013"
                    },
                    "metadata": {}
                },
                {
                    "output_type": "execute_result",
                    "execution_count": 9,
                    "data": {
                        "application/vnd.dataresource+json": {
                            "schema": {
                                "fields": [
                                    {
                                        "name": "student_id"
                                    },
                                    {
                                        "name": "score"
                                    },
                                    {
                                        "name": "grade"
                                    }
                                ]
                            },
                            "data": [
                                {
                                    "0": "1",
                                    "1": "88.35",
                                    "2": "A"
                                },
                                {
                                    "0": "2",
                                    "1": "69.86",
                                    "2": "C"
                                },
                                {
                                    "0": "3",
                                    "1": "51.19",
                                    "2": "D"
                                },
                                {
                                    "0": "4",
                                    "1": "40.88",
                                    "2": "F"
                                },
                                {
                                    "0": "5",
                                    "1": "95.54",
                                    "2": "A"
                                },
                                {
                                    "0": "6",
                                    "1": "45.69",
                                    "2": "F"
                                },
                                {
                                    "0": "7",
                                    "1": "75.57",
                                    "2": "B"
                                },
                                {
                                    "0": "8",
                                    "1": "99.04",
                                    "2": "A"
                                },
                                {
                                    "0": "9",
                                    "1": "93.15",
                                    "2": "A"
                                },
                                {
                                    "0": "10",
                                    "1": "87.63",
                                    "2": "A"
                                },
                                {
                                    "0": "11",
                                    "1": "43.85",
                                    "2": "F"
                                },
                                {
                                    "0": "12",
                                    "1": "60.19",
                                    "2": "C"
                                },
                                {
                                    "0": "13",
                                    "1": "80.83",
                                    "2": "B"
                                },
                                {
                                    "0": "14",
                                    "1": "85.06",
                                    "2": "A"
                                },
                                {
                                    "0": "15",
                                    "1": "41.77",
                                    "2": "F"
                                },
                                {
                                    "0": "16",
                                    "1": "88.72",
                                    "2": "A"
                                },
                                {
                                    "0": "17",
                                    "1": "67.76",
                                    "2": "C"
                                },
                                {
                                    "0": "18",
                                    "1": "83.87",
                                    "2": "B"
                                },
                                {
                                    "0": "19",
                                    "1": "83.33",
                                    "2": "B"
                                },
                                {
                                    "0": "20",
                                    "1": "57.49",
                                    "2": "D"
                                },
                                {
                                    "0": "21",
                                    "1": "47.02",
                                    "2": "F"
                                },
                                {
                                    "0": "22",
                                    "1": "90.78",
                                    "2": "A"
                                },
                                {
                                    "0": "23",
                                    "1": "45.76",
                                    "2": "F"
                                },
                                {
                                    "0": "24",
                                    "1": "70.22",
                                    "2": "B"
                                },
                                {
                                    "0": "25",
                                    "1": "64.73",
                                    "2": "C"
                                },
                                {
                                    "0": "26",
                                    "1": "95.79",
                                    "2": "A"
                                },
                                {
                                    "0": "27",
                                    "1": "81.70",
                                    "2": "B"
                                },
                                {
                                    "0": "28",
                                    "1": "86.08",
                                    "2": "A"
                                },
                                {
                                    "0": "29",
                                    "1": "92.19",
                                    "2": "A"
                                },
                                {
                                    "0": "30",
                                    "1": "51.36",
                                    "2": "D"
                                },
                                {
                                    "0": "31",
                                    "1": "93.43",
                                    "2": "A"
                                },
                                {
                                    "0": "32",
                                    "1": "80.54",
                                    "2": "B"
                                },
                                {
                                    "0": "33",
                                    "1": "81.22",
                                    "2": "B"
                                },
                                {
                                    "0": "34",
                                    "1": "44.62",
                                    "2": "F"
                                },
                                {
                                    "0": "35",
                                    "1": "81.42",
                                    "2": "B"
                                },
                                {
                                    "0": "36",
                                    "1": "76.76",
                                    "2": "B"
                                },
                                {
                                    "0": "37",
                                    "1": "50.32",
                                    "2": "D"
                                },
                                {
                                    "0": "38",
                                    "1": "56.99",
                                    "2": "D"
                                },
                                {
                                    "0": "39",
                                    "1": "75.80",
                                    "2": "B"
                                },
                                {
                                    "0": "40",
                                    "1": "43.47",
                                    "2": "F"
                                },
                                {
                                    "0": "41",
                                    "1": "44.62",
                                    "2": "F"
                                },
                                {
                                    "0": "42",
                                    "1": "79.65",
                                    "2": "B"
                                },
                                {
                                    "0": "43",
                                    "1": "63.66",
                                    "2": "C"
                                },
                                {
                                    "0": "44",
                                    "1": "85.45",
                                    "2": "A"
                                },
                                {
                                    "0": "45",
                                    "1": "64.71",
                                    "2": "C"
                                },
                                {
                                    "0": "46",
                                    "1": "65.43",
                                    "2": "C"
                                },
                                {
                                    "0": "47",
                                    "1": "74.17",
                                    "2": "B"
                                },
                                {
                                    "0": "48",
                                    "1": "92.46",
                                    "2": "A"
                                },
                                {
                                    "0": "49",
                                    "1": "49.30",
                                    "2": "F"
                                },
                                {
                                    "0": "50",
                                    "1": "57.50",
                                    "2": "D"
                                }
                            ]
                        },
                        "text/html": "<table><tr><th>student_id</th><th>score</th><th>grade</th></tr><tr><td>1</td><td>88.35</td><td>A</td></tr><tr><td>2</td><td>69.86</td><td>C</td></tr><tr><td>3</td><td>51.19</td><td>D</td></tr><tr><td>4</td><td>40.88</td><td>F</td></tr><tr><td>5</td><td>95.54</td><td>A</td></tr><tr><td>6</td><td>45.69</td><td>F</td></tr><tr><td>7</td><td>75.57</td><td>B</td></tr><tr><td>8</td><td>99.04</td><td>A</td></tr><tr><td>9</td><td>93.15</td><td>A</td></tr><tr><td>10</td><td>87.63</td><td>A</td></tr><tr><td>11</td><td>43.85</td><td>F</td></tr><tr><td>12</td><td>60.19</td><td>C</td></tr><tr><td>13</td><td>80.83</td><td>B</td></tr><tr><td>14</td><td>85.06</td><td>A</td></tr><tr><td>15</td><td>41.77</td><td>F</td></tr><tr><td>16</td><td>88.72</td><td>A</td></tr><tr><td>17</td><td>67.76</td><td>C</td></tr><tr><td>18</td><td>83.87</td><td>B</td></tr><tr><td>19</td><td>83.33</td><td>B</td></tr><tr><td>20</td><td>57.49</td><td>D</td></tr><tr><td>21</td><td>47.02</td><td>F</td></tr><tr><td>22</td><td>90.78</td><td>A</td></tr><tr><td>23</td><td>45.76</td><td>F</td></tr><tr><td>24</td><td>70.22</td><td>B</td></tr><tr><td>25</td><td>64.73</td><td>C</td></tr><tr><td>26</td><td>95.79</td><td>A</td></tr><tr><td>27</td><td>81.70</td><td>B</td></tr><tr><td>28</td><td>86.08</td><td>A</td></tr><tr><td>29</td><td>92.19</td><td>A</td></tr><tr><td>30</td><td>51.36</td><td>D</td></tr><tr><td>31</td><td>93.43</td><td>A</td></tr><tr><td>32</td><td>80.54</td><td>B</td></tr><tr><td>33</td><td>81.22</td><td>B</td></tr><tr><td>34</td><td>44.62</td><td>F</td></tr><tr><td>35</td><td>81.42</td><td>B</td></tr><tr><td>36</td><td>76.76</td><td>B</td></tr><tr><td>37</td><td>50.32</td><td>D</td></tr><tr><td>38</td><td>56.99</td><td>D</td></tr><tr><td>39</td><td>75.80</td><td>B</td></tr><tr><td>40</td><td>43.47</td><td>F</td></tr><tr><td>41</td><td>44.62</td><td>F</td></tr><tr><td>42</td><td>79.65</td><td>B</td></tr><tr><td>43</td><td>63.66</td><td>C</td></tr><tr><td>44</td><td>85.45</td><td>A</td></tr><tr><td>45</td><td>64.71</td><td>C</td></tr><tr><td>46</td><td>65.43</td><td>C</td></tr><tr><td>47</td><td>74.17</td><td>B</td></tr><tr><td>48</td><td>92.46</td><td>A</td></tr><tr><td>49</td><td>49.30</td><td>F</td></tr><tr><td>50</td><td>57.50</td><td>D</td></tr></table>"
                    },
                    "metadata": {}
                }
            ],
            "execution_count": 9
        },
        {
            "cell_type": "code",
            "source": [
                "select student_id, score,\n",
                "    case\n",
                "        when '[85, 100]'::numrange @> score then 'A' -- (85 <= score <= 100) score between 85 and 100 then 'A'\n",
                "        when '[70, 85)'::numrange @> score then 'B' -- (70 <= score < 85) score between 70 and 84.999 then 'B'\n",
                "        when '[60, 70)'::numrange @> score then 'C' -- (60 <= score < 70) \n",
                "        when '[50, 60)'::numrange @> score then 'D' -- (50 <= score < 60) \n",
                "        else 'F'\n",
                "    end grade\n",
                "    from student"
            ],
            "metadata": {
                "azdata_cell_guid": "ab50c300-6b78-4054-be03-b7cfa41668e3"
            },
            "outputs": [
                {
                    "output_type": "display_data",
                    "data": {
                        "text/html": "(50 row(s) affected)"
                    },
                    "metadata": {}
                },
                {
                    "output_type": "display_data",
                    "data": {
                        "text/html": "Total execution time: 00:00:00.005"
                    },
                    "metadata": {}
                },
                {
                    "output_type": "execute_result",
                    "execution_count": 12,
                    "data": {
                        "application/vnd.dataresource+json": {
                            "schema": {
                                "fields": [
                                    {
                                        "name": "student_id"
                                    },
                                    {
                                        "name": "score"
                                    },
                                    {
                                        "name": "grade"
                                    }
                                ]
                            },
                            "data": [
                                {
                                    "0": "1",
                                    "1": "88.35",
                                    "2": "A"
                                },
                                {
                                    "0": "2",
                                    "1": "69.86",
                                    "2": "C"
                                },
                                {
                                    "0": "3",
                                    "1": "51.19",
                                    "2": "D"
                                },
                                {
                                    "0": "4",
                                    "1": "40.88",
                                    "2": "F"
                                },
                                {
                                    "0": "5",
                                    "1": "95.54",
                                    "2": "A"
                                },
                                {
                                    "0": "6",
                                    "1": "45.69",
                                    "2": "F"
                                },
                                {
                                    "0": "7",
                                    "1": "75.57",
                                    "2": "B"
                                },
                                {
                                    "0": "8",
                                    "1": "99.04",
                                    "2": "A"
                                },
                                {
                                    "0": "9",
                                    "1": "93.15",
                                    "2": "A"
                                },
                                {
                                    "0": "10",
                                    "1": "87.63",
                                    "2": "A"
                                },
                                {
                                    "0": "11",
                                    "1": "43.85",
                                    "2": "F"
                                },
                                {
                                    "0": "12",
                                    "1": "60.19",
                                    "2": "C"
                                },
                                {
                                    "0": "13",
                                    "1": "80.83",
                                    "2": "B"
                                },
                                {
                                    "0": "14",
                                    "1": "85.06",
                                    "2": "A"
                                },
                                {
                                    "0": "15",
                                    "1": "41.77",
                                    "2": "F"
                                },
                                {
                                    "0": "16",
                                    "1": "88.72",
                                    "2": "A"
                                },
                                {
                                    "0": "17",
                                    "1": "67.76",
                                    "2": "C"
                                },
                                {
                                    "0": "18",
                                    "1": "83.87",
                                    "2": "B"
                                },
                                {
                                    "0": "19",
                                    "1": "83.33",
                                    "2": "B"
                                },
                                {
                                    "0": "20",
                                    "1": "57.49",
                                    "2": "D"
                                },
                                {
                                    "0": "21",
                                    "1": "47.02",
                                    "2": "F"
                                },
                                {
                                    "0": "22",
                                    "1": "90.78",
                                    "2": "A"
                                },
                                {
                                    "0": "23",
                                    "1": "45.76",
                                    "2": "F"
                                },
                                {
                                    "0": "24",
                                    "1": "70.22",
                                    "2": "B"
                                },
                                {
                                    "0": "25",
                                    "1": "64.73",
                                    "2": "C"
                                },
                                {
                                    "0": "26",
                                    "1": "95.79",
                                    "2": "A"
                                },
                                {
                                    "0": "27",
                                    "1": "81.70",
                                    "2": "B"
                                },
                                {
                                    "0": "28",
                                    "1": "86.08",
                                    "2": "A"
                                },
                                {
                                    "0": "29",
                                    "1": "92.19",
                                    "2": "A"
                                },
                                {
                                    "0": "30",
                                    "1": "51.36",
                                    "2": "D"
                                },
                                {
                                    "0": "31",
                                    "1": "93.43",
                                    "2": "A"
                                },
                                {
                                    "0": "32",
                                    "1": "80.54",
                                    "2": "B"
                                },
                                {
                                    "0": "33",
                                    "1": "81.22",
                                    "2": "B"
                                },
                                {
                                    "0": "34",
                                    "1": "44.62",
                                    "2": "F"
                                },
                                {
                                    "0": "35",
                                    "1": "81.42",
                                    "2": "B"
                                },
                                {
                                    "0": "36",
                                    "1": "76.76",
                                    "2": "B"
                                },
                                {
                                    "0": "37",
                                    "1": "50.32",
                                    "2": "D"
                                },
                                {
                                    "0": "38",
                                    "1": "56.99",
                                    "2": "D"
                                },
                                {
                                    "0": "39",
                                    "1": "75.80",
                                    "2": "B"
                                },
                                {
                                    "0": "40",
                                    "1": "43.47",
                                    "2": "F"
                                },
                                {
                                    "0": "41",
                                    "1": "44.62",
                                    "2": "F"
                                },
                                {
                                    "0": "42",
                                    "1": "79.65",
                                    "2": "B"
                                },
                                {
                                    "0": "43",
                                    "1": "63.66",
                                    "2": "C"
                                },
                                {
                                    "0": "44",
                                    "1": "85.45",
                                    "2": "A"
                                },
                                {
                                    "0": "45",
                                    "1": "64.71",
                                    "2": "C"
                                },
                                {
                                    "0": "46",
                                    "1": "65.43",
                                    "2": "C"
                                },
                                {
                                    "0": "47",
                                    "1": "74.17",
                                    "2": "B"
                                },
                                {
                                    "0": "48",
                                    "1": "92.46",
                                    "2": "A"
                                },
                                {
                                    "0": "49",
                                    "1": "49.30",
                                    "2": "F"
                                },
                                {
                                    "0": "50",
                                    "1": "57.50",
                                    "2": "D"
                                }
                            ]
                        },
                        "text/html": "<table><tr><th>student_id</th><th>score</th><th>grade</th></tr><tr><td>1</td><td>88.35</td><td>A</td></tr><tr><td>2</td><td>69.86</td><td>C</td></tr><tr><td>3</td><td>51.19</td><td>D</td></tr><tr><td>4</td><td>40.88</td><td>F</td></tr><tr><td>5</td><td>95.54</td><td>A</td></tr><tr><td>6</td><td>45.69</td><td>F</td></tr><tr><td>7</td><td>75.57</td><td>B</td></tr><tr><td>8</td><td>99.04</td><td>A</td></tr><tr><td>9</td><td>93.15</td><td>A</td></tr><tr><td>10</td><td>87.63</td><td>A</td></tr><tr><td>11</td><td>43.85</td><td>F</td></tr><tr><td>12</td><td>60.19</td><td>C</td></tr><tr><td>13</td><td>80.83</td><td>B</td></tr><tr><td>14</td><td>85.06</td><td>A</td></tr><tr><td>15</td><td>41.77</td><td>F</td></tr><tr><td>16</td><td>88.72</td><td>A</td></tr><tr><td>17</td><td>67.76</td><td>C</td></tr><tr><td>18</td><td>83.87</td><td>B</td></tr><tr><td>19</td><td>83.33</td><td>B</td></tr><tr><td>20</td><td>57.49</td><td>D</td></tr><tr><td>21</td><td>47.02</td><td>F</td></tr><tr><td>22</td><td>90.78</td><td>A</td></tr><tr><td>23</td><td>45.76</td><td>F</td></tr><tr><td>24</td><td>70.22</td><td>B</td></tr><tr><td>25</td><td>64.73</td><td>C</td></tr><tr><td>26</td><td>95.79</td><td>A</td></tr><tr><td>27</td><td>81.70</td><td>B</td></tr><tr><td>28</td><td>86.08</td><td>A</td></tr><tr><td>29</td><td>92.19</td><td>A</td></tr><tr><td>30</td><td>51.36</td><td>D</td></tr><tr><td>31</td><td>93.43</td><td>A</td></tr><tr><td>32</td><td>80.54</td><td>B</td></tr><tr><td>33</td><td>81.22</td><td>B</td></tr><tr><td>34</td><td>44.62</td><td>F</td></tr><tr><td>35</td><td>81.42</td><td>B</td></tr><tr><td>36</td><td>76.76</td><td>B</td></tr><tr><td>37</td><td>50.32</td><td>D</td></tr><tr><td>38</td><td>56.99</td><td>D</td></tr><tr><td>39</td><td>75.80</td><td>B</td></tr><tr><td>40</td><td>43.47</td><td>F</td></tr><tr><td>41</td><td>44.62</td><td>F</td></tr><tr><td>42</td><td>79.65</td><td>B</td></tr><tr><td>43</td><td>63.66</td><td>C</td></tr><tr><td>44</td><td>85.45</td><td>A</td></tr><tr><td>45</td><td>64.71</td><td>C</td></tr><tr><td>46</td><td>65.43</td><td>C</td></tr><tr><td>47</td><td>74.17</td><td>B</td></tr><tr><td>48</td><td>92.46</td><td>A</td></tr><tr><td>49</td><td>49.30</td><td>F</td></tr><tr><td>50</td><td>57.50</td><td>D</td></tr></table>"
                    },
                    "metadata": {}
                }
            ],
            "execution_count": 12
        },
        {
            "cell_type": "code",
            "source": [
                "with cte as (\n",
                "    select student_id, score,\n",
                "        case\n",
                "            when '[85, 100]'::numrange @> score then 'A' -- (85 <= score <= 100) score between 85 and 100 then 'A'\n",
                "            when '[70,  85)'::numrange @> score then 'B' -- (70 <= score < 85) score between 70 and 84.999 then 'B'\n",
                "            when '[60,  70)'::numrange @> score then 'C' -- (60 <= score < 70) \n",
                "            when '[50,  60)'::numrange @> score then 'D' -- (50 <= score < 60) \n",
                "            else 'F'\n",
                "        end grade\n",
                "        from student    \n",
                ")\n",
                "select grade, count(*) from cte group by grade \n",
                "union\n",
                "select 'total', count(*) from cte order by grade"
            ],
            "metadata": {
                "azdata_cell_guid": "337020b2-378c-40a0-9ece-8f1e72a1a3b3"
            },
            "outputs": [
                {
                    "output_type": "display_data",
                    "data": {
                        "text/html": "(6 row(s) affected)"
                    },
                    "metadata": {}
                },
                {
                    "output_type": "display_data",
                    "data": {
                        "text/html": "Total execution time: 00:00:00.008"
                    },
                    "metadata": {}
                },
                {
                    "output_type": "execute_result",
                    "execution_count": 15,
                    "data": {
                        "application/vnd.dataresource+json": {
                            "schema": {
                                "fields": [
                                    {
                                        "name": "grade"
                                    },
                                    {
                                        "name": "count"
                                    }
                                ]
                            },
                            "data": [
                                {
                                    "0": "A",
                                    "1": "14"
                                },
                                {
                                    "0": "B",
                                    "1": "13"
                                },
                                {
                                    "0": "C",
                                    "1": "7"
                                },
                                {
                                    "0": "D",
                                    "1": "6"
                                },
                                {
                                    "0": "F",
                                    "1": "10"
                                },
                                {
                                    "0": "total",
                                    "1": "50"
                                }
                            ]
                        },
                        "text/html": "<table><tr><th>grade</th><th>count</th></tr><tr><td>A</td><td>14</td></tr><tr><td>B</td><td>13</td></tr><tr><td>C</td><td>7</td></tr><tr><td>D</td><td>6</td></tr><tr><td>F</td><td>10</td></tr><tr><td>total</td><td>50</td></tr></table>"
                    },
                    "metadata": {}
                }
            ],
            "execution_count": 15
        }
    ]
}