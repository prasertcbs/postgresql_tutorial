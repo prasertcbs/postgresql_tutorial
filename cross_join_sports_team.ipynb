{
    "metadata": {
        "kernelspec": {
            "name": "SQL",
            "display_name": "SQL",
            "language": "sql"
        },
        "language_info": {
            "name": "sql",
            "version": ""
        }
    },
    "nbformat_minor": 2,
    "nbformat": 4,
    "cells": [
        {
            "cell_type": "markdown",
            "source": [
                "# CROSS JOIN\n",
                "## ประยุกต์ใช้กับการจัดการแข่งขันแบบพบกันหมด (round-robin tournament)\n",
                "## Server: PostgreSQL\n",
                "## Author: Prasert Kanawattanachai\n",
                "## YouTube: https://youtu.be/AAIrhBJzs64"
            ],
            "metadata": {
                "azdata_cell_guid": "9b559389-2751-4d46-9849-e98fbe857289"
            }
        },
        {
            "cell_type": "code",
            "source": [
                "drop table if exists team;\n",
                "\n",
                "create table team (\n",
                "    name text,\n",
                "    rank int\n",
                ");"
            ],
            "metadata": {
                "azdata_cell_guid": "d56fccf9-3d00-4472-8b69-004c1b10493a"
            },
            "outputs": [
                {
                    "output_type": "display_data",
                    "data": {
                        "text/html": "NOTICE:  table \"team\" does not exist, skipping\n"
                    },
                    "metadata": {}
                },
                {
                    "output_type": "display_data",
                    "data": {
                        "text/html": "Commands completed successfully"
                    },
                    "metadata": {}
                },
                {
                    "output_type": "display_data",
                    "data": {
                        "text/html": "Commands completed successfully"
                    },
                    "metadata": {}
                },
                {
                    "output_type": "display_data",
                    "data": {
                        "text/html": "Total execution time: 00:00:00.005"
                    },
                    "metadata": {}
                }
            ],
            "execution_count": 1
        },
        {
            "cell_type": "code",
            "source": [
                "insert into team values \n",
                "    ('tiger', 4),\n",
                "    ('lion', 1),\n",
                "    ('eagle', 2),\n",
                "    ('rhino', 3);"
            ],
            "metadata": {
                "azdata_cell_guid": "3329f46d-878b-4afa-a409-4e8521784414"
            },
            "outputs": [
                {
                    "output_type": "display_data",
                    "data": {
                        "text/html": "Commands completed successfully"
                    },
                    "metadata": {}
                },
                {
                    "output_type": "display_data",
                    "data": {
                        "text/html": "Total execution time: 00:00:00.001"
                    },
                    "metadata": {}
                }
            ],
            "execution_count": 2
        },
        {
            "cell_type": "code",
            "source": [
                "select * from team;"
            ],
            "metadata": {
                "azdata_cell_guid": "b60a7821-61a4-4816-998d-25e98eefa452"
            },
            "outputs": [
                {
                    "output_type": "display_data",
                    "data": {
                        "text/html": "(4 row(s) affected)"
                    },
                    "metadata": {}
                },
                {
                    "output_type": "display_data",
                    "data": {
                        "text/html": "Total execution time: 00:00:00.003"
                    },
                    "metadata": {}
                },
                {
                    "output_type": "execute_result",
                    "execution_count": 3,
                    "data": {
                        "application/vnd.dataresource+json": {
                            "schema": {
                                "fields": [
                                    {
                                        "name": "name"
                                    },
                                    {
                                        "name": "rank"
                                    }
                                ]
                            },
                            "data": [
                                {
                                    "0": "tiger",
                                    "1": "4"
                                },
                                {
                                    "0": "lion",
                                    "1": "1"
                                },
                                {
                                    "0": "eagle",
                                    "1": "2"
                                },
                                {
                                    "0": "rhino",
                                    "1": "3"
                                }
                            ]
                        },
                        "text/html": "<table><tr><th>name</th><th>rank</th></tr><tr><td>tiger</td><td>4</td></tr><tr><td>lion</td><td>1</td></tr><tr><td>eagle</td><td>2</td></tr><tr><td>rhino</td><td>3</td></tr></table>"
                    },
                    "metadata": {}
                }
            ],
            "execution_count": 3
        },
        {
            "cell_type": "code",
            "source": [
                "select a.name, b.name from team a cross join team b"
            ],
            "metadata": {
                "azdata_cell_guid": "c4bb38da-f4da-41d2-a0b7-56910cdeff97"
            },
            "outputs": [
                {
                    "output_type": "display_data",
                    "data": {
                        "text/html": "(16 row(s) affected)"
                    },
                    "metadata": {}
                },
                {
                    "output_type": "display_data",
                    "data": {
                        "text/html": "Total execution time: 00:00:00.004"
                    },
                    "metadata": {}
                },
                {
                    "output_type": "execute_result",
                    "execution_count": 4,
                    "data": {
                        "application/vnd.dataresource+json": {
                            "schema": {
                                "fields": [
                                    {
                                        "name": "name"
                                    },
                                    {
                                        "name": "name"
                                    }
                                ]
                            },
                            "data": [
                                {
                                    "0": "tiger",
                                    "1": "tiger"
                                },
                                {
                                    "0": "tiger",
                                    "1": "lion"
                                },
                                {
                                    "0": "tiger",
                                    "1": "eagle"
                                },
                                {
                                    "0": "tiger",
                                    "1": "rhino"
                                },
                                {
                                    "0": "lion",
                                    "1": "tiger"
                                },
                                {
                                    "0": "lion",
                                    "1": "lion"
                                },
                                {
                                    "0": "lion",
                                    "1": "eagle"
                                },
                                {
                                    "0": "lion",
                                    "1": "rhino"
                                },
                                {
                                    "0": "eagle",
                                    "1": "tiger"
                                },
                                {
                                    "0": "eagle",
                                    "1": "lion"
                                },
                                {
                                    "0": "eagle",
                                    "1": "eagle"
                                },
                                {
                                    "0": "eagle",
                                    "1": "rhino"
                                },
                                {
                                    "0": "rhino",
                                    "1": "tiger"
                                },
                                {
                                    "0": "rhino",
                                    "1": "lion"
                                },
                                {
                                    "0": "rhino",
                                    "1": "eagle"
                                },
                                {
                                    "0": "rhino",
                                    "1": "rhino"
                                }
                            ]
                        },
                        "text/html": "<table><tr><th>name</th><th>name</th></tr><tr><td>tiger</td><td>tiger</td></tr><tr><td>tiger</td><td>lion</td></tr><tr><td>tiger</td><td>eagle</td></tr><tr><td>tiger</td><td>rhino</td></tr><tr><td>lion</td><td>tiger</td></tr><tr><td>lion</td><td>lion</td></tr><tr><td>lion</td><td>eagle</td></tr><tr><td>lion</td><td>rhino</td></tr><tr><td>eagle</td><td>tiger</td></tr><tr><td>eagle</td><td>lion</td></tr><tr><td>eagle</td><td>eagle</td></tr><tr><td>eagle</td><td>rhino</td></tr><tr><td>rhino</td><td>tiger</td></tr><tr><td>rhino</td><td>lion</td></tr><tr><td>rhino</td><td>eagle</td></tr><tr><td>rhino</td><td>rhino</td></tr></table>"
                    },
                    "metadata": {}
                }
            ],
            "execution_count": 4
        },
        {
            "cell_type": "markdown",
            "source": [
                "# แข่งแบบพบกันหมดแบบมีทีมเหย้าทีมเยือน"
            ],
            "metadata": {
                "azdata_cell_guid": "59ce4eae-41bf-4c89-80f3-18ea131a8b89"
            }
        },
        {
            "cell_type": "code",
            "source": [
                "select a.name, b.name from team a cross join team b\n",
                "    where a.name != b.name"
            ],
            "metadata": {
                "azdata_cell_guid": "9f2b66dd-0e73-43bc-8e6f-77ea6dc82c74"
            },
            "outputs": [
                {
                    "output_type": "display_data",
                    "data": {
                        "text/html": "(12 row(s) affected)"
                    },
                    "metadata": {}
                },
                {
                    "output_type": "display_data",
                    "data": {
                        "text/html": "Total execution time: 00:00:00.003"
                    },
                    "metadata": {}
                },
                {
                    "output_type": "execute_result",
                    "execution_count": 5,
                    "data": {
                        "application/vnd.dataresource+json": {
                            "schema": {
                                "fields": [
                                    {
                                        "name": "name"
                                    },
                                    {
                                        "name": "name"
                                    }
                                ]
                            },
                            "data": [
                                {
                                    "0": "tiger",
                                    "1": "lion"
                                },
                                {
                                    "0": "tiger",
                                    "1": "eagle"
                                },
                                {
                                    "0": "tiger",
                                    "1": "rhino"
                                },
                                {
                                    "0": "lion",
                                    "1": "tiger"
                                },
                                {
                                    "0": "lion",
                                    "1": "eagle"
                                },
                                {
                                    "0": "lion",
                                    "1": "rhino"
                                },
                                {
                                    "0": "eagle",
                                    "1": "tiger"
                                },
                                {
                                    "0": "eagle",
                                    "1": "lion"
                                },
                                {
                                    "0": "eagle",
                                    "1": "rhino"
                                },
                                {
                                    "0": "rhino",
                                    "1": "tiger"
                                },
                                {
                                    "0": "rhino",
                                    "1": "lion"
                                },
                                {
                                    "0": "rhino",
                                    "1": "eagle"
                                }
                            ]
                        },
                        "text/html": "<table><tr><th>name</th><th>name</th></tr><tr><td>tiger</td><td>lion</td></tr><tr><td>tiger</td><td>eagle</td></tr><tr><td>tiger</td><td>rhino</td></tr><tr><td>lion</td><td>tiger</td></tr><tr><td>lion</td><td>eagle</td></tr><tr><td>lion</td><td>rhino</td></tr><tr><td>eagle</td><td>tiger</td></tr><tr><td>eagle</td><td>lion</td></tr><tr><td>eagle</td><td>rhino</td></tr><tr><td>rhino</td><td>tiger</td></tr><tr><td>rhino</td><td>lion</td></tr><tr><td>rhino</td><td>eagle</td></tr></table>"
                    },
                    "metadata": {}
                }
            ],
            "execution_count": 5
        },
        {
            "cell_type": "markdown",
            "source": [
                "# การแข่งขันแบบพบกันหมดครั้งเดียว"
            ],
            "metadata": {
                "azdata_cell_guid": "4b2c800e-4099-4213-8304-ecd9220d1c20"
            }
        },
        {
            "cell_type": "code",
            "source": [
                "select a.name, b.name from team a cross join team b\n",
                "    where a.name > b.name"
            ],
            "metadata": {
                "azdata_cell_guid": "a8386a87-de65-43a6-8da6-1645227e7636"
            },
            "outputs": [
                {
                    "output_type": "display_data",
                    "data": {
                        "text/html": "(6 row(s) affected)"
                    },
                    "metadata": {}
                },
                {
                    "output_type": "display_data",
                    "data": {
                        "text/html": "Total execution time: 00:00:00.004"
                    },
                    "metadata": {}
                },
                {
                    "output_type": "execute_result",
                    "execution_count": 7,
                    "data": {
                        "application/vnd.dataresource+json": {
                            "schema": {
                                "fields": [
                                    {
                                        "name": "name"
                                    },
                                    {
                                        "name": "name"
                                    }
                                ]
                            },
                            "data": [
                                {
                                    "0": "tiger",
                                    "1": "lion"
                                },
                                {
                                    "0": "tiger",
                                    "1": "eagle"
                                },
                                {
                                    "0": "tiger",
                                    "1": "rhino"
                                },
                                {
                                    "0": "lion",
                                    "1": "eagle"
                                },
                                {
                                    "0": "rhino",
                                    "1": "lion"
                                },
                                {
                                    "0": "rhino",
                                    "1": "eagle"
                                }
                            ]
                        },
                        "text/html": "<table><tr><th>name</th><th>name</th></tr><tr><td>tiger</td><td>lion</td></tr><tr><td>tiger</td><td>eagle</td></tr><tr><td>tiger</td><td>rhino</td></tr><tr><td>lion</td><td>eagle</td></tr><tr><td>rhino</td><td>lion</td></tr><tr><td>rhino</td><td>eagle</td></tr></table>"
                    },
                    "metadata": {}
                }
            ],
            "execution_count": 7
        },
        {
            "cell_type": "code",
            "source": [
                "select a.name, b.name from team a, team b\n",
                "    where a.name > b.name"
            ],
            "metadata": {
                "azdata_cell_guid": "5f3d32ac-f67c-4479-8dc9-746f7dc9b7d6"
            },
            "outputs": [
                {
                    "output_type": "display_data",
                    "data": {
                        "text/html": "(6 row(s) affected)"
                    },
                    "metadata": {}
                },
                {
                    "output_type": "display_data",
                    "data": {
                        "text/html": "Total execution time: 00:00:00.003"
                    },
                    "metadata": {}
                },
                {
                    "output_type": "execute_result",
                    "execution_count": 8,
                    "data": {
                        "application/vnd.dataresource+json": {
                            "schema": {
                                "fields": [
                                    {
                                        "name": "name"
                                    },
                                    {
                                        "name": "name"
                                    }
                                ]
                            },
                            "data": [
                                {
                                    "0": "tiger",
                                    "1": "lion"
                                },
                                {
                                    "0": "tiger",
                                    "1": "eagle"
                                },
                                {
                                    "0": "tiger",
                                    "1": "rhino"
                                },
                                {
                                    "0": "lion",
                                    "1": "eagle"
                                },
                                {
                                    "0": "rhino",
                                    "1": "lion"
                                },
                                {
                                    "0": "rhino",
                                    "1": "eagle"
                                }
                            ]
                        },
                        "text/html": "<table><tr><th>name</th><th>name</th></tr><tr><td>tiger</td><td>lion</td></tr><tr><td>tiger</td><td>eagle</td></tr><tr><td>tiger</td><td>rhino</td></tr><tr><td>lion</td><td>eagle</td></tr><tr><td>rhino</td><td>lion</td></tr><tr><td>rhino</td><td>eagle</td></tr></table>"
                    },
                    "metadata": {}
                }
            ],
            "execution_count": 8
        },
        {
            "cell_type": "code",
            "source": [
                "select concat(a.name,' (', a.rank, ')') \"team A\", \n",
                "    concat(b.name,' (', b.rank, ')') \"team B\"\n",
                "    from team a, team b\n",
                "    where a.name > b.name"
            ],
            "metadata": {
                "azdata_cell_guid": "d7d89a73-4209-469f-8a12-8c4a243ef53d"
            },
            "outputs": [
                {
                    "output_type": "display_data",
                    "data": {
                        "text/html": "(6 row(s) affected)"
                    },
                    "metadata": {}
                },
                {
                    "output_type": "display_data",
                    "data": {
                        "text/html": "Total execution time: 00:00:00.007"
                    },
                    "metadata": {}
                },
                {
                    "output_type": "execute_result",
                    "execution_count": 2,
                    "data": {
                        "application/vnd.dataresource+json": {
                            "schema": {
                                "fields": [
                                    {
                                        "name": "team A"
                                    },
                                    {
                                        "name": "team B"
                                    }
                                ]
                            },
                            "data": [
                                {
                                    "0": "tiger (4)",
                                    "1": "lion (1)"
                                },
                                {
                                    "0": "tiger (4)",
                                    "1": "eagle (2)"
                                },
                                {
                                    "0": "tiger (4)",
                                    "1": "rhino (3)"
                                },
                                {
                                    "0": "lion (1)",
                                    "1": "eagle (2)"
                                },
                                {
                                    "0": "rhino (3)",
                                    "1": "lion (1)"
                                },
                                {
                                    "0": "rhino (3)",
                                    "1": "eagle (2)"
                                }
                            ]
                        },
                        "text/html": "<table><tr><th>team A</th><th>team B</th></tr><tr><td>tiger (4)</td><td>lion (1)</td></tr><tr><td>tiger (4)</td><td>eagle (2)</td></tr><tr><td>tiger (4)</td><td>rhino (3)</td></tr><tr><td>lion (1)</td><td>eagle (2)</td></tr><tr><td>rhino (3)</td><td>lion (1)</td></tr><tr><td>rhino (3)</td><td>eagle (2)</td></tr></table>"
                    },
                    "metadata": {}
                }
            ],
            "execution_count": 2
        }
    ]
}